{
  "cells": [
    {
      "cell_type": "markdown",
      "id": "d1d16bb2",
      "metadata": {
        "id": "d1d16bb2"
      },
      "source": [
        "# Скачиваем аудио и субтитры"
      ]
    },
    {
      "cell_type": "markdown",
      "source": [
        "Скачиваем аудио и автоматически сгенерированные субтитры этого [видео](https://www.youtube.com/watch?v=hvjfkk0y3gU) с помощью библиотеки **yt_dlp**"
      ],
      "metadata": {
        "id": "gEZVYpYE22US"
      },
      "id": "gEZVYpYE22US"
    },
    {
      "cell_type": "code",
      "source": [
        "# !pip install yt_dlp"
      ],
      "metadata": {
        "id": "8pclCUCVugwv"
      },
      "id": "8pclCUCVugwv",
      "execution_count": 9,
      "outputs": []
    },
    {
      "cell_type": "code",
      "execution_count": 3,
      "id": "5de435c6",
      "metadata": {
        "id": "5de435c6"
      },
      "outputs": [],
      "source": [
        "import yt_dlp as youtube_dl"
      ]
    },
    {
      "cell_type": "code",
      "execution_count": 4,
      "id": "2e2ba062",
      "metadata": {
        "id": "2e2ba062"
      },
      "outputs": [],
      "source": [
        "video_url = \"https://www.youtube.com/watch?v=hvjfkk0y3gU\""
      ]
    },
    {
      "cell_type": "code",
      "execution_count": 5,
      "id": "82c8a58f",
      "metadata": {
        "id": "82c8a58f"
      },
      "outputs": [],
      "source": [
        "options = {\n",
        "    'format': 'bestaudio/best',\n",
        "    'writeautomaticsub': True,  # записываем сгенерированные субтитры\n",
        "    'outtmpl': 'audio_bbt',  # имя файла для сохранения аудио\n",
        "    'postprocessors': [{\n",
        "        'key': 'FFmpegSubtitlesConvertor',\n",
        "        'format': 'vtt',\n",
        "    }],\n",
        "    'verbose': True,\n",
        "}"
      ]
    },
    {
      "cell_type": "code",
      "execution_count": 6,
      "id": "0fa16618",
      "metadata": {
        "id": "0fa16618"
      },
      "outputs": [],
      "source": [
        "def download_audio_with_subtitles(url, options):\n",
        "    # скачиваем видео и субтитры\n",
        "    with youtube_dl.YoutubeDL(options) as ydl:\n",
        "        ydl.download([url])"
      ]
    },
    {
      "cell_type": "code",
      "execution_count": null,
      "id": "bae682a0",
      "metadata": {
        "collapsed": true,
        "id": "bae682a0"
      },
      "outputs": [],
      "source": [
        "download_audio_with_subtitles(video_url, options)"
      ]
    },
    {
      "cell_type": "markdown",
      "id": "8a5797a3",
      "metadata": {
        "id": "8a5797a3"
      },
      "source": [
        "# ASR: SpeechRecognition, HuggingFace transformers, .."
      ]
    },
    {
      "cell_type": "markdown",
      "source": [
        "### Так как наш файл слишком длинный, нужно его обрезать"
      ],
      "metadata": {
        "id": "iuAWTA8EQkEq"
      },
      "id": "iuAWTA8EQkEq"
    },
    {
      "cell_type": "code",
      "source": [
        "# ! pip install pydub"
      ],
      "metadata": {
        "id": "y68r3jG3RSCw"
      },
      "id": "y68r3jG3RSCw",
      "execution_count": 22,
      "outputs": []
    },
    {
      "cell_type": "code",
      "source": [
        "from pydub import AudioSegment"
      ],
      "metadata": {
        "id": "Jg30rTM446kL"
      },
      "id": "Jg30rTM446kL",
      "execution_count": 5,
      "outputs": []
    },
    {
      "cell_type": "code",
      "source": [
        "input_audio_path = 'audio_bbt.wav'"
      ],
      "metadata": {
        "id": "U4GV9_p75srm"
      },
      "id": "U4GV9_p75srm",
      "execution_count": 23,
      "outputs": []
    },
    {
      "cell_type": "code",
      "source": [
        "audio = AudioSegment.from_wav(input_audio_path)"
      ],
      "metadata": {
        "id": "qW1mqCfB5zmS"
      },
      "id": "qW1mqCfB5zmS",
      "execution_count": 24,
      "outputs": []
    },
    {
      "cell_type": "code",
      "source": [
        "duration = 120 * 1000    # устанавливаем длительность в 1 минуту\n",
        "cropped_audio = audio[:duration]"
      ],
      "metadata": {
        "id": "jvZ-XdmP5vrw"
      },
      "id": "jvZ-XdmP5vrw",
      "execution_count": 25,
      "outputs": []
    },
    {
      "cell_type": "code",
      "source": [
        "output_audio_path = 'cropped_audio_bbt.wav'"
      ],
      "metadata": {
        "id": "eqNrc3ep6_TS"
      },
      "id": "eqNrc3ep6_TS",
      "execution_count": 26,
      "outputs": []
    },
    {
      "cell_type": "code",
      "source": [
        "# Сохраняем обрезанный аудиофайл\n",
        "cropped_audio.export(output_audio_path, format=\"wav\")"
      ],
      "metadata": {
        "colab": {
          "base_uri": "https://localhost:8080/"
        },
        "id": "zglf24IP7BRG",
        "outputId": "aa75f1a5-fbe0-4393-aa93-12ba91ed23ae"
      },
      "id": "zglf24IP7BRG",
      "execution_count": 27,
      "outputs": [
        {
          "output_type": "execute_result",
          "data": {
            "text/plain": [
              "<_io.BufferedRandom name='cropped_audio_bbt.wav'>"
            ]
          },
          "metadata": {},
          "execution_count": 27
        }
      ]
    },
    {
      "cell_type": "markdown",
      "id": "89111901",
      "metadata": {
        "id": "89111901"
      },
      "source": [
        "### SpeechRecognition"
      ]
    },
    {
      "cell_type": "code",
      "execution_count": 28,
      "id": "6f713900",
      "metadata": {
        "id": "6f713900"
      },
      "outputs": [],
      "source": [
        "# !pip install SpeechRecognition"
      ]
    },
    {
      "cell_type": "code",
      "execution_count": 29,
      "id": "9e8c3812",
      "metadata": {
        "id": "9e8c3812"
      },
      "outputs": [],
      "source": [
        "# !pip install git+https://github.com/openai/whisper.git soundfile"
      ]
    },
    {
      "cell_type": "code",
      "execution_count": 30,
      "id": "3da51d1e",
      "metadata": {
        "id": "3da51d1e"
      },
      "outputs": [],
      "source": [
        "import speech_recognition as sr"
      ]
    },
    {
      "cell_type": "code",
      "execution_count": 31,
      "id": "1bd780f5",
      "metadata": {
        "id": "1bd780f5"
      },
      "outputs": [],
      "source": [
        "r = sr.Recognizer()\n",
        "with sr.AudioFile('cropped_audio_bbt.wav') as source:\n",
        "    audio = r.record(source)"
      ]
    },
    {
      "cell_type": "code",
      "execution_count": 32,
      "id": "b4822ec8",
      "metadata": {
        "id": "b4822ec8"
      },
      "outputs": [],
      "source": [
        "# Google Cloud Speech (with default key)\n",
        "google_generated = r.recognize_google(audio, language='en')"
      ]
    },
    {
      "cell_type": "code",
      "source": [
        "google_generated"
      ],
      "metadata": {
        "colab": {
          "base_uri": "https://localhost:8080/",
          "height": 36
        },
        "id": "7QtriKOhQL2I",
        "outputId": "24b60122-5142-453d-cab4-53cbe348ed9a"
      },
      "id": "7QtriKOhQL2I",
      "execution_count": 33,
      "outputs": [
        {
          "output_type": "execute_result",
          "data": {
            "text/plain": [
              "'hey Google'"
            ],
            "application/vnd.google.colaboratory.intrinsic+json": {
              "type": "string"
            }
          },
          "metadata": {},
          "execution_count": 33
        }
      ]
    },
    {
      "cell_type": "markdown",
      "source": [
        "Непонятно, почему, но гугл, видимо, не распознал"
      ],
      "metadata": {
        "id": "7ZBsJyFy7TwJ"
      },
      "id": "7ZBsJyFy7TwJ"
    },
    {
      "cell_type": "code",
      "execution_count": 34,
      "id": "8400f3b0",
      "metadata": {
        "id": "8400f3b0"
      },
      "outputs": [],
      "source": [
        "# OpenAI Whisper library\n",
        "whisper_generated = r.recognize_whisper(audio)"
      ]
    },
    {
      "cell_type": "code",
      "source": [
        "whisper_generated"
      ],
      "metadata": {
        "colab": {
          "base_uri": "https://localhost:8080/",
          "height": 127
        },
        "id": "KHJYU6DqSKq6",
        "outputId": "e112a01c-5f3c-4aeb-a6ba-ea26e8bbc5a6"
      },
      "id": "KHJYU6DqSKq6",
      "execution_count": 35,
      "outputs": [
        {
          "output_type": "execute_result",
          "data": {
            "text/plain": [
              "\" Let's go! Let's go! Let's go! Let's go! To the planetarium! Let's go! The world's far ever! Penny, I just wanted to say good luck and hope there's no hard feelings. Hey, Romeo, repair your relationship on your own time! Oh, in the face. Oh my god, cinnamon are you okay? What is- I can't believe you do! Thank you. Action! Oh, I'm sorry from where? So, how are you gonna re-throw it in the DVD if, uh, sorry, I'm sorry, I didn't get it. Okay. Still rolling in? It's radio, Fey, it's fine. Amy, I could use your help. Well, let me guess, there's an undergrad in a leather jacket. Check it. And if it's a clear night, I'm gonna lay some romantic astronomy on her. Really? Is that my line? Oh my god, cinnamon are you okay? Why can't I believe you do? You do whatever it takes to save her life if she needs new organs, I'll bite down and- RUN!\""
            ],
            "application/vnd.google.colaboratory.intrinsic+json": {
              "type": "string"
            }
          },
          "metadata": {},
          "execution_count": 35
        }
      ]
    },
    {
      "cell_type": "markdown",
      "id": "9c566861",
      "metadata": {
        "id": "9c566861"
      },
      "source": [
        "### HuggingFace transformers: FasterWhisperModel"
      ]
    },
    {
      "cell_type": "markdown",
      "source": [
        "[ссылка на модель](https://huggingface.co/Systran/faster-whisper-large-v3)"
      ],
      "metadata": {
        "id": "Tc7FCmES_nkN"
      },
      "id": "Tc7FCmES_nkN"
    },
    {
      "cell_type": "code",
      "source": [
        "# !pip install faster_whisper"
      ],
      "metadata": {
        "id": "v2ka4Uav9lGo"
      },
      "id": "v2ka4Uav9lGo",
      "execution_count": 13,
      "outputs": []
    },
    {
      "cell_type": "code",
      "source": [
        "from faster_whisper import WhisperModel\n",
        "\n",
        "model = WhisperModel(\"large-v3\")"
      ],
      "metadata": {
        "id": "iJKXi64E8_tx"
      },
      "id": "iJKXi64E8_tx",
      "execution_count": 37,
      "outputs": []
    },
    {
      "cell_type": "code",
      "source": [
        "segments, info = model.transcribe('cropped_audio_bbt.wav')"
      ],
      "metadata": {
        "id": "8Knp4fqH-S5T"
      },
      "id": "8Knp4fqH-S5T",
      "execution_count": 41,
      "outputs": []
    },
    {
      "cell_type": "code",
      "source": [
        "faster_whisper_generated = ''\n",
        "for segment in segments:\n",
        "    faster_whisper_generated += segment.text"
      ],
      "metadata": {
        "id": "JFL11OeeZVMW"
      },
      "id": "JFL11OeeZVMW",
      "execution_count": 42,
      "outputs": []
    },
    {
      "cell_type": "code",
      "source": [
        "faster_whisper_generated"
      ],
      "metadata": {
        "colab": {
          "base_uri": "https://localhost:8080/",
          "height": 127
        },
        "id": "51QbiqAETLf0",
        "outputId": "209bca2c-2526-48e2-a4df-ab408f3a2dc9"
      },
      "id": "51QbiqAETLf0",
      "execution_count": 43,
      "outputs": [
        {
          "output_type": "execute_result",
          "data": {
            "text/plain": [
              "\" To the Tar Pits! Let's go! To the Planetarium! Let's go! I have the cheapest car. The worst car ever! Penny, I just wanted to say good luck, and hope there's no hard feelings. Hey, Romeo! Repair your relationship on your own time! Oh. In the face. Oh my God, Cinnamon, are you okay? What is... I can't believe you two! I like it. I like it. Action. Oh, I'm sorry, from where? So, how you gonna return the DVD, if, uh, so-so-so-so-right again? Okay. Still rolling, guys. Same spot, here we go. It's radio, Faye. It's fine. Amy, I could use your help. Oh, let me guess. There's an undergrad in a leather jacket. Jacket. And if it's a clear night, I'm going to lay some romantic astronomy on her. Really? Is that my line? Oh my God, Cinnamon, are you okay? I can't believe you two. You do whatever it takes to save her life. If she needs new organs, I'll bite down and... No!\""
            ],
            "application/vnd.google.colaboratory.intrinsic+json": {
              "type": "string"
            }
          },
          "metadata": {},
          "execution_count": 43
        }
      ]
    },
    {
      "cell_type": "markdown",
      "id": "180a1e01",
      "metadata": {
        "id": "180a1e01"
      },
      "source": [
        "### Another Transformer"
      ]
    },
    {
      "cell_type": "markdown",
      "source": [
        "[ссылка на модель](https://huggingface.co/jonatasgrosman/wav2vec2-large-xlsr-53-english)"
      ],
      "metadata": {
        "id": "Rspb1hR6vuM1"
      },
      "id": "Rspb1hR6vuM1"
    },
    {
      "cell_type": "code",
      "execution_count": 85,
      "id": "0e015393",
      "metadata": {
        "id": "0e015393"
      },
      "outputs": [],
      "source": [
        "# !pip install huggingsound"
      ]
    },
    {
      "cell_type": "code",
      "source": [
        "from huggingsound import SpeechRecognitionModel\n",
        "\n",
        "model = SpeechRecognitionModel(\"jonatasgrosman/wav2vec2-large-xlsr-53-english\")"
      ],
      "metadata": {
        "colab": {
          "base_uri": "https://localhost:8080/"
        },
        "id": "Yv2m1w5FqsJK",
        "outputId": "d4e5590f-4f8e-44dc-af48-c774a2b29fed"
      },
      "id": "Yv2m1w5FqsJK",
      "execution_count": 92,
      "outputs": [
        {
          "output_type": "stream",
          "name": "stderr",
          "text": [
            "INFO:huggingsound.speech_recognition.model:Loading model...\n",
            "Some weights of the model checkpoint at jonatasgrosman/wav2vec2-large-xlsr-53-english were not used when initializing Wav2Vec2ForCTC: ['wav2vec2.encoder.pos_conv_embed.conv.weight_v', 'wav2vec2.encoder.pos_conv_embed.conv.weight_g']\n",
            "- This IS expected if you are initializing Wav2Vec2ForCTC from the checkpoint of a model trained on another task or with another architecture (e.g. initializing a BertForSequenceClassification model from a BertForPreTraining model).\n",
            "- This IS NOT expected if you are initializing Wav2Vec2ForCTC from the checkpoint of a model that you expect to be exactly identical (initializing a BertForSequenceClassification model from a BertForSequenceClassification model).\n",
            "Some weights of Wav2Vec2ForCTC were not initialized from the model checkpoint at jonatasgrosman/wav2vec2-large-xlsr-53-english and are newly initialized: ['wav2vec2.encoder.pos_conv_embed.conv.parametrizations.weight.original0', 'wav2vec2.encoder.pos_conv_embed.conv.parametrizations.weight.original1']\n",
            "You should probably TRAIN this model on a down-stream task to be able to use it for predictions and inference.\n"
          ]
        }
      ]
    },
    {
      "cell_type": "code",
      "source": [
        "model.transcribe(['/content/cropped_audio_bbt.wav'])"
      ],
      "metadata": {
        "id": "2pv2vyg2r6-c"
      },
      "id": "2pv2vyg2r6-c",
      "execution_count": null,
      "outputs": []
    },
    {
      "cell_type": "markdown",
      "id": "8743d55e",
      "metadata": {
        "id": "8743d55e"
      },
      "source": [
        "#  Оценка выбранных систем и автогенерации YouTube"
      ]
    },
    {
      "cell_type": "code",
      "execution_count": 95,
      "id": "eab855f0",
      "metadata": {
        "id": "eab855f0"
      },
      "outputs": [],
      "source": [
        "# !pip install transformers datasets evaluate jiwer"
      ]
    },
    {
      "cell_type": "code",
      "source": [
        "results_dict = {\n",
        "    \"YouTube\": \" to the tar pits let's go the planetarium let's go i just wanted to say good luck and penny i just wanted to say good luck and hope there's no hard feelings hey romeo repair your relationship on your own time in the face my god cinnamon are you okay so how you gonna return to the dvd if uh again okay still rolling guys same spot here we go it's radio fay it's fine amy i could use your help oh let me guess there's an undergrad and a leather jacket jacket and if it's a clear night i'm gonna lay some romantic astronomy on her oh my god cinnamon are you okay well i can't believe you do you do whatever it takes to save her life if she needs new organs i'll back down\",\n",
        "    \"SpeechRecognition\": \" Let's go! Let's go! Let's go! Let's go! To the planetarium! Let's go! The world's far ever! Penny, I just wanted to say good luck and hope there's no hard feelings. Hey, Romeo, repair your relationship on your own time! Oh, in the face. Oh my god, cinnamon are you okay? What is- I can't believe you do! Thank you. Action! Oh, I'm sorry from where? So, how are you gonna re-throw it in the DVD if, uh, sorry, I'm sorry, I didn't get it. Okay. Still rolling in? It's radio, Fey, it's fine. Amy, I could use your help. Well, let me guess, there's an undergrad in a leather jacket. Check it. And if it's a clear night, I'm gonna lay some romantic astronomy on her. Really? Is that my line? Oh my god, cinnamon are you okay? Why can't I believe you do? You do whatever it takes to save her life if she needs new organs, I'll bite down and- RUN!\",\n",
        "    \"Faster_Whisper\": \" To the Tar Pits! Let's go! To the Planetarium! Let's go! I have the cheapest car. The worst car ever! Penny, I just wanted to say good luck, and hope there's no hard feelings. Hey, Romeo! Repair your relationship on your own time! Oh. In the face. Oh my God, Cinnamon, are you okay? What is... I can't believe you two! I like it. I like it. Action. Oh, I'm sorry, from where? So, how you gonna return the DVD, if, uh, so-so-so-so-right again? Okay. Still rolling, guys. Same spot, here we go. It's radio, Faye. It's fine. Amy, I could use your help. Oh, let me guess. There's an undergrad in a leather jacket. Jacket. And if it's a clear night, I'm going to lay some romantic astronomy on her. Really? Is that my line? Oh my God, Cinnamon, are you okay? I can't believe you two. You do whatever it takes to save her life. If she needs new organs, I'll bite down and... No!\",\n",
        "    \"Wav2Vec\": \"carpet planetary eli just fun good lock and ers no hardfeelingyrepare you mention cian your ond timein the facemy od cineu what ii't believe you dosorry yso i can a return to the deputee if sucsit's radiouse your helphomigas theres an underground leather jacket jacketand cllygonay ome romantic astronomy oreallyaylinemy gd cnemonaykwhy gon't believe you o you do whatever take to save mor life if she lu's new organs i by\"\n",
        "}"
      ],
      "metadata": {
        "id": "urwYya72bbXs"
      },
      "id": "urwYya72bbXs",
      "execution_count": 96,
      "outputs": []
    },
    {
      "cell_type": "code",
      "source": [
        "import json\n",
        "import jiwer"
      ],
      "metadata": {
        "id": "SKwPKThOO40f"
      },
      "id": "SKwPKThOO40f",
      "execution_count": 97,
      "outputs": []
    },
    {
      "cell_type": "code",
      "source": [
        "reference = \"To the tar pits! Let's go! To the Planetarium! Let's go! We have the cheapest car... The worst car ever! Penny, I just wanted to say good luck and I hope there's no hard feelings... Hey! Romeo, repair your relationship on your own time! Oh... In the face... Oh my God, Cinnamon, are you okay? Although... What is... I can't believe you two! Action! Oh, I'm sorry, from where? I'm sorry! So, how are you going to return a DVD if... Oh, sorry, right, again! Okay, still rolling guys! Same spot, here we go! It's radio fay, it's fine... Amy, I could use your help? Oh, let me guess, there's an undergrad and a leather jacket? Jacket... And if it's a clear night I'm going lay some romantic astronomy on her. Really? Is that my  line? Oh my God, Cinnamon, are you okay? Why! I can't believe you two! You do whatever it takes to save her lifeif she needs new organs I'll buy du..\""
      ],
      "metadata": {
        "id": "eBQgXBbYPWAm"
      },
      "id": "eBQgXBbYPWAm",
      "execution_count": 98,
      "outputs": []
    },
    {
      "cell_type": "code",
      "source": [
        "from evaluate import load\n",
        "wer = load(\"wer\")"
      ],
      "metadata": {
        "colab": {
          "base_uri": "https://localhost:8080/",
          "height": 49,
          "referenced_widgets": [
            "e61671ba166442c29994636eaab5a3e6",
            "0ffc8310c60d4c99af06033f7e9dc121",
            "f07ead501f1543f88f9a0697557d6db3",
            "60d6995ce1dc4368b9e7e01e12b0b87a",
            "e162ca559d364ca59ca308d1a2b64a35",
            "b8da7272a1334e4797b916974638ed4e",
            "a4ccf9c72baf4828bb5891f254787e96",
            "4ff099d62a8a411187f937141aa9c8e5",
            "52ab2d84262642f9b7334ad8e275b04f",
            "d44fb07c3b8b4e65aa5a4dcb878f1712",
            "c4348cfe4cea40b2a2219079a2f2a372"
          ]
        },
        "id": "tSiSnKu9yz2W",
        "outputId": "f967dda7-5c0f-4268-edf7-c0fcf71d2763"
      },
      "id": "tSiSnKu9yz2W",
      "execution_count": 99,
      "outputs": [
        {
          "output_type": "display_data",
          "data": {
            "text/plain": [
              "Downloading builder script:   0%|          | 0.00/4.49k [00:00<?, ?B/s]"
            ],
            "application/vnd.jupyter.widget-view+json": {
              "version_major": 2,
              "version_minor": 0,
              "model_id": "e61671ba166442c29994636eaab5a3e6"
            }
          },
          "metadata": {}
        }
      ]
    },
    {
      "cell_type": "code",
      "source": [
        "import pandas as pd\n",
        "wer_results = {}\n",
        "for key, value in results_dict.items():\n",
        "    wer_score = wer.compute(predictions=[value], references=[reference])\n",
        "    wer_results[key] = wer_score\n",
        "\n",
        "df = pd.DataFrame(list(wer_results.items()), columns=['ASR Model', 'WER'])\n",
        "df"
      ],
      "metadata": {
        "colab": {
          "base_uri": "https://localhost:8080/",
          "height": 175
        },
        "id": "ZTP7nuXt0MZj",
        "outputId": "dacf73dc-18a8-451a-a80f-d4a156f0ea51"
      },
      "id": "ZTP7nuXt0MZj",
      "execution_count": 103,
      "outputs": [
        {
          "output_type": "execute_result",
          "data": {
            "text/plain": [
              "           ASR Model       WER\n",
              "0            YouTube  0.575758\n",
              "1  SpeechRecognition  0.436364\n",
              "2     Faster_Whisper  0.351515\n",
              "3            Wav2Vec  0.866667"
            ],
            "text/html": [
              "\n",
              "  <div id=\"df-4ebe34fd-dc40-4133-862c-30c93a993e05\" class=\"colab-df-container\">\n",
              "    <div>\n",
              "<style scoped>\n",
              "    .dataframe tbody tr th:only-of-type {\n",
              "        vertical-align: middle;\n",
              "    }\n",
              "\n",
              "    .dataframe tbody tr th {\n",
              "        vertical-align: top;\n",
              "    }\n",
              "\n",
              "    .dataframe thead th {\n",
              "        text-align: right;\n",
              "    }\n",
              "</style>\n",
              "<table border=\"1\" class=\"dataframe\">\n",
              "  <thead>\n",
              "    <tr style=\"text-align: right;\">\n",
              "      <th></th>\n",
              "      <th>ASR Model</th>\n",
              "      <th>WER</th>\n",
              "    </tr>\n",
              "  </thead>\n",
              "  <tbody>\n",
              "    <tr>\n",
              "      <th>0</th>\n",
              "      <td>YouTube</td>\n",
              "      <td>0.575758</td>\n",
              "    </tr>\n",
              "    <tr>\n",
              "      <th>1</th>\n",
              "      <td>SpeechRecognition</td>\n",
              "      <td>0.436364</td>\n",
              "    </tr>\n",
              "    <tr>\n",
              "      <th>2</th>\n",
              "      <td>Faster_Whisper</td>\n",
              "      <td>0.351515</td>\n",
              "    </tr>\n",
              "    <tr>\n",
              "      <th>3</th>\n",
              "      <td>Wav2Vec</td>\n",
              "      <td>0.866667</td>\n",
              "    </tr>\n",
              "  </tbody>\n",
              "</table>\n",
              "</div>\n",
              "    <div class=\"colab-df-buttons\">\n",
              "\n",
              "  <div class=\"colab-df-container\">\n",
              "    <button class=\"colab-df-convert\" onclick=\"convertToInteractive('df-4ebe34fd-dc40-4133-862c-30c93a993e05')\"\n",
              "            title=\"Convert this dataframe to an interactive table.\"\n",
              "            style=\"display:none;\">\n",
              "\n",
              "  <svg xmlns=\"http://www.w3.org/2000/svg\" height=\"24px\" viewBox=\"0 -960 960 960\">\n",
              "    <path d=\"M120-120v-720h720v720H120Zm60-500h600v-160H180v160Zm220 220h160v-160H400v160Zm0 220h160v-160H400v160ZM180-400h160v-160H180v160Zm440 0h160v-160H620v160ZM180-180h160v-160H180v160Zm440 0h160v-160H620v160Z\"/>\n",
              "  </svg>\n",
              "    </button>\n",
              "\n",
              "  <style>\n",
              "    .colab-df-container {\n",
              "      display:flex;\n",
              "      gap: 12px;\n",
              "    }\n",
              "\n",
              "    .colab-df-convert {\n",
              "      background-color: #E8F0FE;\n",
              "      border: none;\n",
              "      border-radius: 50%;\n",
              "      cursor: pointer;\n",
              "      display: none;\n",
              "      fill: #1967D2;\n",
              "      height: 32px;\n",
              "      padding: 0 0 0 0;\n",
              "      width: 32px;\n",
              "    }\n",
              "\n",
              "    .colab-df-convert:hover {\n",
              "      background-color: #E2EBFA;\n",
              "      box-shadow: 0px 1px 2px rgba(60, 64, 67, 0.3), 0px 1px 3px 1px rgba(60, 64, 67, 0.15);\n",
              "      fill: #174EA6;\n",
              "    }\n",
              "\n",
              "    .colab-df-buttons div {\n",
              "      margin-bottom: 4px;\n",
              "    }\n",
              "\n",
              "    [theme=dark] .colab-df-convert {\n",
              "      background-color: #3B4455;\n",
              "      fill: #D2E3FC;\n",
              "    }\n",
              "\n",
              "    [theme=dark] .colab-df-convert:hover {\n",
              "      background-color: #434B5C;\n",
              "      box-shadow: 0px 1px 3px 1px rgba(0, 0, 0, 0.15);\n",
              "      filter: drop-shadow(0px 1px 2px rgba(0, 0, 0, 0.3));\n",
              "      fill: #FFFFFF;\n",
              "    }\n",
              "  </style>\n",
              "\n",
              "    <script>\n",
              "      const buttonEl =\n",
              "        document.querySelector('#df-4ebe34fd-dc40-4133-862c-30c93a993e05 button.colab-df-convert');\n",
              "      buttonEl.style.display =\n",
              "        google.colab.kernel.accessAllowed ? 'block' : 'none';\n",
              "\n",
              "      async function convertToInteractive(key) {\n",
              "        const element = document.querySelector('#df-4ebe34fd-dc40-4133-862c-30c93a993e05');\n",
              "        const dataTable =\n",
              "          await google.colab.kernel.invokeFunction('convertToInteractive',\n",
              "                                                    [key], {});\n",
              "        if (!dataTable) return;\n",
              "\n",
              "        const docLinkHtml = 'Like what you see? Visit the ' +\n",
              "          '<a target=\"_blank\" href=https://colab.research.google.com/notebooks/data_table.ipynb>data table notebook</a>'\n",
              "          + ' to learn more about interactive tables.';\n",
              "        element.innerHTML = '';\n",
              "        dataTable['output_type'] = 'display_data';\n",
              "        await google.colab.output.renderOutput(dataTable, element);\n",
              "        const docLink = document.createElement('div');\n",
              "        docLink.innerHTML = docLinkHtml;\n",
              "        element.appendChild(docLink);\n",
              "      }\n",
              "    </script>\n",
              "  </div>\n",
              "\n",
              "\n",
              "<div id=\"df-c31895ad-1519-47fc-9260-d0d62d84df75\">\n",
              "  <button class=\"colab-df-quickchart\" onclick=\"quickchart('df-c31895ad-1519-47fc-9260-d0d62d84df75')\"\n",
              "            title=\"Suggest charts\"\n",
              "            style=\"display:none;\">\n",
              "\n",
              "<svg xmlns=\"http://www.w3.org/2000/svg\" height=\"24px\"viewBox=\"0 0 24 24\"\n",
              "     width=\"24px\">\n",
              "    <g>\n",
              "        <path d=\"M19 3H5c-1.1 0-2 .9-2 2v14c0 1.1.9 2 2 2h14c1.1 0 2-.9 2-2V5c0-1.1-.9-2-2-2zM9 17H7v-7h2v7zm4 0h-2V7h2v10zm4 0h-2v-4h2v4z\"/>\n",
              "    </g>\n",
              "</svg>\n",
              "  </button>\n",
              "\n",
              "<style>\n",
              "  .colab-df-quickchart {\n",
              "      --bg-color: #E8F0FE;\n",
              "      --fill-color: #1967D2;\n",
              "      --hover-bg-color: #E2EBFA;\n",
              "      --hover-fill-color: #174EA6;\n",
              "      --disabled-fill-color: #AAA;\n",
              "      --disabled-bg-color: #DDD;\n",
              "  }\n",
              "\n",
              "  [theme=dark] .colab-df-quickchart {\n",
              "      --bg-color: #3B4455;\n",
              "      --fill-color: #D2E3FC;\n",
              "      --hover-bg-color: #434B5C;\n",
              "      --hover-fill-color: #FFFFFF;\n",
              "      --disabled-bg-color: #3B4455;\n",
              "      --disabled-fill-color: #666;\n",
              "  }\n",
              "\n",
              "  .colab-df-quickchart {\n",
              "    background-color: var(--bg-color);\n",
              "    border: none;\n",
              "    border-radius: 50%;\n",
              "    cursor: pointer;\n",
              "    display: none;\n",
              "    fill: var(--fill-color);\n",
              "    height: 32px;\n",
              "    padding: 0;\n",
              "    width: 32px;\n",
              "  }\n",
              "\n",
              "  .colab-df-quickchart:hover {\n",
              "    background-color: var(--hover-bg-color);\n",
              "    box-shadow: 0 1px 2px rgba(60, 64, 67, 0.3), 0 1px 3px 1px rgba(60, 64, 67, 0.15);\n",
              "    fill: var(--button-hover-fill-color);\n",
              "  }\n",
              "\n",
              "  .colab-df-quickchart-complete:disabled,\n",
              "  .colab-df-quickchart-complete:disabled:hover {\n",
              "    background-color: var(--disabled-bg-color);\n",
              "    fill: var(--disabled-fill-color);\n",
              "    box-shadow: none;\n",
              "  }\n",
              "\n",
              "  .colab-df-spinner {\n",
              "    border: 2px solid var(--fill-color);\n",
              "    border-color: transparent;\n",
              "    border-bottom-color: var(--fill-color);\n",
              "    animation:\n",
              "      spin 1s steps(1) infinite;\n",
              "  }\n",
              "\n",
              "  @keyframes spin {\n",
              "    0% {\n",
              "      border-color: transparent;\n",
              "      border-bottom-color: var(--fill-color);\n",
              "      border-left-color: var(--fill-color);\n",
              "    }\n",
              "    20% {\n",
              "      border-color: transparent;\n",
              "      border-left-color: var(--fill-color);\n",
              "      border-top-color: var(--fill-color);\n",
              "    }\n",
              "    30% {\n",
              "      border-color: transparent;\n",
              "      border-left-color: var(--fill-color);\n",
              "      border-top-color: var(--fill-color);\n",
              "      border-right-color: var(--fill-color);\n",
              "    }\n",
              "    40% {\n",
              "      border-color: transparent;\n",
              "      border-right-color: var(--fill-color);\n",
              "      border-top-color: var(--fill-color);\n",
              "    }\n",
              "    60% {\n",
              "      border-color: transparent;\n",
              "      border-right-color: var(--fill-color);\n",
              "    }\n",
              "    80% {\n",
              "      border-color: transparent;\n",
              "      border-right-color: var(--fill-color);\n",
              "      border-bottom-color: var(--fill-color);\n",
              "    }\n",
              "    90% {\n",
              "      border-color: transparent;\n",
              "      border-bottom-color: var(--fill-color);\n",
              "    }\n",
              "  }\n",
              "</style>\n",
              "\n",
              "  <script>\n",
              "    async function quickchart(key) {\n",
              "      const quickchartButtonEl =\n",
              "        document.querySelector('#' + key + ' button');\n",
              "      quickchartButtonEl.disabled = true;  // To prevent multiple clicks.\n",
              "      quickchartButtonEl.classList.add('colab-df-spinner');\n",
              "      try {\n",
              "        const charts = await google.colab.kernel.invokeFunction(\n",
              "            'suggestCharts', [key], {});\n",
              "      } catch (error) {\n",
              "        console.error('Error during call to suggestCharts:', error);\n",
              "      }\n",
              "      quickchartButtonEl.classList.remove('colab-df-spinner');\n",
              "      quickchartButtonEl.classList.add('colab-df-quickchart-complete');\n",
              "    }\n",
              "    (() => {\n",
              "      let quickchartButtonEl =\n",
              "        document.querySelector('#df-c31895ad-1519-47fc-9260-d0d62d84df75 button');\n",
              "      quickchartButtonEl.style.display =\n",
              "        google.colab.kernel.accessAllowed ? 'block' : 'none';\n",
              "    })();\n",
              "  </script>\n",
              "</div>\n",
              "    </div>\n",
              "  </div>\n"
            ]
          },
          "metadata": {},
          "execution_count": 103
        }
      ]
    },
    {
      "cell_type": "markdown",
      "source": [
        "### Заключение:\n",
        "В результате проделанной работы лучший результат показала модель Faster_Whisper, на втором месте обычный Whisper; худший результат показала модель wav2vec, а гугл по непонятным причинам вообще не дал никакого результата"
      ],
      "metadata": {
        "id": "SO0FYi8T0Xvh"
      },
      "id": "SO0FYi8T0Xvh"
    }
  ],
  "metadata": {
    "kernelspec": {
      "display_name": "Python 3",
      "language": "python",
      "name": "python3"
    },
    "language_info": {
      "codemirror_mode": {
        "name": "ipython",
        "version": 3
      },
      "file_extension": ".py",
      "mimetype": "text/x-python",
      "name": "python",
      "nbconvert_exporter": "python",
      "pygments_lexer": "ipython3",
      "version": "3.8.10"
    },
    "colab": {
      "provenance": [],
      "toc_visible": true
    },
    "widgets": {
      "application/vnd.jupyter.widget-state+json": {
        "e61671ba166442c29994636eaab5a3e6": {
          "model_module": "@jupyter-widgets/controls",
          "model_name": "HBoxModel",
          "model_module_version": "1.5.0",
          "state": {
            "_dom_classes": [],
            "_model_module": "@jupyter-widgets/controls",
            "_model_module_version": "1.5.0",
            "_model_name": "HBoxModel",
            "_view_count": null,
            "_view_module": "@jupyter-widgets/controls",
            "_view_module_version": "1.5.0",
            "_view_name": "HBoxView",
            "box_style": "",
            "children": [
              "IPY_MODEL_0ffc8310c60d4c99af06033f7e9dc121",
              "IPY_MODEL_f07ead501f1543f88f9a0697557d6db3",
              "IPY_MODEL_60d6995ce1dc4368b9e7e01e12b0b87a"
            ],
            "layout": "IPY_MODEL_e162ca559d364ca59ca308d1a2b64a35"
          }
        },
        "0ffc8310c60d4c99af06033f7e9dc121": {
          "model_module": "@jupyter-widgets/controls",
          "model_name": "HTMLModel",
          "model_module_version": "1.5.0",
          "state": {
            "_dom_classes": [],
            "_model_module": "@jupyter-widgets/controls",
            "_model_module_version": "1.5.0",
            "_model_name": "HTMLModel",
            "_view_count": null,
            "_view_module": "@jupyter-widgets/controls",
            "_view_module_version": "1.5.0",
            "_view_name": "HTMLView",
            "description": "",
            "description_tooltip": null,
            "layout": "IPY_MODEL_b8da7272a1334e4797b916974638ed4e",
            "placeholder": "​",
            "style": "IPY_MODEL_a4ccf9c72baf4828bb5891f254787e96",
            "value": "Downloading builder script: 100%"
          }
        },
        "f07ead501f1543f88f9a0697557d6db3": {
          "model_module": "@jupyter-widgets/controls",
          "model_name": "FloatProgressModel",
          "model_module_version": "1.5.0",
          "state": {
            "_dom_classes": [],
            "_model_module": "@jupyter-widgets/controls",
            "_model_module_version": "1.5.0",
            "_model_name": "FloatProgressModel",
            "_view_count": null,
            "_view_module": "@jupyter-widgets/controls",
            "_view_module_version": "1.5.0",
            "_view_name": "ProgressView",
            "bar_style": "success",
            "description": "",
            "description_tooltip": null,
            "layout": "IPY_MODEL_4ff099d62a8a411187f937141aa9c8e5",
            "max": 4485,
            "min": 0,
            "orientation": "horizontal",
            "style": "IPY_MODEL_52ab2d84262642f9b7334ad8e275b04f",
            "value": 4485
          }
        },
        "60d6995ce1dc4368b9e7e01e12b0b87a": {
          "model_module": "@jupyter-widgets/controls",
          "model_name": "HTMLModel",
          "model_module_version": "1.5.0",
          "state": {
            "_dom_classes": [],
            "_model_module": "@jupyter-widgets/controls",
            "_model_module_version": "1.5.0",
            "_model_name": "HTMLModel",
            "_view_count": null,
            "_view_module": "@jupyter-widgets/controls",
            "_view_module_version": "1.5.0",
            "_view_name": "HTMLView",
            "description": "",
            "description_tooltip": null,
            "layout": "IPY_MODEL_d44fb07c3b8b4e65aa5a4dcb878f1712",
            "placeholder": "​",
            "style": "IPY_MODEL_c4348cfe4cea40b2a2219079a2f2a372",
            "value": " 4.49k/4.49k [00:00&lt;00:00, 154kB/s]"
          }
        },
        "e162ca559d364ca59ca308d1a2b64a35": {
          "model_module": "@jupyter-widgets/base",
          "model_name": "LayoutModel",
          "model_module_version": "1.2.0",
          "state": {
            "_model_module": "@jupyter-widgets/base",
            "_model_module_version": "1.2.0",
            "_model_name": "LayoutModel",
            "_view_count": null,
            "_view_module": "@jupyter-widgets/base",
            "_view_module_version": "1.2.0",
            "_view_name": "LayoutView",
            "align_content": null,
            "align_items": null,
            "align_self": null,
            "border": null,
            "bottom": null,
            "display": null,
            "flex": null,
            "flex_flow": null,
            "grid_area": null,
            "grid_auto_columns": null,
            "grid_auto_flow": null,
            "grid_auto_rows": null,
            "grid_column": null,
            "grid_gap": null,
            "grid_row": null,
            "grid_template_areas": null,
            "grid_template_columns": null,
            "grid_template_rows": null,
            "height": null,
            "justify_content": null,
            "justify_items": null,
            "left": null,
            "margin": null,
            "max_height": null,
            "max_width": null,
            "min_height": null,
            "min_width": null,
            "object_fit": null,
            "object_position": null,
            "order": null,
            "overflow": null,
            "overflow_x": null,
            "overflow_y": null,
            "padding": null,
            "right": null,
            "top": null,
            "visibility": null,
            "width": null
          }
        },
        "b8da7272a1334e4797b916974638ed4e": {
          "model_module": "@jupyter-widgets/base",
          "model_name": "LayoutModel",
          "model_module_version": "1.2.0",
          "state": {
            "_model_module": "@jupyter-widgets/base",
            "_model_module_version": "1.2.0",
            "_model_name": "LayoutModel",
            "_view_count": null,
            "_view_module": "@jupyter-widgets/base",
            "_view_module_version": "1.2.0",
            "_view_name": "LayoutView",
            "align_content": null,
            "align_items": null,
            "align_self": null,
            "border": null,
            "bottom": null,
            "display": null,
            "flex": null,
            "flex_flow": null,
            "grid_area": null,
            "grid_auto_columns": null,
            "grid_auto_flow": null,
            "grid_auto_rows": null,
            "grid_column": null,
            "grid_gap": null,
            "grid_row": null,
            "grid_template_areas": null,
            "grid_template_columns": null,
            "grid_template_rows": null,
            "height": null,
            "justify_content": null,
            "justify_items": null,
            "left": null,
            "margin": null,
            "max_height": null,
            "max_width": null,
            "min_height": null,
            "min_width": null,
            "object_fit": null,
            "object_position": null,
            "order": null,
            "overflow": null,
            "overflow_x": null,
            "overflow_y": null,
            "padding": null,
            "right": null,
            "top": null,
            "visibility": null,
            "width": null
          }
        },
        "a4ccf9c72baf4828bb5891f254787e96": {
          "model_module": "@jupyter-widgets/controls",
          "model_name": "DescriptionStyleModel",
          "model_module_version": "1.5.0",
          "state": {
            "_model_module": "@jupyter-widgets/controls",
            "_model_module_version": "1.5.0",
            "_model_name": "DescriptionStyleModel",
            "_view_count": null,
            "_view_module": "@jupyter-widgets/base",
            "_view_module_version": "1.2.0",
            "_view_name": "StyleView",
            "description_width": ""
          }
        },
        "4ff099d62a8a411187f937141aa9c8e5": {
          "model_module": "@jupyter-widgets/base",
          "model_name": "LayoutModel",
          "model_module_version": "1.2.0",
          "state": {
            "_model_module": "@jupyter-widgets/base",
            "_model_module_version": "1.2.0",
            "_model_name": "LayoutModel",
            "_view_count": null,
            "_view_module": "@jupyter-widgets/base",
            "_view_module_version": "1.2.0",
            "_view_name": "LayoutView",
            "align_content": null,
            "align_items": null,
            "align_self": null,
            "border": null,
            "bottom": null,
            "display": null,
            "flex": null,
            "flex_flow": null,
            "grid_area": null,
            "grid_auto_columns": null,
            "grid_auto_flow": null,
            "grid_auto_rows": null,
            "grid_column": null,
            "grid_gap": null,
            "grid_row": null,
            "grid_template_areas": null,
            "grid_template_columns": null,
            "grid_template_rows": null,
            "height": null,
            "justify_content": null,
            "justify_items": null,
            "left": null,
            "margin": null,
            "max_height": null,
            "max_width": null,
            "min_height": null,
            "min_width": null,
            "object_fit": null,
            "object_position": null,
            "order": null,
            "overflow": null,
            "overflow_x": null,
            "overflow_y": null,
            "padding": null,
            "right": null,
            "top": null,
            "visibility": null,
            "width": null
          }
        },
        "52ab2d84262642f9b7334ad8e275b04f": {
          "model_module": "@jupyter-widgets/controls",
          "model_name": "ProgressStyleModel",
          "model_module_version": "1.5.0",
          "state": {
            "_model_module": "@jupyter-widgets/controls",
            "_model_module_version": "1.5.0",
            "_model_name": "ProgressStyleModel",
            "_view_count": null,
            "_view_module": "@jupyter-widgets/base",
            "_view_module_version": "1.2.0",
            "_view_name": "StyleView",
            "bar_color": null,
            "description_width": ""
          }
        },
        "d44fb07c3b8b4e65aa5a4dcb878f1712": {
          "model_module": "@jupyter-widgets/base",
          "model_name": "LayoutModel",
          "model_module_version": "1.2.0",
          "state": {
            "_model_module": "@jupyter-widgets/base",
            "_model_module_version": "1.2.0",
            "_model_name": "LayoutModel",
            "_view_count": null,
            "_view_module": "@jupyter-widgets/base",
            "_view_module_version": "1.2.0",
            "_view_name": "LayoutView",
            "align_content": null,
            "align_items": null,
            "align_self": null,
            "border": null,
            "bottom": null,
            "display": null,
            "flex": null,
            "flex_flow": null,
            "grid_area": null,
            "grid_auto_columns": null,
            "grid_auto_flow": null,
            "grid_auto_rows": null,
            "grid_column": null,
            "grid_gap": null,
            "grid_row": null,
            "grid_template_areas": null,
            "grid_template_columns": null,
            "grid_template_rows": null,
            "height": null,
            "justify_content": null,
            "justify_items": null,
            "left": null,
            "margin": null,
            "max_height": null,
            "max_width": null,
            "min_height": null,
            "min_width": null,
            "object_fit": null,
            "object_position": null,
            "order": null,
            "overflow": null,
            "overflow_x": null,
            "overflow_y": null,
            "padding": null,
            "right": null,
            "top": null,
            "visibility": null,
            "width": null
          }
        },
        "c4348cfe4cea40b2a2219079a2f2a372": {
          "model_module": "@jupyter-widgets/controls",
          "model_name": "DescriptionStyleModel",
          "model_module_version": "1.5.0",
          "state": {
            "_model_module": "@jupyter-widgets/controls",
            "_model_module_version": "1.5.0",
            "_model_name": "DescriptionStyleModel",
            "_view_count": null,
            "_view_module": "@jupyter-widgets/base",
            "_view_module_version": "1.2.0",
            "_view_name": "StyleView",
            "description_width": ""
          }
        }
      }
    }
  },
  "nbformat": 4,
  "nbformat_minor": 5
}