{
 "cells": [
  {
   "cell_type": "markdown",
   "metadata": {
    "id": "UyD8fcILFahl"
   },
   "source": [
    "### Data"
   ]
  },
  {
   "cell_type": "markdown",
   "metadata": {
    "id": "w9HTeC5IFahn"
   },
   "source": [
    "https://github.com/rfordatascience/tidytuesday/tree/master/data/2018/2018-10-16"
   ]
  },
  {
   "cell_type": "markdown",
   "metadata": {
    "id": "ht7UjwmRFahn"
   },
   "source": [
    "### Dataset Dictionary"
   ]
  },
  {
   "cell_type": "markdown",
   "metadata": {
    "id": "ZvqGPsPrFaho"
   },
   "source": [
    "- **Rank** Rank by median earnings\n",
    "- **Major_code** Major code, FO1DP in ACS PUMS\n",
    "- **Major** Major description\n",
    "- **Major_category** Category of major from Carnevale et al\n",
    "- **Total** Total number of people with major\n",
    "- **Sample_size** Sample size (unweighted) of full-time, year-round ONLY (used for earnings)\n",
    "- **Men** Male graduates\n",
    "- **Women** Female graduates\n",
    "- **ShareWomen** Women as share of total\n",
    "- **Employed** Number employed (ESR == 1 or 2)\n",
    "- **Full_time** Employed 35 hours or more\n",
    "- **Part_time** Employed less than 35 hours\n",
    "- **Full_time_year_round** Employed at least 50 weeks (WKW == 1) and at least 35 hours (WKHP >= 35)\n",
    "- **Unemployed** Number unemployed (ESR == 3)\n",
    "- **Unemployment_rate** Unemployed / (Unemployed + Employed)\n",
    "- **Median** Median earnings of full-time, year-round workers\n",
    "- **P25th** 25th percentile of earnigns\n",
    "- **P75th** 75th percentile of earnings\n",
    "- **College_jobs** Number with job requiring a college degree\n",
    "- **Non_college_jobs** Number with job not requiring a college degree\n",
    "- **Low_wage_jobs** Number in low-wage service jobs"
   ]
  },
  {
   "cell_type": "code",
   "execution_count": 1,
   "metadata": {
    "id": "JRBJByt-F0no"
   },
   "outputs": [],
   "source": [
    "import pandas as pd "
   ]
  },
  {
   "cell_type": "code",
   "execution_count": 6,
   "metadata": {
    "id": "NIaMz1gzFaho"
   },
   "outputs": [],
   "source": [
    "pd.options.plotting.backend = \"plotly\""
   ]
  },
  {
   "cell_type": "code",
   "execution_count": 2,
   "metadata": {
    "colab": {
     "base_uri": "https://localhost:8080/",
     "height": 713
    },
    "id": "gKknKC9DFahp",
    "outputId": "7425336b-06e2-419e-b993-456a08c32c80",
    "scrolled": true
   },
   "outputs": [
    {
     "data": {
      "text/html": [
       "<div>\n",
       "<style scoped>\n",
       "    .dataframe tbody tr th:only-of-type {\n",
       "        vertical-align: middle;\n",
       "    }\n",
       "\n",
       "    .dataframe tbody tr th {\n",
       "        vertical-align: top;\n",
       "    }\n",
       "\n",
       "    .dataframe thead th {\n",
       "        text-align: right;\n",
       "    }\n",
       "</style>\n",
       "<table border=\"1\" class=\"dataframe\">\n",
       "  <thead>\n",
       "    <tr style=\"text-align: right;\">\n",
       "      <th></th>\n",
       "      <th>Rank</th>\n",
       "      <th>Major_code</th>\n",
       "      <th>Major</th>\n",
       "      <th>Total</th>\n",
       "      <th>Men</th>\n",
       "      <th>Women</th>\n",
       "      <th>Major_category</th>\n",
       "      <th>ShareWomen</th>\n",
       "      <th>Sample_size</th>\n",
       "      <th>Employed</th>\n",
       "      <th>...</th>\n",
       "      <th>Part_time</th>\n",
       "      <th>Full_time_year_round</th>\n",
       "      <th>Unemployed</th>\n",
       "      <th>Unemployment_rate</th>\n",
       "      <th>Median</th>\n",
       "      <th>P25th</th>\n",
       "      <th>P75th</th>\n",
       "      <th>College_jobs</th>\n",
       "      <th>Non_college_jobs</th>\n",
       "      <th>Low_wage_jobs</th>\n",
       "    </tr>\n",
       "  </thead>\n",
       "  <tbody>\n",
       "    <tr>\n",
       "      <th>0</th>\n",
       "      <td>1</td>\n",
       "      <td>2419</td>\n",
       "      <td>PETROLEUM ENGINEERING</td>\n",
       "      <td>2339.0</td>\n",
       "      <td>2057.0</td>\n",
       "      <td>282.0</td>\n",
       "      <td>Engineering</td>\n",
       "      <td>0.120564</td>\n",
       "      <td>36</td>\n",
       "      <td>1976</td>\n",
       "      <td>...</td>\n",
       "      <td>270</td>\n",
       "      <td>1207</td>\n",
       "      <td>37</td>\n",
       "      <td>0.018381</td>\n",
       "      <td>110000</td>\n",
       "      <td>95000</td>\n",
       "      <td>125000</td>\n",
       "      <td>1534</td>\n",
       "      <td>364</td>\n",
       "      <td>193</td>\n",
       "    </tr>\n",
       "    <tr>\n",
       "      <th>1</th>\n",
       "      <td>2</td>\n",
       "      <td>2416</td>\n",
       "      <td>MINING AND MINERAL ENGINEERING</td>\n",
       "      <td>756.0</td>\n",
       "      <td>679.0</td>\n",
       "      <td>77.0</td>\n",
       "      <td>Engineering</td>\n",
       "      <td>0.101852</td>\n",
       "      <td>7</td>\n",
       "      <td>640</td>\n",
       "      <td>...</td>\n",
       "      <td>170</td>\n",
       "      <td>388</td>\n",
       "      <td>85</td>\n",
       "      <td>0.117241</td>\n",
       "      <td>75000</td>\n",
       "      <td>55000</td>\n",
       "      <td>90000</td>\n",
       "      <td>350</td>\n",
       "      <td>257</td>\n",
       "      <td>50</td>\n",
       "    </tr>\n",
       "    <tr>\n",
       "      <th>2</th>\n",
       "      <td>3</td>\n",
       "      <td>2415</td>\n",
       "      <td>METALLURGICAL ENGINEERING</td>\n",
       "      <td>856.0</td>\n",
       "      <td>725.0</td>\n",
       "      <td>131.0</td>\n",
       "      <td>Engineering</td>\n",
       "      <td>0.153037</td>\n",
       "      <td>3</td>\n",
       "      <td>648</td>\n",
       "      <td>...</td>\n",
       "      <td>133</td>\n",
       "      <td>340</td>\n",
       "      <td>16</td>\n",
       "      <td>0.024096</td>\n",
       "      <td>73000</td>\n",
       "      <td>50000</td>\n",
       "      <td>105000</td>\n",
       "      <td>456</td>\n",
       "      <td>176</td>\n",
       "      <td>0</td>\n",
       "    </tr>\n",
       "    <tr>\n",
       "      <th>3</th>\n",
       "      <td>4</td>\n",
       "      <td>2417</td>\n",
       "      <td>NAVAL ARCHITECTURE AND MARINE ENGINEERING</td>\n",
       "      <td>1258.0</td>\n",
       "      <td>1123.0</td>\n",
       "      <td>135.0</td>\n",
       "      <td>Engineering</td>\n",
       "      <td>0.107313</td>\n",
       "      <td>16</td>\n",
       "      <td>758</td>\n",
       "      <td>...</td>\n",
       "      <td>150</td>\n",
       "      <td>692</td>\n",
       "      <td>40</td>\n",
       "      <td>0.050125</td>\n",
       "      <td>70000</td>\n",
       "      <td>43000</td>\n",
       "      <td>80000</td>\n",
       "      <td>529</td>\n",
       "      <td>102</td>\n",
       "      <td>0</td>\n",
       "    </tr>\n",
       "    <tr>\n",
       "      <th>4</th>\n",
       "      <td>5</td>\n",
       "      <td>2405</td>\n",
       "      <td>CHEMICAL ENGINEERING</td>\n",
       "      <td>32260.0</td>\n",
       "      <td>21239.0</td>\n",
       "      <td>11021.0</td>\n",
       "      <td>Engineering</td>\n",
       "      <td>0.341631</td>\n",
       "      <td>289</td>\n",
       "      <td>25694</td>\n",
       "      <td>...</td>\n",
       "      <td>5180</td>\n",
       "      <td>16697</td>\n",
       "      <td>1672</td>\n",
       "      <td>0.061098</td>\n",
       "      <td>65000</td>\n",
       "      <td>50000</td>\n",
       "      <td>75000</td>\n",
       "      <td>18314</td>\n",
       "      <td>4440</td>\n",
       "      <td>972</td>\n",
       "    </tr>\n",
       "    <tr>\n",
       "      <th>...</th>\n",
       "      <td>...</td>\n",
       "      <td>...</td>\n",
       "      <td>...</td>\n",
       "      <td>...</td>\n",
       "      <td>...</td>\n",
       "      <td>...</td>\n",
       "      <td>...</td>\n",
       "      <td>...</td>\n",
       "      <td>...</td>\n",
       "      <td>...</td>\n",
       "      <td>...</td>\n",
       "      <td>...</td>\n",
       "      <td>...</td>\n",
       "      <td>...</td>\n",
       "      <td>...</td>\n",
       "      <td>...</td>\n",
       "      <td>...</td>\n",
       "      <td>...</td>\n",
       "      <td>...</td>\n",
       "      <td>...</td>\n",
       "      <td>...</td>\n",
       "    </tr>\n",
       "    <tr>\n",
       "      <th>168</th>\n",
       "      <td>169</td>\n",
       "      <td>3609</td>\n",
       "      <td>ZOOLOGY</td>\n",
       "      <td>8409.0</td>\n",
       "      <td>3050.0</td>\n",
       "      <td>5359.0</td>\n",
       "      <td>Biology &amp; Life Science</td>\n",
       "      <td>0.637293</td>\n",
       "      <td>47</td>\n",
       "      <td>6259</td>\n",
       "      <td>...</td>\n",
       "      <td>2190</td>\n",
       "      <td>3602</td>\n",
       "      <td>304</td>\n",
       "      <td>0.046320</td>\n",
       "      <td>26000</td>\n",
       "      <td>20000</td>\n",
       "      <td>39000</td>\n",
       "      <td>2771</td>\n",
       "      <td>2947</td>\n",
       "      <td>743</td>\n",
       "    </tr>\n",
       "    <tr>\n",
       "      <th>169</th>\n",
       "      <td>170</td>\n",
       "      <td>5201</td>\n",
       "      <td>EDUCATIONAL PSYCHOLOGY</td>\n",
       "      <td>2854.0</td>\n",
       "      <td>522.0</td>\n",
       "      <td>2332.0</td>\n",
       "      <td>Psychology &amp; Social Work</td>\n",
       "      <td>0.817099</td>\n",
       "      <td>7</td>\n",
       "      <td>2125</td>\n",
       "      <td>...</td>\n",
       "      <td>572</td>\n",
       "      <td>1211</td>\n",
       "      <td>148</td>\n",
       "      <td>0.065112</td>\n",
       "      <td>25000</td>\n",
       "      <td>24000</td>\n",
       "      <td>34000</td>\n",
       "      <td>1488</td>\n",
       "      <td>615</td>\n",
       "      <td>82</td>\n",
       "    </tr>\n",
       "    <tr>\n",
       "      <th>170</th>\n",
       "      <td>171</td>\n",
       "      <td>5202</td>\n",
       "      <td>CLINICAL PSYCHOLOGY</td>\n",
       "      <td>2838.0</td>\n",
       "      <td>568.0</td>\n",
       "      <td>2270.0</td>\n",
       "      <td>Psychology &amp; Social Work</td>\n",
       "      <td>0.799859</td>\n",
       "      <td>13</td>\n",
       "      <td>2101</td>\n",
       "      <td>...</td>\n",
       "      <td>648</td>\n",
       "      <td>1293</td>\n",
       "      <td>368</td>\n",
       "      <td>0.149048</td>\n",
       "      <td>25000</td>\n",
       "      <td>25000</td>\n",
       "      <td>40000</td>\n",
       "      <td>986</td>\n",
       "      <td>870</td>\n",
       "      <td>622</td>\n",
       "    </tr>\n",
       "    <tr>\n",
       "      <th>171</th>\n",
       "      <td>172</td>\n",
       "      <td>5203</td>\n",
       "      <td>COUNSELING PSYCHOLOGY</td>\n",
       "      <td>4626.0</td>\n",
       "      <td>931.0</td>\n",
       "      <td>3695.0</td>\n",
       "      <td>Psychology &amp; Social Work</td>\n",
       "      <td>0.798746</td>\n",
       "      <td>21</td>\n",
       "      <td>3777</td>\n",
       "      <td>...</td>\n",
       "      <td>965</td>\n",
       "      <td>2738</td>\n",
       "      <td>214</td>\n",
       "      <td>0.053621</td>\n",
       "      <td>23400</td>\n",
       "      <td>19200</td>\n",
       "      <td>26000</td>\n",
       "      <td>2403</td>\n",
       "      <td>1245</td>\n",
       "      <td>308</td>\n",
       "    </tr>\n",
       "    <tr>\n",
       "      <th>172</th>\n",
       "      <td>173</td>\n",
       "      <td>3501</td>\n",
       "      <td>LIBRARY SCIENCE</td>\n",
       "      <td>1098.0</td>\n",
       "      <td>134.0</td>\n",
       "      <td>964.0</td>\n",
       "      <td>Education</td>\n",
       "      <td>0.877960</td>\n",
       "      <td>2</td>\n",
       "      <td>742</td>\n",
       "      <td>...</td>\n",
       "      <td>237</td>\n",
       "      <td>410</td>\n",
       "      <td>87</td>\n",
       "      <td>0.104946</td>\n",
       "      <td>22000</td>\n",
       "      <td>20000</td>\n",
       "      <td>22000</td>\n",
       "      <td>288</td>\n",
       "      <td>338</td>\n",
       "      <td>192</td>\n",
       "    </tr>\n",
       "  </tbody>\n",
       "</table>\n",
       "<p>173 rows × 21 columns</p>\n",
       "</div>"
      ],
      "text/plain": [
       "     Rank  Major_code                                      Major    Total  \\\n",
       "0       1        2419                      PETROLEUM ENGINEERING   2339.0   \n",
       "1       2        2416             MINING AND MINERAL ENGINEERING    756.0   \n",
       "2       3        2415                  METALLURGICAL ENGINEERING    856.0   \n",
       "3       4        2417  NAVAL ARCHITECTURE AND MARINE ENGINEERING   1258.0   \n",
       "4       5        2405                       CHEMICAL ENGINEERING  32260.0   \n",
       "..    ...         ...                                        ...      ...   \n",
       "168   169        3609                                    ZOOLOGY   8409.0   \n",
       "169   170        5201                     EDUCATIONAL PSYCHOLOGY   2854.0   \n",
       "170   171        5202                        CLINICAL PSYCHOLOGY   2838.0   \n",
       "171   172        5203                      COUNSELING PSYCHOLOGY   4626.0   \n",
       "172   173        3501                            LIBRARY SCIENCE   1098.0   \n",
       "\n",
       "         Men    Women            Major_category  ShareWomen  Sample_size  \\\n",
       "0     2057.0    282.0               Engineering    0.120564           36   \n",
       "1      679.0     77.0               Engineering    0.101852            7   \n",
       "2      725.0    131.0               Engineering    0.153037            3   \n",
       "3     1123.0    135.0               Engineering    0.107313           16   \n",
       "4    21239.0  11021.0               Engineering    0.341631          289   \n",
       "..       ...      ...                       ...         ...          ...   \n",
       "168   3050.0   5359.0    Biology & Life Science    0.637293           47   \n",
       "169    522.0   2332.0  Psychology & Social Work    0.817099            7   \n",
       "170    568.0   2270.0  Psychology & Social Work    0.799859           13   \n",
       "171    931.0   3695.0  Psychology & Social Work    0.798746           21   \n",
       "172    134.0    964.0                 Education    0.877960            2   \n",
       "\n",
       "     Employed  ...  Part_time  Full_time_year_round  Unemployed  \\\n",
       "0        1976  ...        270                  1207          37   \n",
       "1         640  ...        170                   388          85   \n",
       "2         648  ...        133                   340          16   \n",
       "3         758  ...        150                   692          40   \n",
       "4       25694  ...       5180                 16697        1672   \n",
       "..        ...  ...        ...                   ...         ...   \n",
       "168      6259  ...       2190                  3602         304   \n",
       "169      2125  ...        572                  1211         148   \n",
       "170      2101  ...        648                  1293         368   \n",
       "171      3777  ...        965                  2738         214   \n",
       "172       742  ...        237                   410          87   \n",
       "\n",
       "     Unemployment_rate  Median  P25th   P75th  College_jobs  Non_college_jobs  \\\n",
       "0             0.018381  110000  95000  125000          1534               364   \n",
       "1             0.117241   75000  55000   90000           350               257   \n",
       "2             0.024096   73000  50000  105000           456               176   \n",
       "3             0.050125   70000  43000   80000           529               102   \n",
       "4             0.061098   65000  50000   75000         18314              4440   \n",
       "..                 ...     ...    ...     ...           ...               ...   \n",
       "168           0.046320   26000  20000   39000          2771              2947   \n",
       "169           0.065112   25000  24000   34000          1488               615   \n",
       "170           0.149048   25000  25000   40000           986               870   \n",
       "171           0.053621   23400  19200   26000          2403              1245   \n",
       "172           0.104946   22000  20000   22000           288               338   \n",
       "\n",
       "     Low_wage_jobs  \n",
       "0              193  \n",
       "1               50  \n",
       "2                0  \n",
       "3                0  \n",
       "4              972  \n",
       "..             ...  \n",
       "168            743  \n",
       "169             82  \n",
       "170            622  \n",
       "171            308  \n",
       "172            192  \n",
       "\n",
       "[173 rows x 21 columns]"
      ]
     },
     "execution_count": 2,
     "metadata": {},
     "output_type": "execute_result"
    }
   ],
   "source": [
    "df = pd.read_csv('recent-grads.csv')\n",
    "df"
   ]
  },
  {
   "cell_type": "markdown",
   "metadata": {
    "id": "XNB0feMhFahq"
   },
   "source": [
    "### Анализ: что будем изучать\n",
    "\n",
    "**Сначала посмотрим на датасет**\n",
    "\n",
    "1. самые популярные направления, судя по Total\n",
    "2. общее количество мужчин и женщин, идущих в университеты\n",
    "\n",
    "**А потом проверим следующие гипотезы, подкрепив результаты визуализацией:**\n",
    "\n",
    "- ...\n",
    "- ...\n",
    "\n",
    "3. распределение полов по направлениям\n",
    "4. средние зарплаты по направлениям\n",
    "5. зарплата женщин и мужчин\n",
    "6. средняя безработица по направлениям\n",
    "7. топ областей с низкооплачиваемой работой\n",
    "8. топ направлениях, в которых есть работа без необходимости диплома"
   ]
  },
  {
   "cell_type": "code",
   "execution_count": null,
   "metadata": {
    "id": "stcko05tGKA3"
   },
   "outputs": [],
   "source": [
    "!pip install -U plotly"
   ]
  },
  {
   "cell_type": "code",
   "execution_count": 7,
   "metadata": {
    "id": "ZUIo1-0CGnNg"
   },
   "outputs": [
    {
     "name": "stdout",
     "output_type": "stream",
     "text": [
      "Requirement already satisfied: chart_studio in c:\\users\\varva\\appdata\\local\\packages\\pythonsoftwarefoundation.python.3.8_qbz5n2kfra8p0\\localcache\\local-packages\\python38\\site-packages (1.1.0)\n",
      "Requirement already satisfied: retrying>=1.3.3 in c:\\users\\varva\\appdata\\local\\packages\\pythonsoftwarefoundation.python.3.8_qbz5n2kfra8p0\\localcache\\local-packages\\python38\\site-packages (from chart_studio) (1.3.3)\n",
      "Requirement already satisfied: requests in c:\\users\\varva\\appdata\\local\\packages\\pythonsoftwarefoundation.python.3.8_qbz5n2kfra8p0\\localcache\\local-packages\\python38\\site-packages (from chart_studio) (2.25.1)\n",
      "Requirement already satisfied: six in c:\\users\\varva\\appdata\\local\\packages\\pythonsoftwarefoundation.python.3.8_qbz5n2kfra8p0\\localcache\\local-packages\\python38\\site-packages (from chart_studio) (1.15.0)\n",
      "Requirement already satisfied: plotly in c:\\users\\varva\\appdata\\local\\packages\\pythonsoftwarefoundation.python.3.8_qbz5n2kfra8p0\\localcache\\local-packages\\python38\\site-packages (from chart_studio) (5.8.2)\n",
      "Requirement already satisfied: tenacity>=6.2.0 in c:\\users\\varva\\appdata\\local\\packages\\pythonsoftwarefoundation.python.3.8_qbz5n2kfra8p0\\localcache\\local-packages\\python38\\site-packages (from plotly->chart_studio) (8.0.1)\n",
      "Requirement already satisfied: certifi>=2017.4.17 in c:\\users\\varva\\appdata\\local\\packages\\pythonsoftwarefoundation.python.3.8_qbz5n2kfra8p0\\localcache\\local-packages\\python38\\site-packages (from requests->chart_studio) (2020.12.5)\n",
      "Requirement already satisfied: chardet<5,>=3.0.2 in c:\\users\\varva\\appdata\\local\\packages\\pythonsoftwarefoundation.python.3.8_qbz5n2kfra8p0\\localcache\\local-packages\\python38\\site-packages (from requests->chart_studio) (4.0.0)\n",
      "Requirement already satisfied: urllib3<1.27,>=1.21.1 in c:\\users\\varva\\appdata\\local\\packages\\pythonsoftwarefoundation.python.3.8_qbz5n2kfra8p0\\localcache\\local-packages\\python38\\site-packages (from requests->chart_studio) (1.26.2)\n",
      "Requirement already satisfied: idna<3,>=2.5 in c:\\users\\varva\\appdata\\local\\packages\\pythonsoftwarefoundation.python.3.8_qbz5n2kfra8p0\\localcache\\local-packages\\python38\\site-packages (from requests->chart_studio) (2.10)\n",
      "Note: you may need to restart the kernel to use updated packages.\n"
     ]
    },
    {
     "name": "stderr",
     "output_type": "stream",
     "text": [
      "WARNING: Ignoring invalid distribution -ip (c:\\users\\varva\\appdata\\local\\packages\\pythonsoftwarefoundation.python.3.8_qbz5n2kfra8p0\\localcache\\local-packages\\python38\\site-packages)\n",
      "WARNING: Ignoring invalid distribution -ip (c:\\users\\varva\\appdata\\local\\packages\\pythonsoftwarefoundation.python.3.8_qbz5n2kfra8p0\\localcache\\local-packages\\python38\\site-packages)\n",
      "WARNING: Ignoring invalid distribution -ip (c:\\users\\varva\\appdata\\local\\packages\\pythonsoftwarefoundation.python.3.8_qbz5n2kfra8p0\\localcache\\local-packages\\python38\\site-packages)\n",
      "WARNING: Ignoring invalid distribution -ip (c:\\users\\varva\\appdata\\local\\packages\\pythonsoftwarefoundation.python.3.8_qbz5n2kfra8p0\\localcache\\local-packages\\python38\\site-packages)\n",
      "WARNING: Ignoring invalid distribution -ip (c:\\users\\varva\\appdata\\local\\packages\\pythonsoftwarefoundation.python.3.8_qbz5n2kfra8p0\\localcache\\local-packages\\python38\\site-packages)\n",
      "WARNING: Ignoring invalid distribution -ip (c:\\users\\varva\\appdata\\local\\packages\\pythonsoftwarefoundation.python.3.8_qbz5n2kfra8p0\\localcache\\local-packages\\python38\\site-packages)\n"
     ]
    }
   ],
   "source": [
    "pip install chart_studio"
   ]
  },
  {
   "cell_type": "code",
   "execution_count": 8,
   "metadata": {
    "colab": {
     "base_uri": "https://localhost:8080/",
     "height": 17
    },
    "id": "myJG15xFFahr",
    "outputId": "17a17dbb-407b-42a7-9898-19504904e633"
   },
   "outputs": [
    {
     "data": {
      "text/html": [
       "        <script type=\"text/javascript\">\n",
       "        window.PlotlyConfig = {MathJaxConfig: 'local'};\n",
       "        if (window.MathJax && window.MathJax.Hub && window.MathJax.Hub.Config) {window.MathJax.Hub.Config({SVG: {font: \"STIX-Web\"}});}\n",
       "        if (typeof require !== 'undefined') {\n",
       "        require.undef(\"plotly\");\n",
       "        requirejs.config({\n",
       "            paths: {\n",
       "                'plotly': ['https://cdn.plot.ly/plotly-2.12.1.min']\n",
       "            }\n",
       "        });\n",
       "        require(['plotly'], function(Plotly) {\n",
       "            window._Plotly = Plotly;\n",
       "        });\n",
       "        }\n",
       "        </script>\n",
       "        "
      ]
     },
     "metadata": {},
     "output_type": "display_data"
    },
    {
     "data": {
      "text/html": [
       "        <script type=\"text/javascript\">\n",
       "        window.PlotlyConfig = {MathJaxConfig: 'local'};\n",
       "        if (window.MathJax && window.MathJax.Hub && window.MathJax.Hub.Config) {window.MathJax.Hub.Config({SVG: {font: \"STIX-Web\"}});}\n",
       "        if (typeof require !== 'undefined') {\n",
       "        require.undef(\"plotly\");\n",
       "        requirejs.config({\n",
       "            paths: {\n",
       "                'plotly': ['https://cdn.plot.ly/plotly-2.12.1.min']\n",
       "            }\n",
       "        });\n",
       "        require(['plotly'], function(Plotly) {\n",
       "            window._Plotly = Plotly;\n",
       "        });\n",
       "        }\n",
       "        </script>\n",
       "        "
      ]
     },
     "metadata": {},
     "output_type": "display_data"
    }
   ],
   "source": [
    "import chart_studio.plotly as py\n",
    "import cufflinks as cf\n",
    "import seaborn as sns\n",
    "import plotly.express as px\n",
    "%matplotlib inline\n",
    "\n",
    "# Make Plotly work in your Jupyter Notebook\n",
    "from plotly.offline import download_plotlyjs, init_notebook_mode, plot, iplot\n",
    "init_notebook_mode(connected=True)\n",
    "# Use Plotly locally\n",
    "cf.go_offline()"
   ]
  },
  {
   "cell_type": "markdown",
   "metadata": {
    "id": "axZsOUNhFahr"
   },
   "source": [
    "# 1"
   ]
  },
  {
   "cell_type": "code",
   "execution_count": 9,
   "metadata": {
    "id": "C_H5-_BIFahr"
   },
   "outputs": [],
   "source": [
    "# количество программ в зависимости от направления (кол-во ОП на факультетах) и количество "
   ]
  },
  {
   "cell_type": "code",
   "execution_count": 10,
   "metadata": {},
   "outputs": [
    {
     "data": {
      "application/vnd.plotly.v1+json": {
       "config": {
        "plotlyServerURL": "https://plot.ly"
       },
       "data": [
        {
         "customdata": [
          [
           "Engineering"
          ],
          [
           "Engineering"
          ],
          [
           "Engineering"
          ],
          [
           "Engineering"
          ],
          [
           "Engineering"
          ],
          [
           "Engineering"
          ],
          [
           "Business"
          ],
          [
           "Physical Sciences"
          ],
          [
           "Engineering"
          ],
          [
           "Engineering"
          ],
          [
           "Engineering"
          ],
          [
           "Engineering"
          ],
          [
           "Engineering"
          ],
          [
           "Engineering"
          ],
          [
           "Engineering"
          ],
          [
           "Engineering"
          ],
          [
           "Engineering"
          ],
          [
           "Engineering"
          ],
          [
           "Engineering"
          ],
          [
           "Law & Public Policy"
          ],
          [
           "Computers & Mathematics"
          ],
          [
           "Engineering"
          ],
          [
           "Engineering"
          ],
          [
           "Business"
          ],
          [
           "Engineering"
          ],
          [
           "Industrial Arts & Consumer Services"
          ],
          [
           "Business"
          ],
          [
           "Engineering"
          ],
          [
           "Law & Public Policy"
          ],
          [
           "Engineering"
          ],
          [
           "Engineering"
          ],
          [
           "Arts"
          ],
          [
           "Engineering"
          ],
          [
           "Health"
          ],
          [
           "Business"
          ],
          [
           "Social Science"
          ],
          [
           "Business"
          ],
          [
           "Engineering"
          ],
          [
           "Physical Sciences"
          ],
          [
           "Business"
          ],
          [
           "Computers & Mathematics"
          ],
          [
           "Computers & Mathematics"
          ],
          [
           "Physical Sciences"
          ],
          [
           "Health"
          ],
          [
           "Computers & Mathematics"
          ],
          [
           "Computers & Mathematics"
          ],
          [
           "Computers & Mathematics"
          ],
          [
           "Biology & Life Science"
          ],
          [
           "Physical Sciences"
          ],
          [
           "Engineering"
          ],
          [
           "Health"
          ],
          [
           "Computers & Mathematics"
          ],
          [
           "Computers & Mathematics"
          ],
          [
           "Biology & Life Science"
          ],
          [
           "Education"
          ],
          [
           "Social Science"
          ],
          [
           "Business"
          ],
          [
           "Engineering"
          ],
          [
           "Business"
          ],
          [
           "Health"
          ],
          [
           "Biology & Life Science"
          ],
          [
           "Business"
          ],
          [
           "Agriculture & Natural Resources"
          ],
          [
           "Agriculture & Natural Resources"
          ],
          [
           "Engineering"
          ],
          [
           "Engineering"
          ],
          [
           "Biology & Life Science"
          ],
          [
           "Social Science"
          ],
          [
           "Humanities & Liberal Arts"
          ],
          [
           "Psychology & Social Work"
          ],
          [
           "Agriculture & Natural Resources"
          ],
          [
           "Physical Sciences"
          ],
          [
           "Industrial Arts & Consumer Services"
          ],
          [
           "Physical Sciences"
          ],
          [
           "Industrial Arts & Consumer Services"
          ],
          [
           "Business"
          ],
          [
           "Business"
          ],
          [
           "Social Science"
          ],
          [
           "Social Science"
          ],
          [
           "Biology & Life Science"
          ],
          [
           "Computers & Mathematics"
          ],
          [
           "Biology & Life Science"
          ],
          [
           "Biology & Life Science"
          ],
          [
           "Computers & Mathematics"
          ],
          [
           "Physical Sciences"
          ],
          [
           "Business"
          ],
          [
           "Law & Public Policy"
          ],
          [
           "Health"
          ],
          [
           "Law & Public Policy"
          ],
          [
           "Physical Sciences"
          ],
          [
           "Psychology & Social Work"
          ],
          [
           "Biology & Life Science"
          ],
          [
           "Communications & Journalism"
          ],
          [
           "Law & Public Policy"
          ],
          [
           "Arts"
          ],
          [
           "Communications & Journalism"
          ],
          [
           "Physical Sciences"
          ],
          [
           "Communications & Journalism"
          ],
          [
           "Humanities & Liberal Arts"
          ],
          [
           "Education"
          ],
          [
           "Biology & Life Science"
          ],
          [
           "Social Science"
          ],
          [
           "Health"
          ],
          [
           "Health"
          ],
          [
           "Computers & Mathematics"
          ],
          [
           "Industrial Arts & Consumer Services"
          ],
          [
           "Agriculture & Natural Resources"
          ],
          [
           "Biology & Life Science"
          ],
          [
           "Interdisciplinary"
          ],
          [
           "Physical Sciences"
          ],
          [
           "Agriculture & Natural Resources"
          ],
          [
           "Agriculture & Natural Resources"
          ],
          [
           "Education"
          ],
          [
           "Humanities & Liberal Arts"
          ],
          [
           "Humanities & Liberal Arts"
          ],
          [
           "Humanities & Liberal Arts"
          ],
          [
           "Education"
          ],
          [
           "Health"
          ],
          [
           "Education"
          ],
          [
           "Education"
          ],
          [
           "Health"
          ],
          [
           "Biology & Life Science"
          ],
          [
           "Biology & Life Science"
          ],
          [
           "Social Science"
          ],
          [
           "Communications & Journalism"
          ],
          [
           "Health"
          ],
          [
           "Business"
          ],
          [
           "Education"
          ],
          [
           "Humanities & Liberal Arts"
          ],
          [
           "Education"
          ],
          [
           "Social Science"
          ],
          [
           "Biology & Life Science"
          ],
          [
           "Education"
          ],
          [
           "Health"
          ],
          [
           "Humanities & Liberal Arts"
          ],
          [
           "Education"
          ],
          [
           "Humanities & Liberal Arts"
          ],
          [
           "Education"
          ],
          [
           "Industrial Arts & Consumer Services"
          ],
          [
           "Humanities & Liberal Arts"
          ],
          [
           "Arts"
          ],
          [
           "Social Science"
          ],
          [
           "Agriculture & Natural Resources"
          ],
          [
           "Education"
          ],
          [
           "Psychology & Social Work"
          ],
          [
           "Arts"
          ],
          [
           "Education"
          ],
          [
           "Humanities & Liberal Arts"
          ],
          [
           "Arts"
          ],
          [
           "Industrial Arts & Consumer Services"
          ],
          [
           "Psychology & Social Work"
          ],
          [
           "Agriculture & Natural Resources"
          ],
          [
           "Arts"
          ],
          [
           "Education"
          ],
          [
           "Psychology & Social Work"
          ],
          [
           "Psychology & Social Work"
          ],
          [
           "Humanities & Liberal Arts"
          ],
          [
           "Humanities & Liberal Arts"
          ],
          [
           "Arts"
          ],
          [
           "Industrial Arts & Consumer Services"
          ],
          [
           "Agriculture & Natural Resources"
          ],
          [
           "Humanities & Liberal Arts"
          ],
          [
           "Health"
          ],
          [
           "Education"
          ],
          [
           "Humanities & Liberal Arts"
          ],
          [
           "Arts"
          ],
          [
           "Humanities & Liberal Arts"
          ],
          [
           "Biology & Life Science"
          ],
          [
           "Psychology & Social Work"
          ],
          [
           "Psychology & Social Work"
          ],
          [
           "Psychology & Social Work"
          ],
          [
           "Education"
          ]
         ],
         "domain": {
          "x": [
           0,
           1
          ],
          "y": [
           0,
           1
          ]
         },
         "hovertemplate": "Major_category=%{customdata[0]}<extra></extra>",
         "labels": [
          "Engineering",
          "Engineering",
          "Engineering",
          "Engineering",
          "Engineering",
          "Engineering",
          "Business",
          "Physical Sciences",
          "Engineering",
          "Engineering",
          "Engineering",
          "Engineering",
          "Engineering",
          "Engineering",
          "Engineering",
          "Engineering",
          "Engineering",
          "Engineering",
          "Engineering",
          "Law & Public Policy",
          "Computers & Mathematics",
          "Engineering",
          "Engineering",
          "Business",
          "Engineering",
          "Industrial Arts & Consumer Services",
          "Business",
          "Engineering",
          "Law & Public Policy",
          "Engineering",
          "Engineering",
          "Arts",
          "Engineering",
          "Health",
          "Business",
          "Social Science",
          "Business",
          "Engineering",
          "Physical Sciences",
          "Business",
          "Computers & Mathematics",
          "Computers & Mathematics",
          "Physical Sciences",
          "Health",
          "Computers & Mathematics",
          "Computers & Mathematics",
          "Computers & Mathematics",
          "Biology & Life Science",
          "Physical Sciences",
          "Engineering",
          "Health",
          "Computers & Mathematics",
          "Computers & Mathematics",
          "Biology & Life Science",
          "Education",
          "Social Science",
          "Business",
          "Engineering",
          "Business",
          "Health",
          "Biology & Life Science",
          "Business",
          "Agriculture & Natural Resources",
          "Agriculture & Natural Resources",
          "Engineering",
          "Engineering",
          "Biology & Life Science",
          "Social Science",
          "Humanities & Liberal Arts",
          "Psychology & Social Work",
          "Agriculture & Natural Resources",
          "Physical Sciences",
          "Industrial Arts & Consumer Services",
          "Physical Sciences",
          "Industrial Arts & Consumer Services",
          "Business",
          "Business",
          "Social Science",
          "Social Science",
          "Biology & Life Science",
          "Computers & Mathematics",
          "Biology & Life Science",
          "Biology & Life Science",
          "Computers & Mathematics",
          "Physical Sciences",
          "Business",
          "Law & Public Policy",
          "Health",
          "Law & Public Policy",
          "Physical Sciences",
          "Psychology & Social Work",
          "Biology & Life Science",
          "Communications & Journalism",
          "Law & Public Policy",
          "Arts",
          "Communications & Journalism",
          "Physical Sciences",
          "Communications & Journalism",
          "Humanities & Liberal Arts",
          "Education",
          "Biology & Life Science",
          "Social Science",
          "Health",
          "Health",
          "Computers & Mathematics",
          "Industrial Arts & Consumer Services",
          "Agriculture & Natural Resources",
          "Biology & Life Science",
          "Interdisciplinary",
          "Physical Sciences",
          "Agriculture & Natural Resources",
          "Agriculture & Natural Resources",
          "Education",
          "Humanities & Liberal Arts",
          "Humanities & Liberal Arts",
          "Humanities & Liberal Arts",
          "Education",
          "Health",
          "Education",
          "Education",
          "Health",
          "Biology & Life Science",
          "Biology & Life Science",
          "Social Science",
          "Communications & Journalism",
          "Health",
          "Business",
          "Education",
          "Humanities & Liberal Arts",
          "Education",
          "Social Science",
          "Biology & Life Science",
          "Education",
          "Health",
          "Humanities & Liberal Arts",
          "Education",
          "Humanities & Liberal Arts",
          "Education",
          "Industrial Arts & Consumer Services",
          "Humanities & Liberal Arts",
          "Arts",
          "Social Science",
          "Agriculture & Natural Resources",
          "Education",
          "Psychology & Social Work",
          "Arts",
          "Education",
          "Humanities & Liberal Arts",
          "Arts",
          "Industrial Arts & Consumer Services",
          "Psychology & Social Work",
          "Agriculture & Natural Resources",
          "Arts",
          "Education",
          "Psychology & Social Work",
          "Psychology & Social Work",
          "Humanities & Liberal Arts",
          "Humanities & Liberal Arts",
          "Arts",
          "Industrial Arts & Consumer Services",
          "Agriculture & Natural Resources",
          "Humanities & Liberal Arts",
          "Health",
          "Education",
          "Humanities & Liberal Arts",
          "Arts",
          "Humanities & Liberal Arts",
          "Biology & Life Science",
          "Psychology & Social Work",
          "Psychology & Social Work",
          "Psychology & Social Work",
          "Education"
         ],
         "legendgroup": "",
         "marker": {
          "colors": [
           "#636efa",
           "#636efa",
           "#636efa",
           "#636efa",
           "#636efa",
           "#636efa",
           "#EF553B",
           "#00cc96",
           "#636efa",
           "#636efa",
           "#636efa",
           "#636efa",
           "#636efa",
           "#636efa",
           "#636efa",
           "#636efa",
           "#636efa",
           "#636efa",
           "#636efa",
           "#ab63fa",
           "#FFA15A",
           "#636efa",
           "#636efa",
           "#EF553B",
           "#636efa",
           "#19d3f3",
           "#EF553B",
           "#636efa",
           "#ab63fa",
           "#636efa",
           "#636efa",
           "#FF6692",
           "#636efa",
           "#B6E880",
           "#EF553B",
           "#FF97FF",
           "#EF553B",
           "#636efa",
           "#00cc96",
           "#EF553B",
           "#FFA15A",
           "#FFA15A",
           "#00cc96",
           "#B6E880",
           "#FFA15A",
           "#FFA15A",
           "#FFA15A",
           "#FECB52",
           "#00cc96",
           "#636efa",
           "#B6E880",
           "#FFA15A",
           "#FFA15A",
           "#FECB52",
           "#636efa",
           "#FF97FF",
           "#EF553B",
           "#636efa",
           "#EF553B",
           "#B6E880",
           "#FECB52",
           "#EF553B",
           "#EF553B",
           "#EF553B",
           "#636efa",
           "#636efa",
           "#FECB52",
           "#FF97FF",
           "#00cc96",
           "#ab63fa",
           "#EF553B",
           "#00cc96",
           "#19d3f3",
           "#00cc96",
           "#19d3f3",
           "#EF553B",
           "#EF553B",
           "#FF97FF",
           "#FF97FF",
           "#FECB52",
           "#FFA15A",
           "#FECB52",
           "#FECB52",
           "#FFA15A",
           "#00cc96",
           "#EF553B",
           "#ab63fa",
           "#B6E880",
           "#ab63fa",
           "#00cc96",
           "#ab63fa",
           "#FECB52",
           "#FFA15A",
           "#ab63fa",
           "#FF6692",
           "#FFA15A",
           "#00cc96",
           "#FFA15A",
           "#00cc96",
           "#636efa",
           "#FECB52",
           "#FF97FF",
           "#B6E880",
           "#B6E880",
           "#FFA15A",
           "#19d3f3",
           "#EF553B",
           "#FECB52",
           "#19d3f3",
           "#00cc96",
           "#EF553B",
           "#EF553B",
           "#636efa",
           "#00cc96",
           "#00cc96",
           "#00cc96",
           "#636efa",
           "#B6E880",
           "#636efa",
           "#636efa",
           "#B6E880",
           "#FECB52",
           "#FECB52",
           "#FF97FF",
           "#FFA15A",
           "#B6E880",
           "#EF553B",
           "#636efa",
           "#00cc96",
           "#636efa",
           "#FF97FF",
           "#FECB52",
           "#636efa",
           "#B6E880",
           "#00cc96",
           "#636efa",
           "#00cc96",
           "#636efa",
           "#19d3f3",
           "#00cc96",
           "#FF6692",
           "#FF97FF",
           "#EF553B",
           "#636efa",
           "#ab63fa",
           "#FF6692",
           "#636efa",
           "#00cc96",
           "#FF6692",
           "#19d3f3",
           "#ab63fa",
           "#EF553B",
           "#FF6692",
           "#636efa",
           "#ab63fa",
           "#ab63fa",
           "#00cc96",
           "#00cc96",
           "#FF6692",
           "#19d3f3",
           "#EF553B",
           "#00cc96",
           "#B6E880",
           "#636efa",
           "#00cc96",
           "#FF6692",
           "#00cc96",
           "#FECB52",
           "#ab63fa",
           "#ab63fa",
           "#ab63fa",
           "#636efa"
          ]
         },
         "name": "",
         "showlegend": true,
         "type": "pie"
        }
       ],
       "layout": {
        "legend": {
         "tracegroupgap": 0
        },
        "template": {
         "data": {
          "bar": [
           {
            "error_x": {
             "color": "#2a3f5f"
            },
            "error_y": {
             "color": "#2a3f5f"
            },
            "marker": {
             "line": {
              "color": "#E5ECF6",
              "width": 0.5
             },
             "pattern": {
              "fillmode": "overlay",
              "size": 10,
              "solidity": 0.2
             }
            },
            "type": "bar"
           }
          ],
          "barpolar": [
           {
            "marker": {
             "line": {
              "color": "#E5ECF6",
              "width": 0.5
             },
             "pattern": {
              "fillmode": "overlay",
              "size": 10,
              "solidity": 0.2
             }
            },
            "type": "barpolar"
           }
          ],
          "carpet": [
           {
            "aaxis": {
             "endlinecolor": "#2a3f5f",
             "gridcolor": "white",
             "linecolor": "white",
             "minorgridcolor": "white",
             "startlinecolor": "#2a3f5f"
            },
            "baxis": {
             "endlinecolor": "#2a3f5f",
             "gridcolor": "white",
             "linecolor": "white",
             "minorgridcolor": "white",
             "startlinecolor": "#2a3f5f"
            },
            "type": "carpet"
           }
          ],
          "choropleth": [
           {
            "colorbar": {
             "outlinewidth": 0,
             "ticks": ""
            },
            "type": "choropleth"
           }
          ],
          "contour": [
           {
            "colorbar": {
             "outlinewidth": 0,
             "ticks": ""
            },
            "colorscale": [
             [
              0,
              "#0d0887"
             ],
             [
              0.1111111111111111,
              "#46039f"
             ],
             [
              0.2222222222222222,
              "#7201a8"
             ],
             [
              0.3333333333333333,
              "#9c179e"
             ],
             [
              0.4444444444444444,
              "#bd3786"
             ],
             [
              0.5555555555555556,
              "#d8576b"
             ],
             [
              0.6666666666666666,
              "#ed7953"
             ],
             [
              0.7777777777777778,
              "#fb9f3a"
             ],
             [
              0.8888888888888888,
              "#fdca26"
             ],
             [
              1,
              "#f0f921"
             ]
            ],
            "type": "contour"
           }
          ],
          "contourcarpet": [
           {
            "colorbar": {
             "outlinewidth": 0,
             "ticks": ""
            },
            "type": "contourcarpet"
           }
          ],
          "heatmap": [
           {
            "colorbar": {
             "outlinewidth": 0,
             "ticks": ""
            },
            "colorscale": [
             [
              0,
              "#0d0887"
             ],
             [
              0.1111111111111111,
              "#46039f"
             ],
             [
              0.2222222222222222,
              "#7201a8"
             ],
             [
              0.3333333333333333,
              "#9c179e"
             ],
             [
              0.4444444444444444,
              "#bd3786"
             ],
             [
              0.5555555555555556,
              "#d8576b"
             ],
             [
              0.6666666666666666,
              "#ed7953"
             ],
             [
              0.7777777777777778,
              "#fb9f3a"
             ],
             [
              0.8888888888888888,
              "#fdca26"
             ],
             [
              1,
              "#f0f921"
             ]
            ],
            "type": "heatmap"
           }
          ],
          "heatmapgl": [
           {
            "colorbar": {
             "outlinewidth": 0,
             "ticks": ""
            },
            "colorscale": [
             [
              0,
              "#0d0887"
             ],
             [
              0.1111111111111111,
              "#46039f"
             ],
             [
              0.2222222222222222,
              "#7201a8"
             ],
             [
              0.3333333333333333,
              "#9c179e"
             ],
             [
              0.4444444444444444,
              "#bd3786"
             ],
             [
              0.5555555555555556,
              "#d8576b"
             ],
             [
              0.6666666666666666,
              "#ed7953"
             ],
             [
              0.7777777777777778,
              "#fb9f3a"
             ],
             [
              0.8888888888888888,
              "#fdca26"
             ],
             [
              1,
              "#f0f921"
             ]
            ],
            "type": "heatmapgl"
           }
          ],
          "histogram": [
           {
            "marker": {
             "pattern": {
              "fillmode": "overlay",
              "size": 10,
              "solidity": 0.2
             }
            },
            "type": "histogram"
           }
          ],
          "histogram2d": [
           {
            "colorbar": {
             "outlinewidth": 0,
             "ticks": ""
            },
            "colorscale": [
             [
              0,
              "#0d0887"
             ],
             [
              0.1111111111111111,
              "#46039f"
             ],
             [
              0.2222222222222222,
              "#7201a8"
             ],
             [
              0.3333333333333333,
              "#9c179e"
             ],
             [
              0.4444444444444444,
              "#bd3786"
             ],
             [
              0.5555555555555556,
              "#d8576b"
             ],
             [
              0.6666666666666666,
              "#ed7953"
             ],
             [
              0.7777777777777778,
              "#fb9f3a"
             ],
             [
              0.8888888888888888,
              "#fdca26"
             ],
             [
              1,
              "#f0f921"
             ]
            ],
            "type": "histogram2d"
           }
          ],
          "histogram2dcontour": [
           {
            "colorbar": {
             "outlinewidth": 0,
             "ticks": ""
            },
            "colorscale": [
             [
              0,
              "#0d0887"
             ],
             [
              0.1111111111111111,
              "#46039f"
             ],
             [
              0.2222222222222222,
              "#7201a8"
             ],
             [
              0.3333333333333333,
              "#9c179e"
             ],
             [
              0.4444444444444444,
              "#bd3786"
             ],
             [
              0.5555555555555556,
              "#d8576b"
             ],
             [
              0.6666666666666666,
              "#ed7953"
             ],
             [
              0.7777777777777778,
              "#fb9f3a"
             ],
             [
              0.8888888888888888,
              "#fdca26"
             ],
             [
              1,
              "#f0f921"
             ]
            ],
            "type": "histogram2dcontour"
           }
          ],
          "mesh3d": [
           {
            "colorbar": {
             "outlinewidth": 0,
             "ticks": ""
            },
            "type": "mesh3d"
           }
          ],
          "parcoords": [
           {
            "line": {
             "colorbar": {
              "outlinewidth": 0,
              "ticks": ""
             }
            },
            "type": "parcoords"
           }
          ],
          "pie": [
           {
            "automargin": true,
            "type": "pie"
           }
          ],
          "scatter": [
           {
            "fillpattern": {
             "fillmode": "overlay",
             "size": 10,
             "solidity": 0.2
            },
            "type": "scatter"
           }
          ],
          "scatter3d": [
           {
            "line": {
             "colorbar": {
              "outlinewidth": 0,
              "ticks": ""
             }
            },
            "marker": {
             "colorbar": {
              "outlinewidth": 0,
              "ticks": ""
             }
            },
            "type": "scatter3d"
           }
          ],
          "scattercarpet": [
           {
            "marker": {
             "colorbar": {
              "outlinewidth": 0,
              "ticks": ""
             }
            },
            "type": "scattercarpet"
           }
          ],
          "scattergeo": [
           {
            "marker": {
             "colorbar": {
              "outlinewidth": 0,
              "ticks": ""
             }
            },
            "type": "scattergeo"
           }
          ],
          "scattergl": [
           {
            "marker": {
             "colorbar": {
              "outlinewidth": 0,
              "ticks": ""
             }
            },
            "type": "scattergl"
           }
          ],
          "scattermapbox": [
           {
            "marker": {
             "colorbar": {
              "outlinewidth": 0,
              "ticks": ""
             }
            },
            "type": "scattermapbox"
           }
          ],
          "scatterpolar": [
           {
            "marker": {
             "colorbar": {
              "outlinewidth": 0,
              "ticks": ""
             }
            },
            "type": "scatterpolar"
           }
          ],
          "scatterpolargl": [
           {
            "marker": {
             "colorbar": {
              "outlinewidth": 0,
              "ticks": ""
             }
            },
            "type": "scatterpolargl"
           }
          ],
          "scatterternary": [
           {
            "marker": {
             "colorbar": {
              "outlinewidth": 0,
              "ticks": ""
             }
            },
            "type": "scatterternary"
           }
          ],
          "surface": [
           {
            "colorbar": {
             "outlinewidth": 0,
             "ticks": ""
            },
            "colorscale": [
             [
              0,
              "#0d0887"
             ],
             [
              0.1111111111111111,
              "#46039f"
             ],
             [
              0.2222222222222222,
              "#7201a8"
             ],
             [
              0.3333333333333333,
              "#9c179e"
             ],
             [
              0.4444444444444444,
              "#bd3786"
             ],
             [
              0.5555555555555556,
              "#d8576b"
             ],
             [
              0.6666666666666666,
              "#ed7953"
             ],
             [
              0.7777777777777778,
              "#fb9f3a"
             ],
             [
              0.8888888888888888,
              "#fdca26"
             ],
             [
              1,
              "#f0f921"
             ]
            ],
            "type": "surface"
           }
          ],
          "table": [
           {
            "cells": {
             "fill": {
              "color": "#EBF0F8"
             },
             "line": {
              "color": "white"
             }
            },
            "header": {
             "fill": {
              "color": "#C8D4E3"
             },
             "line": {
              "color": "white"
             }
            },
            "type": "table"
           }
          ]
         },
         "layout": {
          "annotationdefaults": {
           "arrowcolor": "#2a3f5f",
           "arrowhead": 0,
           "arrowwidth": 1
          },
          "autotypenumbers": "strict",
          "coloraxis": {
           "colorbar": {
            "outlinewidth": 0,
            "ticks": ""
           }
          },
          "colorscale": {
           "diverging": [
            [
             0,
             "#8e0152"
            ],
            [
             0.1,
             "#c51b7d"
            ],
            [
             0.2,
             "#de77ae"
            ],
            [
             0.3,
             "#f1b6da"
            ],
            [
             0.4,
             "#fde0ef"
            ],
            [
             0.5,
             "#f7f7f7"
            ],
            [
             0.6,
             "#e6f5d0"
            ],
            [
             0.7,
             "#b8e186"
            ],
            [
             0.8,
             "#7fbc41"
            ],
            [
             0.9,
             "#4d9221"
            ],
            [
             1,
             "#276419"
            ]
           ],
           "sequential": [
            [
             0,
             "#0d0887"
            ],
            [
             0.1111111111111111,
             "#46039f"
            ],
            [
             0.2222222222222222,
             "#7201a8"
            ],
            [
             0.3333333333333333,
             "#9c179e"
            ],
            [
             0.4444444444444444,
             "#bd3786"
            ],
            [
             0.5555555555555556,
             "#d8576b"
            ],
            [
             0.6666666666666666,
             "#ed7953"
            ],
            [
             0.7777777777777778,
             "#fb9f3a"
            ],
            [
             0.8888888888888888,
             "#fdca26"
            ],
            [
             1,
             "#f0f921"
            ]
           ],
           "sequentialminus": [
            [
             0,
             "#0d0887"
            ],
            [
             0.1111111111111111,
             "#46039f"
            ],
            [
             0.2222222222222222,
             "#7201a8"
            ],
            [
             0.3333333333333333,
             "#9c179e"
            ],
            [
             0.4444444444444444,
             "#bd3786"
            ],
            [
             0.5555555555555556,
             "#d8576b"
            ],
            [
             0.6666666666666666,
             "#ed7953"
            ],
            [
             0.7777777777777778,
             "#fb9f3a"
            ],
            [
             0.8888888888888888,
             "#fdca26"
            ],
            [
             1,
             "#f0f921"
            ]
           ]
          },
          "colorway": [
           "#636efa",
           "#EF553B",
           "#00cc96",
           "#ab63fa",
           "#FFA15A",
           "#19d3f3",
           "#FF6692",
           "#B6E880",
           "#FF97FF",
           "#FECB52"
          ],
          "font": {
           "color": "#2a3f5f"
          },
          "geo": {
           "bgcolor": "white",
           "lakecolor": "white",
           "landcolor": "#E5ECF6",
           "showlakes": true,
           "showland": true,
           "subunitcolor": "white"
          },
          "hoverlabel": {
           "align": "left"
          },
          "hovermode": "closest",
          "mapbox": {
           "style": "light"
          },
          "paper_bgcolor": "white",
          "plot_bgcolor": "#E5ECF6",
          "polar": {
           "angularaxis": {
            "gridcolor": "white",
            "linecolor": "white",
            "ticks": ""
           },
           "bgcolor": "#E5ECF6",
           "radialaxis": {
            "gridcolor": "white",
            "linecolor": "white",
            "ticks": ""
           }
          },
          "scene": {
           "xaxis": {
            "backgroundcolor": "#E5ECF6",
            "gridcolor": "white",
            "gridwidth": 2,
            "linecolor": "white",
            "showbackground": true,
            "ticks": "",
            "zerolinecolor": "white"
           },
           "yaxis": {
            "backgroundcolor": "#E5ECF6",
            "gridcolor": "white",
            "gridwidth": 2,
            "linecolor": "white",
            "showbackground": true,
            "ticks": "",
            "zerolinecolor": "white"
           },
           "zaxis": {
            "backgroundcolor": "#E5ECF6",
            "gridcolor": "white",
            "gridwidth": 2,
            "linecolor": "white",
            "showbackground": true,
            "ticks": "",
            "zerolinecolor": "white"
           }
          },
          "shapedefaults": {
           "line": {
            "color": "#2a3f5f"
           }
          },
          "ternary": {
           "aaxis": {
            "gridcolor": "white",
            "linecolor": "white",
            "ticks": ""
           },
           "baxis": {
            "gridcolor": "white",
            "linecolor": "white",
            "ticks": ""
           },
           "bgcolor": "#E5ECF6",
           "caxis": {
            "gridcolor": "white",
            "linecolor": "white",
            "ticks": ""
           }
          },
          "title": {
           "x": 0.05
          },
          "xaxis": {
           "automargin": true,
           "gridcolor": "white",
           "linecolor": "white",
           "ticks": "",
           "title": {
            "standoff": 15
           },
           "zerolinecolor": "white",
           "zerolinewidth": 2
          },
          "yaxis": {
           "automargin": true,
           "gridcolor": "white",
           "linecolor": "white",
           "ticks": "",
           "title": {
            "standoff": 15
           },
           "zerolinecolor": "white",
           "zerolinewidth": 2
          }
         }
        },
        "title": {
         "text": "Which major has the widest selection of programs?"
        }
       }
      },
      "text/html": [
       "<div>                            <div id=\"661f41a4-7db2-451a-80ad-bc12b61c9b24\" class=\"plotly-graph-div\" style=\"height:525px; width:100%;\"></div>            <script type=\"text/javascript\">                require([\"plotly\"], function(Plotly) {                    window.PLOTLYENV=window.PLOTLYENV || {};                                    if (document.getElementById(\"661f41a4-7db2-451a-80ad-bc12b61c9b24\")) {                    Plotly.newPlot(                        \"661f41a4-7db2-451a-80ad-bc12b61c9b24\",                        [{\"customdata\":[[\"Engineering\"],[\"Engineering\"],[\"Engineering\"],[\"Engineering\"],[\"Engineering\"],[\"Engineering\"],[\"Business\"],[\"Physical Sciences\"],[\"Engineering\"],[\"Engineering\"],[\"Engineering\"],[\"Engineering\"],[\"Engineering\"],[\"Engineering\"],[\"Engineering\"],[\"Engineering\"],[\"Engineering\"],[\"Engineering\"],[\"Engineering\"],[\"Law & Public Policy\"],[\"Computers & Mathematics\"],[\"Engineering\"],[\"Engineering\"],[\"Business\"],[\"Engineering\"],[\"Industrial Arts & Consumer Services\"],[\"Business\"],[\"Engineering\"],[\"Law & Public Policy\"],[\"Engineering\"],[\"Engineering\"],[\"Arts\"],[\"Engineering\"],[\"Health\"],[\"Business\"],[\"Social Science\"],[\"Business\"],[\"Engineering\"],[\"Physical Sciences\"],[\"Business\"],[\"Computers & Mathematics\"],[\"Computers & Mathematics\"],[\"Physical Sciences\"],[\"Health\"],[\"Computers & Mathematics\"],[\"Computers & Mathematics\"],[\"Computers & Mathematics\"],[\"Biology & Life Science\"],[\"Physical Sciences\"],[\"Engineering\"],[\"Health\"],[\"Computers & Mathematics\"],[\"Computers & Mathematics\"],[\"Biology & Life Science\"],[\"Education\"],[\"Social Science\"],[\"Business\"],[\"Engineering\"],[\"Business\"],[\"Health\"],[\"Biology & Life Science\"],[\"Business\"],[\"Agriculture & Natural Resources\"],[\"Agriculture & Natural Resources\"],[\"Engineering\"],[\"Engineering\"],[\"Biology & Life Science\"],[\"Social Science\"],[\"Humanities & Liberal Arts\"],[\"Psychology & Social Work\"],[\"Agriculture & Natural Resources\"],[\"Physical Sciences\"],[\"Industrial Arts & Consumer Services\"],[\"Physical Sciences\"],[\"Industrial Arts & Consumer Services\"],[\"Business\"],[\"Business\"],[\"Social Science\"],[\"Social Science\"],[\"Biology & Life Science\"],[\"Computers & Mathematics\"],[\"Biology & Life Science\"],[\"Biology & Life Science\"],[\"Computers & Mathematics\"],[\"Physical Sciences\"],[\"Business\"],[\"Law & Public Policy\"],[\"Health\"],[\"Law & Public Policy\"],[\"Physical Sciences\"],[\"Psychology & Social Work\"],[\"Biology & Life Science\"],[\"Communications & Journalism\"],[\"Law & Public Policy\"],[\"Arts\"],[\"Communications & Journalism\"],[\"Physical Sciences\"],[\"Communications & Journalism\"],[\"Humanities & Liberal Arts\"],[\"Education\"],[\"Biology & Life Science\"],[\"Social Science\"],[\"Health\"],[\"Health\"],[\"Computers & Mathematics\"],[\"Industrial Arts & Consumer Services\"],[\"Agriculture & Natural Resources\"],[\"Biology & Life Science\"],[\"Interdisciplinary\"],[\"Physical Sciences\"],[\"Agriculture & Natural Resources\"],[\"Agriculture & Natural Resources\"],[\"Education\"],[\"Humanities & Liberal Arts\"],[\"Humanities & Liberal Arts\"],[\"Humanities & Liberal Arts\"],[\"Education\"],[\"Health\"],[\"Education\"],[\"Education\"],[\"Health\"],[\"Biology & Life Science\"],[\"Biology & Life Science\"],[\"Social Science\"],[\"Communications & Journalism\"],[\"Health\"],[\"Business\"],[\"Education\"],[\"Humanities & Liberal Arts\"],[\"Education\"],[\"Social Science\"],[\"Biology & Life Science\"],[\"Education\"],[\"Health\"],[\"Humanities & Liberal Arts\"],[\"Education\"],[\"Humanities & Liberal Arts\"],[\"Education\"],[\"Industrial Arts & Consumer Services\"],[\"Humanities & Liberal Arts\"],[\"Arts\"],[\"Social Science\"],[\"Agriculture & Natural Resources\"],[\"Education\"],[\"Psychology & Social Work\"],[\"Arts\"],[\"Education\"],[\"Humanities & Liberal Arts\"],[\"Arts\"],[\"Industrial Arts & Consumer Services\"],[\"Psychology & Social Work\"],[\"Agriculture & Natural Resources\"],[\"Arts\"],[\"Education\"],[\"Psychology & Social Work\"],[\"Psychology & Social Work\"],[\"Humanities & Liberal Arts\"],[\"Humanities & Liberal Arts\"],[\"Arts\"],[\"Industrial Arts & Consumer Services\"],[\"Agriculture & Natural Resources\"],[\"Humanities & Liberal Arts\"],[\"Health\"],[\"Education\"],[\"Humanities & Liberal Arts\"],[\"Arts\"],[\"Humanities & Liberal Arts\"],[\"Biology & Life Science\"],[\"Psychology & Social Work\"],[\"Psychology & Social Work\"],[\"Psychology & Social Work\"],[\"Education\"]],\"domain\":{\"x\":[0.0,1.0],\"y\":[0.0,1.0]},\"hovertemplate\":\"Major_category=%{customdata[0]}<extra></extra>\",\"labels\":[\"Engineering\",\"Engineering\",\"Engineering\",\"Engineering\",\"Engineering\",\"Engineering\",\"Business\",\"Physical Sciences\",\"Engineering\",\"Engineering\",\"Engineering\",\"Engineering\",\"Engineering\",\"Engineering\",\"Engineering\",\"Engineering\",\"Engineering\",\"Engineering\",\"Engineering\",\"Law & Public Policy\",\"Computers & Mathematics\",\"Engineering\",\"Engineering\",\"Business\",\"Engineering\",\"Industrial Arts & Consumer Services\",\"Business\",\"Engineering\",\"Law & Public Policy\",\"Engineering\",\"Engineering\",\"Arts\",\"Engineering\",\"Health\",\"Business\",\"Social Science\",\"Business\",\"Engineering\",\"Physical Sciences\",\"Business\",\"Computers & Mathematics\",\"Computers & Mathematics\",\"Physical Sciences\",\"Health\",\"Computers & Mathematics\",\"Computers & Mathematics\",\"Computers & Mathematics\",\"Biology & Life Science\",\"Physical Sciences\",\"Engineering\",\"Health\",\"Computers & Mathematics\",\"Computers & Mathematics\",\"Biology & Life Science\",\"Education\",\"Social Science\",\"Business\",\"Engineering\",\"Business\",\"Health\",\"Biology & Life Science\",\"Business\",\"Agriculture & Natural Resources\",\"Agriculture & Natural Resources\",\"Engineering\",\"Engineering\",\"Biology & Life Science\",\"Social Science\",\"Humanities & Liberal Arts\",\"Psychology & Social Work\",\"Agriculture & Natural Resources\",\"Physical Sciences\",\"Industrial Arts & Consumer Services\",\"Physical Sciences\",\"Industrial Arts & Consumer Services\",\"Business\",\"Business\",\"Social Science\",\"Social Science\",\"Biology & Life Science\",\"Computers & Mathematics\",\"Biology & Life Science\",\"Biology & Life Science\",\"Computers & Mathematics\",\"Physical Sciences\",\"Business\",\"Law & Public Policy\",\"Health\",\"Law & Public Policy\",\"Physical Sciences\",\"Psychology & Social Work\",\"Biology & Life Science\",\"Communications & Journalism\",\"Law & Public Policy\",\"Arts\",\"Communications & Journalism\",\"Physical Sciences\",\"Communications & Journalism\",\"Humanities & Liberal Arts\",\"Education\",\"Biology & Life Science\",\"Social Science\",\"Health\",\"Health\",\"Computers & Mathematics\",\"Industrial Arts & Consumer Services\",\"Agriculture & Natural Resources\",\"Biology & Life Science\",\"Interdisciplinary\",\"Physical Sciences\",\"Agriculture & Natural Resources\",\"Agriculture & Natural Resources\",\"Education\",\"Humanities & Liberal Arts\",\"Humanities & Liberal Arts\",\"Humanities & Liberal Arts\",\"Education\",\"Health\",\"Education\",\"Education\",\"Health\",\"Biology & Life Science\",\"Biology & Life Science\",\"Social Science\",\"Communications & Journalism\",\"Health\",\"Business\",\"Education\",\"Humanities & Liberal Arts\",\"Education\",\"Social Science\",\"Biology & Life Science\",\"Education\",\"Health\",\"Humanities & Liberal Arts\",\"Education\",\"Humanities & Liberal Arts\",\"Education\",\"Industrial Arts & Consumer Services\",\"Humanities & Liberal Arts\",\"Arts\",\"Social Science\",\"Agriculture & Natural Resources\",\"Education\",\"Psychology & Social Work\",\"Arts\",\"Education\",\"Humanities & Liberal Arts\",\"Arts\",\"Industrial Arts & Consumer Services\",\"Psychology & Social Work\",\"Agriculture & Natural Resources\",\"Arts\",\"Education\",\"Psychology & Social Work\",\"Psychology & Social Work\",\"Humanities & Liberal Arts\",\"Humanities & Liberal Arts\",\"Arts\",\"Industrial Arts & Consumer Services\",\"Agriculture & Natural Resources\",\"Humanities & Liberal Arts\",\"Health\",\"Education\",\"Humanities & Liberal Arts\",\"Arts\",\"Humanities & Liberal Arts\",\"Biology & Life Science\",\"Psychology & Social Work\",\"Psychology & Social Work\",\"Psychology & Social Work\",\"Education\"],\"legendgroup\":\"\",\"marker\":{\"colors\":[\"#636efa\",\"#636efa\",\"#636efa\",\"#636efa\",\"#636efa\",\"#636efa\",\"#EF553B\",\"#00cc96\",\"#636efa\",\"#636efa\",\"#636efa\",\"#636efa\",\"#636efa\",\"#636efa\",\"#636efa\",\"#636efa\",\"#636efa\",\"#636efa\",\"#636efa\",\"#ab63fa\",\"#FFA15A\",\"#636efa\",\"#636efa\",\"#EF553B\",\"#636efa\",\"#19d3f3\",\"#EF553B\",\"#636efa\",\"#ab63fa\",\"#636efa\",\"#636efa\",\"#FF6692\",\"#636efa\",\"#B6E880\",\"#EF553B\",\"#FF97FF\",\"#EF553B\",\"#636efa\",\"#00cc96\",\"#EF553B\",\"#FFA15A\",\"#FFA15A\",\"#00cc96\",\"#B6E880\",\"#FFA15A\",\"#FFA15A\",\"#FFA15A\",\"#FECB52\",\"#00cc96\",\"#636efa\",\"#B6E880\",\"#FFA15A\",\"#FFA15A\",\"#FECB52\",\"#636efa\",\"#FF97FF\",\"#EF553B\",\"#636efa\",\"#EF553B\",\"#B6E880\",\"#FECB52\",\"#EF553B\",\"#EF553B\",\"#EF553B\",\"#636efa\",\"#636efa\",\"#FECB52\",\"#FF97FF\",\"#00cc96\",\"#ab63fa\",\"#EF553B\",\"#00cc96\",\"#19d3f3\",\"#00cc96\",\"#19d3f3\",\"#EF553B\",\"#EF553B\",\"#FF97FF\",\"#FF97FF\",\"#FECB52\",\"#FFA15A\",\"#FECB52\",\"#FECB52\",\"#FFA15A\",\"#00cc96\",\"#EF553B\",\"#ab63fa\",\"#B6E880\",\"#ab63fa\",\"#00cc96\",\"#ab63fa\",\"#FECB52\",\"#FFA15A\",\"#ab63fa\",\"#FF6692\",\"#FFA15A\",\"#00cc96\",\"#FFA15A\",\"#00cc96\",\"#636efa\",\"#FECB52\",\"#FF97FF\",\"#B6E880\",\"#B6E880\",\"#FFA15A\",\"#19d3f3\",\"#EF553B\",\"#FECB52\",\"#19d3f3\",\"#00cc96\",\"#EF553B\",\"#EF553B\",\"#636efa\",\"#00cc96\",\"#00cc96\",\"#00cc96\",\"#636efa\",\"#B6E880\",\"#636efa\",\"#636efa\",\"#B6E880\",\"#FECB52\",\"#FECB52\",\"#FF97FF\",\"#FFA15A\",\"#B6E880\",\"#EF553B\",\"#636efa\",\"#00cc96\",\"#636efa\",\"#FF97FF\",\"#FECB52\",\"#636efa\",\"#B6E880\",\"#00cc96\",\"#636efa\",\"#00cc96\",\"#636efa\",\"#19d3f3\",\"#00cc96\",\"#FF6692\",\"#FF97FF\",\"#EF553B\",\"#636efa\",\"#ab63fa\",\"#FF6692\",\"#636efa\",\"#00cc96\",\"#FF6692\",\"#19d3f3\",\"#ab63fa\",\"#EF553B\",\"#FF6692\",\"#636efa\",\"#ab63fa\",\"#ab63fa\",\"#00cc96\",\"#00cc96\",\"#FF6692\",\"#19d3f3\",\"#EF553B\",\"#00cc96\",\"#B6E880\",\"#636efa\",\"#00cc96\",\"#FF6692\",\"#00cc96\",\"#FECB52\",\"#ab63fa\",\"#ab63fa\",\"#ab63fa\",\"#636efa\"]},\"name\":\"\",\"showlegend\":true,\"type\":\"pie\"}],                        {\"template\":{\"data\":{\"histogram2dcontour\":[{\"type\":\"histogram2dcontour\",\"colorbar\":{\"outlinewidth\":0,\"ticks\":\"\"},\"colorscale\":[[0.0,\"#0d0887\"],[0.1111111111111111,\"#46039f\"],[0.2222222222222222,\"#7201a8\"],[0.3333333333333333,\"#9c179e\"],[0.4444444444444444,\"#bd3786\"],[0.5555555555555556,\"#d8576b\"],[0.6666666666666666,\"#ed7953\"],[0.7777777777777778,\"#fb9f3a\"],[0.8888888888888888,\"#fdca26\"],[1.0,\"#f0f921\"]]}],\"choropleth\":[{\"type\":\"choropleth\",\"colorbar\":{\"outlinewidth\":0,\"ticks\":\"\"}}],\"histogram2d\":[{\"type\":\"histogram2d\",\"colorbar\":{\"outlinewidth\":0,\"ticks\":\"\"},\"colorscale\":[[0.0,\"#0d0887\"],[0.1111111111111111,\"#46039f\"],[0.2222222222222222,\"#7201a8\"],[0.3333333333333333,\"#9c179e\"],[0.4444444444444444,\"#bd3786\"],[0.5555555555555556,\"#d8576b\"],[0.6666666666666666,\"#ed7953\"],[0.7777777777777778,\"#fb9f3a\"],[0.8888888888888888,\"#fdca26\"],[1.0,\"#f0f921\"]]}],\"heatmap\":[{\"type\":\"heatmap\",\"colorbar\":{\"outlinewidth\":0,\"ticks\":\"\"},\"colorscale\":[[0.0,\"#0d0887\"],[0.1111111111111111,\"#46039f\"],[0.2222222222222222,\"#7201a8\"],[0.3333333333333333,\"#9c179e\"],[0.4444444444444444,\"#bd3786\"],[0.5555555555555556,\"#d8576b\"],[0.6666666666666666,\"#ed7953\"],[0.7777777777777778,\"#fb9f3a\"],[0.8888888888888888,\"#fdca26\"],[1.0,\"#f0f921\"]]}],\"heatmapgl\":[{\"type\":\"heatmapgl\",\"colorbar\":{\"outlinewidth\":0,\"ticks\":\"\"},\"colorscale\":[[0.0,\"#0d0887\"],[0.1111111111111111,\"#46039f\"],[0.2222222222222222,\"#7201a8\"],[0.3333333333333333,\"#9c179e\"],[0.4444444444444444,\"#bd3786\"],[0.5555555555555556,\"#d8576b\"],[0.6666666666666666,\"#ed7953\"],[0.7777777777777778,\"#fb9f3a\"],[0.8888888888888888,\"#fdca26\"],[1.0,\"#f0f921\"]]}],\"contourcarpet\":[{\"type\":\"contourcarpet\",\"colorbar\":{\"outlinewidth\":0,\"ticks\":\"\"}}],\"contour\":[{\"type\":\"contour\",\"colorbar\":{\"outlinewidth\":0,\"ticks\":\"\"},\"colorscale\":[[0.0,\"#0d0887\"],[0.1111111111111111,\"#46039f\"],[0.2222222222222222,\"#7201a8\"],[0.3333333333333333,\"#9c179e\"],[0.4444444444444444,\"#bd3786\"],[0.5555555555555556,\"#d8576b\"],[0.6666666666666666,\"#ed7953\"],[0.7777777777777778,\"#fb9f3a\"],[0.8888888888888888,\"#fdca26\"],[1.0,\"#f0f921\"]]}],\"surface\":[{\"type\":\"surface\",\"colorbar\":{\"outlinewidth\":0,\"ticks\":\"\"},\"colorscale\":[[0.0,\"#0d0887\"],[0.1111111111111111,\"#46039f\"],[0.2222222222222222,\"#7201a8\"],[0.3333333333333333,\"#9c179e\"],[0.4444444444444444,\"#bd3786\"],[0.5555555555555556,\"#d8576b\"],[0.6666666666666666,\"#ed7953\"],[0.7777777777777778,\"#fb9f3a\"],[0.8888888888888888,\"#fdca26\"],[1.0,\"#f0f921\"]]}],\"mesh3d\":[{\"type\":\"mesh3d\",\"colorbar\":{\"outlinewidth\":0,\"ticks\":\"\"}}],\"scatter\":[{\"fillpattern\":{\"fillmode\":\"overlay\",\"size\":10,\"solidity\":0.2},\"type\":\"scatter\"}],\"parcoords\":[{\"type\":\"parcoords\",\"line\":{\"colorbar\":{\"outlinewidth\":0,\"ticks\":\"\"}}}],\"scatterpolargl\":[{\"type\":\"scatterpolargl\",\"marker\":{\"colorbar\":{\"outlinewidth\":0,\"ticks\":\"\"}}}],\"bar\":[{\"error_x\":{\"color\":\"#2a3f5f\"},\"error_y\":{\"color\":\"#2a3f5f\"},\"marker\":{\"line\":{\"color\":\"#E5ECF6\",\"width\":0.5},\"pattern\":{\"fillmode\":\"overlay\",\"size\":10,\"solidity\":0.2}},\"type\":\"bar\"}],\"scattergeo\":[{\"type\":\"scattergeo\",\"marker\":{\"colorbar\":{\"outlinewidth\":0,\"ticks\":\"\"}}}],\"scatterpolar\":[{\"type\":\"scatterpolar\",\"marker\":{\"colorbar\":{\"outlinewidth\":0,\"ticks\":\"\"}}}],\"histogram\":[{\"marker\":{\"pattern\":{\"fillmode\":\"overlay\",\"size\":10,\"solidity\":0.2}},\"type\":\"histogram\"}],\"scattergl\":[{\"type\":\"scattergl\",\"marker\":{\"colorbar\":{\"outlinewidth\":0,\"ticks\":\"\"}}}],\"scatter3d\":[{\"type\":\"scatter3d\",\"line\":{\"colorbar\":{\"outlinewidth\":0,\"ticks\":\"\"}},\"marker\":{\"colorbar\":{\"outlinewidth\":0,\"ticks\":\"\"}}}],\"scattermapbox\":[{\"type\":\"scattermapbox\",\"marker\":{\"colorbar\":{\"outlinewidth\":0,\"ticks\":\"\"}}}],\"scatterternary\":[{\"type\":\"scatterternary\",\"marker\":{\"colorbar\":{\"outlinewidth\":0,\"ticks\":\"\"}}}],\"scattercarpet\":[{\"type\":\"scattercarpet\",\"marker\":{\"colorbar\":{\"outlinewidth\":0,\"ticks\":\"\"}}}],\"carpet\":[{\"aaxis\":{\"endlinecolor\":\"#2a3f5f\",\"gridcolor\":\"white\",\"linecolor\":\"white\",\"minorgridcolor\":\"white\",\"startlinecolor\":\"#2a3f5f\"},\"baxis\":{\"endlinecolor\":\"#2a3f5f\",\"gridcolor\":\"white\",\"linecolor\":\"white\",\"minorgridcolor\":\"white\",\"startlinecolor\":\"#2a3f5f\"},\"type\":\"carpet\"}],\"table\":[{\"cells\":{\"fill\":{\"color\":\"#EBF0F8\"},\"line\":{\"color\":\"white\"}},\"header\":{\"fill\":{\"color\":\"#C8D4E3\"},\"line\":{\"color\":\"white\"}},\"type\":\"table\"}],\"barpolar\":[{\"marker\":{\"line\":{\"color\":\"#E5ECF6\",\"width\":0.5},\"pattern\":{\"fillmode\":\"overlay\",\"size\":10,\"solidity\":0.2}},\"type\":\"barpolar\"}],\"pie\":[{\"automargin\":true,\"type\":\"pie\"}]},\"layout\":{\"autotypenumbers\":\"strict\",\"colorway\":[\"#636efa\",\"#EF553B\",\"#00cc96\",\"#ab63fa\",\"#FFA15A\",\"#19d3f3\",\"#FF6692\",\"#B6E880\",\"#FF97FF\",\"#FECB52\"],\"font\":{\"color\":\"#2a3f5f\"},\"hovermode\":\"closest\",\"hoverlabel\":{\"align\":\"left\"},\"paper_bgcolor\":\"white\",\"plot_bgcolor\":\"#E5ECF6\",\"polar\":{\"bgcolor\":\"#E5ECF6\",\"angularaxis\":{\"gridcolor\":\"white\",\"linecolor\":\"white\",\"ticks\":\"\"},\"radialaxis\":{\"gridcolor\":\"white\",\"linecolor\":\"white\",\"ticks\":\"\"}},\"ternary\":{\"bgcolor\":\"#E5ECF6\",\"aaxis\":{\"gridcolor\":\"white\",\"linecolor\":\"white\",\"ticks\":\"\"},\"baxis\":{\"gridcolor\":\"white\",\"linecolor\":\"white\",\"ticks\":\"\"},\"caxis\":{\"gridcolor\":\"white\",\"linecolor\":\"white\",\"ticks\":\"\"}},\"coloraxis\":{\"colorbar\":{\"outlinewidth\":0,\"ticks\":\"\"}},\"colorscale\":{\"sequential\":[[0.0,\"#0d0887\"],[0.1111111111111111,\"#46039f\"],[0.2222222222222222,\"#7201a8\"],[0.3333333333333333,\"#9c179e\"],[0.4444444444444444,\"#bd3786\"],[0.5555555555555556,\"#d8576b\"],[0.6666666666666666,\"#ed7953\"],[0.7777777777777778,\"#fb9f3a\"],[0.8888888888888888,\"#fdca26\"],[1.0,\"#f0f921\"]],\"sequentialminus\":[[0.0,\"#0d0887\"],[0.1111111111111111,\"#46039f\"],[0.2222222222222222,\"#7201a8\"],[0.3333333333333333,\"#9c179e\"],[0.4444444444444444,\"#bd3786\"],[0.5555555555555556,\"#d8576b\"],[0.6666666666666666,\"#ed7953\"],[0.7777777777777778,\"#fb9f3a\"],[0.8888888888888888,\"#fdca26\"],[1.0,\"#f0f921\"]],\"diverging\":[[0,\"#8e0152\"],[0.1,\"#c51b7d\"],[0.2,\"#de77ae\"],[0.3,\"#f1b6da\"],[0.4,\"#fde0ef\"],[0.5,\"#f7f7f7\"],[0.6,\"#e6f5d0\"],[0.7,\"#b8e186\"],[0.8,\"#7fbc41\"],[0.9,\"#4d9221\"],[1,\"#276419\"]]},\"xaxis\":{\"gridcolor\":\"white\",\"linecolor\":\"white\",\"ticks\":\"\",\"title\":{\"standoff\":15},\"zerolinecolor\":\"white\",\"automargin\":true,\"zerolinewidth\":2},\"yaxis\":{\"gridcolor\":\"white\",\"linecolor\":\"white\",\"ticks\":\"\",\"title\":{\"standoff\":15},\"zerolinecolor\":\"white\",\"automargin\":true,\"zerolinewidth\":2},\"scene\":{\"xaxis\":{\"backgroundcolor\":\"#E5ECF6\",\"gridcolor\":\"white\",\"linecolor\":\"white\",\"showbackground\":true,\"ticks\":\"\",\"zerolinecolor\":\"white\",\"gridwidth\":2},\"yaxis\":{\"backgroundcolor\":\"#E5ECF6\",\"gridcolor\":\"white\",\"linecolor\":\"white\",\"showbackground\":true,\"ticks\":\"\",\"zerolinecolor\":\"white\",\"gridwidth\":2},\"zaxis\":{\"backgroundcolor\":\"#E5ECF6\",\"gridcolor\":\"white\",\"linecolor\":\"white\",\"showbackground\":true,\"ticks\":\"\",\"zerolinecolor\":\"white\",\"gridwidth\":2}},\"shapedefaults\":{\"line\":{\"color\":\"#2a3f5f\"}},\"annotationdefaults\":{\"arrowcolor\":\"#2a3f5f\",\"arrowhead\":0,\"arrowwidth\":1},\"geo\":{\"bgcolor\":\"white\",\"landcolor\":\"#E5ECF6\",\"subunitcolor\":\"white\",\"showland\":true,\"showlakes\":true,\"lakecolor\":\"white\"},\"title\":{\"x\":0.05},\"mapbox\":{\"style\":\"light\"}}},\"legend\":{\"tracegroupgap\":0},\"title\":{\"text\":\"Which major has the widest selection of programs?\"}},                        {\"responsive\": true}                    ).then(function(){\n",
       "                            \n",
       "var gd = document.getElementById('661f41a4-7db2-451a-80ad-bc12b61c9b24');\n",
       "var x = new MutationObserver(function (mutations, observer) {{\n",
       "        var display = window.getComputedStyle(gd).display;\n",
       "        if (!display || display === 'none') {{\n",
       "            console.log([gd, 'removed!']);\n",
       "            Plotly.purge(gd);\n",
       "            observer.disconnect();\n",
       "        }}\n",
       "}});\n",
       "\n",
       "// Listen for the removal of the full notebook cells\n",
       "var notebookContainer = gd.closest('#notebook-container');\n",
       "if (notebookContainer) {{\n",
       "    x.observe(notebookContainer, {childList: true});\n",
       "}}\n",
       "\n",
       "// Listen for the clearing of the current output cell\n",
       "var outputEl = gd.closest('.output');\n",
       "if (outputEl) {{\n",
       "    x.observe(outputEl, {childList: true});\n",
       "}}\n",
       "\n",
       "                        })                };                });            </script>        </div>"
      ]
     },
     "metadata": {},
     "output_type": "display_data"
    }
   ],
   "source": [
    "df_majors = df['Major_category']\n",
    "fig = px.pie(df_majors, names='Major_category', title='Which major has the widest selection of programs?', color='Major_category')\n",
    "fig.show()"
   ]
  },
  {
   "cell_type": "code",
   "execution_count": 11,
   "metadata": {},
   "outputs": [],
   "source": [
    "# распределение программ по количеству студентов"
   ]
  },
  {
   "cell_type": "code",
   "execution_count": 12,
   "metadata": {},
   "outputs": [
    {
     "data": {
      "application/vnd.plotly.v1+json": {
       "config": {
        "plotlyServerURL": "https://plot.ly"
       },
       "data": [
        {
         "customdata": [
          [
           "Engineering"
          ],
          [
           "Engineering"
          ],
          [
           "Engineering"
          ],
          [
           "Engineering"
          ],
          [
           "Engineering"
          ],
          [
           "Engineering"
          ],
          [
           "Business"
          ],
          [
           "Physical Sciences"
          ],
          [
           "Engineering"
          ],
          [
           "Engineering"
          ],
          [
           "Engineering"
          ],
          [
           "Engineering"
          ],
          [
           "Engineering"
          ],
          [
           "Engineering"
          ],
          [
           "Engineering"
          ],
          [
           "Engineering"
          ],
          [
           "Engineering"
          ],
          [
           "Engineering"
          ],
          [
           "Engineering"
          ],
          [
           "Law & Public Policy"
          ],
          [
           "Computers & Mathematics"
          ],
          [
           "Engineering"
          ],
          [
           "Engineering"
          ],
          [
           "Business"
          ],
          [
           "Engineering"
          ],
          [
           "Industrial Arts & Consumer Services"
          ],
          [
           "Business"
          ],
          [
           "Engineering"
          ],
          [
           "Law & Public Policy"
          ],
          [
           "Engineering"
          ],
          [
           "Engineering"
          ],
          [
           "Arts"
          ],
          [
           "Engineering"
          ],
          [
           "Health"
          ],
          [
           "Business"
          ],
          [
           "Social Science"
          ],
          [
           "Business"
          ],
          [
           "Engineering"
          ],
          [
           "Physical Sciences"
          ],
          [
           "Business"
          ],
          [
           "Computers & Mathematics"
          ],
          [
           "Computers & Mathematics"
          ],
          [
           "Physical Sciences"
          ],
          [
           "Health"
          ],
          [
           "Computers & Mathematics"
          ],
          [
           "Computers & Mathematics"
          ],
          [
           "Computers & Mathematics"
          ],
          [
           "Biology & Life Science"
          ],
          [
           "Physical Sciences"
          ],
          [
           "Engineering"
          ],
          [
           "Health"
          ],
          [
           "Computers & Mathematics"
          ],
          [
           "Computers & Mathematics"
          ],
          [
           "Biology & Life Science"
          ],
          [
           "Education"
          ],
          [
           "Social Science"
          ],
          [
           "Business"
          ],
          [
           "Engineering"
          ],
          [
           "Business"
          ],
          [
           "Health"
          ],
          [
           "Biology & Life Science"
          ],
          [
           "Business"
          ],
          [
           "Agriculture & Natural Resources"
          ],
          [
           "Agriculture & Natural Resources"
          ],
          [
           "Engineering"
          ],
          [
           "Engineering"
          ],
          [
           "Biology & Life Science"
          ],
          [
           "Social Science"
          ],
          [
           "Humanities & Liberal Arts"
          ],
          [
           "Psychology & Social Work"
          ],
          [
           "Agriculture & Natural Resources"
          ],
          [
           "Physical Sciences"
          ],
          [
           "Industrial Arts & Consumer Services"
          ],
          [
           "Physical Sciences"
          ],
          [
           "Industrial Arts & Consumer Services"
          ],
          [
           "Business"
          ],
          [
           "Business"
          ],
          [
           "Social Science"
          ],
          [
           "Social Science"
          ],
          [
           "Biology & Life Science"
          ],
          [
           "Computers & Mathematics"
          ],
          [
           "Biology & Life Science"
          ],
          [
           "Biology & Life Science"
          ],
          [
           "Computers & Mathematics"
          ],
          [
           "Physical Sciences"
          ],
          [
           "Business"
          ],
          [
           "Law & Public Policy"
          ],
          [
           "Health"
          ],
          [
           "Law & Public Policy"
          ],
          [
           "Physical Sciences"
          ],
          [
           "Psychology & Social Work"
          ],
          [
           "Biology & Life Science"
          ],
          [
           "Communications & Journalism"
          ],
          [
           "Law & Public Policy"
          ],
          [
           "Arts"
          ],
          [
           "Communications & Journalism"
          ],
          [
           "Physical Sciences"
          ],
          [
           "Communications & Journalism"
          ],
          [
           "Humanities & Liberal Arts"
          ],
          [
           "Education"
          ],
          [
           "Biology & Life Science"
          ],
          [
           "Social Science"
          ],
          [
           "Health"
          ],
          [
           "Health"
          ],
          [
           "Computers & Mathematics"
          ],
          [
           "Industrial Arts & Consumer Services"
          ],
          [
           "Agriculture & Natural Resources"
          ],
          [
           "Biology & Life Science"
          ],
          [
           "Interdisciplinary"
          ],
          [
           "Physical Sciences"
          ],
          [
           "Agriculture & Natural Resources"
          ],
          [
           "Agriculture & Natural Resources"
          ],
          [
           "Education"
          ],
          [
           "Humanities & Liberal Arts"
          ],
          [
           "Humanities & Liberal Arts"
          ],
          [
           "Humanities & Liberal Arts"
          ],
          [
           "Education"
          ],
          [
           "Health"
          ],
          [
           "Education"
          ],
          [
           "Education"
          ],
          [
           "Health"
          ],
          [
           "Biology & Life Science"
          ],
          [
           "Biology & Life Science"
          ],
          [
           "Social Science"
          ],
          [
           "Communications & Journalism"
          ],
          [
           "Health"
          ],
          [
           "Business"
          ],
          [
           "Education"
          ],
          [
           "Humanities & Liberal Arts"
          ],
          [
           "Education"
          ],
          [
           "Social Science"
          ],
          [
           "Biology & Life Science"
          ],
          [
           "Education"
          ],
          [
           "Health"
          ],
          [
           "Humanities & Liberal Arts"
          ],
          [
           "Education"
          ],
          [
           "Humanities & Liberal Arts"
          ],
          [
           "Education"
          ],
          [
           "Industrial Arts & Consumer Services"
          ],
          [
           "Humanities & Liberal Arts"
          ],
          [
           "Arts"
          ],
          [
           "Social Science"
          ],
          [
           "Agriculture & Natural Resources"
          ],
          [
           "Education"
          ],
          [
           "Psychology & Social Work"
          ],
          [
           "Arts"
          ],
          [
           "Education"
          ],
          [
           "Humanities & Liberal Arts"
          ],
          [
           "Arts"
          ],
          [
           "Industrial Arts & Consumer Services"
          ],
          [
           "Psychology & Social Work"
          ],
          [
           "Agriculture & Natural Resources"
          ],
          [
           "Arts"
          ],
          [
           "Education"
          ],
          [
           "Psychology & Social Work"
          ],
          [
           "Psychology & Social Work"
          ],
          [
           "Humanities & Liberal Arts"
          ],
          [
           "Humanities & Liberal Arts"
          ],
          [
           "Arts"
          ],
          [
           "Industrial Arts & Consumer Services"
          ],
          [
           "Agriculture & Natural Resources"
          ],
          [
           "Humanities & Liberal Arts"
          ],
          [
           "Health"
          ],
          [
           "Education"
          ],
          [
           "Humanities & Liberal Arts"
          ],
          [
           "Arts"
          ],
          [
           "Humanities & Liberal Arts"
          ],
          [
           "Biology & Life Science"
          ],
          [
           "Psychology & Social Work"
          ],
          [
           "Psychology & Social Work"
          ],
          [
           "Psychology & Social Work"
          ],
          [
           "Education"
          ]
         ],
         "domain": {
          "x": [
           0,
           1
          ],
          "y": [
           0,
           1
          ]
         },
         "hovertemplate": "Major_category=%{customdata[0]}<br>Total=%{value}<extra></extra>",
         "labels": [
          "Engineering",
          "Engineering",
          "Engineering",
          "Engineering",
          "Engineering",
          "Engineering",
          "Business",
          "Physical Sciences",
          "Engineering",
          "Engineering",
          "Engineering",
          "Engineering",
          "Engineering",
          "Engineering",
          "Engineering",
          "Engineering",
          "Engineering",
          "Engineering",
          "Engineering",
          "Law & Public Policy",
          "Computers & Mathematics",
          "Engineering",
          "Engineering",
          "Business",
          "Engineering",
          "Industrial Arts & Consumer Services",
          "Business",
          "Engineering",
          "Law & Public Policy",
          "Engineering",
          "Engineering",
          "Arts",
          "Engineering",
          "Health",
          "Business",
          "Social Science",
          "Business",
          "Engineering",
          "Physical Sciences",
          "Business",
          "Computers & Mathematics",
          "Computers & Mathematics",
          "Physical Sciences",
          "Health",
          "Computers & Mathematics",
          "Computers & Mathematics",
          "Computers & Mathematics",
          "Biology & Life Science",
          "Physical Sciences",
          "Engineering",
          "Health",
          "Computers & Mathematics",
          "Computers & Mathematics",
          "Biology & Life Science",
          "Education",
          "Social Science",
          "Business",
          "Engineering",
          "Business",
          "Health",
          "Biology & Life Science",
          "Business",
          "Agriculture & Natural Resources",
          "Agriculture & Natural Resources",
          "Engineering",
          "Engineering",
          "Biology & Life Science",
          "Social Science",
          "Humanities & Liberal Arts",
          "Psychology & Social Work",
          "Agriculture & Natural Resources",
          "Physical Sciences",
          "Industrial Arts & Consumer Services",
          "Physical Sciences",
          "Industrial Arts & Consumer Services",
          "Business",
          "Business",
          "Social Science",
          "Social Science",
          "Biology & Life Science",
          "Computers & Mathematics",
          "Biology & Life Science",
          "Biology & Life Science",
          "Computers & Mathematics",
          "Physical Sciences",
          "Business",
          "Law & Public Policy",
          "Health",
          "Law & Public Policy",
          "Physical Sciences",
          "Psychology & Social Work",
          "Biology & Life Science",
          "Communications & Journalism",
          "Law & Public Policy",
          "Arts",
          "Communications & Journalism",
          "Physical Sciences",
          "Communications & Journalism",
          "Humanities & Liberal Arts",
          "Education",
          "Biology & Life Science",
          "Social Science",
          "Health",
          "Health",
          "Computers & Mathematics",
          "Industrial Arts & Consumer Services",
          "Agriculture & Natural Resources",
          "Biology & Life Science",
          "Interdisciplinary",
          "Physical Sciences",
          "Agriculture & Natural Resources",
          "Agriculture & Natural Resources",
          "Education",
          "Humanities & Liberal Arts",
          "Humanities & Liberal Arts",
          "Humanities & Liberal Arts",
          "Education",
          "Health",
          "Education",
          "Education",
          "Health",
          "Biology & Life Science",
          "Biology & Life Science",
          "Social Science",
          "Communications & Journalism",
          "Health",
          "Business",
          "Education",
          "Humanities & Liberal Arts",
          "Education",
          "Social Science",
          "Biology & Life Science",
          "Education",
          "Health",
          "Humanities & Liberal Arts",
          "Education",
          "Humanities & Liberal Arts",
          "Education",
          "Industrial Arts & Consumer Services",
          "Humanities & Liberal Arts",
          "Arts",
          "Social Science",
          "Agriculture & Natural Resources",
          "Education",
          "Psychology & Social Work",
          "Arts",
          "Education",
          "Humanities & Liberal Arts",
          "Arts",
          "Industrial Arts & Consumer Services",
          "Psychology & Social Work",
          "Agriculture & Natural Resources",
          "Arts",
          "Education",
          "Psychology & Social Work",
          "Psychology & Social Work",
          "Humanities & Liberal Arts",
          "Humanities & Liberal Arts",
          "Arts",
          "Industrial Arts & Consumer Services",
          "Agriculture & Natural Resources",
          "Humanities & Liberal Arts",
          "Health",
          "Education",
          "Humanities & Liberal Arts",
          "Arts",
          "Humanities & Liberal Arts",
          "Biology & Life Science",
          "Psychology & Social Work",
          "Psychology & Social Work",
          "Psychology & Social Work",
          "Education"
         ],
         "legendgroup": "",
         "marker": {
          "colors": [
           "#636efa",
           "#636efa",
           "#636efa",
           "#636efa",
           "#636efa",
           "#636efa",
           "#EF553B",
           "#00cc96",
           "#636efa",
           "#636efa",
           "#636efa",
           "#636efa",
           "#636efa",
           "#636efa",
           "#636efa",
           "#636efa",
           "#636efa",
           "#636efa",
           "#636efa",
           "#ab63fa",
           "#FFA15A",
           "#636efa",
           "#636efa",
           "#EF553B",
           "#636efa",
           "#19d3f3",
           "#EF553B",
           "#636efa",
           "#ab63fa",
           "#636efa",
           "#636efa",
           "#FF6692",
           "#636efa",
           "#B6E880",
           "#EF553B",
           "#FF97FF",
           "#EF553B",
           "#636efa",
           "#00cc96",
           "#EF553B",
           "#FFA15A",
           "#FFA15A",
           "#00cc96",
           "#B6E880",
           "#FFA15A",
           "#FFA15A",
           "#FFA15A",
           "#FECB52",
           "#00cc96",
           "#636efa",
           "#B6E880",
           "#FFA15A",
           "#FFA15A",
           "#FECB52",
           "#636efa",
           "#FF97FF",
           "#EF553B",
           "#636efa",
           "#EF553B",
           "#B6E880",
           "#FECB52",
           "#EF553B",
           "#EF553B",
           "#EF553B",
           "#636efa",
           "#636efa",
           "#FECB52",
           "#FF97FF",
           "#00cc96",
           "#ab63fa",
           "#EF553B",
           "#00cc96",
           "#19d3f3",
           "#00cc96",
           "#19d3f3",
           "#EF553B",
           "#EF553B",
           "#FF97FF",
           "#FF97FF",
           "#FECB52",
           "#FFA15A",
           "#FECB52",
           "#FECB52",
           "#FFA15A",
           "#00cc96",
           "#EF553B",
           "#ab63fa",
           "#B6E880",
           "#ab63fa",
           "#00cc96",
           "#ab63fa",
           "#FECB52",
           "#FFA15A",
           "#ab63fa",
           "#FF6692",
           "#FFA15A",
           "#00cc96",
           "#FFA15A",
           "#00cc96",
           "#636efa",
           "#FECB52",
           "#FF97FF",
           "#B6E880",
           "#B6E880",
           "#FFA15A",
           "#19d3f3",
           "#EF553B",
           "#FECB52",
           "#19d3f3",
           "#00cc96",
           "#EF553B",
           "#EF553B",
           "#636efa",
           "#00cc96",
           "#00cc96",
           "#00cc96",
           "#636efa",
           "#B6E880",
           "#636efa",
           "#636efa",
           "#B6E880",
           "#FECB52",
           "#FECB52",
           "#FF97FF",
           "#FFA15A",
           "#B6E880",
           "#EF553B",
           "#636efa",
           "#00cc96",
           "#636efa",
           "#FF97FF",
           "#FECB52",
           "#636efa",
           "#B6E880",
           "#00cc96",
           "#636efa",
           "#00cc96",
           "#636efa",
           "#19d3f3",
           "#00cc96",
           "#FF6692",
           "#FF97FF",
           "#EF553B",
           "#636efa",
           "#ab63fa",
           "#FF6692",
           "#636efa",
           "#00cc96",
           "#FF6692",
           "#19d3f3",
           "#ab63fa",
           "#EF553B",
           "#FF6692",
           "#636efa",
           "#ab63fa",
           "#ab63fa",
           "#00cc96",
           "#00cc96",
           "#FF6692",
           "#19d3f3",
           "#EF553B",
           "#00cc96",
           "#B6E880",
           "#636efa",
           "#00cc96",
           "#FF6692",
           "#00cc96",
           "#FECB52",
           "#ab63fa",
           "#ab63fa",
           "#ab63fa",
           "#636efa"
          ]
         },
         "name": "",
         "showlegend": true,
         "type": "pie",
         "values": [
          2339,
          756,
          856,
          1258,
          32260,
          2573,
          3777,
          1792,
          91227,
          81527,
          41542,
          15058,
          14955,
          4279,
          4321,
          8925,
          18968,
          61152,
          2825,
          1148,
          128319,
          11565,
          2993,
          18713,
          53153,
          18498,
          11732,
          9133,
          5978,
          4047,
          3600,
          3340,
          720,
          209394,
          174506,
          139247,
          13302,
          4631,
          2116,
          198633,
          72397,
          36698,
          32142,
          15914,
          11913,
          6251,
          4939,
          1762,
          2418,
          2906,
          11123,
          609,
          4168,
          3831,
          818,
          28187,
          234590,
          46420,
          25894,
          23551,
          18300,
          17947,
          14240,
          10399,
          8804,
          4790,
          3635,
          3283,
          3079,
          3014,
          2439,
          1436,
          124,
          66530,
          2435,
          329927,
          205211,
          182621,
          18480,
          15232,
          8066,
          39107,
          1329,
          7613,
          10972,
          24497,
          13528,
          13386,
          5629,
          1978,
          1386,
          25965,
          213996,
          152824,
          103480,
          72619,
          62052,
          53162,
          31195,
          28739,
          22060,
          19879,
          18909,
          18109,
          18035,
          15150,
          13773,
          13663,
          12296,
          4043,
          3607,
          685,
          143718,
          141951,
          48246,
          24650,
          20198,
          19735,
          14237,
          804,
          12740,
          10706,
          280709,
          115433,
          52824,
          48491,
          43647,
          30471,
          16601,
          10150,
          9916,
          9154,
          17125,
          33599,
          54814,
          34181,
          194673,
          170862,
          125074,
          71369,
          38761,
          12920,
          7416,
          6483,
          393735,
          60633,
          28213,
          21030,
          74440,
          58001,
          53552,
          21573,
          16250,
          14443,
          9628,
          9374,
          6652,
          30207,
          16977,
          10510,
          1488,
          38844,
          38279,
          37589,
          11204,
          43249,
          18953,
          8409,
          2854,
          2838,
          4626,
          1098
         ]
        }
       ],
       "layout": {
        "legend": {
         "tracegroupgap": 0
        },
        "template": {
         "data": {
          "bar": [
           {
            "error_x": {
             "color": "#2a3f5f"
            },
            "error_y": {
             "color": "#2a3f5f"
            },
            "marker": {
             "line": {
              "color": "#E5ECF6",
              "width": 0.5
             },
             "pattern": {
              "fillmode": "overlay",
              "size": 10,
              "solidity": 0.2
             }
            },
            "type": "bar"
           }
          ],
          "barpolar": [
           {
            "marker": {
             "line": {
              "color": "#E5ECF6",
              "width": 0.5
             },
             "pattern": {
              "fillmode": "overlay",
              "size": 10,
              "solidity": 0.2
             }
            },
            "type": "barpolar"
           }
          ],
          "carpet": [
           {
            "aaxis": {
             "endlinecolor": "#2a3f5f",
             "gridcolor": "white",
             "linecolor": "white",
             "minorgridcolor": "white",
             "startlinecolor": "#2a3f5f"
            },
            "baxis": {
             "endlinecolor": "#2a3f5f",
             "gridcolor": "white",
             "linecolor": "white",
             "minorgridcolor": "white",
             "startlinecolor": "#2a3f5f"
            },
            "type": "carpet"
           }
          ],
          "choropleth": [
           {
            "colorbar": {
             "outlinewidth": 0,
             "ticks": ""
            },
            "type": "choropleth"
           }
          ],
          "contour": [
           {
            "colorbar": {
             "outlinewidth": 0,
             "ticks": ""
            },
            "colorscale": [
             [
              0,
              "#0d0887"
             ],
             [
              0.1111111111111111,
              "#46039f"
             ],
             [
              0.2222222222222222,
              "#7201a8"
             ],
             [
              0.3333333333333333,
              "#9c179e"
             ],
             [
              0.4444444444444444,
              "#bd3786"
             ],
             [
              0.5555555555555556,
              "#d8576b"
             ],
             [
              0.6666666666666666,
              "#ed7953"
             ],
             [
              0.7777777777777778,
              "#fb9f3a"
             ],
             [
              0.8888888888888888,
              "#fdca26"
             ],
             [
              1,
              "#f0f921"
             ]
            ],
            "type": "contour"
           }
          ],
          "contourcarpet": [
           {
            "colorbar": {
             "outlinewidth": 0,
             "ticks": ""
            },
            "type": "contourcarpet"
           }
          ],
          "heatmap": [
           {
            "colorbar": {
             "outlinewidth": 0,
             "ticks": ""
            },
            "colorscale": [
             [
              0,
              "#0d0887"
             ],
             [
              0.1111111111111111,
              "#46039f"
             ],
             [
              0.2222222222222222,
              "#7201a8"
             ],
             [
              0.3333333333333333,
              "#9c179e"
             ],
             [
              0.4444444444444444,
              "#bd3786"
             ],
             [
              0.5555555555555556,
              "#d8576b"
             ],
             [
              0.6666666666666666,
              "#ed7953"
             ],
             [
              0.7777777777777778,
              "#fb9f3a"
             ],
             [
              0.8888888888888888,
              "#fdca26"
             ],
             [
              1,
              "#f0f921"
             ]
            ],
            "type": "heatmap"
           }
          ],
          "heatmapgl": [
           {
            "colorbar": {
             "outlinewidth": 0,
             "ticks": ""
            },
            "colorscale": [
             [
              0,
              "#0d0887"
             ],
             [
              0.1111111111111111,
              "#46039f"
             ],
             [
              0.2222222222222222,
              "#7201a8"
             ],
             [
              0.3333333333333333,
              "#9c179e"
             ],
             [
              0.4444444444444444,
              "#bd3786"
             ],
             [
              0.5555555555555556,
              "#d8576b"
             ],
             [
              0.6666666666666666,
              "#ed7953"
             ],
             [
              0.7777777777777778,
              "#fb9f3a"
             ],
             [
              0.8888888888888888,
              "#fdca26"
             ],
             [
              1,
              "#f0f921"
             ]
            ],
            "type": "heatmapgl"
           }
          ],
          "histogram": [
           {
            "marker": {
             "pattern": {
              "fillmode": "overlay",
              "size": 10,
              "solidity": 0.2
             }
            },
            "type": "histogram"
           }
          ],
          "histogram2d": [
           {
            "colorbar": {
             "outlinewidth": 0,
             "ticks": ""
            },
            "colorscale": [
             [
              0,
              "#0d0887"
             ],
             [
              0.1111111111111111,
              "#46039f"
             ],
             [
              0.2222222222222222,
              "#7201a8"
             ],
             [
              0.3333333333333333,
              "#9c179e"
             ],
             [
              0.4444444444444444,
              "#bd3786"
             ],
             [
              0.5555555555555556,
              "#d8576b"
             ],
             [
              0.6666666666666666,
              "#ed7953"
             ],
             [
              0.7777777777777778,
              "#fb9f3a"
             ],
             [
              0.8888888888888888,
              "#fdca26"
             ],
             [
              1,
              "#f0f921"
             ]
            ],
            "type": "histogram2d"
           }
          ],
          "histogram2dcontour": [
           {
            "colorbar": {
             "outlinewidth": 0,
             "ticks": ""
            },
            "colorscale": [
             [
              0,
              "#0d0887"
             ],
             [
              0.1111111111111111,
              "#46039f"
             ],
             [
              0.2222222222222222,
              "#7201a8"
             ],
             [
              0.3333333333333333,
              "#9c179e"
             ],
             [
              0.4444444444444444,
              "#bd3786"
             ],
             [
              0.5555555555555556,
              "#d8576b"
             ],
             [
              0.6666666666666666,
              "#ed7953"
             ],
             [
              0.7777777777777778,
              "#fb9f3a"
             ],
             [
              0.8888888888888888,
              "#fdca26"
             ],
             [
              1,
              "#f0f921"
             ]
            ],
            "type": "histogram2dcontour"
           }
          ],
          "mesh3d": [
           {
            "colorbar": {
             "outlinewidth": 0,
             "ticks": ""
            },
            "type": "mesh3d"
           }
          ],
          "parcoords": [
           {
            "line": {
             "colorbar": {
              "outlinewidth": 0,
              "ticks": ""
             }
            },
            "type": "parcoords"
           }
          ],
          "pie": [
           {
            "automargin": true,
            "type": "pie"
           }
          ],
          "scatter": [
           {
            "fillpattern": {
             "fillmode": "overlay",
             "size": 10,
             "solidity": 0.2
            },
            "type": "scatter"
           }
          ],
          "scatter3d": [
           {
            "line": {
             "colorbar": {
              "outlinewidth": 0,
              "ticks": ""
             }
            },
            "marker": {
             "colorbar": {
              "outlinewidth": 0,
              "ticks": ""
             }
            },
            "type": "scatter3d"
           }
          ],
          "scattercarpet": [
           {
            "marker": {
             "colorbar": {
              "outlinewidth": 0,
              "ticks": ""
             }
            },
            "type": "scattercarpet"
           }
          ],
          "scattergeo": [
           {
            "marker": {
             "colorbar": {
              "outlinewidth": 0,
              "ticks": ""
             }
            },
            "type": "scattergeo"
           }
          ],
          "scattergl": [
           {
            "marker": {
             "colorbar": {
              "outlinewidth": 0,
              "ticks": ""
             }
            },
            "type": "scattergl"
           }
          ],
          "scattermapbox": [
           {
            "marker": {
             "colorbar": {
              "outlinewidth": 0,
              "ticks": ""
             }
            },
            "type": "scattermapbox"
           }
          ],
          "scatterpolar": [
           {
            "marker": {
             "colorbar": {
              "outlinewidth": 0,
              "ticks": ""
             }
            },
            "type": "scatterpolar"
           }
          ],
          "scatterpolargl": [
           {
            "marker": {
             "colorbar": {
              "outlinewidth": 0,
              "ticks": ""
             }
            },
            "type": "scatterpolargl"
           }
          ],
          "scatterternary": [
           {
            "marker": {
             "colorbar": {
              "outlinewidth": 0,
              "ticks": ""
             }
            },
            "type": "scatterternary"
           }
          ],
          "surface": [
           {
            "colorbar": {
             "outlinewidth": 0,
             "ticks": ""
            },
            "colorscale": [
             [
              0,
              "#0d0887"
             ],
             [
              0.1111111111111111,
              "#46039f"
             ],
             [
              0.2222222222222222,
              "#7201a8"
             ],
             [
              0.3333333333333333,
              "#9c179e"
             ],
             [
              0.4444444444444444,
              "#bd3786"
             ],
             [
              0.5555555555555556,
              "#d8576b"
             ],
             [
              0.6666666666666666,
              "#ed7953"
             ],
             [
              0.7777777777777778,
              "#fb9f3a"
             ],
             [
              0.8888888888888888,
              "#fdca26"
             ],
             [
              1,
              "#f0f921"
             ]
            ],
            "type": "surface"
           }
          ],
          "table": [
           {
            "cells": {
             "fill": {
              "color": "#EBF0F8"
             },
             "line": {
              "color": "white"
             }
            },
            "header": {
             "fill": {
              "color": "#C8D4E3"
             },
             "line": {
              "color": "white"
             }
            },
            "type": "table"
           }
          ]
         },
         "layout": {
          "annotationdefaults": {
           "arrowcolor": "#2a3f5f",
           "arrowhead": 0,
           "arrowwidth": 1
          },
          "autotypenumbers": "strict",
          "coloraxis": {
           "colorbar": {
            "outlinewidth": 0,
            "ticks": ""
           }
          },
          "colorscale": {
           "diverging": [
            [
             0,
             "#8e0152"
            ],
            [
             0.1,
             "#c51b7d"
            ],
            [
             0.2,
             "#de77ae"
            ],
            [
             0.3,
             "#f1b6da"
            ],
            [
             0.4,
             "#fde0ef"
            ],
            [
             0.5,
             "#f7f7f7"
            ],
            [
             0.6,
             "#e6f5d0"
            ],
            [
             0.7,
             "#b8e186"
            ],
            [
             0.8,
             "#7fbc41"
            ],
            [
             0.9,
             "#4d9221"
            ],
            [
             1,
             "#276419"
            ]
           ],
           "sequential": [
            [
             0,
             "#0d0887"
            ],
            [
             0.1111111111111111,
             "#46039f"
            ],
            [
             0.2222222222222222,
             "#7201a8"
            ],
            [
             0.3333333333333333,
             "#9c179e"
            ],
            [
             0.4444444444444444,
             "#bd3786"
            ],
            [
             0.5555555555555556,
             "#d8576b"
            ],
            [
             0.6666666666666666,
             "#ed7953"
            ],
            [
             0.7777777777777778,
             "#fb9f3a"
            ],
            [
             0.8888888888888888,
             "#fdca26"
            ],
            [
             1,
             "#f0f921"
            ]
           ],
           "sequentialminus": [
            [
             0,
             "#0d0887"
            ],
            [
             0.1111111111111111,
             "#46039f"
            ],
            [
             0.2222222222222222,
             "#7201a8"
            ],
            [
             0.3333333333333333,
             "#9c179e"
            ],
            [
             0.4444444444444444,
             "#bd3786"
            ],
            [
             0.5555555555555556,
             "#d8576b"
            ],
            [
             0.6666666666666666,
             "#ed7953"
            ],
            [
             0.7777777777777778,
             "#fb9f3a"
            ],
            [
             0.8888888888888888,
             "#fdca26"
            ],
            [
             1,
             "#f0f921"
            ]
           ]
          },
          "colorway": [
           "#636efa",
           "#EF553B",
           "#00cc96",
           "#ab63fa",
           "#FFA15A",
           "#19d3f3",
           "#FF6692",
           "#B6E880",
           "#FF97FF",
           "#FECB52"
          ],
          "font": {
           "color": "#2a3f5f"
          },
          "geo": {
           "bgcolor": "white",
           "lakecolor": "white",
           "landcolor": "#E5ECF6",
           "showlakes": true,
           "showland": true,
           "subunitcolor": "white"
          },
          "hoverlabel": {
           "align": "left"
          },
          "hovermode": "closest",
          "mapbox": {
           "style": "light"
          },
          "paper_bgcolor": "white",
          "plot_bgcolor": "#E5ECF6",
          "polar": {
           "angularaxis": {
            "gridcolor": "white",
            "linecolor": "white",
            "ticks": ""
           },
           "bgcolor": "#E5ECF6",
           "radialaxis": {
            "gridcolor": "white",
            "linecolor": "white",
            "ticks": ""
           }
          },
          "scene": {
           "xaxis": {
            "backgroundcolor": "#E5ECF6",
            "gridcolor": "white",
            "gridwidth": 2,
            "linecolor": "white",
            "showbackground": true,
            "ticks": "",
            "zerolinecolor": "white"
           },
           "yaxis": {
            "backgroundcolor": "#E5ECF6",
            "gridcolor": "white",
            "gridwidth": 2,
            "linecolor": "white",
            "showbackground": true,
            "ticks": "",
            "zerolinecolor": "white"
           },
           "zaxis": {
            "backgroundcolor": "#E5ECF6",
            "gridcolor": "white",
            "gridwidth": 2,
            "linecolor": "white",
            "showbackground": true,
            "ticks": "",
            "zerolinecolor": "white"
           }
          },
          "shapedefaults": {
           "line": {
            "color": "#2a3f5f"
           }
          },
          "ternary": {
           "aaxis": {
            "gridcolor": "white",
            "linecolor": "white",
            "ticks": ""
           },
           "baxis": {
            "gridcolor": "white",
            "linecolor": "white",
            "ticks": ""
           },
           "bgcolor": "#E5ECF6",
           "caxis": {
            "gridcolor": "white",
            "linecolor": "white",
            "ticks": ""
           }
          },
          "title": {
           "x": 0.05
          },
          "xaxis": {
           "automargin": true,
           "gridcolor": "white",
           "linecolor": "white",
           "ticks": "",
           "title": {
            "standoff": 15
           },
           "zerolinecolor": "white",
           "zerolinewidth": 2
          },
          "yaxis": {
           "automargin": true,
           "gridcolor": "white",
           "linecolor": "white",
           "ticks": "",
           "title": {
            "standoff": 15
           },
           "zerolinecolor": "white",
           "zerolinewidth": 2
          }
         }
        },
        "title": {
         "text": "Which program is most often chosen by students?"
        }
       }
      },
      "text/html": [
       "<div>                            <div id=\"1767847b-55e8-4551-9677-15dc6f515b8f\" class=\"plotly-graph-div\" style=\"height:525px; width:100%;\"></div>            <script type=\"text/javascript\">                require([\"plotly\"], function(Plotly) {                    window.PLOTLYENV=window.PLOTLYENV || {};                                    if (document.getElementById(\"1767847b-55e8-4551-9677-15dc6f515b8f\")) {                    Plotly.newPlot(                        \"1767847b-55e8-4551-9677-15dc6f515b8f\",                        [{\"customdata\":[[\"Engineering\"],[\"Engineering\"],[\"Engineering\"],[\"Engineering\"],[\"Engineering\"],[\"Engineering\"],[\"Business\"],[\"Physical Sciences\"],[\"Engineering\"],[\"Engineering\"],[\"Engineering\"],[\"Engineering\"],[\"Engineering\"],[\"Engineering\"],[\"Engineering\"],[\"Engineering\"],[\"Engineering\"],[\"Engineering\"],[\"Engineering\"],[\"Law & Public Policy\"],[\"Computers & Mathematics\"],[\"Engineering\"],[\"Engineering\"],[\"Business\"],[\"Engineering\"],[\"Industrial Arts & Consumer Services\"],[\"Business\"],[\"Engineering\"],[\"Law & Public Policy\"],[\"Engineering\"],[\"Engineering\"],[\"Arts\"],[\"Engineering\"],[\"Health\"],[\"Business\"],[\"Social Science\"],[\"Business\"],[\"Engineering\"],[\"Physical Sciences\"],[\"Business\"],[\"Computers & Mathematics\"],[\"Computers & Mathematics\"],[\"Physical Sciences\"],[\"Health\"],[\"Computers & Mathematics\"],[\"Computers & Mathematics\"],[\"Computers & Mathematics\"],[\"Biology & Life Science\"],[\"Physical Sciences\"],[\"Engineering\"],[\"Health\"],[\"Computers & Mathematics\"],[\"Computers & Mathematics\"],[\"Biology & Life Science\"],[\"Education\"],[\"Social Science\"],[\"Business\"],[\"Engineering\"],[\"Business\"],[\"Health\"],[\"Biology & Life Science\"],[\"Business\"],[\"Agriculture & Natural Resources\"],[\"Agriculture & Natural Resources\"],[\"Engineering\"],[\"Engineering\"],[\"Biology & Life Science\"],[\"Social Science\"],[\"Humanities & Liberal Arts\"],[\"Psychology & Social Work\"],[\"Agriculture & Natural Resources\"],[\"Physical Sciences\"],[\"Industrial Arts & Consumer Services\"],[\"Physical Sciences\"],[\"Industrial Arts & Consumer Services\"],[\"Business\"],[\"Business\"],[\"Social Science\"],[\"Social Science\"],[\"Biology & Life Science\"],[\"Computers & Mathematics\"],[\"Biology & Life Science\"],[\"Biology & Life Science\"],[\"Computers & Mathematics\"],[\"Physical Sciences\"],[\"Business\"],[\"Law & Public Policy\"],[\"Health\"],[\"Law & Public Policy\"],[\"Physical Sciences\"],[\"Psychology & Social Work\"],[\"Biology & Life Science\"],[\"Communications & Journalism\"],[\"Law & Public Policy\"],[\"Arts\"],[\"Communications & Journalism\"],[\"Physical Sciences\"],[\"Communications & Journalism\"],[\"Humanities & Liberal Arts\"],[\"Education\"],[\"Biology & Life Science\"],[\"Social Science\"],[\"Health\"],[\"Health\"],[\"Computers & Mathematics\"],[\"Industrial Arts & Consumer Services\"],[\"Agriculture & Natural Resources\"],[\"Biology & Life Science\"],[\"Interdisciplinary\"],[\"Physical Sciences\"],[\"Agriculture & Natural Resources\"],[\"Agriculture & Natural Resources\"],[\"Education\"],[\"Humanities & Liberal Arts\"],[\"Humanities & Liberal Arts\"],[\"Humanities & Liberal Arts\"],[\"Education\"],[\"Health\"],[\"Education\"],[\"Education\"],[\"Health\"],[\"Biology & Life Science\"],[\"Biology & Life Science\"],[\"Social Science\"],[\"Communications & Journalism\"],[\"Health\"],[\"Business\"],[\"Education\"],[\"Humanities & Liberal Arts\"],[\"Education\"],[\"Social Science\"],[\"Biology & Life Science\"],[\"Education\"],[\"Health\"],[\"Humanities & Liberal Arts\"],[\"Education\"],[\"Humanities & Liberal Arts\"],[\"Education\"],[\"Industrial Arts & Consumer Services\"],[\"Humanities & Liberal Arts\"],[\"Arts\"],[\"Social Science\"],[\"Agriculture & Natural Resources\"],[\"Education\"],[\"Psychology & Social Work\"],[\"Arts\"],[\"Education\"],[\"Humanities & Liberal Arts\"],[\"Arts\"],[\"Industrial Arts & Consumer Services\"],[\"Psychology & Social Work\"],[\"Agriculture & Natural Resources\"],[\"Arts\"],[\"Education\"],[\"Psychology & Social Work\"],[\"Psychology & Social Work\"],[\"Humanities & Liberal Arts\"],[\"Humanities & Liberal Arts\"],[\"Arts\"],[\"Industrial Arts & Consumer Services\"],[\"Agriculture & Natural Resources\"],[\"Humanities & Liberal Arts\"],[\"Health\"],[\"Education\"],[\"Humanities & Liberal Arts\"],[\"Arts\"],[\"Humanities & Liberal Arts\"],[\"Biology & Life Science\"],[\"Psychology & Social Work\"],[\"Psychology & Social Work\"],[\"Psychology & Social Work\"],[\"Education\"]],\"domain\":{\"x\":[0.0,1.0],\"y\":[0.0,1.0]},\"hovertemplate\":\"Major_category=%{customdata[0]}<br>Total=%{value}<extra></extra>\",\"labels\":[\"Engineering\",\"Engineering\",\"Engineering\",\"Engineering\",\"Engineering\",\"Engineering\",\"Business\",\"Physical Sciences\",\"Engineering\",\"Engineering\",\"Engineering\",\"Engineering\",\"Engineering\",\"Engineering\",\"Engineering\",\"Engineering\",\"Engineering\",\"Engineering\",\"Engineering\",\"Law & Public Policy\",\"Computers & Mathematics\",\"Engineering\",\"Engineering\",\"Business\",\"Engineering\",\"Industrial Arts & Consumer Services\",\"Business\",\"Engineering\",\"Law & Public Policy\",\"Engineering\",\"Engineering\",\"Arts\",\"Engineering\",\"Health\",\"Business\",\"Social Science\",\"Business\",\"Engineering\",\"Physical Sciences\",\"Business\",\"Computers & Mathematics\",\"Computers & Mathematics\",\"Physical Sciences\",\"Health\",\"Computers & Mathematics\",\"Computers & Mathematics\",\"Computers & Mathematics\",\"Biology & Life Science\",\"Physical Sciences\",\"Engineering\",\"Health\",\"Computers & Mathematics\",\"Computers & Mathematics\",\"Biology & Life Science\",\"Education\",\"Social Science\",\"Business\",\"Engineering\",\"Business\",\"Health\",\"Biology & Life Science\",\"Business\",\"Agriculture & Natural Resources\",\"Agriculture & Natural Resources\",\"Engineering\",\"Engineering\",\"Biology & Life Science\",\"Social Science\",\"Humanities & Liberal Arts\",\"Psychology & Social Work\",\"Agriculture & Natural Resources\",\"Physical Sciences\",\"Industrial Arts & Consumer Services\",\"Physical Sciences\",\"Industrial Arts & Consumer Services\",\"Business\",\"Business\",\"Social Science\",\"Social Science\",\"Biology & Life Science\",\"Computers & Mathematics\",\"Biology & Life Science\",\"Biology & Life Science\",\"Computers & Mathematics\",\"Physical Sciences\",\"Business\",\"Law & Public Policy\",\"Health\",\"Law & Public Policy\",\"Physical Sciences\",\"Psychology & Social Work\",\"Biology & Life Science\",\"Communications & Journalism\",\"Law & Public Policy\",\"Arts\",\"Communications & Journalism\",\"Physical Sciences\",\"Communications & Journalism\",\"Humanities & Liberal Arts\",\"Education\",\"Biology & Life Science\",\"Social Science\",\"Health\",\"Health\",\"Computers & Mathematics\",\"Industrial Arts & Consumer Services\",\"Agriculture & Natural Resources\",\"Biology & Life Science\",\"Interdisciplinary\",\"Physical Sciences\",\"Agriculture & Natural Resources\",\"Agriculture & Natural Resources\",\"Education\",\"Humanities & Liberal Arts\",\"Humanities & Liberal Arts\",\"Humanities & Liberal Arts\",\"Education\",\"Health\",\"Education\",\"Education\",\"Health\",\"Biology & Life Science\",\"Biology & Life Science\",\"Social Science\",\"Communications & Journalism\",\"Health\",\"Business\",\"Education\",\"Humanities & Liberal Arts\",\"Education\",\"Social Science\",\"Biology & Life Science\",\"Education\",\"Health\",\"Humanities & Liberal Arts\",\"Education\",\"Humanities & Liberal Arts\",\"Education\",\"Industrial Arts & Consumer Services\",\"Humanities & Liberal Arts\",\"Arts\",\"Social Science\",\"Agriculture & Natural Resources\",\"Education\",\"Psychology & Social Work\",\"Arts\",\"Education\",\"Humanities & Liberal Arts\",\"Arts\",\"Industrial Arts & Consumer Services\",\"Psychology & Social Work\",\"Agriculture & Natural Resources\",\"Arts\",\"Education\",\"Psychology & Social Work\",\"Psychology & Social Work\",\"Humanities & Liberal Arts\",\"Humanities & Liberal Arts\",\"Arts\",\"Industrial Arts & Consumer Services\",\"Agriculture & Natural Resources\",\"Humanities & Liberal Arts\",\"Health\",\"Education\",\"Humanities & Liberal Arts\",\"Arts\",\"Humanities & Liberal Arts\",\"Biology & Life Science\",\"Psychology & Social Work\",\"Psychology & Social Work\",\"Psychology & Social Work\",\"Education\"],\"legendgroup\":\"\",\"marker\":{\"colors\":[\"#636efa\",\"#636efa\",\"#636efa\",\"#636efa\",\"#636efa\",\"#636efa\",\"#EF553B\",\"#00cc96\",\"#636efa\",\"#636efa\",\"#636efa\",\"#636efa\",\"#636efa\",\"#636efa\",\"#636efa\",\"#636efa\",\"#636efa\",\"#636efa\",\"#636efa\",\"#ab63fa\",\"#FFA15A\",\"#636efa\",\"#636efa\",\"#EF553B\",\"#636efa\",\"#19d3f3\",\"#EF553B\",\"#636efa\",\"#ab63fa\",\"#636efa\",\"#636efa\",\"#FF6692\",\"#636efa\",\"#B6E880\",\"#EF553B\",\"#FF97FF\",\"#EF553B\",\"#636efa\",\"#00cc96\",\"#EF553B\",\"#FFA15A\",\"#FFA15A\",\"#00cc96\",\"#B6E880\",\"#FFA15A\",\"#FFA15A\",\"#FFA15A\",\"#FECB52\",\"#00cc96\",\"#636efa\",\"#B6E880\",\"#FFA15A\",\"#FFA15A\",\"#FECB52\",\"#636efa\",\"#FF97FF\",\"#EF553B\",\"#636efa\",\"#EF553B\",\"#B6E880\",\"#FECB52\",\"#EF553B\",\"#EF553B\",\"#EF553B\",\"#636efa\",\"#636efa\",\"#FECB52\",\"#FF97FF\",\"#00cc96\",\"#ab63fa\",\"#EF553B\",\"#00cc96\",\"#19d3f3\",\"#00cc96\",\"#19d3f3\",\"#EF553B\",\"#EF553B\",\"#FF97FF\",\"#FF97FF\",\"#FECB52\",\"#FFA15A\",\"#FECB52\",\"#FECB52\",\"#FFA15A\",\"#00cc96\",\"#EF553B\",\"#ab63fa\",\"#B6E880\",\"#ab63fa\",\"#00cc96\",\"#ab63fa\",\"#FECB52\",\"#FFA15A\",\"#ab63fa\",\"#FF6692\",\"#FFA15A\",\"#00cc96\",\"#FFA15A\",\"#00cc96\",\"#636efa\",\"#FECB52\",\"#FF97FF\",\"#B6E880\",\"#B6E880\",\"#FFA15A\",\"#19d3f3\",\"#EF553B\",\"#FECB52\",\"#19d3f3\",\"#00cc96\",\"#EF553B\",\"#EF553B\",\"#636efa\",\"#00cc96\",\"#00cc96\",\"#00cc96\",\"#636efa\",\"#B6E880\",\"#636efa\",\"#636efa\",\"#B6E880\",\"#FECB52\",\"#FECB52\",\"#FF97FF\",\"#FFA15A\",\"#B6E880\",\"#EF553B\",\"#636efa\",\"#00cc96\",\"#636efa\",\"#FF97FF\",\"#FECB52\",\"#636efa\",\"#B6E880\",\"#00cc96\",\"#636efa\",\"#00cc96\",\"#636efa\",\"#19d3f3\",\"#00cc96\",\"#FF6692\",\"#FF97FF\",\"#EF553B\",\"#636efa\",\"#ab63fa\",\"#FF6692\",\"#636efa\",\"#00cc96\",\"#FF6692\",\"#19d3f3\",\"#ab63fa\",\"#EF553B\",\"#FF6692\",\"#636efa\",\"#ab63fa\",\"#ab63fa\",\"#00cc96\",\"#00cc96\",\"#FF6692\",\"#19d3f3\",\"#EF553B\",\"#00cc96\",\"#B6E880\",\"#636efa\",\"#00cc96\",\"#FF6692\",\"#00cc96\",\"#FECB52\",\"#ab63fa\",\"#ab63fa\",\"#ab63fa\",\"#636efa\"]},\"name\":\"\",\"showlegend\":true,\"values\":[2339.0,756.0,856.0,1258.0,32260.0,2573.0,3777.0,1792.0,91227.0,81527.0,41542.0,15058.0,14955.0,4279.0,4321.0,8925.0,18968.0,61152.0,2825.0,1148.0,128319.0,11565.0,2993.0,18713.0,53153.0,18498.0,11732.0,9133.0,5978.0,4047.0,3600.0,3340.0,720.0,209394.0,174506.0,139247.0,13302.0,4631.0,2116.0,198633.0,72397.0,36698.0,32142.0,15914.0,11913.0,6251.0,4939.0,1762.0,2418.0,2906.0,11123.0,609.0,4168.0,3831.0,818.0,28187.0,234590.0,46420.0,25894.0,23551.0,18300.0,17947.0,14240.0,10399.0,8804.0,4790.0,3635.0,3283.0,3079.0,3014.0,2439.0,1436.0,124.0,66530.0,2435.0,329927.0,205211.0,182621.0,18480.0,15232.0,8066.0,39107.0,1329.0,7613.0,10972.0,24497.0,13528.0,13386.0,5629.0,1978.0,1386.0,25965.0,213996.0,152824.0,103480.0,72619.0,62052.0,53162.0,31195.0,28739.0,22060.0,19879.0,18909.0,18109.0,18035.0,15150.0,13773.0,13663.0,12296.0,4043.0,3607.0,685.0,143718.0,141951.0,48246.0,24650.0,20198.0,19735.0,14237.0,804.0,12740.0,10706.0,280709.0,115433.0,52824.0,48491.0,43647.0,30471.0,16601.0,10150.0,9916.0,9154.0,17125.0,33599.0,54814.0,34181.0,194673.0,170862.0,125074.0,71369.0,38761.0,12920.0,7416.0,6483.0,393735.0,60633.0,28213.0,21030.0,74440.0,58001.0,53552.0,21573.0,16250.0,14443.0,9628.0,9374.0,6652.0,30207.0,16977.0,10510.0,1488.0,38844.0,38279.0,37589.0,11204.0,43249.0,18953.0,8409.0,2854.0,2838.0,4626.0,1098.0],\"type\":\"pie\"}],                        {\"template\":{\"data\":{\"histogram2dcontour\":[{\"type\":\"histogram2dcontour\",\"colorbar\":{\"outlinewidth\":0,\"ticks\":\"\"},\"colorscale\":[[0.0,\"#0d0887\"],[0.1111111111111111,\"#46039f\"],[0.2222222222222222,\"#7201a8\"],[0.3333333333333333,\"#9c179e\"],[0.4444444444444444,\"#bd3786\"],[0.5555555555555556,\"#d8576b\"],[0.6666666666666666,\"#ed7953\"],[0.7777777777777778,\"#fb9f3a\"],[0.8888888888888888,\"#fdca26\"],[1.0,\"#f0f921\"]]}],\"choropleth\":[{\"type\":\"choropleth\",\"colorbar\":{\"outlinewidth\":0,\"ticks\":\"\"}}],\"histogram2d\":[{\"type\":\"histogram2d\",\"colorbar\":{\"outlinewidth\":0,\"ticks\":\"\"},\"colorscale\":[[0.0,\"#0d0887\"],[0.1111111111111111,\"#46039f\"],[0.2222222222222222,\"#7201a8\"],[0.3333333333333333,\"#9c179e\"],[0.4444444444444444,\"#bd3786\"],[0.5555555555555556,\"#d8576b\"],[0.6666666666666666,\"#ed7953\"],[0.7777777777777778,\"#fb9f3a\"],[0.8888888888888888,\"#fdca26\"],[1.0,\"#f0f921\"]]}],\"heatmap\":[{\"type\":\"heatmap\",\"colorbar\":{\"outlinewidth\":0,\"ticks\":\"\"},\"colorscale\":[[0.0,\"#0d0887\"],[0.1111111111111111,\"#46039f\"],[0.2222222222222222,\"#7201a8\"],[0.3333333333333333,\"#9c179e\"],[0.4444444444444444,\"#bd3786\"],[0.5555555555555556,\"#d8576b\"],[0.6666666666666666,\"#ed7953\"],[0.7777777777777778,\"#fb9f3a\"],[0.8888888888888888,\"#fdca26\"],[1.0,\"#f0f921\"]]}],\"heatmapgl\":[{\"type\":\"heatmapgl\",\"colorbar\":{\"outlinewidth\":0,\"ticks\":\"\"},\"colorscale\":[[0.0,\"#0d0887\"],[0.1111111111111111,\"#46039f\"],[0.2222222222222222,\"#7201a8\"],[0.3333333333333333,\"#9c179e\"],[0.4444444444444444,\"#bd3786\"],[0.5555555555555556,\"#d8576b\"],[0.6666666666666666,\"#ed7953\"],[0.7777777777777778,\"#fb9f3a\"],[0.8888888888888888,\"#fdca26\"],[1.0,\"#f0f921\"]]}],\"contourcarpet\":[{\"type\":\"contourcarpet\",\"colorbar\":{\"outlinewidth\":0,\"ticks\":\"\"}}],\"contour\":[{\"type\":\"contour\",\"colorbar\":{\"outlinewidth\":0,\"ticks\":\"\"},\"colorscale\":[[0.0,\"#0d0887\"],[0.1111111111111111,\"#46039f\"],[0.2222222222222222,\"#7201a8\"],[0.3333333333333333,\"#9c179e\"],[0.4444444444444444,\"#bd3786\"],[0.5555555555555556,\"#d8576b\"],[0.6666666666666666,\"#ed7953\"],[0.7777777777777778,\"#fb9f3a\"],[0.8888888888888888,\"#fdca26\"],[1.0,\"#f0f921\"]]}],\"surface\":[{\"type\":\"surface\",\"colorbar\":{\"outlinewidth\":0,\"ticks\":\"\"},\"colorscale\":[[0.0,\"#0d0887\"],[0.1111111111111111,\"#46039f\"],[0.2222222222222222,\"#7201a8\"],[0.3333333333333333,\"#9c179e\"],[0.4444444444444444,\"#bd3786\"],[0.5555555555555556,\"#d8576b\"],[0.6666666666666666,\"#ed7953\"],[0.7777777777777778,\"#fb9f3a\"],[0.8888888888888888,\"#fdca26\"],[1.0,\"#f0f921\"]]}],\"mesh3d\":[{\"type\":\"mesh3d\",\"colorbar\":{\"outlinewidth\":0,\"ticks\":\"\"}}],\"scatter\":[{\"fillpattern\":{\"fillmode\":\"overlay\",\"size\":10,\"solidity\":0.2},\"type\":\"scatter\"}],\"parcoords\":[{\"type\":\"parcoords\",\"line\":{\"colorbar\":{\"outlinewidth\":0,\"ticks\":\"\"}}}],\"scatterpolargl\":[{\"type\":\"scatterpolargl\",\"marker\":{\"colorbar\":{\"outlinewidth\":0,\"ticks\":\"\"}}}],\"bar\":[{\"error_x\":{\"color\":\"#2a3f5f\"},\"error_y\":{\"color\":\"#2a3f5f\"},\"marker\":{\"line\":{\"color\":\"#E5ECF6\",\"width\":0.5},\"pattern\":{\"fillmode\":\"overlay\",\"size\":10,\"solidity\":0.2}},\"type\":\"bar\"}],\"scattergeo\":[{\"type\":\"scattergeo\",\"marker\":{\"colorbar\":{\"outlinewidth\":0,\"ticks\":\"\"}}}],\"scatterpolar\":[{\"type\":\"scatterpolar\",\"marker\":{\"colorbar\":{\"outlinewidth\":0,\"ticks\":\"\"}}}],\"histogram\":[{\"marker\":{\"pattern\":{\"fillmode\":\"overlay\",\"size\":10,\"solidity\":0.2}},\"type\":\"histogram\"}],\"scattergl\":[{\"type\":\"scattergl\",\"marker\":{\"colorbar\":{\"outlinewidth\":0,\"ticks\":\"\"}}}],\"scatter3d\":[{\"type\":\"scatter3d\",\"line\":{\"colorbar\":{\"outlinewidth\":0,\"ticks\":\"\"}},\"marker\":{\"colorbar\":{\"outlinewidth\":0,\"ticks\":\"\"}}}],\"scattermapbox\":[{\"type\":\"scattermapbox\",\"marker\":{\"colorbar\":{\"outlinewidth\":0,\"ticks\":\"\"}}}],\"scatterternary\":[{\"type\":\"scatterternary\",\"marker\":{\"colorbar\":{\"outlinewidth\":0,\"ticks\":\"\"}}}],\"scattercarpet\":[{\"type\":\"scattercarpet\",\"marker\":{\"colorbar\":{\"outlinewidth\":0,\"ticks\":\"\"}}}],\"carpet\":[{\"aaxis\":{\"endlinecolor\":\"#2a3f5f\",\"gridcolor\":\"white\",\"linecolor\":\"white\",\"minorgridcolor\":\"white\",\"startlinecolor\":\"#2a3f5f\"},\"baxis\":{\"endlinecolor\":\"#2a3f5f\",\"gridcolor\":\"white\",\"linecolor\":\"white\",\"minorgridcolor\":\"white\",\"startlinecolor\":\"#2a3f5f\"},\"type\":\"carpet\"}],\"table\":[{\"cells\":{\"fill\":{\"color\":\"#EBF0F8\"},\"line\":{\"color\":\"white\"}},\"header\":{\"fill\":{\"color\":\"#C8D4E3\"},\"line\":{\"color\":\"white\"}},\"type\":\"table\"}],\"barpolar\":[{\"marker\":{\"line\":{\"color\":\"#E5ECF6\",\"width\":0.5},\"pattern\":{\"fillmode\":\"overlay\",\"size\":10,\"solidity\":0.2}},\"type\":\"barpolar\"}],\"pie\":[{\"automargin\":true,\"type\":\"pie\"}]},\"layout\":{\"autotypenumbers\":\"strict\",\"colorway\":[\"#636efa\",\"#EF553B\",\"#00cc96\",\"#ab63fa\",\"#FFA15A\",\"#19d3f3\",\"#FF6692\",\"#B6E880\",\"#FF97FF\",\"#FECB52\"],\"font\":{\"color\":\"#2a3f5f\"},\"hovermode\":\"closest\",\"hoverlabel\":{\"align\":\"left\"},\"paper_bgcolor\":\"white\",\"plot_bgcolor\":\"#E5ECF6\",\"polar\":{\"bgcolor\":\"#E5ECF6\",\"angularaxis\":{\"gridcolor\":\"white\",\"linecolor\":\"white\",\"ticks\":\"\"},\"radialaxis\":{\"gridcolor\":\"white\",\"linecolor\":\"white\",\"ticks\":\"\"}},\"ternary\":{\"bgcolor\":\"#E5ECF6\",\"aaxis\":{\"gridcolor\":\"white\",\"linecolor\":\"white\",\"ticks\":\"\"},\"baxis\":{\"gridcolor\":\"white\",\"linecolor\":\"white\",\"ticks\":\"\"},\"caxis\":{\"gridcolor\":\"white\",\"linecolor\":\"white\",\"ticks\":\"\"}},\"coloraxis\":{\"colorbar\":{\"outlinewidth\":0,\"ticks\":\"\"}},\"colorscale\":{\"sequential\":[[0.0,\"#0d0887\"],[0.1111111111111111,\"#46039f\"],[0.2222222222222222,\"#7201a8\"],[0.3333333333333333,\"#9c179e\"],[0.4444444444444444,\"#bd3786\"],[0.5555555555555556,\"#d8576b\"],[0.6666666666666666,\"#ed7953\"],[0.7777777777777778,\"#fb9f3a\"],[0.8888888888888888,\"#fdca26\"],[1.0,\"#f0f921\"]],\"sequentialminus\":[[0.0,\"#0d0887\"],[0.1111111111111111,\"#46039f\"],[0.2222222222222222,\"#7201a8\"],[0.3333333333333333,\"#9c179e\"],[0.4444444444444444,\"#bd3786\"],[0.5555555555555556,\"#d8576b\"],[0.6666666666666666,\"#ed7953\"],[0.7777777777777778,\"#fb9f3a\"],[0.8888888888888888,\"#fdca26\"],[1.0,\"#f0f921\"]],\"diverging\":[[0,\"#8e0152\"],[0.1,\"#c51b7d\"],[0.2,\"#de77ae\"],[0.3,\"#f1b6da\"],[0.4,\"#fde0ef\"],[0.5,\"#f7f7f7\"],[0.6,\"#e6f5d0\"],[0.7,\"#b8e186\"],[0.8,\"#7fbc41\"],[0.9,\"#4d9221\"],[1,\"#276419\"]]},\"xaxis\":{\"gridcolor\":\"white\",\"linecolor\":\"white\",\"ticks\":\"\",\"title\":{\"standoff\":15},\"zerolinecolor\":\"white\",\"automargin\":true,\"zerolinewidth\":2},\"yaxis\":{\"gridcolor\":\"white\",\"linecolor\":\"white\",\"ticks\":\"\",\"title\":{\"standoff\":15},\"zerolinecolor\":\"white\",\"automargin\":true,\"zerolinewidth\":2},\"scene\":{\"xaxis\":{\"backgroundcolor\":\"#E5ECF6\",\"gridcolor\":\"white\",\"linecolor\":\"white\",\"showbackground\":true,\"ticks\":\"\",\"zerolinecolor\":\"white\",\"gridwidth\":2},\"yaxis\":{\"backgroundcolor\":\"#E5ECF6\",\"gridcolor\":\"white\",\"linecolor\":\"white\",\"showbackground\":true,\"ticks\":\"\",\"zerolinecolor\":\"white\",\"gridwidth\":2},\"zaxis\":{\"backgroundcolor\":\"#E5ECF6\",\"gridcolor\":\"white\",\"linecolor\":\"white\",\"showbackground\":true,\"ticks\":\"\",\"zerolinecolor\":\"white\",\"gridwidth\":2}},\"shapedefaults\":{\"line\":{\"color\":\"#2a3f5f\"}},\"annotationdefaults\":{\"arrowcolor\":\"#2a3f5f\",\"arrowhead\":0,\"arrowwidth\":1},\"geo\":{\"bgcolor\":\"white\",\"landcolor\":\"#E5ECF6\",\"subunitcolor\":\"white\",\"showland\":true,\"showlakes\":true,\"lakecolor\":\"white\"},\"title\":{\"x\":0.05},\"mapbox\":{\"style\":\"light\"}}},\"legend\":{\"tracegroupgap\":0},\"title\":{\"text\":\"Which program is most often chosen by students?\"}},                        {\"responsive\": true}                    ).then(function(){\n",
       "                            \n",
       "var gd = document.getElementById('1767847b-55e8-4551-9677-15dc6f515b8f');\n",
       "var x = new MutationObserver(function (mutations, observer) {{\n",
       "        var display = window.getComputedStyle(gd).display;\n",
       "        if (!display || display === 'none') {{\n",
       "            console.log([gd, 'removed!']);\n",
       "            Plotly.purge(gd);\n",
       "            observer.disconnect();\n",
       "        }}\n",
       "}});\n",
       "\n",
       "// Listen for the removal of the full notebook cells\n",
       "var notebookContainer = gd.closest('#notebook-container');\n",
       "if (notebookContainer) {{\n",
       "    x.observe(notebookContainer, {childList: true});\n",
       "}}\n",
       "\n",
       "// Listen for the clearing of the current output cell\n",
       "var outputEl = gd.closest('.output');\n",
       "if (outputEl) {{\n",
       "    x.observe(outputEl, {childList: true});\n",
       "}}\n",
       "\n",
       "                        })                };                });            </script>        </div>"
      ]
     },
     "metadata": {},
     "output_type": "display_data"
    }
   ],
   "source": [
    "majors = df.dropna().groupby(['Major_category']).agg({'Total':'sum'})\n",
    "fig2 = px.pie(df, values='Total', names='Major_category', title='Which program is most often chosen by students?', color='Major_category')\n",
    "fig2.show()"
   ]
  },
  {
   "cell_type": "markdown",
   "metadata": {
    "id": "iXMnoyRDFahs"
   },
   "source": [
    "# 2"
   ]
  },
  {
   "cell_type": "code",
   "execution_count": 20,
   "metadata": {
    "colab": {
     "base_uri": "https://localhost:8080/"
    },
    "id": "qnaFvV07Fahs",
    "outputId": "7b279262-0b68-45fd-a7b5-1c85a466ca01"
   },
   "outputs": [
    {
     "name": "stdout",
     "output_type": "stream",
     "text": [
      "2876426.0\n",
      "3895228.0\n"
     ]
    }
   ],
   "source": [
    "# общее количество мужчин и женщин\n",
    "\n",
    "print(df['Men'].sum())\n",
    "print(df['Women'].sum())"
   ]
  },
  {
   "cell_type": "markdown",
   "metadata": {
    "id": "srFAIvJLFahs"
   },
   "source": [
    "# 3"
   ]
  },
  {
   "cell_type": "code",
   "execution_count": 13,
   "metadata": {
    "colab": {
     "base_uri": "https://localhost:8080/",
     "height": 582
    },
    "id": "dpz0E-aKFahs",
    "outputId": "e6995dbe-92ef-4dfa-be5e-9c321df59fb3",
    "scrolled": false
   },
   "outputs": [
    {
     "data": {
      "text/html": [
       "<div>\n",
       "<style scoped>\n",
       "    .dataframe tbody tr th:only-of-type {\n",
       "        vertical-align: middle;\n",
       "    }\n",
       "\n",
       "    .dataframe tbody tr th {\n",
       "        vertical-align: top;\n",
       "    }\n",
       "\n",
       "    .dataframe thead th {\n",
       "        text-align: right;\n",
       "    }\n",
       "</style>\n",
       "<table border=\"1\" class=\"dataframe\">\n",
       "  <thead>\n",
       "    <tr style=\"text-align: right;\">\n",
       "      <th></th>\n",
       "      <th>Men</th>\n",
       "      <th>Women</th>\n",
       "    </tr>\n",
       "    <tr>\n",
       "      <th>Major_category</th>\n",
       "      <th></th>\n",
       "      <th></th>\n",
       "    </tr>\n",
       "  </thead>\n",
       "  <tbody>\n",
       "    <tr>\n",
       "      <th>Agriculture &amp; Natural Resources</th>\n",
       "      <td>4484.111111</td>\n",
       "      <td>3918.111111</td>\n",
       "    </tr>\n",
       "    <tr>\n",
       "      <th>Arts</th>\n",
       "      <td>16798.750000</td>\n",
       "      <td>27842.500000</td>\n",
       "    </tr>\n",
       "    <tr>\n",
       "      <th>Biology &amp; Life Science</th>\n",
       "      <td>13208.500000</td>\n",
       "      <td>19210.214286</td>\n",
       "    </tr>\n",
       "    <tr>\n",
       "      <th>Business</th>\n",
       "      <td>51373.230769</td>\n",
       "      <td>48809.538462</td>\n",
       "    </tr>\n",
       "    <tr>\n",
       "      <th>Communications &amp; Journalism</th>\n",
       "      <td>32980.250000</td>\n",
       "      <td>65170.000000</td>\n",
       "    </tr>\n",
       "    <tr>\n",
       "      <th>Computers &amp; Mathematics</th>\n",
       "      <td>18975.000000</td>\n",
       "      <td>8207.545455</td>\n",
       "    </tr>\n",
       "    <tr>\n",
       "      <th>Education</th>\n",
       "      <td>6470.375000</td>\n",
       "      <td>28475.187500</td>\n",
       "    </tr>\n",
       "    <tr>\n",
       "      <th>Engineering</th>\n",
       "      <td>14079.551724</td>\n",
       "      <td>4457.793103</td>\n",
       "    </tr>\n",
       "    <tr>\n",
       "      <th>Health</th>\n",
       "      <td>6293.083333</td>\n",
       "      <td>32309.416667</td>\n",
       "    </tr>\n",
       "    <tr>\n",
       "      <th>Humanities &amp; Liberal Arts</th>\n",
       "      <td>18189.733333</td>\n",
       "      <td>29374.800000</td>\n",
       "    </tr>\n",
       "    <tr>\n",
       "      <th>Industrial Arts &amp; Consumer Services</th>\n",
       "      <td>14825.857143</td>\n",
       "      <td>18001.571429</td>\n",
       "    </tr>\n",
       "    <tr>\n",
       "      <th>Interdisciplinary</th>\n",
       "      <td>2817.000000</td>\n",
       "      <td>9479.000000</td>\n",
       "    </tr>\n",
       "    <tr>\n",
       "      <th>Law &amp; Public Policy</th>\n",
       "      <td>18225.800000</td>\n",
       "      <td>17595.600000</td>\n",
       "    </tr>\n",
       "    <tr>\n",
       "      <th>Physical Sciences</th>\n",
       "      <td>9539.000000</td>\n",
       "      <td>9008.900000</td>\n",
       "    </tr>\n",
       "    <tr>\n",
       "      <th>Psychology &amp; Social Work</th>\n",
       "      <td>10901.666667</td>\n",
       "      <td>42543.555556</td>\n",
       "    </tr>\n",
       "    <tr>\n",
       "      <th>Social Science</th>\n",
       "      <td>28537.111111</td>\n",
       "      <td>30348.000000</td>\n",
       "    </tr>\n",
       "  </tbody>\n",
       "</table>\n",
       "</div>"
      ],
      "text/plain": [
       "                                              Men         Women\n",
       "Major_category                                                 \n",
       "Agriculture & Natural Resources       4484.111111   3918.111111\n",
       "Arts                                 16798.750000  27842.500000\n",
       "Biology & Life Science               13208.500000  19210.214286\n",
       "Business                             51373.230769  48809.538462\n",
       "Communications & Journalism          32980.250000  65170.000000\n",
       "Computers & Mathematics              18975.000000   8207.545455\n",
       "Education                             6470.375000  28475.187500\n",
       "Engineering                          14079.551724   4457.793103\n",
       "Health                                6293.083333  32309.416667\n",
       "Humanities & Liberal Arts            18189.733333  29374.800000\n",
       "Industrial Arts & Consumer Services  14825.857143  18001.571429\n",
       "Interdisciplinary                     2817.000000   9479.000000\n",
       "Law & Public Policy                  18225.800000  17595.600000\n",
       "Physical Sciences                     9539.000000   9008.900000\n",
       "Psychology & Social Work             10901.666667  42543.555556\n",
       "Social Science                       28537.111111  30348.000000"
      ]
     },
     "execution_count": 13,
     "metadata": {},
     "output_type": "execute_result"
    }
   ],
   "source": [
    "major_by_gender = pd.pivot_table(df, index=\"Major_category\", values=[\"Men\", \"Women\"])\n",
    "major_by_gender"
   ]
  },
  {
   "cell_type": "code",
   "execution_count": 14,
   "metadata": {
    "colab": {
     "base_uri": "https://localhost:8080/",
     "height": 542
    },
    "id": "9oOp6r8rFaht",
    "outputId": "5dc4c265-0ebc-4553-fb3c-c248d8a007e9",
    "scrolled": false
   },
   "outputs": [
    {
     "data": {
      "application/vnd.plotly.v1+json": {
       "config": {
        "plotlyServerURL": "https://plot.ly"
       },
       "data": [
        {
         "alignmentgroup": "True",
         "hovertemplate": "variable=Men<br>Major_category=%{x}<br>value=%{y}<extra></extra>",
         "legendgroup": "Men",
         "marker": {
          "color": "#636efa",
          "pattern": {
           "shape": ""
          }
         },
         "name": "Men",
         "offsetgroup": "Men",
         "orientation": "v",
         "showlegend": true,
         "textposition": "auto",
         "type": "bar",
         "x": [
          "Agriculture & Natural Resources",
          "Arts",
          "Biology & Life Science",
          "Business",
          "Communications & Journalism",
          "Computers & Mathematics",
          "Education",
          "Engineering",
          "Health",
          "Humanities & Liberal Arts",
          "Industrial Arts & Consumer Services",
          "Interdisciplinary",
          "Law & Public Policy",
          "Physical Sciences",
          "Psychology & Social Work",
          "Social Science"
         ],
         "xaxis": "x",
         "y": [
          4484.111111111111,
          16798.75,
          13208.5,
          51373.230769230766,
          32980.25,
          18975,
          6470.375,
          14079.551724137931,
          6293.083333333333,
          18189.733333333334,
          14825.857142857143,
          2817,
          18225.8,
          9539,
          10901.666666666666,
          28537.11111111111
         ],
         "yaxis": "y"
        },
        {
         "alignmentgroup": "True",
         "hovertemplate": "variable=Women<br>Major_category=%{x}<br>value=%{y}<extra></extra>",
         "legendgroup": "Women",
         "marker": {
          "color": "#EF553B",
          "pattern": {
           "shape": ""
          }
         },
         "name": "Women",
         "offsetgroup": "Women",
         "orientation": "v",
         "showlegend": true,
         "textposition": "auto",
         "type": "bar",
         "x": [
          "Agriculture & Natural Resources",
          "Arts",
          "Biology & Life Science",
          "Business",
          "Communications & Journalism",
          "Computers & Mathematics",
          "Education",
          "Engineering",
          "Health",
          "Humanities & Liberal Arts",
          "Industrial Arts & Consumer Services",
          "Interdisciplinary",
          "Law & Public Policy",
          "Physical Sciences",
          "Psychology & Social Work",
          "Social Science"
         ],
         "xaxis": "x",
         "y": [
          3918.1111111111113,
          27842.5,
          19210.214285714286,
          48809.53846153846,
          65170,
          8207.545454545454,
          28475.1875,
          4457.793103448276,
          32309.416666666668,
          29374.8,
          18001.571428571428,
          9479,
          17595.6,
          9008.9,
          42543.555555555555,
          30348
         ],
         "yaxis": "y"
        }
       ],
       "layout": {
        "barmode": "relative",
        "legend": {
         "title": {
          "text": "variable"
         },
         "tracegroupgap": 0
        },
        "template": {
         "data": {
          "bar": [
           {
            "error_x": {
             "color": "#2a3f5f"
            },
            "error_y": {
             "color": "#2a3f5f"
            },
            "marker": {
             "line": {
              "color": "#E5ECF6",
              "width": 0.5
             },
             "pattern": {
              "fillmode": "overlay",
              "size": 10,
              "solidity": 0.2
             }
            },
            "type": "bar"
           }
          ],
          "barpolar": [
           {
            "marker": {
             "line": {
              "color": "#E5ECF6",
              "width": 0.5
             },
             "pattern": {
              "fillmode": "overlay",
              "size": 10,
              "solidity": 0.2
             }
            },
            "type": "barpolar"
           }
          ],
          "carpet": [
           {
            "aaxis": {
             "endlinecolor": "#2a3f5f",
             "gridcolor": "white",
             "linecolor": "white",
             "minorgridcolor": "white",
             "startlinecolor": "#2a3f5f"
            },
            "baxis": {
             "endlinecolor": "#2a3f5f",
             "gridcolor": "white",
             "linecolor": "white",
             "minorgridcolor": "white",
             "startlinecolor": "#2a3f5f"
            },
            "type": "carpet"
           }
          ],
          "choropleth": [
           {
            "colorbar": {
             "outlinewidth": 0,
             "ticks": ""
            },
            "type": "choropleth"
           }
          ],
          "contour": [
           {
            "colorbar": {
             "outlinewidth": 0,
             "ticks": ""
            },
            "colorscale": [
             [
              0,
              "#0d0887"
             ],
             [
              0.1111111111111111,
              "#46039f"
             ],
             [
              0.2222222222222222,
              "#7201a8"
             ],
             [
              0.3333333333333333,
              "#9c179e"
             ],
             [
              0.4444444444444444,
              "#bd3786"
             ],
             [
              0.5555555555555556,
              "#d8576b"
             ],
             [
              0.6666666666666666,
              "#ed7953"
             ],
             [
              0.7777777777777778,
              "#fb9f3a"
             ],
             [
              0.8888888888888888,
              "#fdca26"
             ],
             [
              1,
              "#f0f921"
             ]
            ],
            "type": "contour"
           }
          ],
          "contourcarpet": [
           {
            "colorbar": {
             "outlinewidth": 0,
             "ticks": ""
            },
            "type": "contourcarpet"
           }
          ],
          "heatmap": [
           {
            "colorbar": {
             "outlinewidth": 0,
             "ticks": ""
            },
            "colorscale": [
             [
              0,
              "#0d0887"
             ],
             [
              0.1111111111111111,
              "#46039f"
             ],
             [
              0.2222222222222222,
              "#7201a8"
             ],
             [
              0.3333333333333333,
              "#9c179e"
             ],
             [
              0.4444444444444444,
              "#bd3786"
             ],
             [
              0.5555555555555556,
              "#d8576b"
             ],
             [
              0.6666666666666666,
              "#ed7953"
             ],
             [
              0.7777777777777778,
              "#fb9f3a"
             ],
             [
              0.8888888888888888,
              "#fdca26"
             ],
             [
              1,
              "#f0f921"
             ]
            ],
            "type": "heatmap"
           }
          ],
          "heatmapgl": [
           {
            "colorbar": {
             "outlinewidth": 0,
             "ticks": ""
            },
            "colorscale": [
             [
              0,
              "#0d0887"
             ],
             [
              0.1111111111111111,
              "#46039f"
             ],
             [
              0.2222222222222222,
              "#7201a8"
             ],
             [
              0.3333333333333333,
              "#9c179e"
             ],
             [
              0.4444444444444444,
              "#bd3786"
             ],
             [
              0.5555555555555556,
              "#d8576b"
             ],
             [
              0.6666666666666666,
              "#ed7953"
             ],
             [
              0.7777777777777778,
              "#fb9f3a"
             ],
             [
              0.8888888888888888,
              "#fdca26"
             ],
             [
              1,
              "#f0f921"
             ]
            ],
            "type": "heatmapgl"
           }
          ],
          "histogram": [
           {
            "marker": {
             "pattern": {
              "fillmode": "overlay",
              "size": 10,
              "solidity": 0.2
             }
            },
            "type": "histogram"
           }
          ],
          "histogram2d": [
           {
            "colorbar": {
             "outlinewidth": 0,
             "ticks": ""
            },
            "colorscale": [
             [
              0,
              "#0d0887"
             ],
             [
              0.1111111111111111,
              "#46039f"
             ],
             [
              0.2222222222222222,
              "#7201a8"
             ],
             [
              0.3333333333333333,
              "#9c179e"
             ],
             [
              0.4444444444444444,
              "#bd3786"
             ],
             [
              0.5555555555555556,
              "#d8576b"
             ],
             [
              0.6666666666666666,
              "#ed7953"
             ],
             [
              0.7777777777777778,
              "#fb9f3a"
             ],
             [
              0.8888888888888888,
              "#fdca26"
             ],
             [
              1,
              "#f0f921"
             ]
            ],
            "type": "histogram2d"
           }
          ],
          "histogram2dcontour": [
           {
            "colorbar": {
             "outlinewidth": 0,
             "ticks": ""
            },
            "colorscale": [
             [
              0,
              "#0d0887"
             ],
             [
              0.1111111111111111,
              "#46039f"
             ],
             [
              0.2222222222222222,
              "#7201a8"
             ],
             [
              0.3333333333333333,
              "#9c179e"
             ],
             [
              0.4444444444444444,
              "#bd3786"
             ],
             [
              0.5555555555555556,
              "#d8576b"
             ],
             [
              0.6666666666666666,
              "#ed7953"
             ],
             [
              0.7777777777777778,
              "#fb9f3a"
             ],
             [
              0.8888888888888888,
              "#fdca26"
             ],
             [
              1,
              "#f0f921"
             ]
            ],
            "type": "histogram2dcontour"
           }
          ],
          "mesh3d": [
           {
            "colorbar": {
             "outlinewidth": 0,
             "ticks": ""
            },
            "type": "mesh3d"
           }
          ],
          "parcoords": [
           {
            "line": {
             "colorbar": {
              "outlinewidth": 0,
              "ticks": ""
             }
            },
            "type": "parcoords"
           }
          ],
          "pie": [
           {
            "automargin": true,
            "type": "pie"
           }
          ],
          "scatter": [
           {
            "fillpattern": {
             "fillmode": "overlay",
             "size": 10,
             "solidity": 0.2
            },
            "type": "scatter"
           }
          ],
          "scatter3d": [
           {
            "line": {
             "colorbar": {
              "outlinewidth": 0,
              "ticks": ""
             }
            },
            "marker": {
             "colorbar": {
              "outlinewidth": 0,
              "ticks": ""
             }
            },
            "type": "scatter3d"
           }
          ],
          "scattercarpet": [
           {
            "marker": {
             "colorbar": {
              "outlinewidth": 0,
              "ticks": ""
             }
            },
            "type": "scattercarpet"
           }
          ],
          "scattergeo": [
           {
            "marker": {
             "colorbar": {
              "outlinewidth": 0,
              "ticks": ""
             }
            },
            "type": "scattergeo"
           }
          ],
          "scattergl": [
           {
            "marker": {
             "colorbar": {
              "outlinewidth": 0,
              "ticks": ""
             }
            },
            "type": "scattergl"
           }
          ],
          "scattermapbox": [
           {
            "marker": {
             "colorbar": {
              "outlinewidth": 0,
              "ticks": ""
             }
            },
            "type": "scattermapbox"
           }
          ],
          "scatterpolar": [
           {
            "marker": {
             "colorbar": {
              "outlinewidth": 0,
              "ticks": ""
             }
            },
            "type": "scatterpolar"
           }
          ],
          "scatterpolargl": [
           {
            "marker": {
             "colorbar": {
              "outlinewidth": 0,
              "ticks": ""
             }
            },
            "type": "scatterpolargl"
           }
          ],
          "scatterternary": [
           {
            "marker": {
             "colorbar": {
              "outlinewidth": 0,
              "ticks": ""
             }
            },
            "type": "scatterternary"
           }
          ],
          "surface": [
           {
            "colorbar": {
             "outlinewidth": 0,
             "ticks": ""
            },
            "colorscale": [
             [
              0,
              "#0d0887"
             ],
             [
              0.1111111111111111,
              "#46039f"
             ],
             [
              0.2222222222222222,
              "#7201a8"
             ],
             [
              0.3333333333333333,
              "#9c179e"
             ],
             [
              0.4444444444444444,
              "#bd3786"
             ],
             [
              0.5555555555555556,
              "#d8576b"
             ],
             [
              0.6666666666666666,
              "#ed7953"
             ],
             [
              0.7777777777777778,
              "#fb9f3a"
             ],
             [
              0.8888888888888888,
              "#fdca26"
             ],
             [
              1,
              "#f0f921"
             ]
            ],
            "type": "surface"
           }
          ],
          "table": [
           {
            "cells": {
             "fill": {
              "color": "#EBF0F8"
             },
             "line": {
              "color": "white"
             }
            },
            "header": {
             "fill": {
              "color": "#C8D4E3"
             },
             "line": {
              "color": "white"
             }
            },
            "type": "table"
           }
          ]
         },
         "layout": {
          "annotationdefaults": {
           "arrowcolor": "#2a3f5f",
           "arrowhead": 0,
           "arrowwidth": 1
          },
          "autotypenumbers": "strict",
          "coloraxis": {
           "colorbar": {
            "outlinewidth": 0,
            "ticks": ""
           }
          },
          "colorscale": {
           "diverging": [
            [
             0,
             "#8e0152"
            ],
            [
             0.1,
             "#c51b7d"
            ],
            [
             0.2,
             "#de77ae"
            ],
            [
             0.3,
             "#f1b6da"
            ],
            [
             0.4,
             "#fde0ef"
            ],
            [
             0.5,
             "#f7f7f7"
            ],
            [
             0.6,
             "#e6f5d0"
            ],
            [
             0.7,
             "#b8e186"
            ],
            [
             0.8,
             "#7fbc41"
            ],
            [
             0.9,
             "#4d9221"
            ],
            [
             1,
             "#276419"
            ]
           ],
           "sequential": [
            [
             0,
             "#0d0887"
            ],
            [
             0.1111111111111111,
             "#46039f"
            ],
            [
             0.2222222222222222,
             "#7201a8"
            ],
            [
             0.3333333333333333,
             "#9c179e"
            ],
            [
             0.4444444444444444,
             "#bd3786"
            ],
            [
             0.5555555555555556,
             "#d8576b"
            ],
            [
             0.6666666666666666,
             "#ed7953"
            ],
            [
             0.7777777777777778,
             "#fb9f3a"
            ],
            [
             0.8888888888888888,
             "#fdca26"
            ],
            [
             1,
             "#f0f921"
            ]
           ],
           "sequentialminus": [
            [
             0,
             "#0d0887"
            ],
            [
             0.1111111111111111,
             "#46039f"
            ],
            [
             0.2222222222222222,
             "#7201a8"
            ],
            [
             0.3333333333333333,
             "#9c179e"
            ],
            [
             0.4444444444444444,
             "#bd3786"
            ],
            [
             0.5555555555555556,
             "#d8576b"
            ],
            [
             0.6666666666666666,
             "#ed7953"
            ],
            [
             0.7777777777777778,
             "#fb9f3a"
            ],
            [
             0.8888888888888888,
             "#fdca26"
            ],
            [
             1,
             "#f0f921"
            ]
           ]
          },
          "colorway": [
           "#636efa",
           "#EF553B",
           "#00cc96",
           "#ab63fa",
           "#FFA15A",
           "#19d3f3",
           "#FF6692",
           "#B6E880",
           "#FF97FF",
           "#FECB52"
          ],
          "font": {
           "color": "#2a3f5f"
          },
          "geo": {
           "bgcolor": "white",
           "lakecolor": "white",
           "landcolor": "#E5ECF6",
           "showlakes": true,
           "showland": true,
           "subunitcolor": "white"
          },
          "hoverlabel": {
           "align": "left"
          },
          "hovermode": "closest",
          "mapbox": {
           "style": "light"
          },
          "paper_bgcolor": "white",
          "plot_bgcolor": "#E5ECF6",
          "polar": {
           "angularaxis": {
            "gridcolor": "white",
            "linecolor": "white",
            "ticks": ""
           },
           "bgcolor": "#E5ECF6",
           "radialaxis": {
            "gridcolor": "white",
            "linecolor": "white",
            "ticks": ""
           }
          },
          "scene": {
           "xaxis": {
            "backgroundcolor": "#E5ECF6",
            "gridcolor": "white",
            "gridwidth": 2,
            "linecolor": "white",
            "showbackground": true,
            "ticks": "",
            "zerolinecolor": "white"
           },
           "yaxis": {
            "backgroundcolor": "#E5ECF6",
            "gridcolor": "white",
            "gridwidth": 2,
            "linecolor": "white",
            "showbackground": true,
            "ticks": "",
            "zerolinecolor": "white"
           },
           "zaxis": {
            "backgroundcolor": "#E5ECF6",
            "gridcolor": "white",
            "gridwidth": 2,
            "linecolor": "white",
            "showbackground": true,
            "ticks": "",
            "zerolinecolor": "white"
           }
          },
          "shapedefaults": {
           "line": {
            "color": "#2a3f5f"
           }
          },
          "ternary": {
           "aaxis": {
            "gridcolor": "white",
            "linecolor": "white",
            "ticks": ""
           },
           "baxis": {
            "gridcolor": "white",
            "linecolor": "white",
            "ticks": ""
           },
           "bgcolor": "#E5ECF6",
           "caxis": {
            "gridcolor": "white",
            "linecolor": "white",
            "ticks": ""
           }
          },
          "title": {
           "x": 0.05
          },
          "xaxis": {
           "automargin": true,
           "gridcolor": "white",
           "linecolor": "white",
           "ticks": "",
           "title": {
            "standoff": 15
           },
           "zerolinecolor": "white",
           "zerolinewidth": 2
          },
          "yaxis": {
           "automargin": true,
           "gridcolor": "white",
           "linecolor": "white",
           "ticks": "",
           "title": {
            "standoff": 15
           },
           "zerolinecolor": "white",
           "zerolinewidth": 2
          }
         }
        },
        "title": {
         "text": "Sexes distribution depending on the major category"
        },
        "xaxis": {
         "anchor": "y",
         "domain": [
          0,
          1
         ],
         "title": {
          "text": "Major_category"
         }
        },
        "yaxis": {
         "anchor": "x",
         "domain": [
          0,
          1
         ],
         "title": {
          "text": "value"
         }
        }
       }
      },
      "text/html": [
       "<div>                            <div id=\"a8953045-a3b5-4157-bbab-8a2cae1f62d7\" class=\"plotly-graph-div\" style=\"height:525px; width:100%;\"></div>            <script type=\"text/javascript\">                require([\"plotly\"], function(Plotly) {                    window.PLOTLYENV=window.PLOTLYENV || {};                                    if (document.getElementById(\"a8953045-a3b5-4157-bbab-8a2cae1f62d7\")) {                    Plotly.newPlot(                        \"a8953045-a3b5-4157-bbab-8a2cae1f62d7\",                        [{\"alignmentgroup\":\"True\",\"hovertemplate\":\"variable=Men<br>Major_category=%{x}<br>value=%{y}<extra></extra>\",\"legendgroup\":\"Men\",\"marker\":{\"color\":\"#636efa\",\"pattern\":{\"shape\":\"\"}},\"name\":\"Men\",\"offsetgroup\":\"Men\",\"orientation\":\"v\",\"showlegend\":true,\"textposition\":\"auto\",\"x\":[\"Agriculture & Natural Resources\",\"Arts\",\"Biology & Life Science\",\"Business\",\"Communications & Journalism\",\"Computers & Mathematics\",\"Education\",\"Engineering\",\"Health\",\"Humanities & Liberal Arts\",\"Industrial Arts & Consumer Services\",\"Interdisciplinary\",\"Law & Public Policy\",\"Physical Sciences\",\"Psychology & Social Work\",\"Social Science\"],\"xaxis\":\"x\",\"y\":[4484.111111111111,16798.75,13208.5,51373.230769230766,32980.25,18975.0,6470.375,14079.551724137931,6293.083333333333,18189.733333333334,14825.857142857143,2817.0,18225.8,9539.0,10901.666666666666,28537.11111111111],\"yaxis\":\"y\",\"type\":\"bar\"},{\"alignmentgroup\":\"True\",\"hovertemplate\":\"variable=Women<br>Major_category=%{x}<br>value=%{y}<extra></extra>\",\"legendgroup\":\"Women\",\"marker\":{\"color\":\"#EF553B\",\"pattern\":{\"shape\":\"\"}},\"name\":\"Women\",\"offsetgroup\":\"Women\",\"orientation\":\"v\",\"showlegend\":true,\"textposition\":\"auto\",\"x\":[\"Agriculture & Natural Resources\",\"Arts\",\"Biology & Life Science\",\"Business\",\"Communications & Journalism\",\"Computers & Mathematics\",\"Education\",\"Engineering\",\"Health\",\"Humanities & Liberal Arts\",\"Industrial Arts & Consumer Services\",\"Interdisciplinary\",\"Law & Public Policy\",\"Physical Sciences\",\"Psychology & Social Work\",\"Social Science\"],\"xaxis\":\"x\",\"y\":[3918.1111111111113,27842.5,19210.214285714286,48809.53846153846,65170.0,8207.545454545454,28475.1875,4457.793103448276,32309.416666666668,29374.8,18001.571428571428,9479.0,17595.6,9008.9,42543.555555555555,30348.0],\"yaxis\":\"y\",\"type\":\"bar\"}],                        {\"template\":{\"data\":{\"histogram2dcontour\":[{\"type\":\"histogram2dcontour\",\"colorbar\":{\"outlinewidth\":0,\"ticks\":\"\"},\"colorscale\":[[0.0,\"#0d0887\"],[0.1111111111111111,\"#46039f\"],[0.2222222222222222,\"#7201a8\"],[0.3333333333333333,\"#9c179e\"],[0.4444444444444444,\"#bd3786\"],[0.5555555555555556,\"#d8576b\"],[0.6666666666666666,\"#ed7953\"],[0.7777777777777778,\"#fb9f3a\"],[0.8888888888888888,\"#fdca26\"],[1.0,\"#f0f921\"]]}],\"choropleth\":[{\"type\":\"choropleth\",\"colorbar\":{\"outlinewidth\":0,\"ticks\":\"\"}}],\"histogram2d\":[{\"type\":\"histogram2d\",\"colorbar\":{\"outlinewidth\":0,\"ticks\":\"\"},\"colorscale\":[[0.0,\"#0d0887\"],[0.1111111111111111,\"#46039f\"],[0.2222222222222222,\"#7201a8\"],[0.3333333333333333,\"#9c179e\"],[0.4444444444444444,\"#bd3786\"],[0.5555555555555556,\"#d8576b\"],[0.6666666666666666,\"#ed7953\"],[0.7777777777777778,\"#fb9f3a\"],[0.8888888888888888,\"#fdca26\"],[1.0,\"#f0f921\"]]}],\"heatmap\":[{\"type\":\"heatmap\",\"colorbar\":{\"outlinewidth\":0,\"ticks\":\"\"},\"colorscale\":[[0.0,\"#0d0887\"],[0.1111111111111111,\"#46039f\"],[0.2222222222222222,\"#7201a8\"],[0.3333333333333333,\"#9c179e\"],[0.4444444444444444,\"#bd3786\"],[0.5555555555555556,\"#d8576b\"],[0.6666666666666666,\"#ed7953\"],[0.7777777777777778,\"#fb9f3a\"],[0.8888888888888888,\"#fdca26\"],[1.0,\"#f0f921\"]]}],\"heatmapgl\":[{\"type\":\"heatmapgl\",\"colorbar\":{\"outlinewidth\":0,\"ticks\":\"\"},\"colorscale\":[[0.0,\"#0d0887\"],[0.1111111111111111,\"#46039f\"],[0.2222222222222222,\"#7201a8\"],[0.3333333333333333,\"#9c179e\"],[0.4444444444444444,\"#bd3786\"],[0.5555555555555556,\"#d8576b\"],[0.6666666666666666,\"#ed7953\"],[0.7777777777777778,\"#fb9f3a\"],[0.8888888888888888,\"#fdca26\"],[1.0,\"#f0f921\"]]}],\"contourcarpet\":[{\"type\":\"contourcarpet\",\"colorbar\":{\"outlinewidth\":0,\"ticks\":\"\"}}],\"contour\":[{\"type\":\"contour\",\"colorbar\":{\"outlinewidth\":0,\"ticks\":\"\"},\"colorscale\":[[0.0,\"#0d0887\"],[0.1111111111111111,\"#46039f\"],[0.2222222222222222,\"#7201a8\"],[0.3333333333333333,\"#9c179e\"],[0.4444444444444444,\"#bd3786\"],[0.5555555555555556,\"#d8576b\"],[0.6666666666666666,\"#ed7953\"],[0.7777777777777778,\"#fb9f3a\"],[0.8888888888888888,\"#fdca26\"],[1.0,\"#f0f921\"]]}],\"surface\":[{\"type\":\"surface\",\"colorbar\":{\"outlinewidth\":0,\"ticks\":\"\"},\"colorscale\":[[0.0,\"#0d0887\"],[0.1111111111111111,\"#46039f\"],[0.2222222222222222,\"#7201a8\"],[0.3333333333333333,\"#9c179e\"],[0.4444444444444444,\"#bd3786\"],[0.5555555555555556,\"#d8576b\"],[0.6666666666666666,\"#ed7953\"],[0.7777777777777778,\"#fb9f3a\"],[0.8888888888888888,\"#fdca26\"],[1.0,\"#f0f921\"]]}],\"mesh3d\":[{\"type\":\"mesh3d\",\"colorbar\":{\"outlinewidth\":0,\"ticks\":\"\"}}],\"scatter\":[{\"fillpattern\":{\"fillmode\":\"overlay\",\"size\":10,\"solidity\":0.2},\"type\":\"scatter\"}],\"parcoords\":[{\"type\":\"parcoords\",\"line\":{\"colorbar\":{\"outlinewidth\":0,\"ticks\":\"\"}}}],\"scatterpolargl\":[{\"type\":\"scatterpolargl\",\"marker\":{\"colorbar\":{\"outlinewidth\":0,\"ticks\":\"\"}}}],\"bar\":[{\"error_x\":{\"color\":\"#2a3f5f\"},\"error_y\":{\"color\":\"#2a3f5f\"},\"marker\":{\"line\":{\"color\":\"#E5ECF6\",\"width\":0.5},\"pattern\":{\"fillmode\":\"overlay\",\"size\":10,\"solidity\":0.2}},\"type\":\"bar\"}],\"scattergeo\":[{\"type\":\"scattergeo\",\"marker\":{\"colorbar\":{\"outlinewidth\":0,\"ticks\":\"\"}}}],\"scatterpolar\":[{\"type\":\"scatterpolar\",\"marker\":{\"colorbar\":{\"outlinewidth\":0,\"ticks\":\"\"}}}],\"histogram\":[{\"marker\":{\"pattern\":{\"fillmode\":\"overlay\",\"size\":10,\"solidity\":0.2}},\"type\":\"histogram\"}],\"scattergl\":[{\"type\":\"scattergl\",\"marker\":{\"colorbar\":{\"outlinewidth\":0,\"ticks\":\"\"}}}],\"scatter3d\":[{\"type\":\"scatter3d\",\"line\":{\"colorbar\":{\"outlinewidth\":0,\"ticks\":\"\"}},\"marker\":{\"colorbar\":{\"outlinewidth\":0,\"ticks\":\"\"}}}],\"scattermapbox\":[{\"type\":\"scattermapbox\",\"marker\":{\"colorbar\":{\"outlinewidth\":0,\"ticks\":\"\"}}}],\"scatterternary\":[{\"type\":\"scatterternary\",\"marker\":{\"colorbar\":{\"outlinewidth\":0,\"ticks\":\"\"}}}],\"scattercarpet\":[{\"type\":\"scattercarpet\",\"marker\":{\"colorbar\":{\"outlinewidth\":0,\"ticks\":\"\"}}}],\"carpet\":[{\"aaxis\":{\"endlinecolor\":\"#2a3f5f\",\"gridcolor\":\"white\",\"linecolor\":\"white\",\"minorgridcolor\":\"white\",\"startlinecolor\":\"#2a3f5f\"},\"baxis\":{\"endlinecolor\":\"#2a3f5f\",\"gridcolor\":\"white\",\"linecolor\":\"white\",\"minorgridcolor\":\"white\",\"startlinecolor\":\"#2a3f5f\"},\"type\":\"carpet\"}],\"table\":[{\"cells\":{\"fill\":{\"color\":\"#EBF0F8\"},\"line\":{\"color\":\"white\"}},\"header\":{\"fill\":{\"color\":\"#C8D4E3\"},\"line\":{\"color\":\"white\"}},\"type\":\"table\"}],\"barpolar\":[{\"marker\":{\"line\":{\"color\":\"#E5ECF6\",\"width\":0.5},\"pattern\":{\"fillmode\":\"overlay\",\"size\":10,\"solidity\":0.2}},\"type\":\"barpolar\"}],\"pie\":[{\"automargin\":true,\"type\":\"pie\"}]},\"layout\":{\"autotypenumbers\":\"strict\",\"colorway\":[\"#636efa\",\"#EF553B\",\"#00cc96\",\"#ab63fa\",\"#FFA15A\",\"#19d3f3\",\"#FF6692\",\"#B6E880\",\"#FF97FF\",\"#FECB52\"],\"font\":{\"color\":\"#2a3f5f\"},\"hovermode\":\"closest\",\"hoverlabel\":{\"align\":\"left\"},\"paper_bgcolor\":\"white\",\"plot_bgcolor\":\"#E5ECF6\",\"polar\":{\"bgcolor\":\"#E5ECF6\",\"angularaxis\":{\"gridcolor\":\"white\",\"linecolor\":\"white\",\"ticks\":\"\"},\"radialaxis\":{\"gridcolor\":\"white\",\"linecolor\":\"white\",\"ticks\":\"\"}},\"ternary\":{\"bgcolor\":\"#E5ECF6\",\"aaxis\":{\"gridcolor\":\"white\",\"linecolor\":\"white\",\"ticks\":\"\"},\"baxis\":{\"gridcolor\":\"white\",\"linecolor\":\"white\",\"ticks\":\"\"},\"caxis\":{\"gridcolor\":\"white\",\"linecolor\":\"white\",\"ticks\":\"\"}},\"coloraxis\":{\"colorbar\":{\"outlinewidth\":0,\"ticks\":\"\"}},\"colorscale\":{\"sequential\":[[0.0,\"#0d0887\"],[0.1111111111111111,\"#46039f\"],[0.2222222222222222,\"#7201a8\"],[0.3333333333333333,\"#9c179e\"],[0.4444444444444444,\"#bd3786\"],[0.5555555555555556,\"#d8576b\"],[0.6666666666666666,\"#ed7953\"],[0.7777777777777778,\"#fb9f3a\"],[0.8888888888888888,\"#fdca26\"],[1.0,\"#f0f921\"]],\"sequentialminus\":[[0.0,\"#0d0887\"],[0.1111111111111111,\"#46039f\"],[0.2222222222222222,\"#7201a8\"],[0.3333333333333333,\"#9c179e\"],[0.4444444444444444,\"#bd3786\"],[0.5555555555555556,\"#d8576b\"],[0.6666666666666666,\"#ed7953\"],[0.7777777777777778,\"#fb9f3a\"],[0.8888888888888888,\"#fdca26\"],[1.0,\"#f0f921\"]],\"diverging\":[[0,\"#8e0152\"],[0.1,\"#c51b7d\"],[0.2,\"#de77ae\"],[0.3,\"#f1b6da\"],[0.4,\"#fde0ef\"],[0.5,\"#f7f7f7\"],[0.6,\"#e6f5d0\"],[0.7,\"#b8e186\"],[0.8,\"#7fbc41\"],[0.9,\"#4d9221\"],[1,\"#276419\"]]},\"xaxis\":{\"gridcolor\":\"white\",\"linecolor\":\"white\",\"ticks\":\"\",\"title\":{\"standoff\":15},\"zerolinecolor\":\"white\",\"automargin\":true,\"zerolinewidth\":2},\"yaxis\":{\"gridcolor\":\"white\",\"linecolor\":\"white\",\"ticks\":\"\",\"title\":{\"standoff\":15},\"zerolinecolor\":\"white\",\"automargin\":true,\"zerolinewidth\":2},\"scene\":{\"xaxis\":{\"backgroundcolor\":\"#E5ECF6\",\"gridcolor\":\"white\",\"linecolor\":\"white\",\"showbackground\":true,\"ticks\":\"\",\"zerolinecolor\":\"white\",\"gridwidth\":2},\"yaxis\":{\"backgroundcolor\":\"#E5ECF6\",\"gridcolor\":\"white\",\"linecolor\":\"white\",\"showbackground\":true,\"ticks\":\"\",\"zerolinecolor\":\"white\",\"gridwidth\":2},\"zaxis\":{\"backgroundcolor\":\"#E5ECF6\",\"gridcolor\":\"white\",\"linecolor\":\"white\",\"showbackground\":true,\"ticks\":\"\",\"zerolinecolor\":\"white\",\"gridwidth\":2}},\"shapedefaults\":{\"line\":{\"color\":\"#2a3f5f\"}},\"annotationdefaults\":{\"arrowcolor\":\"#2a3f5f\",\"arrowhead\":0,\"arrowwidth\":1},\"geo\":{\"bgcolor\":\"white\",\"landcolor\":\"#E5ECF6\",\"subunitcolor\":\"white\",\"showland\":true,\"showlakes\":true,\"lakecolor\":\"white\"},\"title\":{\"x\":0.05},\"mapbox\":{\"style\":\"light\"}}},\"xaxis\":{\"anchor\":\"y\",\"domain\":[0.0,1.0],\"title\":{\"text\":\"Major_category\"}},\"yaxis\":{\"anchor\":\"x\",\"domain\":[0.0,1.0],\"title\":{\"text\":\"value\"}},\"legend\":{\"title\":{\"text\":\"variable\"},\"tracegroupgap\":0},\"title\":{\"text\":\"Sexes distribution depending on the major category\"},\"barmode\":\"relative\"},                        {\"responsive\": true}                    ).then(function(){\n",
       "                            \n",
       "var gd = document.getElementById('a8953045-a3b5-4157-bbab-8a2cae1f62d7');\n",
       "var x = new MutationObserver(function (mutations, observer) {{\n",
       "        var display = window.getComputedStyle(gd).display;\n",
       "        if (!display || display === 'none') {{\n",
       "            console.log([gd, 'removed!']);\n",
       "            Plotly.purge(gd);\n",
       "            observer.disconnect();\n",
       "        }}\n",
       "}});\n",
       "\n",
       "// Listen for the removal of the full notebook cells\n",
       "var notebookContainer = gd.closest('#notebook-container');\n",
       "if (notebookContainer) {{\n",
       "    x.observe(notebookContainer, {childList: true});\n",
       "}}\n",
       "\n",
       "// Listen for the clearing of the current output cell\n",
       "var outputEl = gd.closest('.output');\n",
       "if (outputEl) {{\n",
       "    x.observe(outputEl, {childList: true});\n",
       "}}\n",
       "\n",
       "                        })                };                });            </script>        </div>"
      ]
     },
     "metadata": {},
     "output_type": "display_data"
    }
   ],
   "source": [
    "# распределение полов по направлениям\n",
    "\n",
    "test = px.bar(major_by_gender, title='Sexes distribution depending on the major category')\n",
    "test.show()"
   ]
  },
  {
   "cell_type": "markdown",
   "metadata": {
    "id": "X8A_Kb09Faht"
   },
   "source": [
    "# 4"
   ]
  },
  {
   "cell_type": "code",
   "execution_count": 15,
   "metadata": {
    "id": "B-Q7nJ2NFaht",
    "outputId": "23dd5e92-2ef0-4d68-8c2e-f9539346f8eb"
   },
   "outputs": [
    {
     "data": {
      "application/vnd.plotly.v1+json": {
       "config": {
        "plotlyServerURL": "https://plot.ly"
       },
       "data": [
        {
         "hovertemplate": "<b>%{hovertext}</b><br><br>Major_category=Engineering<br>Total=%{x}<br>Median=%{marker.size}<extra></extra>",
         "hovertext": [
          "PETROLEUM ENGINEERING",
          "MINING AND MINERAL ENGINEERING",
          "METALLURGICAL ENGINEERING",
          "NAVAL ARCHITECTURE AND MARINE ENGINEERING",
          "CHEMICAL ENGINEERING",
          "NUCLEAR ENGINEERING",
          "MECHANICAL ENGINEERING",
          "ELECTRICAL ENGINEERING",
          "COMPUTER ENGINEERING",
          "AEROSPACE ENGINEERING",
          "BIOMEDICAL ENGINEERING",
          "MATERIALS SCIENCE",
          "ENGINEERING MECHANICS PHYSICS AND SCIENCE",
          "BIOLOGICAL ENGINEERING",
          "INDUSTRIAL AND MANUFACTURING ENGINEERING",
          "GENERAL ENGINEERING",
          "ARCHITECTURAL ENGINEERING",
          "ELECTRICAL ENGINEERING TECHNOLOGY",
          "MATERIALS ENGINEERING AND MATERIALS SCIENCE",
          "CIVIL ENGINEERING",
          "MISCELLANEOUS ENGINEERING",
          "ENVIRONMENTAL ENGINEERING",
          "ENGINEERING TECHNOLOGIES",
          "GEOLOGICAL AND GEOPHYSICAL ENGINEERING",
          "INDUSTRIAL PRODUCTION TECHNOLOGIES",
          "ENGINEERING AND INDUSTRIAL MANAGEMENT",
          "ARCHITECTURE",
          "MISCELLANEOUS ENGINEERING TECHNOLOGIES",
          "MECHANICAL ENGINEERING RELATED TECHNOLOGIES"
         ],
         "legendgroup": "Engineering",
         "marker": {
          "color": "#636efa",
          "size": [
           110000,
           75000,
           73000,
           70000,
           65000,
           65000,
           60000,
           60000,
           60000,
           60000,
           60000,
           60000,
           58000,
           57100,
           57000,
           56000,
           54000,
           52000,
           52000,
           50000,
           50000,
           50000,
           50000,
           50000,
           46000,
           44000,
           40000,
           40000,
           40000
          ],
          "sizemode": "area",
          "sizeref": 122.22222222222223,
          "symbol": "circle"
         },
         "mode": "markers",
         "name": "Engineering",
         "orientation": "v",
         "showlegend": true,
         "type": "scatter",
         "x": [
          2339,
          756,
          856,
          1258,
          32260,
          2573,
          91227,
          81527,
          41542,
          15058,
          14955,
          4279,
          4321,
          8925,
          18968,
          61152,
          2825,
          11565,
          2993,
          53153,
          9133,
          4047,
          3600,
          720,
          4631,
          2906,
          46420,
          8804,
          4790
         ],
         "xaxis": "x",
         "y": [
          110000,
          75000,
          73000,
          70000,
          65000,
          65000,
          60000,
          60000,
          60000,
          60000,
          60000,
          60000,
          58000,
          57100,
          57000,
          56000,
          54000,
          52000,
          52000,
          50000,
          50000,
          50000,
          50000,
          50000,
          46000,
          44000,
          40000,
          40000,
          40000
         ],
         "yaxis": "y"
        },
        {
         "hovertemplate": "<b>%{hovertext}</b><br><br>Major_category=Business<br>Total=%{x}<br>Median=%{marker.size}<extra></extra>",
         "hovertext": [
          "ACTUARIAL SCIENCE",
          "MANAGEMENT INFORMATION SYSTEMS AND STATISTICS",
          "OPERATIONS LOGISTICS AND E-COMMERCE",
          "FINANCE",
          "BUSINESS ECONOMICS",
          "ACCOUNTING",
          "GENERAL BUSINESS",
          "INTERNATIONAL BUSINESS",
          "MISCELLANEOUS BUSINESS & MEDICAL ADMINISTRATION",
          "BUSINESS MANAGEMENT AND ADMINISTRATION",
          "MARKETING AND MARKETING RESEARCH",
          "HUMAN RESOURCES AND PERSONNEL MANAGEMENT",
          "HOSPITALITY MANAGEMENT"
         ],
         "legendgroup": "Business",
         "marker": {
          "color": "#EF553B",
          "size": [
           62000,
           51000,
           50000,
           47000,
           46000,
           45000,
           40000,
           40000,
           40000,
           38000,
           38000,
           36000,
           33000
          ],
          "sizemode": "area",
          "sizeref": 122.22222222222223,
          "symbol": "circle"
         },
         "mode": "markers",
         "name": "Business",
         "orientation": "v",
         "showlegend": true,
         "type": "scatter",
         "x": [
          3777,
          18713,
          11732,
          174506,
          13302,
          198633,
          234590,
          25894,
          17947,
          329927,
          205211,
          24497,
          43647
         ],
         "xaxis": "x",
         "y": [
          62000,
          51000,
          50000,
          47000,
          46000,
          45000,
          40000,
          40000,
          40000,
          38000,
          38000,
          36000,
          33000
         ],
         "yaxis": "y"
        },
        {
         "hovertemplate": "<b>%{hovertext}</b><br><br>Major_category=Physical Sciences<br>Total=%{x}<br>Median=%{marker.size}<extra></extra>",
         "hovertext": [
          "ASTRONOMY AND ASTROPHYSICS",
          "NUCLEAR, INDUSTRIAL RADIOLOGY, AND BIOLOGICAL TECHNOLOGIES",
          "PHYSICS",
          "OCEANOGRAPHY",
          "PHYSICAL SCIENCES",
          "CHEMISTRY",
          "GEOLOGY AND EARTH SCIENCE",
          "GEOSCIENCES",
          "MULTI-DISCIPLINARY OR GENERAL SCIENCE",
          "ATMOSPHERIC SCIENCES AND METEOROLOGY"
         ],
         "legendgroup": "Physical Sciences",
         "marker": {
          "color": "#00cc96",
          "size": [
           62000,
           46000,
           45000,
           44700,
           40000,
           39000,
           36200,
           36000,
           35000,
           35000
          ],
          "sizemode": "area",
          "sizeref": 122.22222222222223,
          "symbol": "circle"
         },
         "mode": "markers",
         "name": "Physical Sciences",
         "orientation": "v",
         "showlegend": true,
         "type": "scatter",
         "x": [
          1792,
          2116,
          32142,
          2418,
          1436,
          66530,
          10972,
          1978,
          62052,
          4043
         ],
         "xaxis": "x",
         "y": [
          62000,
          46000,
          45000,
          44700,
          40000,
          39000,
          36200,
          36000,
          35000,
          35000
         ],
         "yaxis": "y"
        },
        {
         "hovertemplate": "<b>%{hovertext}</b><br><br>Major_category=Law & Public Policy<br>Total=%{x}<br>Median=%{marker.size}<extra></extra>",
         "hovertext": [
          "COURT REPORTING",
          "PUBLIC POLICY",
          "PRE-LAW AND LEGAL STUDIES",
          "PUBLIC ADMINISTRATION",
          "CRIMINAL JUSTICE AND FIRE PROTECTION"
         ],
         "legendgroup": "Law & Public Policy",
         "marker": {
          "color": "#ab63fa",
          "size": [
           54000,
           50000,
           36000,
           36000,
           35000
          ],
          "sizemode": "area",
          "sizeref": 122.22222222222223,
          "symbol": "circle"
         },
         "mode": "markers",
         "name": "Law & Public Policy",
         "orientation": "v",
         "showlegend": true,
         "type": "scatter",
         "x": [
          1148,
          5978,
          13528,
          5629,
          152824
         ],
         "xaxis": "x",
         "y": [
          54000,
          50000,
          36000,
          36000,
          35000
         ],
         "yaxis": "y"
        },
        {
         "hovertemplate": "<b>%{hovertext}</b><br><br>Major_category=Computers & Mathematics<br>Total=%{x}<br>Median=%{marker.size}<extra></extra>",
         "hovertext": [
          "COMPUTER SCIENCE",
          "MATHEMATICS",
          "COMPUTER AND INFORMATION SYSTEMS",
          "INFORMATION SCIENCES",
          "STATISTICS AND DECISION SCIENCE",
          "APPLIED MATHEMATICS",
          "MATHEMATICS AND COMPUTER SCIENCE",
          "COMPUTER PROGRAMMING AND DATA PROCESSING",
          "COMPUTER ADMINISTRATION MANAGEMENT AND SECURITY",
          "COMPUTER NETWORKING AND TELECOMMUNICATIONS",
          "COMMUNICATION TECHNOLOGIES"
         ],
         "legendgroup": "Computers & Mathematics",
         "marker": {
          "color": "#FFA15A",
          "size": [
           53000,
           45000,
           45000,
           45000,
           45000,
           45000,
           42000,
           41300,
           37500,
           36400,
           35000
          ],
          "sizemode": "area",
          "sizeref": 122.22222222222223,
          "symbol": "circle"
         },
         "mode": "markers",
         "name": "Computers & Mathematics",
         "orientation": "v",
         "showlegend": true,
         "type": "scatter",
         "x": [
          128319,
          72397,
          36698,
          11913,
          6251,
          4939,
          609,
          4168,
          8066,
          7613,
          18035
         ],
         "xaxis": "x",
         "y": [
          53000,
          45000,
          45000,
          45000,
          45000,
          45000,
          42000,
          41300,
          37500,
          36400,
          35000
         ],
         "yaxis": "y"
        },
        {
         "hovertemplate": "<b>%{hovertext}</b><br><br>Major_category=Industrial Arts & Consumer Services<br>Total=%{x}<br>Median=%{marker.size}<extra></extra>",
         "hovertext": [
          "CONSTRUCTION SERVICES",
          "MILITARY TECHNOLOGIES",
          "ELECTRICAL, MECHANICAL, AND PRECISION TECHNOLOGIES AND PRODUCTION",
          "TRANSPORTATION SCIENCES AND TECHNOLOGIES",
          "PHYSICAL FITNESS PARKS RECREATION AND LEISURE",
          "FAMILY AND CONSUMER SCIENCES",
          "COSMETOLOGY SERVICES AND CULINARY ARTS"
         ],
         "legendgroup": "Industrial Arts & Consumer Services",
         "marker": {
          "color": "#19d3f3",
          "size": [
           50000,
           40000,
           38400,
           35000,
           32000,
           30000,
           29000
          ],
          "sizemode": "area",
          "sizeref": 122.22222222222223,
          "symbol": "circle"
         },
         "mode": "markers",
         "name": "Industrial Arts & Consumer Services",
         "orientation": "v",
         "showlegend": true,
         "type": "scatter",
         "x": [
          18498,
          124,
          2435,
          15150,
          125074,
          58001,
          10510
         ],
         "xaxis": "x",
         "y": [
          50000,
          40000,
          38400,
          35000,
          32000,
          30000,
          29000
         ],
         "yaxis": "y"
        },
        {
         "hovertemplate": "<b>%{hovertext}</b><br><br>Major_category=Arts<br>Total=%{x}<br>Median=%{marker.size}<extra></extra>",
         "hovertext": [
          "MISCELLANEOUS FINE ARTS",
          "COMMERCIAL ART AND GRAPHIC DESIGN",
          "FILM VIDEO AND PHOTOGRAPHIC ARTS",
          "MUSIC",
          "FINE ARTS",
          "VISUAL AND PERFORMING ARTS",
          "STUDIO ARTS",
          "DRAMA AND THEATER ARTS"
         ],
         "legendgroup": "Arts",
         "marker": {
          "color": "#FF6692",
          "size": [
           50000,
           35000,
           32000,
           31000,
           30500,
           30000,
           29000,
           27000
          ],
          "sizemode": "area",
          "sizeref": 122.22222222222223,
          "symbol": "circle"
         },
         "mode": "markers",
         "name": "Arts",
         "orientation": "v",
         "showlegend": true,
         "type": "scatter",
         "x": [
          3340,
          103480,
          38761,
          60633,
          74440,
          16250,
          16977,
          43249
         ],
         "xaxis": "x",
         "y": [
          50000,
          35000,
          32000,
          31000,
          30500,
          30000,
          29000,
          27000
         ],
         "yaxis": "y"
        },
        {
         "hovertemplate": "<b>%{hovertext}</b><br><br>Major_category=Health<br>Total=%{x}<br>Median=%{marker.size}<extra></extra>",
         "hovertext": [
          "NURSING",
          "MEDICAL TECHNOLOGIES TECHNICIANS",
          "MEDICAL ASSISTING SERVICES",
          "PHARMACY PHARMACEUTICAL SCIENCES AND ADMINISTRATION",
          "MISCELLANEOUS HEALTH MEDICAL PROFESSIONS",
          "NUTRITION SCIENCES",
          "HEALTH AND MEDICAL ADMINISTRATIVE SERVICES",
          "COMMUNITY AND PUBLIC HEALTH",
          "HEALTH AND MEDICAL PREPARATORY PROGRAMS",
          "TREATMENT THERAPY PROFESSIONS",
          "GENERAL MEDICAL AND HEALTH SERVICES",
          "COMMUNICATION DISORDERS SCIENCES AND SERVICES"
         ],
         "legendgroup": "Health",
         "marker": {
          "color": "#B6E880",
          "size": [
           48000,
           45000,
           42000,
           40000,
           36000,
           35000,
           35000,
           34000,
           33500,
           33000,
           32400,
           28000
          ],
          "sizemode": "area",
          "sizeref": 122.22222222222223,
          "symbol": "circle"
         },
         "mode": "markers",
         "name": "Health",
         "orientation": "v",
         "showlegend": true,
         "type": "scatter",
         "x": [
          209394,
          15914,
          11123,
          23551,
          13386,
          18909,
          18109,
          19735,
          12740,
          48491,
          33599,
          38279
         ],
         "xaxis": "x",
         "y": [
          48000,
          45000,
          42000,
          40000,
          36000,
          35000,
          35000,
          34000,
          33500,
          33000,
          32400,
          28000
         ],
         "yaxis": "y"
        },
        {
         "hovertemplate": "<b>%{hovertext}</b><br><br>Major_category=Social Science<br>Total=%{x}<br>Median=%{marker.size}<extra></extra>",
         "hovertext": [
          "ECONOMICS",
          "INTERNATIONAL RELATIONS",
          "MISCELLANEOUS SOCIAL SCIENCES",
          "POLITICAL SCIENCE AND GOVERNMENT",
          "GEOGRAPHY",
          "CRIMINOLOGY",
          "SOCIOLOGY",
          "INTERDISCIPLINARY SOCIAL SCIENCES",
          "GENERAL SOCIAL SCIENCES"
         ],
         "legendgroup": "Social Science",
         "marker": {
          "color": "#FF97FF",
          "size": [
           47000,
           40100,
           40000,
           38000,
           38000,
           35000,
           33000,
           33000,
           32000
          ],
          "sizemode": "area",
          "sizeref": 122.22222222222223,
          "symbol": "circle"
         },
         "mode": "markers",
         "name": "Social Science",
         "orientation": "v",
         "showlegend": true,
         "type": "scatter",
         "x": [
          139247,
          28187,
          3283,
          182621,
          18480,
          19879,
          115433,
          9916,
          12920
         ],
         "xaxis": "x",
         "y": [
          47000,
          40100,
          40000,
          38000,
          38000,
          35000,
          33000,
          33000,
          32000
         ],
         "yaxis": "y"
        },
        {
         "hovertemplate": "<b>%{hovertext}</b><br><br>Major_category=Biology & Life Science<br>Total=%{x}<br>Median=%{marker.size}<extra></extra>",
         "hovertext": [
          "PHARMACOLOGY",
          "COGNITIVE SCIENCE AND BIOPSYCHOLOGY",
          "MOLECULAR BIOLOGY",
          "GENETICS",
          "MICROBIOLOGY",
          "BIOCHEMICAL SCIENCES",
          "BOTANY",
          "ENVIRONMENTAL SCIENCE",
          "PHYSIOLOGY",
          "NEUROSCIENCE",
          "MISCELLANEOUS BIOLOGY",
          "BIOLOGY",
          "ECOLOGY",
          "ZOOLOGY"
         ],
         "legendgroup": "Biology & Life Science",
         "marker": {
          "color": "#FECB52",
          "size": [
           45000,
           41000,
           40000,
           40000,
           38000,
           37400,
           37000,
           35600,
           35000,
           35000,
           33500,
           33400,
           33000,
           26000
          ],
          "sizemode": "area",
          "sizeref": 122.22222222222223,
          "symbol": "circle"
         },
         "mode": "markers",
         "name": "Biology & Life Science",
         "orientation": "v",
         "showlegend": true,
         "type": "scatter",
         "x": [
          1762,
          3831,
          18300,
          3635,
          15232,
          39107,
          1329,
          25965,
          22060,
          13663,
          10706,
          280709,
          9154,
          8409
         ],
         "xaxis": "x",
         "y": [
          45000,
          41000,
          40000,
          40000,
          38000,
          37400,
          37000,
          35600,
          35000,
          35000,
          33500,
          33400,
          33000,
          26000
         ],
         "yaxis": "y"
        },
        {
         "hovertemplate": "<b>%{hovertext}</b><br><br>Major_category=Education<br>Total=%{x}<br>Median=%{marker.size}<extra></extra>",
         "hovertext": [
          "SCHOOL STUDENT COUNSELING",
          "SPECIAL NEEDS EDUCATION",
          "GENERAL EDUCATION",
          "SOCIAL SCIENCE OR HISTORY TEACHER EDUCATION",
          "MATHEMATICS TEACHER EDUCATION",
          "EDUCATIONAL ADMINISTRATION AND SUPERVISION",
          "LANGUAGE AND DRAMA EDUCATION",
          "MISCELLANEOUS EDUCATION",
          "SECONDARY TEACHER EDUCATION",
          "ART AND MUSIC EDUCATION",
          "ELEMENTARY EDUCATION",
          "SCIENCE AND COMPUTER TEACHER EDUCATION",
          "PHYSICAL AND HEALTH EDUCATION TEACHING",
          "TEACHER EDUCATION: MULTIPLE LEVELS",
          "EARLY CHILDHOOD EDUCATION",
          "LIBRARY SCIENCE"
         ],
         "legendgroup": "Education",
         "marker": {
          "color": "#636efa",
          "size": [
           41000,
           35000,
           34000,
           34000,
           34000,
           34000,
           33000,
           33000,
           32500,
           32100,
           32000,
           32000,
           31000,
           30000,
           28000,
           22000
          ],
          "sizemode": "area",
          "sizeref": 122.22222222222223,
          "symbol": "circle"
         },
         "mode": "markers",
         "name": "Education",
         "orientation": "v",
         "showlegend": true,
         "type": "scatter",
         "x": [
          818,
          28739,
          143718,
          20198,
          14237,
          804,
          30471,
          10150,
          17125,
          34181,
          170862,
          6483,
          28213,
          14443,
          37589,
          1098
         ],
         "xaxis": "x",
         "y": [
          41000,
          35000,
          34000,
          34000,
          34000,
          34000,
          33000,
          33000,
          32500,
          32100,
          32000,
          32000,
          31000,
          30000,
          28000,
          22000
         ],
         "yaxis": "y"
        },
        {
         "hovertemplate": "<b>%{hovertext}</b><br><br>Major_category=Agriculture & Natural Resources<br>Total=%{x}<br>Median=%{marker.size}<extra></extra>",
         "hovertext": [
          "AGRICULTURE PRODUCTION AND MANAGEMENT",
          "GENERAL AGRICULTURE",
          "AGRICULTURAL ECONOMICS",
          "NATURAL RESOURCES MANAGEMENT",
          "FORESTRY",
          "SOIL SCIENCE",
          "PLANT SCIENCE AND AGRONOMY",
          "ANIMAL SCIENCES",
          "MISCELLANEOUS AGRICULTURE"
         ],
         "legendgroup": "Agriculture & Natural Resources",
         "marker": {
          "color": "#EF553B",
          "size": [
           40000,
           40000,
           40000,
           35000,
           35000,
           35000,
           32000,
           30000,
           29000
          ],
          "sizemode": "area",
          "sizeref": 122.22222222222223,
          "symbol": "circle"
         },
         "mode": "markers",
         "name": "Agriculture & Natural Resources",
         "orientation": "v",
         "showlegend": true,
         "type": "scatter",
         "x": [
          14240,
          10399,
          2439,
          13773,
          3607,
          685,
          7416,
          21573,
          1488
         ],
         "xaxis": "x",
         "y": [
          40000,
          40000,
          40000,
          35000,
          35000,
          35000,
          32000,
          30000,
          29000
         ],
         "yaxis": "y"
        },
        {
         "hovertemplate": "<b>%{hovertext}</b><br><br>Major_category=Humanities & Liberal Arts<br>Total=%{x}<br>Median=%{marker.size}<extra></extra>",
         "hovertext": [
          "UNITED STATES HISTORY",
          "AREA ETHNIC AND CIVILIZATION STUDIES",
          "HISTORY",
          "FRENCH GERMAN LATIN AND OTHER COMMON FOREIGN LANGUAGE STUDIES",
          "INTERCULTURAL AND INTERNATIONAL STUDIES",
          "LINGUISTICS AND COMPARATIVE LANGUAGE AND LITERATURE",
          "PHILOSOPHY AND RELIGIOUS STUDIES",
          "ENGLISH LANGUAGE AND LITERATURE",
          "LIBERAL ARTS",
          "ART HISTORY AND CRITICISM",
          "HUMANITIES",
          "THEOLOGY AND RELIGIOUS VOCATIONS",
          "ANTHROPOLOGY AND ARCHEOLOGY",
          "OTHER FOREIGN LANGUAGES",
          "COMPOSITION AND RHETORIC"
         ],
         "legendgroup": "Humanities & Liberal Arts",
         "marker": {
          "color": "#00cc96",
          "size": [
           40000,
           35000,
           34000,
           34000,
           34000,
           33000,
           32200,
           32000,
           32000,
           31000,
           30000,
           29000,
           28000,
           27500,
           27000
          ],
          "sizemode": "area",
          "sizeref": 122.22222222222223,
          "symbol": "circle"
         },
         "mode": "markers",
         "name": "Humanities & Liberal Arts",
         "orientation": "v",
         "showlegend": true,
         "type": "scatter",
         "x": [
          3079,
          31195,
          141951,
          48246,
          24650,
          16601,
          54814,
          194673,
          71369,
          21030,
          6652,
          30207,
          38844,
          11204,
          18953
         ],
         "xaxis": "x",
         "y": [
          40000,
          35000,
          34000,
          34000,
          34000,
          33000,
          32200,
          32000,
          32000,
          31000,
          30000,
          29000,
          28000,
          27500,
          27000
         ],
         "yaxis": "y"
        },
        {
         "hovertemplate": "<b>%{hovertext}</b><br><br>Major_category=Psychology & Social Work<br>Total=%{x}<br>Median=%{marker.size}<extra></extra>",
         "hovertext": [
          "INDUSTRIAL AND ORGANIZATIONAL PSYCHOLOGY",
          "SOCIAL PSYCHOLOGY",
          "PSYCHOLOGY",
          "SOCIAL WORK",
          "MISCELLANEOUS PSYCHOLOGY",
          "HUMAN SERVICES AND COMMUNITY ORGANIZATION",
          "EDUCATIONAL PSYCHOLOGY",
          "CLINICAL PSYCHOLOGY",
          "COUNSELING PSYCHOLOGY"
         ],
         "legendgroup": "Psychology & Social Work",
         "marker": {
          "color": "#ab63fa",
          "size": [
           40000,
           36000,
           31500,
           30000,
           30000,
           30000,
           25000,
           25000,
           23400
          ],
          "sizemode": "area",
          "sizeref": 122.22222222222223,
          "symbol": "circle"
         },
         "mode": "markers",
         "name": "Psychology & Social Work",
         "orientation": "v",
         "showlegend": true,
         "type": "scatter",
         "x": [
          3014,
          1386,
          393735,
          53552,
          9628,
          9374,
          2854,
          2838,
          4626
         ],
         "xaxis": "x",
         "y": [
          40000,
          36000,
          31500,
          30000,
          30000,
          30000,
          25000,
          25000,
          23400
         ],
         "yaxis": "y"
        },
        {
         "hovertemplate": "<b>%{hovertext}</b><br><br>Major_category=Communications & Journalism<br>Total=%{x}<br>Median=%{marker.size}<extra></extra>",
         "hovertext": [
          "COMMUNICATIONS",
          "JOURNALISM",
          "ADVERTISING AND PUBLIC RELATIONS",
          "MASS MEDIA"
         ],
         "legendgroup": "Communications & Journalism",
         "marker": {
          "color": "#FFA15A",
          "size": [
           35000,
           35000,
           35000,
           33000
          ],
          "sizemode": "area",
          "sizeref": 122.22222222222223,
          "symbol": "circle"
         },
         "mode": "markers",
         "name": "Communications & Journalism",
         "orientation": "v",
         "showlegend": true,
         "type": "scatter",
         "x": [
          213996,
          72619,
          53162,
          52824
         ],
         "xaxis": "x",
         "y": [
          35000,
          35000,
          35000,
          33000
         ],
         "yaxis": "y"
        },
        {
         "hovertemplate": "<b>%{hovertext}</b><br><br>Major_category=Interdisciplinary<br>Total=%{x}<br>Median=%{marker.size}<extra></extra>",
         "hovertext": [
          "MULTI/INTERDISCIPLINARY STUDIES"
         ],
         "legendgroup": "Interdisciplinary",
         "marker": {
          "color": "#19d3f3",
          "size": [
           35000
          ],
          "sizemode": "area",
          "sizeref": 122.22222222222223,
          "symbol": "circle"
         },
         "mode": "markers",
         "name": "Interdisciplinary",
         "orientation": "v",
         "showlegend": true,
         "type": "scatter",
         "x": [
          12296
         ],
         "xaxis": "x",
         "y": [
          35000
         ],
         "yaxis": "y"
        }
       ],
       "layout": {
        "legend": {
         "itemsizing": "constant",
         "title": {
          "text": "Major_category"
         },
         "tracegroupgap": 0
        },
        "template": {
         "data": {
          "bar": [
           {
            "error_x": {
             "color": "#2a3f5f"
            },
            "error_y": {
             "color": "#2a3f5f"
            },
            "marker": {
             "line": {
              "color": "#E5ECF6",
              "width": 0.5
             },
             "pattern": {
              "fillmode": "overlay",
              "size": 10,
              "solidity": 0.2
             }
            },
            "type": "bar"
           }
          ],
          "barpolar": [
           {
            "marker": {
             "line": {
              "color": "#E5ECF6",
              "width": 0.5
             },
             "pattern": {
              "fillmode": "overlay",
              "size": 10,
              "solidity": 0.2
             }
            },
            "type": "barpolar"
           }
          ],
          "carpet": [
           {
            "aaxis": {
             "endlinecolor": "#2a3f5f",
             "gridcolor": "white",
             "linecolor": "white",
             "minorgridcolor": "white",
             "startlinecolor": "#2a3f5f"
            },
            "baxis": {
             "endlinecolor": "#2a3f5f",
             "gridcolor": "white",
             "linecolor": "white",
             "minorgridcolor": "white",
             "startlinecolor": "#2a3f5f"
            },
            "type": "carpet"
           }
          ],
          "choropleth": [
           {
            "colorbar": {
             "outlinewidth": 0,
             "ticks": ""
            },
            "type": "choropleth"
           }
          ],
          "contour": [
           {
            "colorbar": {
             "outlinewidth": 0,
             "ticks": ""
            },
            "colorscale": [
             [
              0,
              "#0d0887"
             ],
             [
              0.1111111111111111,
              "#46039f"
             ],
             [
              0.2222222222222222,
              "#7201a8"
             ],
             [
              0.3333333333333333,
              "#9c179e"
             ],
             [
              0.4444444444444444,
              "#bd3786"
             ],
             [
              0.5555555555555556,
              "#d8576b"
             ],
             [
              0.6666666666666666,
              "#ed7953"
             ],
             [
              0.7777777777777778,
              "#fb9f3a"
             ],
             [
              0.8888888888888888,
              "#fdca26"
             ],
             [
              1,
              "#f0f921"
             ]
            ],
            "type": "contour"
           }
          ],
          "contourcarpet": [
           {
            "colorbar": {
             "outlinewidth": 0,
             "ticks": ""
            },
            "type": "contourcarpet"
           }
          ],
          "heatmap": [
           {
            "colorbar": {
             "outlinewidth": 0,
             "ticks": ""
            },
            "colorscale": [
             [
              0,
              "#0d0887"
             ],
             [
              0.1111111111111111,
              "#46039f"
             ],
             [
              0.2222222222222222,
              "#7201a8"
             ],
             [
              0.3333333333333333,
              "#9c179e"
             ],
             [
              0.4444444444444444,
              "#bd3786"
             ],
             [
              0.5555555555555556,
              "#d8576b"
             ],
             [
              0.6666666666666666,
              "#ed7953"
             ],
             [
              0.7777777777777778,
              "#fb9f3a"
             ],
             [
              0.8888888888888888,
              "#fdca26"
             ],
             [
              1,
              "#f0f921"
             ]
            ],
            "type": "heatmap"
           }
          ],
          "heatmapgl": [
           {
            "colorbar": {
             "outlinewidth": 0,
             "ticks": ""
            },
            "colorscale": [
             [
              0,
              "#0d0887"
             ],
             [
              0.1111111111111111,
              "#46039f"
             ],
             [
              0.2222222222222222,
              "#7201a8"
             ],
             [
              0.3333333333333333,
              "#9c179e"
             ],
             [
              0.4444444444444444,
              "#bd3786"
             ],
             [
              0.5555555555555556,
              "#d8576b"
             ],
             [
              0.6666666666666666,
              "#ed7953"
             ],
             [
              0.7777777777777778,
              "#fb9f3a"
             ],
             [
              0.8888888888888888,
              "#fdca26"
             ],
             [
              1,
              "#f0f921"
             ]
            ],
            "type": "heatmapgl"
           }
          ],
          "histogram": [
           {
            "marker": {
             "pattern": {
              "fillmode": "overlay",
              "size": 10,
              "solidity": 0.2
             }
            },
            "type": "histogram"
           }
          ],
          "histogram2d": [
           {
            "colorbar": {
             "outlinewidth": 0,
             "ticks": ""
            },
            "colorscale": [
             [
              0,
              "#0d0887"
             ],
             [
              0.1111111111111111,
              "#46039f"
             ],
             [
              0.2222222222222222,
              "#7201a8"
             ],
             [
              0.3333333333333333,
              "#9c179e"
             ],
             [
              0.4444444444444444,
              "#bd3786"
             ],
             [
              0.5555555555555556,
              "#d8576b"
             ],
             [
              0.6666666666666666,
              "#ed7953"
             ],
             [
              0.7777777777777778,
              "#fb9f3a"
             ],
             [
              0.8888888888888888,
              "#fdca26"
             ],
             [
              1,
              "#f0f921"
             ]
            ],
            "type": "histogram2d"
           }
          ],
          "histogram2dcontour": [
           {
            "colorbar": {
             "outlinewidth": 0,
             "ticks": ""
            },
            "colorscale": [
             [
              0,
              "#0d0887"
             ],
             [
              0.1111111111111111,
              "#46039f"
             ],
             [
              0.2222222222222222,
              "#7201a8"
             ],
             [
              0.3333333333333333,
              "#9c179e"
             ],
             [
              0.4444444444444444,
              "#bd3786"
             ],
             [
              0.5555555555555556,
              "#d8576b"
             ],
             [
              0.6666666666666666,
              "#ed7953"
             ],
             [
              0.7777777777777778,
              "#fb9f3a"
             ],
             [
              0.8888888888888888,
              "#fdca26"
             ],
             [
              1,
              "#f0f921"
             ]
            ],
            "type": "histogram2dcontour"
           }
          ],
          "mesh3d": [
           {
            "colorbar": {
             "outlinewidth": 0,
             "ticks": ""
            },
            "type": "mesh3d"
           }
          ],
          "parcoords": [
           {
            "line": {
             "colorbar": {
              "outlinewidth": 0,
              "ticks": ""
             }
            },
            "type": "parcoords"
           }
          ],
          "pie": [
           {
            "automargin": true,
            "type": "pie"
           }
          ],
          "scatter": [
           {
            "fillpattern": {
             "fillmode": "overlay",
             "size": 10,
             "solidity": 0.2
            },
            "type": "scatter"
           }
          ],
          "scatter3d": [
           {
            "line": {
             "colorbar": {
              "outlinewidth": 0,
              "ticks": ""
             }
            },
            "marker": {
             "colorbar": {
              "outlinewidth": 0,
              "ticks": ""
             }
            },
            "type": "scatter3d"
           }
          ],
          "scattercarpet": [
           {
            "marker": {
             "colorbar": {
              "outlinewidth": 0,
              "ticks": ""
             }
            },
            "type": "scattercarpet"
           }
          ],
          "scattergeo": [
           {
            "marker": {
             "colorbar": {
              "outlinewidth": 0,
              "ticks": ""
             }
            },
            "type": "scattergeo"
           }
          ],
          "scattergl": [
           {
            "marker": {
             "colorbar": {
              "outlinewidth": 0,
              "ticks": ""
             }
            },
            "type": "scattergl"
           }
          ],
          "scattermapbox": [
           {
            "marker": {
             "colorbar": {
              "outlinewidth": 0,
              "ticks": ""
             }
            },
            "type": "scattermapbox"
           }
          ],
          "scatterpolar": [
           {
            "marker": {
             "colorbar": {
              "outlinewidth": 0,
              "ticks": ""
             }
            },
            "type": "scatterpolar"
           }
          ],
          "scatterpolargl": [
           {
            "marker": {
             "colorbar": {
              "outlinewidth": 0,
              "ticks": ""
             }
            },
            "type": "scatterpolargl"
           }
          ],
          "scatterternary": [
           {
            "marker": {
             "colorbar": {
              "outlinewidth": 0,
              "ticks": ""
             }
            },
            "type": "scatterternary"
           }
          ],
          "surface": [
           {
            "colorbar": {
             "outlinewidth": 0,
             "ticks": ""
            },
            "colorscale": [
             [
              0,
              "#0d0887"
             ],
             [
              0.1111111111111111,
              "#46039f"
             ],
             [
              0.2222222222222222,
              "#7201a8"
             ],
             [
              0.3333333333333333,
              "#9c179e"
             ],
             [
              0.4444444444444444,
              "#bd3786"
             ],
             [
              0.5555555555555556,
              "#d8576b"
             ],
             [
              0.6666666666666666,
              "#ed7953"
             ],
             [
              0.7777777777777778,
              "#fb9f3a"
             ],
             [
              0.8888888888888888,
              "#fdca26"
             ],
             [
              1,
              "#f0f921"
             ]
            ],
            "type": "surface"
           }
          ],
          "table": [
           {
            "cells": {
             "fill": {
              "color": "#EBF0F8"
             },
             "line": {
              "color": "white"
             }
            },
            "header": {
             "fill": {
              "color": "#C8D4E3"
             },
             "line": {
              "color": "white"
             }
            },
            "type": "table"
           }
          ]
         },
         "layout": {
          "annotationdefaults": {
           "arrowcolor": "#2a3f5f",
           "arrowhead": 0,
           "arrowwidth": 1
          },
          "autotypenumbers": "strict",
          "coloraxis": {
           "colorbar": {
            "outlinewidth": 0,
            "ticks": ""
           }
          },
          "colorscale": {
           "diverging": [
            [
             0,
             "#8e0152"
            ],
            [
             0.1,
             "#c51b7d"
            ],
            [
             0.2,
             "#de77ae"
            ],
            [
             0.3,
             "#f1b6da"
            ],
            [
             0.4,
             "#fde0ef"
            ],
            [
             0.5,
             "#f7f7f7"
            ],
            [
             0.6,
             "#e6f5d0"
            ],
            [
             0.7,
             "#b8e186"
            ],
            [
             0.8,
             "#7fbc41"
            ],
            [
             0.9,
             "#4d9221"
            ],
            [
             1,
             "#276419"
            ]
           ],
           "sequential": [
            [
             0,
             "#0d0887"
            ],
            [
             0.1111111111111111,
             "#46039f"
            ],
            [
             0.2222222222222222,
             "#7201a8"
            ],
            [
             0.3333333333333333,
             "#9c179e"
            ],
            [
             0.4444444444444444,
             "#bd3786"
            ],
            [
             0.5555555555555556,
             "#d8576b"
            ],
            [
             0.6666666666666666,
             "#ed7953"
            ],
            [
             0.7777777777777778,
             "#fb9f3a"
            ],
            [
             0.8888888888888888,
             "#fdca26"
            ],
            [
             1,
             "#f0f921"
            ]
           ],
           "sequentialminus": [
            [
             0,
             "#0d0887"
            ],
            [
             0.1111111111111111,
             "#46039f"
            ],
            [
             0.2222222222222222,
             "#7201a8"
            ],
            [
             0.3333333333333333,
             "#9c179e"
            ],
            [
             0.4444444444444444,
             "#bd3786"
            ],
            [
             0.5555555555555556,
             "#d8576b"
            ],
            [
             0.6666666666666666,
             "#ed7953"
            ],
            [
             0.7777777777777778,
             "#fb9f3a"
            ],
            [
             0.8888888888888888,
             "#fdca26"
            ],
            [
             1,
             "#f0f921"
            ]
           ]
          },
          "colorway": [
           "#636efa",
           "#EF553B",
           "#00cc96",
           "#ab63fa",
           "#FFA15A",
           "#19d3f3",
           "#FF6692",
           "#B6E880",
           "#FF97FF",
           "#FECB52"
          ],
          "font": {
           "color": "#2a3f5f"
          },
          "geo": {
           "bgcolor": "white",
           "lakecolor": "white",
           "landcolor": "#E5ECF6",
           "showlakes": true,
           "showland": true,
           "subunitcolor": "white"
          },
          "hoverlabel": {
           "align": "left"
          },
          "hovermode": "closest",
          "mapbox": {
           "style": "light"
          },
          "paper_bgcolor": "white",
          "plot_bgcolor": "#E5ECF6",
          "polar": {
           "angularaxis": {
            "gridcolor": "white",
            "linecolor": "white",
            "ticks": ""
           },
           "bgcolor": "#E5ECF6",
           "radialaxis": {
            "gridcolor": "white",
            "linecolor": "white",
            "ticks": ""
           }
          },
          "scene": {
           "xaxis": {
            "backgroundcolor": "#E5ECF6",
            "gridcolor": "white",
            "gridwidth": 2,
            "linecolor": "white",
            "showbackground": true,
            "ticks": "",
            "zerolinecolor": "white"
           },
           "yaxis": {
            "backgroundcolor": "#E5ECF6",
            "gridcolor": "white",
            "gridwidth": 2,
            "linecolor": "white",
            "showbackground": true,
            "ticks": "",
            "zerolinecolor": "white"
           },
           "zaxis": {
            "backgroundcolor": "#E5ECF6",
            "gridcolor": "white",
            "gridwidth": 2,
            "linecolor": "white",
            "showbackground": true,
            "ticks": "",
            "zerolinecolor": "white"
           }
          },
          "shapedefaults": {
           "line": {
            "color": "#2a3f5f"
           }
          },
          "ternary": {
           "aaxis": {
            "gridcolor": "white",
            "linecolor": "white",
            "ticks": ""
           },
           "baxis": {
            "gridcolor": "white",
            "linecolor": "white",
            "ticks": ""
           },
           "bgcolor": "#E5ECF6",
           "caxis": {
            "gridcolor": "white",
            "linecolor": "white",
            "ticks": ""
           }
          },
          "title": {
           "x": 0.05
          },
          "xaxis": {
           "automargin": true,
           "gridcolor": "white",
           "linecolor": "white",
           "ticks": "",
           "title": {
            "standoff": 15
           },
           "zerolinecolor": "white",
           "zerolinewidth": 2
          },
          "yaxis": {
           "automargin": true,
           "gridcolor": "white",
           "linecolor": "white",
           "ticks": "",
           "title": {
            "standoff": 15
           },
           "zerolinecolor": "white",
           "zerolinewidth": 2
          }
         }
        },
        "title": {
         "text": "Distribution of salaries depending on the major"
        },
        "xaxis": {
         "anchor": "y",
         "domain": [
          0,
          1
         ],
         "title": {
          "text": "Total"
         },
         "type": "log"
        },
        "yaxis": {
         "anchor": "x",
         "domain": [
          0,
          1
         ],
         "title": {
          "text": "Median"
         }
        }
       }
      },
      "text/html": [
       "<div>                            <div id=\"f62d35fe-9d60-46a3-b3c2-5b1d3b8551a0\" class=\"plotly-graph-div\" style=\"height:525px; width:100%;\"></div>            <script type=\"text/javascript\">                require([\"plotly\"], function(Plotly) {                    window.PLOTLYENV=window.PLOTLYENV || {};                                    if (document.getElementById(\"f62d35fe-9d60-46a3-b3c2-5b1d3b8551a0\")) {                    Plotly.newPlot(                        \"f62d35fe-9d60-46a3-b3c2-5b1d3b8551a0\",                        [{\"hovertemplate\":\"<b>%{hovertext}</b><br><br>Major_category=Engineering<br>Total=%{x}<br>Median=%{marker.size}<extra></extra>\",\"hovertext\":[\"PETROLEUM ENGINEERING\",\"MINING AND MINERAL ENGINEERING\",\"METALLURGICAL ENGINEERING\",\"NAVAL ARCHITECTURE AND MARINE ENGINEERING\",\"CHEMICAL ENGINEERING\",\"NUCLEAR ENGINEERING\",\"MECHANICAL ENGINEERING\",\"ELECTRICAL ENGINEERING\",\"COMPUTER ENGINEERING\",\"AEROSPACE ENGINEERING\",\"BIOMEDICAL ENGINEERING\",\"MATERIALS SCIENCE\",\"ENGINEERING MECHANICS PHYSICS AND SCIENCE\",\"BIOLOGICAL ENGINEERING\",\"INDUSTRIAL AND MANUFACTURING ENGINEERING\",\"GENERAL ENGINEERING\",\"ARCHITECTURAL ENGINEERING\",\"ELECTRICAL ENGINEERING TECHNOLOGY\",\"MATERIALS ENGINEERING AND MATERIALS SCIENCE\",\"CIVIL ENGINEERING\",\"MISCELLANEOUS ENGINEERING\",\"ENVIRONMENTAL ENGINEERING\",\"ENGINEERING TECHNOLOGIES\",\"GEOLOGICAL AND GEOPHYSICAL ENGINEERING\",\"INDUSTRIAL PRODUCTION TECHNOLOGIES\",\"ENGINEERING AND INDUSTRIAL MANAGEMENT\",\"ARCHITECTURE\",\"MISCELLANEOUS ENGINEERING TECHNOLOGIES\",\"MECHANICAL ENGINEERING RELATED TECHNOLOGIES\"],\"legendgroup\":\"Engineering\",\"marker\":{\"color\":\"#636efa\",\"size\":[110000,75000,73000,70000,65000,65000,60000,60000,60000,60000,60000,60000,58000,57100,57000,56000,54000,52000,52000,50000,50000,50000,50000,50000,46000,44000,40000,40000,40000],\"sizemode\":\"area\",\"sizeref\":122.22222222222223,\"symbol\":\"circle\"},\"mode\":\"markers\",\"name\":\"Engineering\",\"orientation\":\"v\",\"showlegend\":true,\"x\":[2339.0,756.0,856.0,1258.0,32260.0,2573.0,91227.0,81527.0,41542.0,15058.0,14955.0,4279.0,4321.0,8925.0,18968.0,61152.0,2825.0,11565.0,2993.0,53153.0,9133.0,4047.0,3600.0,720.0,4631.0,2906.0,46420.0,8804.0,4790.0],\"xaxis\":\"x\",\"y\":[110000,75000,73000,70000,65000,65000,60000,60000,60000,60000,60000,60000,58000,57100,57000,56000,54000,52000,52000,50000,50000,50000,50000,50000,46000,44000,40000,40000,40000],\"yaxis\":\"y\",\"type\":\"scatter\"},{\"hovertemplate\":\"<b>%{hovertext}</b><br><br>Major_category=Business<br>Total=%{x}<br>Median=%{marker.size}<extra></extra>\",\"hovertext\":[\"ACTUARIAL SCIENCE\",\"MANAGEMENT INFORMATION SYSTEMS AND STATISTICS\",\"OPERATIONS LOGISTICS AND E-COMMERCE\",\"FINANCE\",\"BUSINESS ECONOMICS\",\"ACCOUNTING\",\"GENERAL BUSINESS\",\"INTERNATIONAL BUSINESS\",\"MISCELLANEOUS BUSINESS & MEDICAL ADMINISTRATION\",\"BUSINESS MANAGEMENT AND ADMINISTRATION\",\"MARKETING AND MARKETING RESEARCH\",\"HUMAN RESOURCES AND PERSONNEL MANAGEMENT\",\"HOSPITALITY MANAGEMENT\"],\"legendgroup\":\"Business\",\"marker\":{\"color\":\"#EF553B\",\"size\":[62000,51000,50000,47000,46000,45000,40000,40000,40000,38000,38000,36000,33000],\"sizemode\":\"area\",\"sizeref\":122.22222222222223,\"symbol\":\"circle\"},\"mode\":\"markers\",\"name\":\"Business\",\"orientation\":\"v\",\"showlegend\":true,\"x\":[3777.0,18713.0,11732.0,174506.0,13302.0,198633.0,234590.0,25894.0,17947.0,329927.0,205211.0,24497.0,43647.0],\"xaxis\":\"x\",\"y\":[62000,51000,50000,47000,46000,45000,40000,40000,40000,38000,38000,36000,33000],\"yaxis\":\"y\",\"type\":\"scatter\"},{\"hovertemplate\":\"<b>%{hovertext}</b><br><br>Major_category=Physical Sciences<br>Total=%{x}<br>Median=%{marker.size}<extra></extra>\",\"hovertext\":[\"ASTRONOMY AND ASTROPHYSICS\",\"NUCLEAR, INDUSTRIAL RADIOLOGY, AND BIOLOGICAL TECHNOLOGIES\",\"PHYSICS\",\"OCEANOGRAPHY\",\"PHYSICAL SCIENCES\",\"CHEMISTRY\",\"GEOLOGY AND EARTH SCIENCE\",\"GEOSCIENCES\",\"MULTI-DISCIPLINARY OR GENERAL SCIENCE\",\"ATMOSPHERIC SCIENCES AND METEOROLOGY\"],\"legendgroup\":\"Physical Sciences\",\"marker\":{\"color\":\"#00cc96\",\"size\":[62000,46000,45000,44700,40000,39000,36200,36000,35000,35000],\"sizemode\":\"area\",\"sizeref\":122.22222222222223,\"symbol\":\"circle\"},\"mode\":\"markers\",\"name\":\"Physical Sciences\",\"orientation\":\"v\",\"showlegend\":true,\"x\":[1792.0,2116.0,32142.0,2418.0,1436.0,66530.0,10972.0,1978.0,62052.0,4043.0],\"xaxis\":\"x\",\"y\":[62000,46000,45000,44700,40000,39000,36200,36000,35000,35000],\"yaxis\":\"y\",\"type\":\"scatter\"},{\"hovertemplate\":\"<b>%{hovertext}</b><br><br>Major_category=Law & Public Policy<br>Total=%{x}<br>Median=%{marker.size}<extra></extra>\",\"hovertext\":[\"COURT REPORTING\",\"PUBLIC POLICY\",\"PRE-LAW AND LEGAL STUDIES\",\"PUBLIC ADMINISTRATION\",\"CRIMINAL JUSTICE AND FIRE PROTECTION\"],\"legendgroup\":\"Law & Public Policy\",\"marker\":{\"color\":\"#ab63fa\",\"size\":[54000,50000,36000,36000,35000],\"sizemode\":\"area\",\"sizeref\":122.22222222222223,\"symbol\":\"circle\"},\"mode\":\"markers\",\"name\":\"Law & Public Policy\",\"orientation\":\"v\",\"showlegend\":true,\"x\":[1148.0,5978.0,13528.0,5629.0,152824.0],\"xaxis\":\"x\",\"y\":[54000,50000,36000,36000,35000],\"yaxis\":\"y\",\"type\":\"scatter\"},{\"hovertemplate\":\"<b>%{hovertext}</b><br><br>Major_category=Computers & Mathematics<br>Total=%{x}<br>Median=%{marker.size}<extra></extra>\",\"hovertext\":[\"COMPUTER SCIENCE\",\"MATHEMATICS\",\"COMPUTER AND INFORMATION SYSTEMS\",\"INFORMATION SCIENCES\",\"STATISTICS AND DECISION SCIENCE\",\"APPLIED MATHEMATICS\",\"MATHEMATICS AND COMPUTER SCIENCE\",\"COMPUTER PROGRAMMING AND DATA PROCESSING\",\"COMPUTER ADMINISTRATION MANAGEMENT AND SECURITY\",\"COMPUTER NETWORKING AND TELECOMMUNICATIONS\",\"COMMUNICATION TECHNOLOGIES\"],\"legendgroup\":\"Computers & Mathematics\",\"marker\":{\"color\":\"#FFA15A\",\"size\":[53000,45000,45000,45000,45000,45000,42000,41300,37500,36400,35000],\"sizemode\":\"area\",\"sizeref\":122.22222222222223,\"symbol\":\"circle\"},\"mode\":\"markers\",\"name\":\"Computers & Mathematics\",\"orientation\":\"v\",\"showlegend\":true,\"x\":[128319.0,72397.0,36698.0,11913.0,6251.0,4939.0,609.0,4168.0,8066.0,7613.0,18035.0],\"xaxis\":\"x\",\"y\":[53000,45000,45000,45000,45000,45000,42000,41300,37500,36400,35000],\"yaxis\":\"y\",\"type\":\"scatter\"},{\"hovertemplate\":\"<b>%{hovertext}</b><br><br>Major_category=Industrial Arts & Consumer Services<br>Total=%{x}<br>Median=%{marker.size}<extra></extra>\",\"hovertext\":[\"CONSTRUCTION SERVICES\",\"MILITARY TECHNOLOGIES\",\"ELECTRICAL, MECHANICAL, AND PRECISION TECHNOLOGIES AND PRODUCTION\",\"TRANSPORTATION SCIENCES AND TECHNOLOGIES\",\"PHYSICAL FITNESS PARKS RECREATION AND LEISURE\",\"FAMILY AND CONSUMER SCIENCES\",\"COSMETOLOGY SERVICES AND CULINARY ARTS\"],\"legendgroup\":\"Industrial Arts & Consumer Services\",\"marker\":{\"color\":\"#19d3f3\",\"size\":[50000,40000,38400,35000,32000,30000,29000],\"sizemode\":\"area\",\"sizeref\":122.22222222222223,\"symbol\":\"circle\"},\"mode\":\"markers\",\"name\":\"Industrial Arts & Consumer Services\",\"orientation\":\"v\",\"showlegend\":true,\"x\":[18498.0,124.0,2435.0,15150.0,125074.0,58001.0,10510.0],\"xaxis\":\"x\",\"y\":[50000,40000,38400,35000,32000,30000,29000],\"yaxis\":\"y\",\"type\":\"scatter\"},{\"hovertemplate\":\"<b>%{hovertext}</b><br><br>Major_category=Arts<br>Total=%{x}<br>Median=%{marker.size}<extra></extra>\",\"hovertext\":[\"MISCELLANEOUS FINE ARTS\",\"COMMERCIAL ART AND GRAPHIC DESIGN\",\"FILM VIDEO AND PHOTOGRAPHIC ARTS\",\"MUSIC\",\"FINE ARTS\",\"VISUAL AND PERFORMING ARTS\",\"STUDIO ARTS\",\"DRAMA AND THEATER ARTS\"],\"legendgroup\":\"Arts\",\"marker\":{\"color\":\"#FF6692\",\"size\":[50000,35000,32000,31000,30500,30000,29000,27000],\"sizemode\":\"area\",\"sizeref\":122.22222222222223,\"symbol\":\"circle\"},\"mode\":\"markers\",\"name\":\"Arts\",\"orientation\":\"v\",\"showlegend\":true,\"x\":[3340.0,103480.0,38761.0,60633.0,74440.0,16250.0,16977.0,43249.0],\"xaxis\":\"x\",\"y\":[50000,35000,32000,31000,30500,30000,29000,27000],\"yaxis\":\"y\",\"type\":\"scatter\"},{\"hovertemplate\":\"<b>%{hovertext}</b><br><br>Major_category=Health<br>Total=%{x}<br>Median=%{marker.size}<extra></extra>\",\"hovertext\":[\"NURSING\",\"MEDICAL TECHNOLOGIES TECHNICIANS\",\"MEDICAL ASSISTING SERVICES\",\"PHARMACY PHARMACEUTICAL SCIENCES AND ADMINISTRATION\",\"MISCELLANEOUS HEALTH MEDICAL PROFESSIONS\",\"NUTRITION SCIENCES\",\"HEALTH AND MEDICAL ADMINISTRATIVE SERVICES\",\"COMMUNITY AND PUBLIC HEALTH\",\"HEALTH AND MEDICAL PREPARATORY PROGRAMS\",\"TREATMENT THERAPY PROFESSIONS\",\"GENERAL MEDICAL AND HEALTH SERVICES\",\"COMMUNICATION DISORDERS SCIENCES AND SERVICES\"],\"legendgroup\":\"Health\",\"marker\":{\"color\":\"#B6E880\",\"size\":[48000,45000,42000,40000,36000,35000,35000,34000,33500,33000,32400,28000],\"sizemode\":\"area\",\"sizeref\":122.22222222222223,\"symbol\":\"circle\"},\"mode\":\"markers\",\"name\":\"Health\",\"orientation\":\"v\",\"showlegend\":true,\"x\":[209394.0,15914.0,11123.0,23551.0,13386.0,18909.0,18109.0,19735.0,12740.0,48491.0,33599.0,38279.0],\"xaxis\":\"x\",\"y\":[48000,45000,42000,40000,36000,35000,35000,34000,33500,33000,32400,28000],\"yaxis\":\"y\",\"type\":\"scatter\"},{\"hovertemplate\":\"<b>%{hovertext}</b><br><br>Major_category=Social Science<br>Total=%{x}<br>Median=%{marker.size}<extra></extra>\",\"hovertext\":[\"ECONOMICS\",\"INTERNATIONAL RELATIONS\",\"MISCELLANEOUS SOCIAL SCIENCES\",\"POLITICAL SCIENCE AND GOVERNMENT\",\"GEOGRAPHY\",\"CRIMINOLOGY\",\"SOCIOLOGY\",\"INTERDISCIPLINARY SOCIAL SCIENCES\",\"GENERAL SOCIAL SCIENCES\"],\"legendgroup\":\"Social Science\",\"marker\":{\"color\":\"#FF97FF\",\"size\":[47000,40100,40000,38000,38000,35000,33000,33000,32000],\"sizemode\":\"area\",\"sizeref\":122.22222222222223,\"symbol\":\"circle\"},\"mode\":\"markers\",\"name\":\"Social Science\",\"orientation\":\"v\",\"showlegend\":true,\"x\":[139247.0,28187.0,3283.0,182621.0,18480.0,19879.0,115433.0,9916.0,12920.0],\"xaxis\":\"x\",\"y\":[47000,40100,40000,38000,38000,35000,33000,33000,32000],\"yaxis\":\"y\",\"type\":\"scatter\"},{\"hovertemplate\":\"<b>%{hovertext}</b><br><br>Major_category=Biology & Life Science<br>Total=%{x}<br>Median=%{marker.size}<extra></extra>\",\"hovertext\":[\"PHARMACOLOGY\",\"COGNITIVE SCIENCE AND BIOPSYCHOLOGY\",\"MOLECULAR BIOLOGY\",\"GENETICS\",\"MICROBIOLOGY\",\"BIOCHEMICAL SCIENCES\",\"BOTANY\",\"ENVIRONMENTAL SCIENCE\",\"PHYSIOLOGY\",\"NEUROSCIENCE\",\"MISCELLANEOUS BIOLOGY\",\"BIOLOGY\",\"ECOLOGY\",\"ZOOLOGY\"],\"legendgroup\":\"Biology & Life Science\",\"marker\":{\"color\":\"#FECB52\",\"size\":[45000,41000,40000,40000,38000,37400,37000,35600,35000,35000,33500,33400,33000,26000],\"sizemode\":\"area\",\"sizeref\":122.22222222222223,\"symbol\":\"circle\"},\"mode\":\"markers\",\"name\":\"Biology & Life Science\",\"orientation\":\"v\",\"showlegend\":true,\"x\":[1762.0,3831.0,18300.0,3635.0,15232.0,39107.0,1329.0,25965.0,22060.0,13663.0,10706.0,280709.0,9154.0,8409.0],\"xaxis\":\"x\",\"y\":[45000,41000,40000,40000,38000,37400,37000,35600,35000,35000,33500,33400,33000,26000],\"yaxis\":\"y\",\"type\":\"scatter\"},{\"hovertemplate\":\"<b>%{hovertext}</b><br><br>Major_category=Education<br>Total=%{x}<br>Median=%{marker.size}<extra></extra>\",\"hovertext\":[\"SCHOOL STUDENT COUNSELING\",\"SPECIAL NEEDS EDUCATION\",\"GENERAL EDUCATION\",\"SOCIAL SCIENCE OR HISTORY TEACHER EDUCATION\",\"MATHEMATICS TEACHER EDUCATION\",\"EDUCATIONAL ADMINISTRATION AND SUPERVISION\",\"LANGUAGE AND DRAMA EDUCATION\",\"MISCELLANEOUS EDUCATION\",\"SECONDARY TEACHER EDUCATION\",\"ART AND MUSIC EDUCATION\",\"ELEMENTARY EDUCATION\",\"SCIENCE AND COMPUTER TEACHER EDUCATION\",\"PHYSICAL AND HEALTH EDUCATION TEACHING\",\"TEACHER EDUCATION: MULTIPLE LEVELS\",\"EARLY CHILDHOOD EDUCATION\",\"LIBRARY SCIENCE\"],\"legendgroup\":\"Education\",\"marker\":{\"color\":\"#636efa\",\"size\":[41000,35000,34000,34000,34000,34000,33000,33000,32500,32100,32000,32000,31000,30000,28000,22000],\"sizemode\":\"area\",\"sizeref\":122.22222222222223,\"symbol\":\"circle\"},\"mode\":\"markers\",\"name\":\"Education\",\"orientation\":\"v\",\"showlegend\":true,\"x\":[818.0,28739.0,143718.0,20198.0,14237.0,804.0,30471.0,10150.0,17125.0,34181.0,170862.0,6483.0,28213.0,14443.0,37589.0,1098.0],\"xaxis\":\"x\",\"y\":[41000,35000,34000,34000,34000,34000,33000,33000,32500,32100,32000,32000,31000,30000,28000,22000],\"yaxis\":\"y\",\"type\":\"scatter\"},{\"hovertemplate\":\"<b>%{hovertext}</b><br><br>Major_category=Agriculture & Natural Resources<br>Total=%{x}<br>Median=%{marker.size}<extra></extra>\",\"hovertext\":[\"AGRICULTURE PRODUCTION AND MANAGEMENT\",\"GENERAL AGRICULTURE\",\"AGRICULTURAL ECONOMICS\",\"NATURAL RESOURCES MANAGEMENT\",\"FORESTRY\",\"SOIL SCIENCE\",\"PLANT SCIENCE AND AGRONOMY\",\"ANIMAL SCIENCES\",\"MISCELLANEOUS AGRICULTURE\"],\"legendgroup\":\"Agriculture & Natural Resources\",\"marker\":{\"color\":\"#EF553B\",\"size\":[40000,40000,40000,35000,35000,35000,32000,30000,29000],\"sizemode\":\"area\",\"sizeref\":122.22222222222223,\"symbol\":\"circle\"},\"mode\":\"markers\",\"name\":\"Agriculture & Natural Resources\",\"orientation\":\"v\",\"showlegend\":true,\"x\":[14240.0,10399.0,2439.0,13773.0,3607.0,685.0,7416.0,21573.0,1488.0],\"xaxis\":\"x\",\"y\":[40000,40000,40000,35000,35000,35000,32000,30000,29000],\"yaxis\":\"y\",\"type\":\"scatter\"},{\"hovertemplate\":\"<b>%{hovertext}</b><br><br>Major_category=Humanities & Liberal Arts<br>Total=%{x}<br>Median=%{marker.size}<extra></extra>\",\"hovertext\":[\"UNITED STATES HISTORY\",\"AREA ETHNIC AND CIVILIZATION STUDIES\",\"HISTORY\",\"FRENCH GERMAN LATIN AND OTHER COMMON FOREIGN LANGUAGE STUDIES\",\"INTERCULTURAL AND INTERNATIONAL STUDIES\",\"LINGUISTICS AND COMPARATIVE LANGUAGE AND LITERATURE\",\"PHILOSOPHY AND RELIGIOUS STUDIES\",\"ENGLISH LANGUAGE AND LITERATURE\",\"LIBERAL ARTS\",\"ART HISTORY AND CRITICISM\",\"HUMANITIES\",\"THEOLOGY AND RELIGIOUS VOCATIONS\",\"ANTHROPOLOGY AND ARCHEOLOGY\",\"OTHER FOREIGN LANGUAGES\",\"COMPOSITION AND RHETORIC\"],\"legendgroup\":\"Humanities & Liberal Arts\",\"marker\":{\"color\":\"#00cc96\",\"size\":[40000,35000,34000,34000,34000,33000,32200,32000,32000,31000,30000,29000,28000,27500,27000],\"sizemode\":\"area\",\"sizeref\":122.22222222222223,\"symbol\":\"circle\"},\"mode\":\"markers\",\"name\":\"Humanities & Liberal Arts\",\"orientation\":\"v\",\"showlegend\":true,\"x\":[3079.0,31195.0,141951.0,48246.0,24650.0,16601.0,54814.0,194673.0,71369.0,21030.0,6652.0,30207.0,38844.0,11204.0,18953.0],\"xaxis\":\"x\",\"y\":[40000,35000,34000,34000,34000,33000,32200,32000,32000,31000,30000,29000,28000,27500,27000],\"yaxis\":\"y\",\"type\":\"scatter\"},{\"hovertemplate\":\"<b>%{hovertext}</b><br><br>Major_category=Psychology & Social Work<br>Total=%{x}<br>Median=%{marker.size}<extra></extra>\",\"hovertext\":[\"INDUSTRIAL AND ORGANIZATIONAL PSYCHOLOGY\",\"SOCIAL PSYCHOLOGY\",\"PSYCHOLOGY\",\"SOCIAL WORK\",\"MISCELLANEOUS PSYCHOLOGY\",\"HUMAN SERVICES AND COMMUNITY ORGANIZATION\",\"EDUCATIONAL PSYCHOLOGY\",\"CLINICAL PSYCHOLOGY\",\"COUNSELING PSYCHOLOGY\"],\"legendgroup\":\"Psychology & Social Work\",\"marker\":{\"color\":\"#ab63fa\",\"size\":[40000,36000,31500,30000,30000,30000,25000,25000,23400],\"sizemode\":\"area\",\"sizeref\":122.22222222222223,\"symbol\":\"circle\"},\"mode\":\"markers\",\"name\":\"Psychology & Social Work\",\"orientation\":\"v\",\"showlegend\":true,\"x\":[3014.0,1386.0,393735.0,53552.0,9628.0,9374.0,2854.0,2838.0,4626.0],\"xaxis\":\"x\",\"y\":[40000,36000,31500,30000,30000,30000,25000,25000,23400],\"yaxis\":\"y\",\"type\":\"scatter\"},{\"hovertemplate\":\"<b>%{hovertext}</b><br><br>Major_category=Communications & Journalism<br>Total=%{x}<br>Median=%{marker.size}<extra></extra>\",\"hovertext\":[\"COMMUNICATIONS\",\"JOURNALISM\",\"ADVERTISING AND PUBLIC RELATIONS\",\"MASS MEDIA\"],\"legendgroup\":\"Communications & Journalism\",\"marker\":{\"color\":\"#FFA15A\",\"size\":[35000,35000,35000,33000],\"sizemode\":\"area\",\"sizeref\":122.22222222222223,\"symbol\":\"circle\"},\"mode\":\"markers\",\"name\":\"Communications & Journalism\",\"orientation\":\"v\",\"showlegend\":true,\"x\":[213996.0,72619.0,53162.0,52824.0],\"xaxis\":\"x\",\"y\":[35000,35000,35000,33000],\"yaxis\":\"y\",\"type\":\"scatter\"},{\"hovertemplate\":\"<b>%{hovertext}</b><br><br>Major_category=Interdisciplinary<br>Total=%{x}<br>Median=%{marker.size}<extra></extra>\",\"hovertext\":[\"MULTI/INTERDISCIPLINARY STUDIES\"],\"legendgroup\":\"Interdisciplinary\",\"marker\":{\"color\":\"#19d3f3\",\"size\":[35000],\"sizemode\":\"area\",\"sizeref\":122.22222222222223,\"symbol\":\"circle\"},\"mode\":\"markers\",\"name\":\"Interdisciplinary\",\"orientation\":\"v\",\"showlegend\":true,\"x\":[12296.0],\"xaxis\":\"x\",\"y\":[35000],\"yaxis\":\"y\",\"type\":\"scatter\"}],                        {\"template\":{\"data\":{\"histogram2dcontour\":[{\"type\":\"histogram2dcontour\",\"colorbar\":{\"outlinewidth\":0,\"ticks\":\"\"},\"colorscale\":[[0.0,\"#0d0887\"],[0.1111111111111111,\"#46039f\"],[0.2222222222222222,\"#7201a8\"],[0.3333333333333333,\"#9c179e\"],[0.4444444444444444,\"#bd3786\"],[0.5555555555555556,\"#d8576b\"],[0.6666666666666666,\"#ed7953\"],[0.7777777777777778,\"#fb9f3a\"],[0.8888888888888888,\"#fdca26\"],[1.0,\"#f0f921\"]]}],\"choropleth\":[{\"type\":\"choropleth\",\"colorbar\":{\"outlinewidth\":0,\"ticks\":\"\"}}],\"histogram2d\":[{\"type\":\"histogram2d\",\"colorbar\":{\"outlinewidth\":0,\"ticks\":\"\"},\"colorscale\":[[0.0,\"#0d0887\"],[0.1111111111111111,\"#46039f\"],[0.2222222222222222,\"#7201a8\"],[0.3333333333333333,\"#9c179e\"],[0.4444444444444444,\"#bd3786\"],[0.5555555555555556,\"#d8576b\"],[0.6666666666666666,\"#ed7953\"],[0.7777777777777778,\"#fb9f3a\"],[0.8888888888888888,\"#fdca26\"],[1.0,\"#f0f921\"]]}],\"heatmap\":[{\"type\":\"heatmap\",\"colorbar\":{\"outlinewidth\":0,\"ticks\":\"\"},\"colorscale\":[[0.0,\"#0d0887\"],[0.1111111111111111,\"#46039f\"],[0.2222222222222222,\"#7201a8\"],[0.3333333333333333,\"#9c179e\"],[0.4444444444444444,\"#bd3786\"],[0.5555555555555556,\"#d8576b\"],[0.6666666666666666,\"#ed7953\"],[0.7777777777777778,\"#fb9f3a\"],[0.8888888888888888,\"#fdca26\"],[1.0,\"#f0f921\"]]}],\"heatmapgl\":[{\"type\":\"heatmapgl\",\"colorbar\":{\"outlinewidth\":0,\"ticks\":\"\"},\"colorscale\":[[0.0,\"#0d0887\"],[0.1111111111111111,\"#46039f\"],[0.2222222222222222,\"#7201a8\"],[0.3333333333333333,\"#9c179e\"],[0.4444444444444444,\"#bd3786\"],[0.5555555555555556,\"#d8576b\"],[0.6666666666666666,\"#ed7953\"],[0.7777777777777778,\"#fb9f3a\"],[0.8888888888888888,\"#fdca26\"],[1.0,\"#f0f921\"]]}],\"contourcarpet\":[{\"type\":\"contourcarpet\",\"colorbar\":{\"outlinewidth\":0,\"ticks\":\"\"}}],\"contour\":[{\"type\":\"contour\",\"colorbar\":{\"outlinewidth\":0,\"ticks\":\"\"},\"colorscale\":[[0.0,\"#0d0887\"],[0.1111111111111111,\"#46039f\"],[0.2222222222222222,\"#7201a8\"],[0.3333333333333333,\"#9c179e\"],[0.4444444444444444,\"#bd3786\"],[0.5555555555555556,\"#d8576b\"],[0.6666666666666666,\"#ed7953\"],[0.7777777777777778,\"#fb9f3a\"],[0.8888888888888888,\"#fdca26\"],[1.0,\"#f0f921\"]]}],\"surface\":[{\"type\":\"surface\",\"colorbar\":{\"outlinewidth\":0,\"ticks\":\"\"},\"colorscale\":[[0.0,\"#0d0887\"],[0.1111111111111111,\"#46039f\"],[0.2222222222222222,\"#7201a8\"],[0.3333333333333333,\"#9c179e\"],[0.4444444444444444,\"#bd3786\"],[0.5555555555555556,\"#d8576b\"],[0.6666666666666666,\"#ed7953\"],[0.7777777777777778,\"#fb9f3a\"],[0.8888888888888888,\"#fdca26\"],[1.0,\"#f0f921\"]]}],\"mesh3d\":[{\"type\":\"mesh3d\",\"colorbar\":{\"outlinewidth\":0,\"ticks\":\"\"}}],\"scatter\":[{\"fillpattern\":{\"fillmode\":\"overlay\",\"size\":10,\"solidity\":0.2},\"type\":\"scatter\"}],\"parcoords\":[{\"type\":\"parcoords\",\"line\":{\"colorbar\":{\"outlinewidth\":0,\"ticks\":\"\"}}}],\"scatterpolargl\":[{\"type\":\"scatterpolargl\",\"marker\":{\"colorbar\":{\"outlinewidth\":0,\"ticks\":\"\"}}}],\"bar\":[{\"error_x\":{\"color\":\"#2a3f5f\"},\"error_y\":{\"color\":\"#2a3f5f\"},\"marker\":{\"line\":{\"color\":\"#E5ECF6\",\"width\":0.5},\"pattern\":{\"fillmode\":\"overlay\",\"size\":10,\"solidity\":0.2}},\"type\":\"bar\"}],\"scattergeo\":[{\"type\":\"scattergeo\",\"marker\":{\"colorbar\":{\"outlinewidth\":0,\"ticks\":\"\"}}}],\"scatterpolar\":[{\"type\":\"scatterpolar\",\"marker\":{\"colorbar\":{\"outlinewidth\":0,\"ticks\":\"\"}}}],\"histogram\":[{\"marker\":{\"pattern\":{\"fillmode\":\"overlay\",\"size\":10,\"solidity\":0.2}},\"type\":\"histogram\"}],\"scattergl\":[{\"type\":\"scattergl\",\"marker\":{\"colorbar\":{\"outlinewidth\":0,\"ticks\":\"\"}}}],\"scatter3d\":[{\"type\":\"scatter3d\",\"line\":{\"colorbar\":{\"outlinewidth\":0,\"ticks\":\"\"}},\"marker\":{\"colorbar\":{\"outlinewidth\":0,\"ticks\":\"\"}}}],\"scattermapbox\":[{\"type\":\"scattermapbox\",\"marker\":{\"colorbar\":{\"outlinewidth\":0,\"ticks\":\"\"}}}],\"scatterternary\":[{\"type\":\"scatterternary\",\"marker\":{\"colorbar\":{\"outlinewidth\":0,\"ticks\":\"\"}}}],\"scattercarpet\":[{\"type\":\"scattercarpet\",\"marker\":{\"colorbar\":{\"outlinewidth\":0,\"ticks\":\"\"}}}],\"carpet\":[{\"aaxis\":{\"endlinecolor\":\"#2a3f5f\",\"gridcolor\":\"white\",\"linecolor\":\"white\",\"minorgridcolor\":\"white\",\"startlinecolor\":\"#2a3f5f\"},\"baxis\":{\"endlinecolor\":\"#2a3f5f\",\"gridcolor\":\"white\",\"linecolor\":\"white\",\"minorgridcolor\":\"white\",\"startlinecolor\":\"#2a3f5f\"},\"type\":\"carpet\"}],\"table\":[{\"cells\":{\"fill\":{\"color\":\"#EBF0F8\"},\"line\":{\"color\":\"white\"}},\"header\":{\"fill\":{\"color\":\"#C8D4E3\"},\"line\":{\"color\":\"white\"}},\"type\":\"table\"}],\"barpolar\":[{\"marker\":{\"line\":{\"color\":\"#E5ECF6\",\"width\":0.5},\"pattern\":{\"fillmode\":\"overlay\",\"size\":10,\"solidity\":0.2}},\"type\":\"barpolar\"}],\"pie\":[{\"automargin\":true,\"type\":\"pie\"}]},\"layout\":{\"autotypenumbers\":\"strict\",\"colorway\":[\"#636efa\",\"#EF553B\",\"#00cc96\",\"#ab63fa\",\"#FFA15A\",\"#19d3f3\",\"#FF6692\",\"#B6E880\",\"#FF97FF\",\"#FECB52\"],\"font\":{\"color\":\"#2a3f5f\"},\"hovermode\":\"closest\",\"hoverlabel\":{\"align\":\"left\"},\"paper_bgcolor\":\"white\",\"plot_bgcolor\":\"#E5ECF6\",\"polar\":{\"bgcolor\":\"#E5ECF6\",\"angularaxis\":{\"gridcolor\":\"white\",\"linecolor\":\"white\",\"ticks\":\"\"},\"radialaxis\":{\"gridcolor\":\"white\",\"linecolor\":\"white\",\"ticks\":\"\"}},\"ternary\":{\"bgcolor\":\"#E5ECF6\",\"aaxis\":{\"gridcolor\":\"white\",\"linecolor\":\"white\",\"ticks\":\"\"},\"baxis\":{\"gridcolor\":\"white\",\"linecolor\":\"white\",\"ticks\":\"\"},\"caxis\":{\"gridcolor\":\"white\",\"linecolor\":\"white\",\"ticks\":\"\"}},\"coloraxis\":{\"colorbar\":{\"outlinewidth\":0,\"ticks\":\"\"}},\"colorscale\":{\"sequential\":[[0.0,\"#0d0887\"],[0.1111111111111111,\"#46039f\"],[0.2222222222222222,\"#7201a8\"],[0.3333333333333333,\"#9c179e\"],[0.4444444444444444,\"#bd3786\"],[0.5555555555555556,\"#d8576b\"],[0.6666666666666666,\"#ed7953\"],[0.7777777777777778,\"#fb9f3a\"],[0.8888888888888888,\"#fdca26\"],[1.0,\"#f0f921\"]],\"sequentialminus\":[[0.0,\"#0d0887\"],[0.1111111111111111,\"#46039f\"],[0.2222222222222222,\"#7201a8\"],[0.3333333333333333,\"#9c179e\"],[0.4444444444444444,\"#bd3786\"],[0.5555555555555556,\"#d8576b\"],[0.6666666666666666,\"#ed7953\"],[0.7777777777777778,\"#fb9f3a\"],[0.8888888888888888,\"#fdca26\"],[1.0,\"#f0f921\"]],\"diverging\":[[0,\"#8e0152\"],[0.1,\"#c51b7d\"],[0.2,\"#de77ae\"],[0.3,\"#f1b6da\"],[0.4,\"#fde0ef\"],[0.5,\"#f7f7f7\"],[0.6,\"#e6f5d0\"],[0.7,\"#b8e186\"],[0.8,\"#7fbc41\"],[0.9,\"#4d9221\"],[1,\"#276419\"]]},\"xaxis\":{\"gridcolor\":\"white\",\"linecolor\":\"white\",\"ticks\":\"\",\"title\":{\"standoff\":15},\"zerolinecolor\":\"white\",\"automargin\":true,\"zerolinewidth\":2},\"yaxis\":{\"gridcolor\":\"white\",\"linecolor\":\"white\",\"ticks\":\"\",\"title\":{\"standoff\":15},\"zerolinecolor\":\"white\",\"automargin\":true,\"zerolinewidth\":2},\"scene\":{\"xaxis\":{\"backgroundcolor\":\"#E5ECF6\",\"gridcolor\":\"white\",\"linecolor\":\"white\",\"showbackground\":true,\"ticks\":\"\",\"zerolinecolor\":\"white\",\"gridwidth\":2},\"yaxis\":{\"backgroundcolor\":\"#E5ECF6\",\"gridcolor\":\"white\",\"linecolor\":\"white\",\"showbackground\":true,\"ticks\":\"\",\"zerolinecolor\":\"white\",\"gridwidth\":2},\"zaxis\":{\"backgroundcolor\":\"#E5ECF6\",\"gridcolor\":\"white\",\"linecolor\":\"white\",\"showbackground\":true,\"ticks\":\"\",\"zerolinecolor\":\"white\",\"gridwidth\":2}},\"shapedefaults\":{\"line\":{\"color\":\"#2a3f5f\"}},\"annotationdefaults\":{\"arrowcolor\":\"#2a3f5f\",\"arrowhead\":0,\"arrowwidth\":1},\"geo\":{\"bgcolor\":\"white\",\"landcolor\":\"#E5ECF6\",\"subunitcolor\":\"white\",\"showland\":true,\"showlakes\":true,\"lakecolor\":\"white\"},\"title\":{\"x\":0.05},\"mapbox\":{\"style\":\"light\"}}},\"xaxis\":{\"anchor\":\"y\",\"domain\":[0.0,1.0],\"title\":{\"text\":\"Total\"},\"type\":\"log\"},\"yaxis\":{\"anchor\":\"x\",\"domain\":[0.0,1.0],\"title\":{\"text\":\"Median\"}},\"legend\":{\"title\":{\"text\":\"Major_category\"},\"tracegroupgap\":0,\"itemsizing\":\"constant\"},\"title\":{\"text\":\"Distribution of salaries depending on the major\"}},                        {\"responsive\": true}                    ).then(function(){\n",
       "                            \n",
       "var gd = document.getElementById('f62d35fe-9d60-46a3-b3c2-5b1d3b8551a0');\n",
       "var x = new MutationObserver(function (mutations, observer) {{\n",
       "        var display = window.getComputedStyle(gd).display;\n",
       "        if (!display || display === 'none') {{\n",
       "            console.log([gd, 'removed!']);\n",
       "            Plotly.purge(gd);\n",
       "            observer.disconnect();\n",
       "        }}\n",
       "}});\n",
       "\n",
       "// Listen for the removal of the full notebook cells\n",
       "var notebookContainer = gd.closest('#notebook-container');\n",
       "if (notebookContainer) {{\n",
       "    x.observe(notebookContainer, {childList: true});\n",
       "}}\n",
       "\n",
       "// Listen for the clearing of the current output cell\n",
       "var outputEl = gd.closest('.output');\n",
       "if (outputEl) {{\n",
       "    x.observe(outputEl, {childList: true});\n",
       "}}\n",
       "\n",
       "                        })                };                });            </script>        </div>"
      ]
     },
     "metadata": {},
     "output_type": "display_data"
    }
   ],
   "source": [
    "# Total это количество челов которые учатся на направлении\n",
    "\n",
    "fig = px.scatter(df, x=\"Total\", y=\"Median\",\n",
    "                 size=\"Median\", color=\"Major_category\",\n",
    "                 hover_name=\"Major\", log_x=True, size_max=30, title='Distribution of salaries depending on the major')\n",
    "fig.show()"
   ]
  },
  {
   "cell_type": "code",
   "execution_count": 4,
   "metadata": {
    "id": "GIbMEuDVFwLk"
   },
   "outputs": [],
   "source": [
    "import matplotlib.pyplot as plt\n",
    "from matplotlib.pyplot import figure"
   ]
  },
  {
   "cell_type": "code",
   "execution_count": 5,
   "metadata": {
    "colab": {
     "base_uri": "https://localhost:8080/",
     "height": 462
    },
    "id": "NBHddvw6Faht",
    "outputId": "961258b8-751b-4ea5-deb3-ed26e262afe9"
   },
   "outputs": [
    {
     "data": {
      "text/plain": [
       "<AxesSubplot:title={'center':'Median salary depending on the major category'}, ylabel='major category'>"
      ]
     },
     "execution_count": 5,
     "metadata": {},
     "output_type": "execute_result"
    },
    {
     "data": {
      "image/png": "[encoded data removed]",
      "text/plain": [
       "<Figure size 720x504 with 1 Axes>"
      ]
     },
     "metadata": {
      "needs_background": "light"
     },
     "output_type": "display_data"
    }
   ],
   "source": [
    "# график Ани\n",
    "\n",
    "df = df.dropna()\n",
    "df2 = df.dropna(subset=[\"Major_category\"])\n",
    "df3 = df2.groupby(['Major_category'])\n",
    "df_sal = df3.agg({\"Median\": \"mean\"})\n",
    "df_sal_sorted = df_sal.sort_values('Median', ascending = False)\n",
    "df_sal_sorted.plot.barh(title = 'Median salary depending on the major category', ylabel = 'median salary', \n",
    "             xlabel = 'major category', color = 'lavender', figsize = (10,7))"
   ]
  },
  {
   "cell_type": "markdown",
   "metadata": {
    "id": "fFUU-RB8Fahu"
   },
   "source": [
    "# 5"
   ]
  },
  {
   "cell_type": "code",
   "execution_count": 5,
   "metadata": {
    "colab": {
     "base_uri": "https://localhost:8080/",
     "height": 462
    },
    "id": "xfzf6zHGFahv",
    "outputId": "5cde81c4-8e51-4c3d-df54-e7bca1762fc2"
   },
   "outputs": [
    {
     "data": {
      "text/plain": [
       "<matplotlib.axes._subplots.AxesSubplot at 0x7f1b9e293890>"
      ]
     },
     "execution_count": 5,
     "metadata": {},
     "output_type": "execute_result"
    },
    {
     "data": {
      "image/png": "[encoded data removed]",
      "text/plain": [
       "<Figure size 720x504 with 1 Axes>"
      ]
     },
     "metadata": {
      "needs_background": "light"
     },
     "output_type": "display_data"
    }
   ],
   "source": [
    "# график Ани\n",
    "\n",
    "df_empl = df3.agg({\"Unemployment_rate\": \"mean\"})\n",
    "df_empl_sorted = df_empl.sort_values('Unemployment_rate', ascending = False)\n",
    "df_empl_sorted.plot.barh(title = 'Mean unemployment rate depending on the major category', ylabel = 'mean unemployment rate', \n",
    "             xlabel = 'major category', color = 'lavender', figsize = (10,7))\n"
   ]
  },
  {
   "cell_type": "markdown",
   "metadata": {
    "id": "uthoLecZFahv"
   },
   "source": [
    "# 7"
   ]
  },
  {
   "cell_type": "code",
   "execution_count": 6,
   "metadata": {
    "id": "W-zIlcwjFahv"
   },
   "outputs": [],
   "source": [
    "df_jobs = df[['Major_category', 'Employed', 'Low_wage_jobs']]\n",
    "employed = df2[\"Employed\"]\n",
    "low_wage = df2[\"Low_wage_jobs\"]\n",
    "l_emp = []\n",
    "l_wage = []\n",
    "for i in employed.items():\n",
    "    l_emp.append(i[1])\n",
    "for i in low_wage.items():\n",
    "    l_wage.append(i[1])\n",
    "l_perc = []\n",
    "for i in range(len(l_wage)):\n",
    "    if l_wage[i] != 0:\n",
    "        l_perc.append(round(l_wage[i]/l_emp[i], 2))\n",
    "    else:\n",
    "        l_perc.append(0)"
   ]
  },
  {
   "cell_type": "code",
   "execution_count": 7,
   "metadata": {
    "id": "Y0Y90I1KFahw",
    "scrolled": true
   },
   "outputs": [],
   "source": [
    "df_with_jobs = df.insert(21, 'Percent_of_low_wages', l_perc)"
   ]
  },
  {
   "cell_type": "code",
   "execution_count": 8,
   "metadata": {
    "id": "tr3kt82PFahw"
   },
   "outputs": [],
   "source": [
    "df_copy = df\n",
    "#df_copy.insert(21, 'Percent_of_low_wages', l_perc)\n",
    "#df_copy"
   ]
  },
  {
   "cell_type": "code",
   "execution_count": 9,
   "metadata": {
    "id": "EYKSb8TyFahw",
    "scrolled": true
   },
   "outputs": [],
   "source": [
    "lw = df_copy.dropna(subset=[\"Major_category\"]).groupby(['Major_category']).agg({\"Percent_of_low_wages\": \"mean\"})\n",
    "lw_sorted = lw.sort_values('Percent_of_low_wages', ascending = False)"
   ]
  },
  {
   "cell_type": "code",
   "execution_count": 10,
   "metadata": {
    "colab": {
     "base_uri": "https://localhost:8080/",
     "height": 237
    },
    "id": "K5oFEViGFahx",
    "outputId": "c4248506-0031-4ac7-cf30-76784c4c2fa1",
    "scrolled": true
   },
   "outputs": [
    {
     "data": {
      "text/html": [
       "\n",
       "  <div id=\"df-841aed1e-bf09-436f-8a20-18f64049b60c\">\n",
       "    <div class=\"colab-df-container\">\n",
       "      <div>\n",
       "<style scoped>\n",
       "    .dataframe tbody tr th:only-of-type {\n",
       "        vertical-align: middle;\n",
       "    }\n",
       "\n",
       "    .dataframe tbody tr th {\n",
       "        vertical-align: top;\n",
       "    }\n",
       "\n",
       "    .dataframe thead th {\n",
       "        text-align: right;\n",
       "    }\n",
       "</style>\n",
       "<table border=\"1\" class=\"dataframe\">\n",
       "  <thead>\n",
       "    <tr style=\"text-align: right;\">\n",
       "      <th></th>\n",
       "      <th>Percent_of_low_wages</th>\n",
       "    </tr>\n",
       "    <tr>\n",
       "      <th>Major_category</th>\n",
       "      <th></th>\n",
       "    </tr>\n",
       "  </thead>\n",
       "  <tbody>\n",
       "    <tr>\n",
       "      <th>Arts</th>\n",
       "      <td>0.226250</td>\n",
       "    </tr>\n",
       "    <tr>\n",
       "      <th>Humanities &amp; Liberal Arts</th>\n",
       "      <td>0.176000</td>\n",
       "    </tr>\n",
       "    <tr>\n",
       "      <th>Social Science</th>\n",
       "      <td>0.151111</td>\n",
       "    </tr>\n",
       "    <tr>\n",
       "      <th>Communications &amp; Journalism</th>\n",
       "      <td>0.147500</td>\n",
       "    </tr>\n",
       "    <tr>\n",
       "      <th>Psychology &amp; Social Work</th>\n",
       "      <td>0.126667</td>\n",
       "    </tr>\n",
       "  </tbody>\n",
       "</table>\n",
       "</div>\n",
       "      <button class=\"colab-df-convert\" onclick=\"convertToInteractive('df-841aed1e-bf09-436f-8a20-18f64049b60c')\"\n",
       "              title=\"Convert this dataframe to an interactive table.\"\n",
       "              style=\"display:none;\">\n",
       "        \n",
       "  <svg xmlns=\"http://www.w3.org/2000/svg\" height=\"24px\"viewBox=\"0 0 24 24\"\n",
       "       width=\"24px\">\n",
       "    <path d=\"M0 0h24v24H0V0z\" fill=\"none\"/>\n",
       "    <path d=\"M18.56 5.44l.94 2.06.94-2.06 2.06-.94-2.06-.94-.94-2.06-.94 2.06-2.06.94zm-11 1L8.5 8.5l.94-2.06 2.06-.94-2.06-.94L8.5 2.5l-.94 2.06-2.06.94zm10 10l.94 2.06.94-2.06 2.06-.94-2.06-.94-.94-2.06-.94 2.06-2.06.94z\"/><path d=\"M17.41 7.96l-1.37-1.37c-.4-.4-.92-.59-1.43-.59-.52 0-1.04.2-1.43.59L10.3 9.45l-7.72 7.72c-.78.78-.78 2.05 0 2.83L4 21.41c.39.39.9.59 1.41.59.51 0 1.02-.2 1.41-.59l7.78-7.78 2.81-2.81c.8-.78.8-2.07 0-2.86zM5.41 20L4 18.59l7.72-7.72 1.47 1.35L5.41 20z\"/>\n",
       "  </svg>\n",
       "      </button>\n",
       "      \n",
       "  <style>\n",
       "    .colab-df-container {\n",
       "      display:flex;\n",
       "      flex-wrap:wrap;\n",
       "      gap: 12px;\n",
       "    }\n",
       "\n",
       "    .colab-df-convert {\n",
       "      background-color: #E8F0FE;\n",
       "      border: none;\n",
       "      border-radius: 50%;\n",
       "      cursor: pointer;\n",
       "      display: none;\n",
       "      fill: #1967D2;\n",
       "      height: 32px;\n",
       "      padding: 0 0 0 0;\n",
       "      width: 32px;\n",
       "    }\n",
       "\n",
       "    .colab-df-convert:hover {\n",
       "      background-color: #E2EBFA;\n",
       "      box-shadow: 0px 1px 2px rgba(60, 64, 67, 0.3), 0px 1px 3px 1px rgba(60, 64, 67, 0.15);\n",
       "      fill: #174EA6;\n",
       "    }\n",
       "\n",
       "    [theme=dark] .colab-df-convert {\n",
       "      background-color: #3B4455;\n",
       "      fill: #D2E3FC;\n",
       "    }\n",
       "\n",
       "    [theme=dark] .colab-df-convert:hover {\n",
       "      background-color: #434B5C;\n",
       "      box-shadow: 0px 1px 3px 1px rgba(0, 0, 0, 0.15);\n",
       "      filter: drop-shadow(0px 1px 2px rgba(0, 0, 0, 0.3));\n",
       "      fill: #FFFFFF;\n",
       "    }\n",
       "  </style>\n",
       "\n",
       "      <script>\n",
       "        const buttonEl =\n",
       "          document.querySelector('#df-841aed1e-bf09-436f-8a20-18f64049b60c button.colab-df-convert');\n",
       "        buttonEl.style.display =\n",
       "          google.colab.kernel.accessAllowed ? 'block' : 'none';\n",
       "\n",
       "        async function convertToInteractive(key) {\n",
       "          const element = document.querySelector('#df-841aed1e-bf09-436f-8a20-18f64049b60c');\n",
       "          const dataTable =\n",
       "            await google.colab.kernel.invokeFunction('convertToInteractive',\n",
       "                                                     [key], {});\n",
       "          if (!dataTable) return;\n",
       "\n",
       "          const docLinkHtml = 'Like what you see? Visit the ' +\n",
       "            '<a target=\"_blank\" href=https://colab.research.google.com/notebooks/data_table.ipynb>data table notebook</a>'\n",
       "            + ' to learn more about interactive tables.';\n",
       "          element.innerHTML = '';\n",
       "          dataTable['output_type'] = 'display_data';\n",
       "          await google.colab.output.renderOutput(dataTable, element);\n",
       "          const docLink = document.createElement('div');\n",
       "          docLink.innerHTML = docLinkHtml;\n",
       "          element.appendChild(docLink);\n",
       "        }\n",
       "      </script>\n",
       "    </div>\n",
       "  </div>\n",
       "  "
      ],
      "text/plain": [
       "                             Percent_of_low_wages\n",
       "Major_category                                   \n",
       "Arts                                     0.226250\n",
       "Humanities & Liberal Arts                0.176000\n",
       "Social Science                           0.151111\n",
       "Communications & Journalism              0.147500\n",
       "Psychology & Social Work                 0.126667"
      ]
     },
     "execution_count": 10,
     "metadata": {},
     "output_type": "execute_result"
    }
   ],
   "source": [
    "lw_top = lw_sorted.head(5)\n",
    "lw_top"
   ]
  },
  {
   "cell_type": "code",
   "execution_count": 11,
   "metadata": {
    "colab": {
     "base_uri": "https://localhost:8080/",
     "height": 462
    },
    "id": "GO6gEoizFahx",
    "outputId": "f6cf9623-30d8-4bc5-cc84-8d42e5ec4918"
   },
   "outputs": [
    {
     "data": {
      "text/plain": [
       "<matplotlib.axes._subplots.AxesSubplot at 0x7f1b9e245f90>"
      ]
     },
     "execution_count": 11,
     "metadata": {},
     "output_type": "execute_result"
    },
    {
     "data": {
      "image/png": "[encoded data removed]",
      "text/plain": [
       "<Figure size 720x504 with 1 Axes>"
      ]
     },
     "metadata": {
      "needs_background": "light"
     },
     "output_type": "display_data"
    }
   ],
   "source": [
    "lw_top.plot.barh(title = 'Major categories with the highest percentage of low-paid jobs', ylabel = 'percentage of low-paid jobs', \n",
    "             xlabel = 'major category', color = 'lavender', figsize = (10,7))"
   ]
  },
  {
   "cell_type": "markdown",
   "metadata": {
    "id": "6S-Yb5jMFahx"
   },
   "source": [
    "# 8"
   ]
  },
  {
   "cell_type": "code",
   "execution_count": null,
   "metadata": {
    "id": "8m0zb11cFahx"
   },
   "outputs": [],
   "source": [
    "# топ направлениях, в которых есть работа без необходимости диплома"
   ]
  },
  {
   "cell_type": "code",
   "execution_count": 31,
   "metadata": {},
   "outputs": [
    {
     "ename": "KeyError",
     "evalue": "\"['Non_college'] not in index\"",
     "output_type": "error",
     "traceback": [
      "\u001b[1;31m---------------------------------------------------------------------------\u001b[0m",
      "\u001b[1;31mKeyError\u001b[0m                                  Traceback (most recent call last)",
      "\u001b[1;32m<ipython-input-31-076c12ab9844>\u001b[0m in \u001b[0;36m<module>\u001b[1;34m\u001b[0m\n\u001b[0;32m      1\u001b[0m \u001b[0mnon_col_jobs\u001b[0m \u001b[1;33m=\u001b[0m \u001b[0mdf\u001b[0m\u001b[1;33m[\u001b[0m\u001b[0mdf\u001b[0m\u001b[1;33m[\u001b[0m\u001b[1;34m'College_jobs'\u001b[0m\u001b[1;33m]\u001b[0m \u001b[1;33m<\u001b[0m \u001b[0mdf\u001b[0m\u001b[1;33m[\u001b[0m\u001b[1;34m'Non_college_jobs'\u001b[0m\u001b[1;33m]\u001b[0m\u001b[1;33m]\u001b[0m\u001b[1;33m\u001b[0m\u001b[1;33m\u001b[0m\u001b[0m\n\u001b[1;32m----> 2\u001b[1;33m \u001b[0mnon_col_jobs\u001b[0m\u001b[1;33m[\u001b[0m\u001b[1;33m[\u001b[0m\u001b[1;34m'Major_category'\u001b[0m\u001b[1;33m,\u001b[0m \u001b[1;34m'Non_college'\u001b[0m\u001b[1;33m]\u001b[0m\u001b[1;33m]\u001b[0m\u001b[1;33m\u001b[0m\u001b[1;33m\u001b[0m\u001b[0m\n\u001b[0m",
      "\u001b[1;32m~\\AppData\\Local\\Packages\\PythonSoftwareFoundation.Python.3.8_qbz5n2kfra8p0\\LocalCache\\local-packages\\Python38\\site-packages\\pandas\\core\\frame.py\u001b[0m in \u001b[0;36m__getitem__\u001b[1;34m(self, key)\u001b[0m\n\u001b[0;32m   3462\u001b[0m             \u001b[1;32mif\u001b[0m \u001b[0mis_iterator\u001b[0m\u001b[1;33m(\u001b[0m\u001b[0mkey\u001b[0m\u001b[1;33m)\u001b[0m\u001b[1;33m:\u001b[0m\u001b[1;33m\u001b[0m\u001b[1;33m\u001b[0m\u001b[0m\n\u001b[0;32m   3463\u001b[0m                 \u001b[0mkey\u001b[0m \u001b[1;33m=\u001b[0m \u001b[0mlist\u001b[0m\u001b[1;33m(\u001b[0m\u001b[0mkey\u001b[0m\u001b[1;33m)\u001b[0m\u001b[1;33m\u001b[0m\u001b[1;33m\u001b[0m\u001b[0m\n\u001b[1;32m-> 3464\u001b[1;33m             \u001b[0mindexer\u001b[0m \u001b[1;33m=\u001b[0m \u001b[0mself\u001b[0m\u001b[1;33m.\u001b[0m\u001b[0mloc\u001b[0m\u001b[1;33m.\u001b[0m\u001b[0m_get_listlike_indexer\u001b[0m\u001b[1;33m(\u001b[0m\u001b[0mkey\u001b[0m\u001b[1;33m,\u001b[0m \u001b[0maxis\u001b[0m\u001b[1;33m=\u001b[0m\u001b[1;36m1\u001b[0m\u001b[1;33m)\u001b[0m\u001b[1;33m[\u001b[0m\u001b[1;36m1\u001b[0m\u001b[1;33m]\u001b[0m\u001b[1;33m\u001b[0m\u001b[1;33m\u001b[0m\u001b[0m\n\u001b[0m\u001b[0;32m   3465\u001b[0m \u001b[1;33m\u001b[0m\u001b[0m\n\u001b[0;32m   3466\u001b[0m         \u001b[1;31m# take() does not accept boolean indexers\u001b[0m\u001b[1;33m\u001b[0m\u001b[1;33m\u001b[0m\u001b[1;33m\u001b[0m\u001b[0m\n",
      "\u001b[1;32m~\\AppData\\Local\\Packages\\PythonSoftwareFoundation.Python.3.8_qbz5n2kfra8p0\\LocalCache\\local-packages\\Python38\\site-packages\\pandas\\core\\indexing.py\u001b[0m in \u001b[0;36m_get_listlike_indexer\u001b[1;34m(self, key, axis)\u001b[0m\n\u001b[0;32m   1312\u001b[0m             \u001b[0mkeyarr\u001b[0m\u001b[1;33m,\u001b[0m \u001b[0mindexer\u001b[0m\u001b[1;33m,\u001b[0m \u001b[0mnew_indexer\u001b[0m \u001b[1;33m=\u001b[0m \u001b[0max\u001b[0m\u001b[1;33m.\u001b[0m\u001b[0m_reindex_non_unique\u001b[0m\u001b[1;33m(\u001b[0m\u001b[0mkeyarr\u001b[0m\u001b[1;33m)\u001b[0m\u001b[1;33m\u001b[0m\u001b[1;33m\u001b[0m\u001b[0m\n\u001b[0;32m   1313\u001b[0m \u001b[1;33m\u001b[0m\u001b[0m\n\u001b[1;32m-> 1314\u001b[1;33m         \u001b[0mself\u001b[0m\u001b[1;33m.\u001b[0m\u001b[0m_validate_read_indexer\u001b[0m\u001b[1;33m(\u001b[0m\u001b[0mkeyarr\u001b[0m\u001b[1;33m,\u001b[0m \u001b[0mindexer\u001b[0m\u001b[1;33m,\u001b[0m \u001b[0maxis\u001b[0m\u001b[1;33m)\u001b[0m\u001b[1;33m\u001b[0m\u001b[1;33m\u001b[0m\u001b[0m\n\u001b[0m\u001b[0;32m   1315\u001b[0m \u001b[1;33m\u001b[0m\u001b[0m\n\u001b[0;32m   1316\u001b[0m         if needs_i8_conversion(ax.dtype) or isinstance(\n",
      "\u001b[1;32m~\\AppData\\Local\\Packages\\PythonSoftwareFoundation.Python.3.8_qbz5n2kfra8p0\\LocalCache\\local-packages\\Python38\\site-packages\\pandas\\core\\indexing.py\u001b[0m in \u001b[0;36m_validate_read_indexer\u001b[1;34m(self, key, indexer, axis)\u001b[0m\n\u001b[0;32m   1375\u001b[0m \u001b[1;33m\u001b[0m\u001b[0m\n\u001b[0;32m   1376\u001b[0m             \u001b[0mnot_found\u001b[0m \u001b[1;33m=\u001b[0m \u001b[0mlist\u001b[0m\u001b[1;33m(\u001b[0m\u001b[0mensure_index\u001b[0m\u001b[1;33m(\u001b[0m\u001b[0mkey\u001b[0m\u001b[1;33m)\u001b[0m\u001b[1;33m[\u001b[0m\u001b[0mmissing_mask\u001b[0m\u001b[1;33m.\u001b[0m\u001b[0mnonzero\u001b[0m\u001b[1;33m(\u001b[0m\u001b[1;33m)\u001b[0m\u001b[1;33m[\u001b[0m\u001b[1;36m0\u001b[0m\u001b[1;33m]\u001b[0m\u001b[1;33m]\u001b[0m\u001b[1;33m.\u001b[0m\u001b[0munique\u001b[0m\u001b[1;33m(\u001b[0m\u001b[1;33m)\u001b[0m\u001b[1;33m)\u001b[0m\u001b[1;33m\u001b[0m\u001b[1;33m\u001b[0m\u001b[0m\n\u001b[1;32m-> 1377\u001b[1;33m             \u001b[1;32mraise\u001b[0m \u001b[0mKeyError\u001b[0m\u001b[1;33m(\u001b[0m\u001b[1;34mf\"{not_found} not in index\"\u001b[0m\u001b[1;33m)\u001b[0m\u001b[1;33m\u001b[0m\u001b[1;33m\u001b[0m\u001b[0m\n\u001b[0m\u001b[0;32m   1378\u001b[0m \u001b[1;33m\u001b[0m\u001b[0m\n\u001b[0;32m   1379\u001b[0m \u001b[1;33m\u001b[0m\u001b[0m\n",
      "\u001b[1;31mKeyError\u001b[0m: \"['Non_college'] not in index\""
     ]
    }
   ],
   "source": [
    "non_col_jobs = df[df['College_jobs'] < df['Non_college_jobs']]\n",
    "non_col_jobs[['Major_category', 'Non_college']]"
   ]
  },
  {
   "cell_type": "code",
   "execution_count": 20,
   "metadata": {},
   "outputs": [
    {
     "data": {
      "application/vnd.plotly.v1+json": {
       "config": {
        "plotlyServerURL": "https://plot.ly"
       },
       "data": [
        {
         "domain": {
          "x": [
           0,
           1
          ],
          "y": [
           0,
           1
          ]
         },
         "hovertemplate": "Major_category=%{label}<extra></extra>",
         "labels": [
          "Law & Public Policy",
          "Industrial Arts & Consumer Services",
          "Business",
          "Law & Public Policy",
          "Engineering",
          "Arts",
          "Business",
          "Social Science",
          "Business",
          "Engineering",
          "Physical Sciences",
          "Business",
          "Health",
          "Physical Sciences",
          "Engineering",
          "Health",
          "Social Science",
          "Business",
          "Business",
          "Business",
          "Agriculture & Natural Resources",
          "Agriculture & Natural Resources",
          "Engineering",
          "Engineering",
          "Social Science",
          "Humanities & Liberal Arts",
          "Psychology & Social Work",
          "Agriculture & Natural Resources",
          "Industrial Arts & Consumer Services",
          "Business",
          "Business",
          "Social Science",
          "Social Science",
          "Computers & Mathematics",
          "Computers & Mathematics",
          "Business",
          "Law & Public Policy",
          "Law & Public Policy",
          "Psychology & Social Work",
          "Biology & Life Science",
          "Communications & Journalism",
          "Law & Public Policy",
          "Arts",
          "Communications & Journalism",
          "Physical Sciences",
          "Communications & Journalism",
          "Humanities & Liberal Arts",
          "Biology & Life Science",
          "Social Science",
          "Health",
          "Computers & Mathematics",
          "Industrial Arts & Consumer Services",
          "Agriculture & Natural Resources",
          "Agriculture & Natural Resources",
          "Humanities & Liberal Arts",
          "Humanities & Liberal Arts",
          "Humanities & Liberal Arts",
          "Health",
          "Health",
          "Social Science",
          "Communications & Journalism",
          "Business",
          "Humanities & Liberal Arts",
          "Social Science",
          "Biology & Life Science",
          "Health",
          "Humanities & Liberal Arts",
          "Humanities & Liberal Arts",
          "Industrial Arts & Consumer Services",
          "Humanities & Liberal Arts",
          "Arts",
          "Social Science",
          "Agriculture & Natural Resources",
          "Psychology & Social Work",
          "Arts",
          "Humanities & Liberal Arts",
          "Arts",
          "Agriculture & Natural Resources",
          "Arts",
          "Psychology & Social Work",
          "Psychology & Social Work",
          "Humanities & Liberal Arts",
          "Humanities & Liberal Arts",
          "Arts",
          "Industrial Arts & Consumer Services",
          "Agriculture & Natural Resources",
          "Humanities & Liberal Arts",
          "Humanities & Liberal Arts",
          "Arts",
          "Humanities & Liberal Arts",
          "Biology & Life Science",
          "Education"
         ],
         "legendgroup": "",
         "name": "",
         "showlegend": true,
         "type": "pie"
        }
       ],
       "layout": {
        "legend": {
         "tracegroupgap": 0
        },
        "margin": {
         "t": 60
        },
        "template": {
         "data": {
          "bar": [
           {
            "error_x": {
             "color": "#2a3f5f"
            },
            "error_y": {
             "color": "#2a3f5f"
            },
            "marker": {
             "line": {
              "color": "#E5ECF6",
              "width": 0.5
             },
             "pattern": {
              "fillmode": "overlay",
              "size": 10,
              "solidity": 0.2
             }
            },
            "type": "bar"
           }
          ],
          "barpolar": [
           {
            "marker": {
             "line": {
              "color": "#E5ECF6",
              "width": 0.5
             },
             "pattern": {
              "fillmode": "overlay",
              "size": 10,
              "solidity": 0.2
             }
            },
            "type": "barpolar"
           }
          ],
          "carpet": [
           {
            "aaxis": {
             "endlinecolor": "#2a3f5f",
             "gridcolor": "white",
             "linecolor": "white",
             "minorgridcolor": "white",
             "startlinecolor": "#2a3f5f"
            },
            "baxis": {
             "endlinecolor": "#2a3f5f",
             "gridcolor": "white",
             "linecolor": "white",
             "minorgridcolor": "white",
             "startlinecolor": "#2a3f5f"
            },
            "type": "carpet"
           }
          ],
          "choropleth": [
           {
            "colorbar": {
             "outlinewidth": 0,
             "ticks": ""
            },
            "type": "choropleth"
           }
          ],
          "contour": [
           {
            "colorbar": {
             "outlinewidth": 0,
             "ticks": ""
            },
            "colorscale": [
             [
              0,
              "#0d0887"
             ],
             [
              0.1111111111111111,
              "#46039f"
             ],
             [
              0.2222222222222222,
              "#7201a8"
             ],
             [
              0.3333333333333333,
              "#9c179e"
             ],
             [
              0.4444444444444444,
              "#bd3786"
             ],
             [
              0.5555555555555556,
              "#d8576b"
             ],
             [
              0.6666666666666666,
              "#ed7953"
             ],
             [
              0.7777777777777778,
              "#fb9f3a"
             ],
             [
              0.8888888888888888,
              "#fdca26"
             ],
             [
              1,
              "#f0f921"
             ]
            ],
            "type": "contour"
           }
          ],
          "contourcarpet": [
           {
            "colorbar": {
             "outlinewidth": 0,
             "ticks": ""
            },
            "type": "contourcarpet"
           }
          ],
          "heatmap": [
           {
            "colorbar": {
             "outlinewidth": 0,
             "ticks": ""
            },
            "colorscale": [
             [
              0,
              "#0d0887"
             ],
             [
              0.1111111111111111,
              "#46039f"
             ],
             [
              0.2222222222222222,
              "#7201a8"
             ],
             [
              0.3333333333333333,
              "#9c179e"
             ],
             [
              0.4444444444444444,
              "#bd3786"
             ],
             [
              0.5555555555555556,
              "#d8576b"
             ],
             [
              0.6666666666666666,
              "#ed7953"
             ],
             [
              0.7777777777777778,
              "#fb9f3a"
             ],
             [
              0.8888888888888888,
              "#fdca26"
             ],
             [
              1,
              "#f0f921"
             ]
            ],
            "type": "heatmap"
           }
          ],
          "heatmapgl": [
           {
            "colorbar": {
             "outlinewidth": 0,
             "ticks": ""
            },
            "colorscale": [
             [
              0,
              "#0d0887"
             ],
             [
              0.1111111111111111,
              "#46039f"
             ],
             [
              0.2222222222222222,
              "#7201a8"
             ],
             [
              0.3333333333333333,
              "#9c179e"
             ],
             [
              0.4444444444444444,
              "#bd3786"
             ],
             [
              0.5555555555555556,
              "#d8576b"
             ],
             [
              0.6666666666666666,
              "#ed7953"
             ],
             [
              0.7777777777777778,
              "#fb9f3a"
             ],
             [
              0.8888888888888888,
              "#fdca26"
             ],
             [
              1,
              "#f0f921"
             ]
            ],
            "type": "heatmapgl"
           }
          ],
          "histogram": [
           {
            "marker": {
             "pattern": {
              "fillmode": "overlay",
              "size": 10,
              "solidity": 0.2
             }
            },
            "type": "histogram"
           }
          ],
          "histogram2d": [
           {
            "colorbar": {
             "outlinewidth": 0,
             "ticks": ""
            },
            "colorscale": [
             [
              0,
              "#0d0887"
             ],
             [
              0.1111111111111111,
              "#46039f"
             ],
             [
              0.2222222222222222,
              "#7201a8"
             ],
             [
              0.3333333333333333,
              "#9c179e"
             ],
             [
              0.4444444444444444,
              "#bd3786"
             ],
             [
              0.5555555555555556,
              "#d8576b"
             ],
             [
              0.6666666666666666,
              "#ed7953"
             ],
             [
              0.7777777777777778,
              "#fb9f3a"
             ],
             [
              0.8888888888888888,
              "#fdca26"
             ],
             [
              1,
              "#f0f921"
             ]
            ],
            "type": "histogram2d"
           }
          ],
          "histogram2dcontour": [
           {
            "colorbar": {
             "outlinewidth": 0,
             "ticks": ""
            },
            "colorscale": [
             [
              0,
              "#0d0887"
             ],
             [
              0.1111111111111111,
              "#46039f"
             ],
             [
              0.2222222222222222,
              "#7201a8"
             ],
             [
              0.3333333333333333,
              "#9c179e"
             ],
             [
              0.4444444444444444,
              "#bd3786"
             ],
             [
              0.5555555555555556,
              "#d8576b"
             ],
             [
              0.6666666666666666,
              "#ed7953"
             ],
             [
              0.7777777777777778,
              "#fb9f3a"
             ],
             [
              0.8888888888888888,
              "#fdca26"
             ],
             [
              1,
              "#f0f921"
             ]
            ],
            "type": "histogram2dcontour"
           }
          ],
          "mesh3d": [
           {
            "colorbar": {
             "outlinewidth": 0,
             "ticks": ""
            },
            "type": "mesh3d"
           }
          ],
          "parcoords": [
           {
            "line": {
             "colorbar": {
              "outlinewidth": 0,
              "ticks": ""
             }
            },
            "type": "parcoords"
           }
          ],
          "pie": [
           {
            "automargin": true,
            "type": "pie"
           }
          ],
          "scatter": [
           {
            "fillpattern": {
             "fillmode": "overlay",
             "size": 10,
             "solidity": 0.2
            },
            "type": "scatter"
           }
          ],
          "scatter3d": [
           {
            "line": {
             "colorbar": {
              "outlinewidth": 0,
              "ticks": ""
             }
            },
            "marker": {
             "colorbar": {
              "outlinewidth": 0,
              "ticks": ""
             }
            },
            "type": "scatter3d"
           }
          ],
          "scattercarpet": [
           {
            "marker": {
             "colorbar": {
              "outlinewidth": 0,
              "ticks": ""
             }
            },
            "type": "scattercarpet"
           }
          ],
          "scattergeo": [
           {
            "marker": {
             "colorbar": {
              "outlinewidth": 0,
              "ticks": ""
             }
            },
            "type": "scattergeo"
           }
          ],
          "scattergl": [
           {
            "marker": {
             "colorbar": {
              "outlinewidth": 0,
              "ticks": ""
             }
            },
            "type": "scattergl"
           }
          ],
          "scattermapbox": [
           {
            "marker": {
             "colorbar": {
              "outlinewidth": 0,
              "ticks": ""
             }
            },
            "type": "scattermapbox"
           }
          ],
          "scatterpolar": [
           {
            "marker": {
             "colorbar": {
              "outlinewidth": 0,
              "ticks": ""
             }
            },
            "type": "scatterpolar"
           }
          ],
          "scatterpolargl": [
           {
            "marker": {
             "colorbar": {
              "outlinewidth": 0,
              "ticks": ""
             }
            },
            "type": "scatterpolargl"
           }
          ],
          "scatterternary": [
           {
            "marker": {
             "colorbar": {
              "outlinewidth": 0,
              "ticks": ""
             }
            },
            "type": "scatterternary"
           }
          ],
          "surface": [
           {
            "colorbar": {
             "outlinewidth": 0,
             "ticks": ""
            },
            "colorscale": [
             [
              0,
              "#0d0887"
             ],
             [
              0.1111111111111111,
              "#46039f"
             ],
             [
              0.2222222222222222,
              "#7201a8"
             ],
             [
              0.3333333333333333,
              "#9c179e"
             ],
             [
              0.4444444444444444,
              "#bd3786"
             ],
             [
              0.5555555555555556,
              "#d8576b"
             ],
             [
              0.6666666666666666,
              "#ed7953"
             ],
             [
              0.7777777777777778,
              "#fb9f3a"
             ],
             [
              0.8888888888888888,
              "#fdca26"
             ],
             [
              1,
              "#f0f921"
             ]
            ],
            "type": "surface"
           }
          ],
          "table": [
           {
            "cells": {
             "fill": {
              "color": "#EBF0F8"
             },
             "line": {
              "color": "white"
             }
            },
            "header": {
             "fill": {
              "color": "#C8D4E3"
             },
             "line": {
              "color": "white"
             }
            },
            "type": "table"
           }
          ]
         },
         "layout": {
          "annotationdefaults": {
           "arrowcolor": "#2a3f5f",
           "arrowhead": 0,
           "arrowwidth": 1
          },
          "autotypenumbers": "strict",
          "coloraxis": {
           "colorbar": {
            "outlinewidth": 0,
            "ticks": ""
           }
          },
          "colorscale": {
           "diverging": [
            [
             0,
             "#8e0152"
            ],
            [
             0.1,
             "#c51b7d"
            ],
            [
             0.2,
             "#de77ae"
            ],
            [
             0.3,
             "#f1b6da"
            ],
            [
             0.4,
             "#fde0ef"
            ],
            [
             0.5,
             "#f7f7f7"
            ],
            [
             0.6,
             "#e6f5d0"
            ],
            [
             0.7,
             "#b8e186"
            ],
            [
             0.8,
             "#7fbc41"
            ],
            [
             0.9,
             "#4d9221"
            ],
            [
             1,
             "#276419"
            ]
           ],
           "sequential": [
            [
             0,
             "#0d0887"
            ],
            [
             0.1111111111111111,
             "#46039f"
            ],
            [
             0.2222222222222222,
             "#7201a8"
            ],
            [
             0.3333333333333333,
             "#9c179e"
            ],
            [
             0.4444444444444444,
             "#bd3786"
            ],
            [
             0.5555555555555556,
             "#d8576b"
            ],
            [
             0.6666666666666666,
             "#ed7953"
            ],
            [
             0.7777777777777778,
             "#fb9f3a"
            ],
            [
             0.8888888888888888,
             "#fdca26"
            ],
            [
             1,
             "#f0f921"
            ]
           ],
           "sequentialminus": [
            [
             0,
             "#0d0887"
            ],
            [
             0.1111111111111111,
             "#46039f"
            ],
            [
             0.2222222222222222,
             "#7201a8"
            ],
            [
             0.3333333333333333,
             "#9c179e"
            ],
            [
             0.4444444444444444,
             "#bd3786"
            ],
            [
             0.5555555555555556,
             "#d8576b"
            ],
            [
             0.6666666666666666,
             "#ed7953"
            ],
            [
             0.7777777777777778,
             "#fb9f3a"
            ],
            [
             0.8888888888888888,
             "#fdca26"
            ],
            [
             1,
             "#f0f921"
            ]
           ]
          },
          "colorway": [
           "#636efa",
           "#EF553B",
           "#00cc96",
           "#ab63fa",
           "#FFA15A",
           "#19d3f3",
           "#FF6692",
           "#B6E880",
           "#FF97FF",
           "#FECB52"
          ],
          "font": {
           "color": "#2a3f5f"
          },
          "geo": {
           "bgcolor": "white",
           "lakecolor": "white",
           "landcolor": "#E5ECF6",
           "showlakes": true,
           "showland": true,
           "subunitcolor": "white"
          },
          "hoverlabel": {
           "align": "left"
          },
          "hovermode": "closest",
          "mapbox": {
           "style": "light"
          },
          "paper_bgcolor": "white",
          "plot_bgcolor": "#E5ECF6",
          "polar": {
           "angularaxis": {
            "gridcolor": "white",
            "linecolor": "white",
            "ticks": ""
           },
           "bgcolor": "#E5ECF6",
           "radialaxis": {
            "gridcolor": "white",
            "linecolor": "white",
            "ticks": ""
           }
          },
          "scene": {
           "xaxis": {
            "backgroundcolor": "#E5ECF6",
            "gridcolor": "white",
            "gridwidth": 2,
            "linecolor": "white",
            "showbackground": true,
            "ticks": "",
            "zerolinecolor": "white"
           },
           "yaxis": {
            "backgroundcolor": "#E5ECF6",
            "gridcolor": "white",
            "gridwidth": 2,
            "linecolor": "white",
            "showbackground": true,
            "ticks": "",
            "zerolinecolor": "white"
           },
           "zaxis": {
            "backgroundcolor": "#E5ECF6",
            "gridcolor": "white",
            "gridwidth": 2,
            "linecolor": "white",
            "showbackground": true,
            "ticks": "",
            "zerolinecolor": "white"
           }
          },
          "shapedefaults": {
           "line": {
            "color": "#2a3f5f"
           }
          },
          "ternary": {
           "aaxis": {
            "gridcolor": "white",
            "linecolor": "white",
            "ticks": ""
           },
           "baxis": {
            "gridcolor": "white",
            "linecolor": "white",
            "ticks": ""
           },
           "bgcolor": "#E5ECF6",
           "caxis": {
            "gridcolor": "white",
            "linecolor": "white",
            "ticks": ""
           }
          },
          "title": {
           "x": 0.05
          },
          "xaxis": {
           "automargin": true,
           "gridcolor": "white",
           "linecolor": "white",
           "ticks": "",
           "title": {
            "standoff": 15
           },
           "zerolinecolor": "white",
           "zerolinewidth": 2
          },
          "yaxis": {
           "automargin": true,
           "gridcolor": "white",
           "linecolor": "white",
           "ticks": "",
           "title": {
            "standoff": 15
           },
           "zerolinecolor": "white",
           "zerolinewidth": 2
          }
         }
        }
       }
      },
      "text/html": [
       "<div>                            <div id=\"017efefb-8a80-4a7c-9801-13a896a27a46\" class=\"plotly-graph-div\" style=\"height:525px; width:100%;\"></div>            <script type=\"text/javascript\">                require([\"plotly\"], function(Plotly) {                    window.PLOTLYENV=window.PLOTLYENV || {};                                    if (document.getElementById(\"017efefb-8a80-4a7c-9801-13a896a27a46\")) {                    Plotly.newPlot(                        \"017efefb-8a80-4a7c-9801-13a896a27a46\",                        [{\"domain\":{\"x\":[0.0,1.0],\"y\":[0.0,1.0]},\"hovertemplate\":\"Major_category=%{label}<extra></extra>\",\"labels\":[\"Law & Public Policy\",\"Industrial Arts & Consumer Services\",\"Business\",\"Law & Public Policy\",\"Engineering\",\"Arts\",\"Business\",\"Social Science\",\"Business\",\"Engineering\",\"Physical Sciences\",\"Business\",\"Health\",\"Physical Sciences\",\"Engineering\",\"Health\",\"Social Science\",\"Business\",\"Business\",\"Business\",\"Agriculture & Natural Resources\",\"Agriculture & Natural Resources\",\"Engineering\",\"Engineering\",\"Social Science\",\"Humanities & Liberal Arts\",\"Psychology & Social Work\",\"Agriculture & Natural Resources\",\"Industrial Arts & Consumer Services\",\"Business\",\"Business\",\"Social Science\",\"Social Science\",\"Computers & Mathematics\",\"Computers & Mathematics\",\"Business\",\"Law & Public Policy\",\"Law & Public Policy\",\"Psychology & Social Work\",\"Biology & Life Science\",\"Communications & Journalism\",\"Law & Public Policy\",\"Arts\",\"Communications & Journalism\",\"Physical Sciences\",\"Communications & Journalism\",\"Humanities & Liberal Arts\",\"Biology & Life Science\",\"Social Science\",\"Health\",\"Computers & Mathematics\",\"Industrial Arts & Consumer Services\",\"Agriculture & Natural Resources\",\"Agriculture & Natural Resources\",\"Humanities & Liberal Arts\",\"Humanities & Liberal Arts\",\"Humanities & Liberal Arts\",\"Health\",\"Health\",\"Social Science\",\"Communications & Journalism\",\"Business\",\"Humanities & Liberal Arts\",\"Social Science\",\"Biology & Life Science\",\"Health\",\"Humanities & Liberal Arts\",\"Humanities & Liberal Arts\",\"Industrial Arts & Consumer Services\",\"Humanities & Liberal Arts\",\"Arts\",\"Social Science\",\"Agriculture & Natural Resources\",\"Psychology & Social Work\",\"Arts\",\"Humanities & Liberal Arts\",\"Arts\",\"Agriculture & Natural Resources\",\"Arts\",\"Psychology & Social Work\",\"Psychology & Social Work\",\"Humanities & Liberal Arts\",\"Humanities & Liberal Arts\",\"Arts\",\"Industrial Arts & Consumer Services\",\"Agriculture & Natural Resources\",\"Humanities & Liberal Arts\",\"Humanities & Liberal Arts\",\"Arts\",\"Humanities & Liberal Arts\",\"Biology & Life Science\",\"Education\"],\"legendgroup\":\"\",\"name\":\"\",\"showlegend\":true,\"type\":\"pie\"}],                        {\"template\":{\"data\":{\"histogram2dcontour\":[{\"type\":\"histogram2dcontour\",\"colorbar\":{\"outlinewidth\":0,\"ticks\":\"\"},\"colorscale\":[[0.0,\"#0d0887\"],[0.1111111111111111,\"#46039f\"],[0.2222222222222222,\"#7201a8\"],[0.3333333333333333,\"#9c179e\"],[0.4444444444444444,\"#bd3786\"],[0.5555555555555556,\"#d8576b\"],[0.6666666666666666,\"#ed7953\"],[0.7777777777777778,\"#fb9f3a\"],[0.8888888888888888,\"#fdca26\"],[1.0,\"#f0f921\"]]}],\"choropleth\":[{\"type\":\"choropleth\",\"colorbar\":{\"outlinewidth\":0,\"ticks\":\"\"}}],\"histogram2d\":[{\"type\":\"histogram2d\",\"colorbar\":{\"outlinewidth\":0,\"ticks\":\"\"},\"colorscale\":[[0.0,\"#0d0887\"],[0.1111111111111111,\"#46039f\"],[0.2222222222222222,\"#7201a8\"],[0.3333333333333333,\"#9c179e\"],[0.4444444444444444,\"#bd3786\"],[0.5555555555555556,\"#d8576b\"],[0.6666666666666666,\"#ed7953\"],[0.7777777777777778,\"#fb9f3a\"],[0.8888888888888888,\"#fdca26\"],[1.0,\"#f0f921\"]]}],\"heatmap\":[{\"type\":\"heatmap\",\"colorbar\":{\"outlinewidth\":0,\"ticks\":\"\"},\"colorscale\":[[0.0,\"#0d0887\"],[0.1111111111111111,\"#46039f\"],[0.2222222222222222,\"#7201a8\"],[0.3333333333333333,\"#9c179e\"],[0.4444444444444444,\"#bd3786\"],[0.5555555555555556,\"#d8576b\"],[0.6666666666666666,\"#ed7953\"],[0.7777777777777778,\"#fb9f3a\"],[0.8888888888888888,\"#fdca26\"],[1.0,\"#f0f921\"]]}],\"heatmapgl\":[{\"type\":\"heatmapgl\",\"colorbar\":{\"outlinewidth\":0,\"ticks\":\"\"},\"colorscale\":[[0.0,\"#0d0887\"],[0.1111111111111111,\"#46039f\"],[0.2222222222222222,\"#7201a8\"],[0.3333333333333333,\"#9c179e\"],[0.4444444444444444,\"#bd3786\"],[0.5555555555555556,\"#d8576b\"],[0.6666666666666666,\"#ed7953\"],[0.7777777777777778,\"#fb9f3a\"],[0.8888888888888888,\"#fdca26\"],[1.0,\"#f0f921\"]]}],\"contourcarpet\":[{\"type\":\"contourcarpet\",\"colorbar\":{\"outlinewidth\":0,\"ticks\":\"\"}}],\"contour\":[{\"type\":\"contour\",\"colorbar\":{\"outlinewidth\":0,\"ticks\":\"\"},\"colorscale\":[[0.0,\"#0d0887\"],[0.1111111111111111,\"#46039f\"],[0.2222222222222222,\"#7201a8\"],[0.3333333333333333,\"#9c179e\"],[0.4444444444444444,\"#bd3786\"],[0.5555555555555556,\"#d8576b\"],[0.6666666666666666,\"#ed7953\"],[0.7777777777777778,\"#fb9f3a\"],[0.8888888888888888,\"#fdca26\"],[1.0,\"#f0f921\"]]}],\"surface\":[{\"type\":\"surface\",\"colorbar\":{\"outlinewidth\":0,\"ticks\":\"\"},\"colorscale\":[[0.0,\"#0d0887\"],[0.1111111111111111,\"#46039f\"],[0.2222222222222222,\"#7201a8\"],[0.3333333333333333,\"#9c179e\"],[0.4444444444444444,\"#bd3786\"],[0.5555555555555556,\"#d8576b\"],[0.6666666666666666,\"#ed7953\"],[0.7777777777777778,\"#fb9f3a\"],[0.8888888888888888,\"#fdca26\"],[1.0,\"#f0f921\"]]}],\"mesh3d\":[{\"type\":\"mesh3d\",\"colorbar\":{\"outlinewidth\":0,\"ticks\":\"\"}}],\"scatter\":[{\"fillpattern\":{\"fillmode\":\"overlay\",\"size\":10,\"solidity\":0.2},\"type\":\"scatter\"}],\"parcoords\":[{\"type\":\"parcoords\",\"line\":{\"colorbar\":{\"outlinewidth\":0,\"ticks\":\"\"}}}],\"scatterpolargl\":[{\"type\":\"scatterpolargl\",\"marker\":{\"colorbar\":{\"outlinewidth\":0,\"ticks\":\"\"}}}],\"bar\":[{\"error_x\":{\"color\":\"#2a3f5f\"},\"error_y\":{\"color\":\"#2a3f5f\"},\"marker\":{\"line\":{\"color\":\"#E5ECF6\",\"width\":0.5},\"pattern\":{\"fillmode\":\"overlay\",\"size\":10,\"solidity\":0.2}},\"type\":\"bar\"}],\"scattergeo\":[{\"type\":\"scattergeo\",\"marker\":{\"colorbar\":{\"outlinewidth\":0,\"ticks\":\"\"}}}],\"scatterpolar\":[{\"type\":\"scatterpolar\",\"marker\":{\"colorbar\":{\"outlinewidth\":0,\"ticks\":\"\"}}}],\"histogram\":[{\"marker\":{\"pattern\":{\"fillmode\":\"overlay\",\"size\":10,\"solidity\":0.2}},\"type\":\"histogram\"}],\"scattergl\":[{\"type\":\"scattergl\",\"marker\":{\"colorbar\":{\"outlinewidth\":0,\"ticks\":\"\"}}}],\"scatter3d\":[{\"type\":\"scatter3d\",\"line\":{\"colorbar\":{\"outlinewidth\":0,\"ticks\":\"\"}},\"marker\":{\"colorbar\":{\"outlinewidth\":0,\"ticks\":\"\"}}}],\"scattermapbox\":[{\"type\":\"scattermapbox\",\"marker\":{\"colorbar\":{\"outlinewidth\":0,\"ticks\":\"\"}}}],\"scatterternary\":[{\"type\":\"scatterternary\",\"marker\":{\"colorbar\":{\"outlinewidth\":0,\"ticks\":\"\"}}}],\"scattercarpet\":[{\"type\":\"scattercarpet\",\"marker\":{\"colorbar\":{\"outlinewidth\":0,\"ticks\":\"\"}}}],\"carpet\":[{\"aaxis\":{\"endlinecolor\":\"#2a3f5f\",\"gridcolor\":\"white\",\"linecolor\":\"white\",\"minorgridcolor\":\"white\",\"startlinecolor\":\"#2a3f5f\"},\"baxis\":{\"endlinecolor\":\"#2a3f5f\",\"gridcolor\":\"white\",\"linecolor\":\"white\",\"minorgridcolor\":\"white\",\"startlinecolor\":\"#2a3f5f\"},\"type\":\"carpet\"}],\"table\":[{\"cells\":{\"fill\":{\"color\":\"#EBF0F8\"},\"line\":{\"color\":\"white\"}},\"header\":{\"fill\":{\"color\":\"#C8D4E3\"},\"line\":{\"color\":\"white\"}},\"type\":\"table\"}],\"barpolar\":[{\"marker\":{\"line\":{\"color\":\"#E5ECF6\",\"width\":0.5},\"pattern\":{\"fillmode\":\"overlay\",\"size\":10,\"solidity\":0.2}},\"type\":\"barpolar\"}],\"pie\":[{\"automargin\":true,\"type\":\"pie\"}]},\"layout\":{\"autotypenumbers\":\"strict\",\"colorway\":[\"#636efa\",\"#EF553B\",\"#00cc96\",\"#ab63fa\",\"#FFA15A\",\"#19d3f3\",\"#FF6692\",\"#B6E880\",\"#FF97FF\",\"#FECB52\"],\"font\":{\"color\":\"#2a3f5f\"},\"hovermode\":\"closest\",\"hoverlabel\":{\"align\":\"left\"},\"paper_bgcolor\":\"white\",\"plot_bgcolor\":\"#E5ECF6\",\"polar\":{\"bgcolor\":\"#E5ECF6\",\"angularaxis\":{\"gridcolor\":\"white\",\"linecolor\":\"white\",\"ticks\":\"\"},\"radialaxis\":{\"gridcolor\":\"white\",\"linecolor\":\"white\",\"ticks\":\"\"}},\"ternary\":{\"bgcolor\":\"#E5ECF6\",\"aaxis\":{\"gridcolor\":\"white\",\"linecolor\":\"white\",\"ticks\":\"\"},\"baxis\":{\"gridcolor\":\"white\",\"linecolor\":\"white\",\"ticks\":\"\"},\"caxis\":{\"gridcolor\":\"white\",\"linecolor\":\"white\",\"ticks\":\"\"}},\"coloraxis\":{\"colorbar\":{\"outlinewidth\":0,\"ticks\":\"\"}},\"colorscale\":{\"sequential\":[[0.0,\"#0d0887\"],[0.1111111111111111,\"#46039f\"],[0.2222222222222222,\"#7201a8\"],[0.3333333333333333,\"#9c179e\"],[0.4444444444444444,\"#bd3786\"],[0.5555555555555556,\"#d8576b\"],[0.6666666666666666,\"#ed7953\"],[0.7777777777777778,\"#fb9f3a\"],[0.8888888888888888,\"#fdca26\"],[1.0,\"#f0f921\"]],\"sequentialminus\":[[0.0,\"#0d0887\"],[0.1111111111111111,\"#46039f\"],[0.2222222222222222,\"#7201a8\"],[0.3333333333333333,\"#9c179e\"],[0.4444444444444444,\"#bd3786\"],[0.5555555555555556,\"#d8576b\"],[0.6666666666666666,\"#ed7953\"],[0.7777777777777778,\"#fb9f3a\"],[0.8888888888888888,\"#fdca26\"],[1.0,\"#f0f921\"]],\"diverging\":[[0,\"#8e0152\"],[0.1,\"#c51b7d\"],[0.2,\"#de77ae\"],[0.3,\"#f1b6da\"],[0.4,\"#fde0ef\"],[0.5,\"#f7f7f7\"],[0.6,\"#e6f5d0\"],[0.7,\"#b8e186\"],[0.8,\"#7fbc41\"],[0.9,\"#4d9221\"],[1,\"#276419\"]]},\"xaxis\":{\"gridcolor\":\"white\",\"linecolor\":\"white\",\"ticks\":\"\",\"title\":{\"standoff\":15},\"zerolinecolor\":\"white\",\"automargin\":true,\"zerolinewidth\":2},\"yaxis\":{\"gridcolor\":\"white\",\"linecolor\":\"white\",\"ticks\":\"\",\"title\":{\"standoff\":15},\"zerolinecolor\":\"white\",\"automargin\":true,\"zerolinewidth\":2},\"scene\":{\"xaxis\":{\"backgroundcolor\":\"#E5ECF6\",\"gridcolor\":\"white\",\"linecolor\":\"white\",\"showbackground\":true,\"ticks\":\"\",\"zerolinecolor\":\"white\",\"gridwidth\":2},\"yaxis\":{\"backgroundcolor\":\"#E5ECF6\",\"gridcolor\":\"white\",\"linecolor\":\"white\",\"showbackground\":true,\"ticks\":\"\",\"zerolinecolor\":\"white\",\"gridwidth\":2},\"zaxis\":{\"backgroundcolor\":\"#E5ECF6\",\"gridcolor\":\"white\",\"linecolor\":\"white\",\"showbackground\":true,\"ticks\":\"\",\"zerolinecolor\":\"white\",\"gridwidth\":2}},\"shapedefaults\":{\"line\":{\"color\":\"#2a3f5f\"}},\"annotationdefaults\":{\"arrowcolor\":\"#2a3f5f\",\"arrowhead\":0,\"arrowwidth\":1},\"geo\":{\"bgcolor\":\"white\",\"landcolor\":\"#E5ECF6\",\"subunitcolor\":\"white\",\"showland\":true,\"showlakes\":true,\"lakecolor\":\"white\"},\"title\":{\"x\":0.05},\"mapbox\":{\"style\":\"light\"}}},\"legend\":{\"tracegroupgap\":0},\"margin\":{\"t\":60}},                        {\"responsive\": true}                    ).then(function(){\n",
       "                            \n",
       "var gd = document.getElementById('017efefb-8a80-4a7c-9801-13a896a27a46');\n",
       "var x = new MutationObserver(function (mutations, observer) {{\n",
       "        var display = window.getComputedStyle(gd).display;\n",
       "        if (!display || display === 'none') {{\n",
       "            console.log([gd, 'removed!']);\n",
       "            Plotly.purge(gd);\n",
       "            observer.disconnect();\n",
       "        }}\n",
       "}});\n",
       "\n",
       "// Listen for the removal of the full notebook cells\n",
       "var notebookContainer = gd.closest('#notebook-container');\n",
       "if (notebookContainer) {{\n",
       "    x.observe(notebookContainer, {childList: true});\n",
       "}}\n",
       "\n",
       "// Listen for the clearing of the current output cell\n",
       "var outputEl = gd.closest('.output');\n",
       "if (outputEl) {{\n",
       "    x.observe(outputEl, {childList: true});\n",
       "}}\n",
       "\n",
       "                        })                };                });            </script>        </div>"
      ]
     },
     "metadata": {},
     "output_type": "display_data"
    }
   ],
   "source": [
    "fig = px.pie(non_col_jobs, names='Major_category', title='')\n",
    "fig.show()"
   ]
  },
  {
   "cell_type": "code",
   "execution_count": 29,
   "metadata": {},
   "outputs": [
    {
     "data": {
      "text/html": [
       "<div>\n",
       "<style scoped>\n",
       "    .dataframe tbody tr th:only-of-type {\n",
       "        vertical-align: middle;\n",
       "    }\n",
       "\n",
       "    .dataframe tbody tr th {\n",
       "        vertical-align: top;\n",
       "    }\n",
       "\n",
       "    .dataframe thead th {\n",
       "        text-align: right;\n",
       "    }\n",
       "</style>\n",
       "<table border=\"1\" class=\"dataframe\">\n",
       "  <thead>\n",
       "    <tr style=\"text-align: right;\">\n",
       "      <th></th>\n",
       "      <th>Major_category</th>\n",
       "      <th>College_jobs</th>\n",
       "    </tr>\n",
       "  </thead>\n",
       "  <tbody>\n",
       "    <tr>\n",
       "      <th>0</th>\n",
       "      <td>Engineering</td>\n",
       "      <td>1534</td>\n",
       "    </tr>\n",
       "    <tr>\n",
       "      <th>1</th>\n",
       "      <td>Engineering</td>\n",
       "      <td>350</td>\n",
       "    </tr>\n",
       "    <tr>\n",
       "      <th>2</th>\n",
       "      <td>Engineering</td>\n",
       "      <td>456</td>\n",
       "    </tr>\n",
       "    <tr>\n",
       "      <th>3</th>\n",
       "      <td>Engineering</td>\n",
       "      <td>529</td>\n",
       "    </tr>\n",
       "    <tr>\n",
       "      <th>4</th>\n",
       "      <td>Engineering</td>\n",
       "      <td>18314</td>\n",
       "    </tr>\n",
       "    <tr>\n",
       "      <th>...</th>\n",
       "      <td>...</td>\n",
       "      <td>...</td>\n",
       "    </tr>\n",
       "    <tr>\n",
       "      <th>163</th>\n",
       "      <td>Health</td>\n",
       "      <td>19957</td>\n",
       "    </tr>\n",
       "    <tr>\n",
       "      <th>164</th>\n",
       "      <td>Education</td>\n",
       "      <td>23515</td>\n",
       "    </tr>\n",
       "    <tr>\n",
       "      <th>169</th>\n",
       "      <td>Psychology &amp; Social Work</td>\n",
       "      <td>1488</td>\n",
       "    </tr>\n",
       "    <tr>\n",
       "      <th>170</th>\n",
       "      <td>Psychology &amp; Social Work</td>\n",
       "      <td>986</td>\n",
       "    </tr>\n",
       "    <tr>\n",
       "      <th>171</th>\n",
       "      <td>Psychology &amp; Social Work</td>\n",
       "      <td>2403</td>\n",
       "    </tr>\n",
       "  </tbody>\n",
       "</table>\n",
       "<p>79 rows × 2 columns</p>\n",
       "</div>"
      ],
      "text/plain": [
       "               Major_category  College_jobs\n",
       "0                 Engineering          1534\n",
       "1                 Engineering           350\n",
       "2                 Engineering           456\n",
       "3                 Engineering           529\n",
       "4                 Engineering         18314\n",
       "..                        ...           ...\n",
       "163                    Health         19957\n",
       "164                 Education         23515\n",
       "169  Psychology & Social Work          1488\n",
       "170  Psychology & Social Work           986\n",
       "171  Psychology & Social Work          2403\n",
       "\n",
       "[79 rows x 2 columns]"
      ]
     },
     "execution_count": 29,
     "metadata": {},
     "output_type": "execute_result"
    }
   ],
   "source": [
    "col_jobs = df[df['College_jobs'] > df['Non_college_jobs']]\n",
    "col_jobs[['Major_category', 'College_jobs']]"
   ]
  },
  {
   "cell_type": "code",
   "execution_count": 30,
   "metadata": {},
   "outputs": [
    {
     "data": {
      "application/vnd.plotly.v1+json": {
       "config": {
        "plotlyServerURL": "https://plot.ly"
       },
       "data": [
        {
         "domain": {
          "x": [
           0,
           1
          ],
          "y": [
           0,
           1
          ]
         },
         "hovertemplate": "Major_category=%{label}<extra></extra>",
         "labels": [
          "Engineering",
          "Engineering",
          "Engineering",
          "Engineering",
          "Engineering",
          "Engineering",
          "Business",
          "Physical Sciences",
          "Engineering",
          "Engineering",
          "Engineering",
          "Engineering",
          "Engineering",
          "Engineering",
          "Engineering",
          "Engineering",
          "Engineering",
          "Engineering",
          "Engineering",
          "Computers & Mathematics",
          "Engineering",
          "Engineering",
          "Business",
          "Engineering",
          "Engineering",
          "Engineering",
          "Engineering",
          "Health",
          "Computers & Mathematics",
          "Computers & Mathematics",
          "Physical Sciences",
          "Computers & Mathematics",
          "Computers & Mathematics",
          "Computers & Mathematics",
          "Biology & Life Science",
          "Computers & Mathematics",
          "Computers & Mathematics",
          "Biology & Life Science",
          "Education",
          "Engineering",
          "Health",
          "Biology & Life Science",
          "Biology & Life Science",
          "Physical Sciences",
          "Physical Sciences",
          "Biology & Life Science",
          "Biology & Life Science",
          "Biology & Life Science",
          "Physical Sciences",
          "Health",
          "Physical Sciences",
          "Education",
          "Health",
          "Biology & Life Science",
          "Interdisciplinary",
          "Physical Sciences",
          "Agriculture & Natural Resources",
          "Education",
          "Education",
          "Education",
          "Education",
          "Biology & Life Science",
          "Biology & Life Science",
          "Health",
          "Education",
          "Education",
          "Education",
          "Education",
          "Education",
          "Education",
          "Education",
          "Industrial Arts & Consumer Services",
          "Psychology & Social Work",
          "Education",
          "Health",
          "Education",
          "Psychology & Social Work",
          "Psychology & Social Work",
          "Psychology & Social Work"
         ],
         "legendgroup": "",
         "name": "",
         "showlegend": true,
         "type": "pie"
        }
       ],
       "layout": {
        "legend": {
         "tracegroupgap": 0
        },
        "margin": {
         "t": 60
        },
        "template": {
         "data": {
          "bar": [
           {
            "error_x": {
             "color": "#2a3f5f"
            },
            "error_y": {
             "color": "#2a3f5f"
            },
            "marker": {
             "line": {
              "color": "#E5ECF6",
              "width": 0.5
             },
             "pattern": {
              "fillmode": "overlay",
              "size": 10,
              "solidity": 0.2
             }
            },
            "type": "bar"
           }
          ],
          "barpolar": [
           {
            "marker": {
             "line": {
              "color": "#E5ECF6",
              "width": 0.5
             },
             "pattern": {
              "fillmode": "overlay",
              "size": 10,
              "solidity": 0.2
             }
            },
            "type": "barpolar"
           }
          ],
          "carpet": [
           {
            "aaxis": {
             "endlinecolor": "#2a3f5f",
             "gridcolor": "white",
             "linecolor": "white",
             "minorgridcolor": "white",
             "startlinecolor": "#2a3f5f"
            },
            "baxis": {
             "endlinecolor": "#2a3f5f",
             "gridcolor": "white",
             "linecolor": "white",
             "minorgridcolor": "white",
             "startlinecolor": "#2a3f5f"
            },
            "type": "carpet"
           }
          ],
          "choropleth": [
           {
            "colorbar": {
             "outlinewidth": 0,
             "ticks": ""
            },
            "type": "choropleth"
           }
          ],
          "contour": [
           {
            "colorbar": {
             "outlinewidth": 0,
             "ticks": ""
            },
            "colorscale": [
             [
              0,
              "#0d0887"
             ],
             [
              0.1111111111111111,
              "#46039f"
             ],
             [
              0.2222222222222222,
              "#7201a8"
             ],
             [
              0.3333333333333333,
              "#9c179e"
             ],
             [
              0.4444444444444444,
              "#bd3786"
             ],
             [
              0.5555555555555556,
              "#d8576b"
             ],
             [
              0.6666666666666666,
              "#ed7953"
             ],
             [
              0.7777777777777778,
              "#fb9f3a"
             ],
             [
              0.8888888888888888,
              "#fdca26"
             ],
             [
              1,
              "#f0f921"
             ]
            ],
            "type": "contour"
           }
          ],
          "contourcarpet": [
           {
            "colorbar": {
             "outlinewidth": 0,
             "ticks": ""
            },
            "type": "contourcarpet"
           }
          ],
          "heatmap": [
           {
            "colorbar": {
             "outlinewidth": 0,
             "ticks": ""
            },
            "colorscale": [
             [
              0,
              "#0d0887"
             ],
             [
              0.1111111111111111,
              "#46039f"
             ],
             [
              0.2222222222222222,
              "#7201a8"
             ],
             [
              0.3333333333333333,
              "#9c179e"
             ],
             [
              0.4444444444444444,
              "#bd3786"
             ],
             [
              0.5555555555555556,
              "#d8576b"
             ],
             [
              0.6666666666666666,
              "#ed7953"
             ],
             [
              0.7777777777777778,
              "#fb9f3a"
             ],
             [
              0.8888888888888888,
              "#fdca26"
             ],
             [
              1,
              "#f0f921"
             ]
            ],
            "type": "heatmap"
           }
          ],
          "heatmapgl": [
           {
            "colorbar": {
             "outlinewidth": 0,
             "ticks": ""
            },
            "colorscale": [
             [
              0,
              "#0d0887"
             ],
             [
              0.1111111111111111,
              "#46039f"
             ],
             [
              0.2222222222222222,
              "#7201a8"
             ],
             [
              0.3333333333333333,
              "#9c179e"
             ],
             [
              0.4444444444444444,
              "#bd3786"
             ],
             [
              0.5555555555555556,
              "#d8576b"
             ],
             [
              0.6666666666666666,
              "#ed7953"
             ],
             [
              0.7777777777777778,
              "#fb9f3a"
             ],
             [
              0.8888888888888888,
              "#fdca26"
             ],
             [
              1,
              "#f0f921"
             ]
            ],
            "type": "heatmapgl"
           }
          ],
          "histogram": [
           {
            "marker": {
             "pattern": {
              "fillmode": "overlay",
              "size": 10,
              "solidity": 0.2
             }
            },
            "type": "histogram"
           }
          ],
          "histogram2d": [
           {
            "colorbar": {
             "outlinewidth": 0,
             "ticks": ""
            },
            "colorscale": [
             [
              0,
              "#0d0887"
             ],
             [
              0.1111111111111111,
              "#46039f"
             ],
             [
              0.2222222222222222,
              "#7201a8"
             ],
             [
              0.3333333333333333,
              "#9c179e"
             ],
             [
              0.4444444444444444,
              "#bd3786"
             ],
             [
              0.5555555555555556,
              "#d8576b"
             ],
             [
              0.6666666666666666,
              "#ed7953"
             ],
             [
              0.7777777777777778,
              "#fb9f3a"
             ],
             [
              0.8888888888888888,
              "#fdca26"
             ],
             [
              1,
              "#f0f921"
             ]
            ],
            "type": "histogram2d"
           }
          ],
          "histogram2dcontour": [
           {
            "colorbar": {
             "outlinewidth": 0,
             "ticks": ""
            },
            "colorscale": [
             [
              0,
              "#0d0887"
             ],
             [
              0.1111111111111111,
              "#46039f"
             ],
             [
              0.2222222222222222,
              "#7201a8"
             ],
             [
              0.3333333333333333,
              "#9c179e"
             ],
             [
              0.4444444444444444,
              "#bd3786"
             ],
             [
              0.5555555555555556,
              "#d8576b"
             ],
             [
              0.6666666666666666,
              "#ed7953"
             ],
             [
              0.7777777777777778,
              "#fb9f3a"
             ],
             [
              0.8888888888888888,
              "#fdca26"
             ],
             [
              1,
              "#f0f921"
             ]
            ],
            "type": "histogram2dcontour"
           }
          ],
          "mesh3d": [
           {
            "colorbar": {
             "outlinewidth": 0,
             "ticks": ""
            },
            "type": "mesh3d"
           }
          ],
          "parcoords": [
           {
            "line": {
             "colorbar": {
              "outlinewidth": 0,
              "ticks": ""
             }
            },
            "type": "parcoords"
           }
          ],
          "pie": [
           {
            "automargin": true,
            "type": "pie"
           }
          ],
          "scatter": [
           {
            "fillpattern": {
             "fillmode": "overlay",
             "size": 10,
             "solidity": 0.2
            },
            "type": "scatter"
           }
          ],
          "scatter3d": [
           {
            "line": {
             "colorbar": {
              "outlinewidth": 0,
              "ticks": ""
             }
            },
            "marker": {
             "colorbar": {
              "outlinewidth": 0,
              "ticks": ""
             }
            },
            "type": "scatter3d"
           }
          ],
          "scattercarpet": [
           {
            "marker": {
             "colorbar": {
              "outlinewidth": 0,
              "ticks": ""
             }
            },
            "type": "scattercarpet"
           }
          ],
          "scattergeo": [
           {
            "marker": {
             "colorbar": {
              "outlinewidth": 0,
              "ticks": ""
             }
            },
            "type": "scattergeo"
           }
          ],
          "scattergl": [
           {
            "marker": {
             "colorbar": {
              "outlinewidth": 0,
              "ticks": ""
             }
            },
            "type": "scattergl"
           }
          ],
          "scattermapbox": [
           {
            "marker": {
             "colorbar": {
              "outlinewidth": 0,
              "ticks": ""
             }
            },
            "type": "scattermapbox"
           }
          ],
          "scatterpolar": [
           {
            "marker": {
             "colorbar": {
              "outlinewidth": 0,
              "ticks": ""
             }
            },
            "type": "scatterpolar"
           }
          ],
          "scatterpolargl": [
           {
            "marker": {
             "colorbar": {
              "outlinewidth": 0,
              "ticks": ""
             }
            },
            "type": "scatterpolargl"
           }
          ],
          "scatterternary": [
           {
            "marker": {
             "colorbar": {
              "outlinewidth": 0,
              "ticks": ""
             }
            },
            "type": "scatterternary"
           }
          ],
          "surface": [
           {
            "colorbar": {
             "outlinewidth": 0,
             "ticks": ""
            },
            "colorscale": [
             [
              0,
              "#0d0887"
             ],
             [
              0.1111111111111111,
              "#46039f"
             ],
             [
              0.2222222222222222,
              "#7201a8"
             ],
             [
              0.3333333333333333,
              "#9c179e"
             ],
             [
              0.4444444444444444,
              "#bd3786"
             ],
             [
              0.5555555555555556,
              "#d8576b"
             ],
             [
              0.6666666666666666,
              "#ed7953"
             ],
             [
              0.7777777777777778,
              "#fb9f3a"
             ],
             [
              0.8888888888888888,
              "#fdca26"
             ],
             [
              1,
              "#f0f921"
             ]
            ],
            "type": "surface"
           }
          ],
          "table": [
           {
            "cells": {
             "fill": {
              "color": "#EBF0F8"
             },
             "line": {
              "color": "white"
             }
            },
            "header": {
             "fill": {
              "color": "#C8D4E3"
             },
             "line": {
              "color": "white"
             }
            },
            "type": "table"
           }
          ]
         },
         "layout": {
          "annotationdefaults": {
           "arrowcolor": "#2a3f5f",
           "arrowhead": 0,
           "arrowwidth": 1
          },
          "autotypenumbers": "strict",
          "coloraxis": {
           "colorbar": {
            "outlinewidth": 0,
            "ticks": ""
           }
          },
          "colorscale": {
           "diverging": [
            [
             0,
             "#8e0152"
            ],
            [
             0.1,
             "#c51b7d"
            ],
            [
             0.2,
             "#de77ae"
            ],
            [
             0.3,
             "#f1b6da"
            ],
            [
             0.4,
             "#fde0ef"
            ],
            [
             0.5,
             "#f7f7f7"
            ],
            [
             0.6,
             "#e6f5d0"
            ],
            [
             0.7,
             "#b8e186"
            ],
            [
             0.8,
             "#7fbc41"
            ],
            [
             0.9,
             "#4d9221"
            ],
            [
             1,
             "#276419"
            ]
           ],
           "sequential": [
            [
             0,
             "#0d0887"
            ],
            [
             0.1111111111111111,
             "#46039f"
            ],
            [
             0.2222222222222222,
             "#7201a8"
            ],
            [
             0.3333333333333333,
             "#9c179e"
            ],
            [
             0.4444444444444444,
             "#bd3786"
            ],
            [
             0.5555555555555556,
             "#d8576b"
            ],
            [
             0.6666666666666666,
             "#ed7953"
            ],
            [
             0.7777777777777778,
             "#fb9f3a"
            ],
            [
             0.8888888888888888,
             "#fdca26"
            ],
            [
             1,
             "#f0f921"
            ]
           ],
           "sequentialminus": [
            [
             0,
             "#0d0887"
            ],
            [
             0.1111111111111111,
             "#46039f"
            ],
            [
             0.2222222222222222,
             "#7201a8"
            ],
            [
             0.3333333333333333,
             "#9c179e"
            ],
            [
             0.4444444444444444,
             "#bd3786"
            ],
            [
             0.5555555555555556,
             "#d8576b"
            ],
            [
             0.6666666666666666,
             "#ed7953"
            ],
            [
             0.7777777777777778,
             "#fb9f3a"
            ],
            [
             0.8888888888888888,
             "#fdca26"
            ],
            [
             1,
             "#f0f921"
            ]
           ]
          },
          "colorway": [
           "#636efa",
           "#EF553B",
           "#00cc96",
           "#ab63fa",
           "#FFA15A",
           "#19d3f3",
           "#FF6692",
           "#B6E880",
           "#FF97FF",
           "#FECB52"
          ],
          "font": {
           "color": "#2a3f5f"
          },
          "geo": {
           "bgcolor": "white",
           "lakecolor": "white",
           "landcolor": "#E5ECF6",
           "showlakes": true,
           "showland": true,
           "subunitcolor": "white"
          },
          "hoverlabel": {
           "align": "left"
          },
          "hovermode": "closest",
          "mapbox": {
           "style": "light"
          },
          "paper_bgcolor": "white",
          "plot_bgcolor": "#E5ECF6",
          "polar": {
           "angularaxis": {
            "gridcolor": "white",
            "linecolor": "white",
            "ticks": ""
           },
           "bgcolor": "#E5ECF6",
           "radialaxis": {
            "gridcolor": "white",
            "linecolor": "white",
            "ticks": ""
           }
          },
          "scene": {
           "xaxis": {
            "backgroundcolor": "#E5ECF6",
            "gridcolor": "white",
            "gridwidth": 2,
            "linecolor": "white",
            "showbackground": true,
            "ticks": "",
            "zerolinecolor": "white"
           },
           "yaxis": {
            "backgroundcolor": "#E5ECF6",
            "gridcolor": "white",
            "gridwidth": 2,
            "linecolor": "white",
            "showbackground": true,
            "ticks": "",
            "zerolinecolor": "white"
           },
           "zaxis": {
            "backgroundcolor": "#E5ECF6",
            "gridcolor": "white",
            "gridwidth": 2,
            "linecolor": "white",
            "showbackground": true,
            "ticks": "",
            "zerolinecolor": "white"
           }
          },
          "shapedefaults": {
           "line": {
            "color": "#2a3f5f"
           }
          },
          "ternary": {
           "aaxis": {
            "gridcolor": "white",
            "linecolor": "white",
            "ticks": ""
           },
           "baxis": {
            "gridcolor": "white",
            "linecolor": "white",
            "ticks": ""
           },
           "bgcolor": "#E5ECF6",
           "caxis": {
            "gridcolor": "white",
            "linecolor": "white",
            "ticks": ""
           }
          },
          "title": {
           "x": 0.05
          },
          "xaxis": {
           "automargin": true,
           "gridcolor": "white",
           "linecolor": "white",
           "ticks": "",
           "title": {
            "standoff": 15
           },
           "zerolinecolor": "white",
           "zerolinewidth": 2
          },
          "yaxis": {
           "automargin": true,
           "gridcolor": "white",
           "linecolor": "white",
           "ticks": "",
           "title": {
            "standoff": 15
           },
           "zerolinecolor": "white",
           "zerolinewidth": 2
          }
         }
        }
       }
      },
      "text/html": [
       "<div>                            <div id=\"4ad59199-335a-4cab-a647-b64dd0a9edc9\" class=\"plotly-graph-div\" style=\"height:525px; width:100%;\"></div>            <script type=\"text/javascript\">                require([\"plotly\"], function(Plotly) {                    window.PLOTLYENV=window.PLOTLYENV || {};                                    if (document.getElementById(\"4ad59199-335a-4cab-a647-b64dd0a9edc9\")) {                    Plotly.newPlot(                        \"4ad59199-335a-4cab-a647-b64dd0a9edc9\",                        [{\"domain\":{\"x\":[0.0,1.0],\"y\":[0.0,1.0]},\"hovertemplate\":\"Major_category=%{label}<extra></extra>\",\"labels\":[\"Engineering\",\"Engineering\",\"Engineering\",\"Engineering\",\"Engineering\",\"Engineering\",\"Business\",\"Physical Sciences\",\"Engineering\",\"Engineering\",\"Engineering\",\"Engineering\",\"Engineering\",\"Engineering\",\"Engineering\",\"Engineering\",\"Engineering\",\"Engineering\",\"Engineering\",\"Computers & Mathematics\",\"Engineering\",\"Engineering\",\"Business\",\"Engineering\",\"Engineering\",\"Engineering\",\"Engineering\",\"Health\",\"Computers & Mathematics\",\"Computers & Mathematics\",\"Physical Sciences\",\"Computers & Mathematics\",\"Computers & Mathematics\",\"Computers & Mathematics\",\"Biology & Life Science\",\"Computers & Mathematics\",\"Computers & Mathematics\",\"Biology & Life Science\",\"Education\",\"Engineering\",\"Health\",\"Biology & Life Science\",\"Biology & Life Science\",\"Physical Sciences\",\"Physical Sciences\",\"Biology & Life Science\",\"Biology & Life Science\",\"Biology & Life Science\",\"Physical Sciences\",\"Health\",\"Physical Sciences\",\"Education\",\"Health\",\"Biology & Life Science\",\"Interdisciplinary\",\"Physical Sciences\",\"Agriculture & Natural Resources\",\"Education\",\"Education\",\"Education\",\"Education\",\"Biology & Life Science\",\"Biology & Life Science\",\"Health\",\"Education\",\"Education\",\"Education\",\"Education\",\"Education\",\"Education\",\"Education\",\"Industrial Arts & Consumer Services\",\"Psychology & Social Work\",\"Education\",\"Health\",\"Education\",\"Psychology & Social Work\",\"Psychology & Social Work\",\"Psychology & Social Work\"],\"legendgroup\":\"\",\"name\":\"\",\"showlegend\":true,\"type\":\"pie\"}],                        {\"template\":{\"data\":{\"histogram2dcontour\":[{\"type\":\"histogram2dcontour\",\"colorbar\":{\"outlinewidth\":0,\"ticks\":\"\"},\"colorscale\":[[0.0,\"#0d0887\"],[0.1111111111111111,\"#46039f\"],[0.2222222222222222,\"#7201a8\"],[0.3333333333333333,\"#9c179e\"],[0.4444444444444444,\"#bd3786\"],[0.5555555555555556,\"#d8576b\"],[0.6666666666666666,\"#ed7953\"],[0.7777777777777778,\"#fb9f3a\"],[0.8888888888888888,\"#fdca26\"],[1.0,\"#f0f921\"]]}],\"choropleth\":[{\"type\":\"choropleth\",\"colorbar\":{\"outlinewidth\":0,\"ticks\":\"\"}}],\"histogram2d\":[{\"type\":\"histogram2d\",\"colorbar\":{\"outlinewidth\":0,\"ticks\":\"\"},\"colorscale\":[[0.0,\"#0d0887\"],[0.1111111111111111,\"#46039f\"],[0.2222222222222222,\"#7201a8\"],[0.3333333333333333,\"#9c179e\"],[0.4444444444444444,\"#bd3786\"],[0.5555555555555556,\"#d8576b\"],[0.6666666666666666,\"#ed7953\"],[0.7777777777777778,\"#fb9f3a\"],[0.8888888888888888,\"#fdca26\"],[1.0,\"#f0f921\"]]}],\"heatmap\":[{\"type\":\"heatmap\",\"colorbar\":{\"outlinewidth\":0,\"ticks\":\"\"},\"colorscale\":[[0.0,\"#0d0887\"],[0.1111111111111111,\"#46039f\"],[0.2222222222222222,\"#7201a8\"],[0.3333333333333333,\"#9c179e\"],[0.4444444444444444,\"#bd3786\"],[0.5555555555555556,\"#d8576b\"],[0.6666666666666666,\"#ed7953\"],[0.7777777777777778,\"#fb9f3a\"],[0.8888888888888888,\"#fdca26\"],[1.0,\"#f0f921\"]]}],\"heatmapgl\":[{\"type\":\"heatmapgl\",\"colorbar\":{\"outlinewidth\":0,\"ticks\":\"\"},\"colorscale\":[[0.0,\"#0d0887\"],[0.1111111111111111,\"#46039f\"],[0.2222222222222222,\"#7201a8\"],[0.3333333333333333,\"#9c179e\"],[0.4444444444444444,\"#bd3786\"],[0.5555555555555556,\"#d8576b\"],[0.6666666666666666,\"#ed7953\"],[0.7777777777777778,\"#fb9f3a\"],[0.8888888888888888,\"#fdca26\"],[1.0,\"#f0f921\"]]}],\"contourcarpet\":[{\"type\":\"contourcarpet\",\"colorbar\":{\"outlinewidth\":0,\"ticks\":\"\"}}],\"contour\":[{\"type\":\"contour\",\"colorbar\":{\"outlinewidth\":0,\"ticks\":\"\"},\"colorscale\":[[0.0,\"#0d0887\"],[0.1111111111111111,\"#46039f\"],[0.2222222222222222,\"#7201a8\"],[0.3333333333333333,\"#9c179e\"],[0.4444444444444444,\"#bd3786\"],[0.5555555555555556,\"#d8576b\"],[0.6666666666666666,\"#ed7953\"],[0.7777777777777778,\"#fb9f3a\"],[0.8888888888888888,\"#fdca26\"],[1.0,\"#f0f921\"]]}],\"surface\":[{\"type\":\"surface\",\"colorbar\":{\"outlinewidth\":0,\"ticks\":\"\"},\"colorscale\":[[0.0,\"#0d0887\"],[0.1111111111111111,\"#46039f\"],[0.2222222222222222,\"#7201a8\"],[0.3333333333333333,\"#9c179e\"],[0.4444444444444444,\"#bd3786\"],[0.5555555555555556,\"#d8576b\"],[0.6666666666666666,\"#ed7953\"],[0.7777777777777778,\"#fb9f3a\"],[0.8888888888888888,\"#fdca26\"],[1.0,\"#f0f921\"]]}],\"mesh3d\":[{\"type\":\"mesh3d\",\"colorbar\":{\"outlinewidth\":0,\"ticks\":\"\"}}],\"scatter\":[{\"fillpattern\":{\"fillmode\":\"overlay\",\"size\":10,\"solidity\":0.2},\"type\":\"scatter\"}],\"parcoords\":[{\"type\":\"parcoords\",\"line\":{\"colorbar\":{\"outlinewidth\":0,\"ticks\":\"\"}}}],\"scatterpolargl\":[{\"type\":\"scatterpolargl\",\"marker\":{\"colorbar\":{\"outlinewidth\":0,\"ticks\":\"\"}}}],\"bar\":[{\"error_x\":{\"color\":\"#2a3f5f\"},\"error_y\":{\"color\":\"#2a3f5f\"},\"marker\":{\"line\":{\"color\":\"#E5ECF6\",\"width\":0.5},\"pattern\":{\"fillmode\":\"overlay\",\"size\":10,\"solidity\":0.2}},\"type\":\"bar\"}],\"scattergeo\":[{\"type\":\"scattergeo\",\"marker\":{\"colorbar\":{\"outlinewidth\":0,\"ticks\":\"\"}}}],\"scatterpolar\":[{\"type\":\"scatterpolar\",\"marker\":{\"colorbar\":{\"outlinewidth\":0,\"ticks\":\"\"}}}],\"histogram\":[{\"marker\":{\"pattern\":{\"fillmode\":\"overlay\",\"size\":10,\"solidity\":0.2}},\"type\":\"histogram\"}],\"scattergl\":[{\"type\":\"scattergl\",\"marker\":{\"colorbar\":{\"outlinewidth\":0,\"ticks\":\"\"}}}],\"scatter3d\":[{\"type\":\"scatter3d\",\"line\":{\"colorbar\":{\"outlinewidth\":0,\"ticks\":\"\"}},\"marker\":{\"colorbar\":{\"outlinewidth\":0,\"ticks\":\"\"}}}],\"scattermapbox\":[{\"type\":\"scattermapbox\",\"marker\":{\"colorbar\":{\"outlinewidth\":0,\"ticks\":\"\"}}}],\"scatterternary\":[{\"type\":\"scatterternary\",\"marker\":{\"colorbar\":{\"outlinewidth\":0,\"ticks\":\"\"}}}],\"scattercarpet\":[{\"type\":\"scattercarpet\",\"marker\":{\"colorbar\":{\"outlinewidth\":0,\"ticks\":\"\"}}}],\"carpet\":[{\"aaxis\":{\"endlinecolor\":\"#2a3f5f\",\"gridcolor\":\"white\",\"linecolor\":\"white\",\"minorgridcolor\":\"white\",\"startlinecolor\":\"#2a3f5f\"},\"baxis\":{\"endlinecolor\":\"#2a3f5f\",\"gridcolor\":\"white\",\"linecolor\":\"white\",\"minorgridcolor\":\"white\",\"startlinecolor\":\"#2a3f5f\"},\"type\":\"carpet\"}],\"table\":[{\"cells\":{\"fill\":{\"color\":\"#EBF0F8\"},\"line\":{\"color\":\"white\"}},\"header\":{\"fill\":{\"color\":\"#C8D4E3\"},\"line\":{\"color\":\"white\"}},\"type\":\"table\"}],\"barpolar\":[{\"marker\":{\"line\":{\"color\":\"#E5ECF6\",\"width\":0.5},\"pattern\":{\"fillmode\":\"overlay\",\"size\":10,\"solidity\":0.2}},\"type\":\"barpolar\"}],\"pie\":[{\"automargin\":true,\"type\":\"pie\"}]},\"layout\":{\"autotypenumbers\":\"strict\",\"colorway\":[\"#636efa\",\"#EF553B\",\"#00cc96\",\"#ab63fa\",\"#FFA15A\",\"#19d3f3\",\"#FF6692\",\"#B6E880\",\"#FF97FF\",\"#FECB52\"],\"font\":{\"color\":\"#2a3f5f\"},\"hovermode\":\"closest\",\"hoverlabel\":{\"align\":\"left\"},\"paper_bgcolor\":\"white\",\"plot_bgcolor\":\"#E5ECF6\",\"polar\":{\"bgcolor\":\"#E5ECF6\",\"angularaxis\":{\"gridcolor\":\"white\",\"linecolor\":\"white\",\"ticks\":\"\"},\"radialaxis\":{\"gridcolor\":\"white\",\"linecolor\":\"white\",\"ticks\":\"\"}},\"ternary\":{\"bgcolor\":\"#E5ECF6\",\"aaxis\":{\"gridcolor\":\"white\",\"linecolor\":\"white\",\"ticks\":\"\"},\"baxis\":{\"gridcolor\":\"white\",\"linecolor\":\"white\",\"ticks\":\"\"},\"caxis\":{\"gridcolor\":\"white\",\"linecolor\":\"white\",\"ticks\":\"\"}},\"coloraxis\":{\"colorbar\":{\"outlinewidth\":0,\"ticks\":\"\"}},\"colorscale\":{\"sequential\":[[0.0,\"#0d0887\"],[0.1111111111111111,\"#46039f\"],[0.2222222222222222,\"#7201a8\"],[0.3333333333333333,\"#9c179e\"],[0.4444444444444444,\"#bd3786\"],[0.5555555555555556,\"#d8576b\"],[0.6666666666666666,\"#ed7953\"],[0.7777777777777778,\"#fb9f3a\"],[0.8888888888888888,\"#fdca26\"],[1.0,\"#f0f921\"]],\"sequentialminus\":[[0.0,\"#0d0887\"],[0.1111111111111111,\"#46039f\"],[0.2222222222222222,\"#7201a8\"],[0.3333333333333333,\"#9c179e\"],[0.4444444444444444,\"#bd3786\"],[0.5555555555555556,\"#d8576b\"],[0.6666666666666666,\"#ed7953\"],[0.7777777777777778,\"#fb9f3a\"],[0.8888888888888888,\"#fdca26\"],[1.0,\"#f0f921\"]],\"diverging\":[[0,\"#8e0152\"],[0.1,\"#c51b7d\"],[0.2,\"#de77ae\"],[0.3,\"#f1b6da\"],[0.4,\"#fde0ef\"],[0.5,\"#f7f7f7\"],[0.6,\"#e6f5d0\"],[0.7,\"#b8e186\"],[0.8,\"#7fbc41\"],[0.9,\"#4d9221\"],[1,\"#276419\"]]},\"xaxis\":{\"gridcolor\":\"white\",\"linecolor\":\"white\",\"ticks\":\"\",\"title\":{\"standoff\":15},\"zerolinecolor\":\"white\",\"automargin\":true,\"zerolinewidth\":2},\"yaxis\":{\"gridcolor\":\"white\",\"linecolor\":\"white\",\"ticks\":\"\",\"title\":{\"standoff\":15},\"zerolinecolor\":\"white\",\"automargin\":true,\"zerolinewidth\":2},\"scene\":{\"xaxis\":{\"backgroundcolor\":\"#E5ECF6\",\"gridcolor\":\"white\",\"linecolor\":\"white\",\"showbackground\":true,\"ticks\":\"\",\"zerolinecolor\":\"white\",\"gridwidth\":2},\"yaxis\":{\"backgroundcolor\":\"#E5ECF6\",\"gridcolor\":\"white\",\"linecolor\":\"white\",\"showbackground\":true,\"ticks\":\"\",\"zerolinecolor\":\"white\",\"gridwidth\":2},\"zaxis\":{\"backgroundcolor\":\"#E5ECF6\",\"gridcolor\":\"white\",\"linecolor\":\"white\",\"showbackground\":true,\"ticks\":\"\",\"zerolinecolor\":\"white\",\"gridwidth\":2}},\"shapedefaults\":{\"line\":{\"color\":\"#2a3f5f\"}},\"annotationdefaults\":{\"arrowcolor\":\"#2a3f5f\",\"arrowhead\":0,\"arrowwidth\":1},\"geo\":{\"bgcolor\":\"white\",\"landcolor\":\"#E5ECF6\",\"subunitcolor\":\"white\",\"showland\":true,\"showlakes\":true,\"lakecolor\":\"white\"},\"title\":{\"x\":0.05},\"mapbox\":{\"style\":\"light\"}}},\"legend\":{\"tracegroupgap\":0},\"margin\":{\"t\":60}},                        {\"responsive\": true}                    ).then(function(){\n",
       "                            \n",
       "var gd = document.getElementById('4ad59199-335a-4cab-a647-b64dd0a9edc9');\n",
       "var x = new MutationObserver(function (mutations, observer) {{\n",
       "        var display = window.getComputedStyle(gd).display;\n",
       "        if (!display || display === 'none') {{\n",
       "            console.log([gd, 'removed!']);\n",
       "            Plotly.purge(gd);\n",
       "            observer.disconnect();\n",
       "        }}\n",
       "}});\n",
       "\n",
       "// Listen for the removal of the full notebook cells\n",
       "var notebookContainer = gd.closest('#notebook-container');\n",
       "if (notebookContainer) {{\n",
       "    x.observe(notebookContainer, {childList: true});\n",
       "}}\n",
       "\n",
       "// Listen for the clearing of the current output cell\n",
       "var outputEl = gd.closest('.output');\n",
       "if (outputEl) {{\n",
       "    x.observe(outputEl, {childList: true});\n",
       "}}\n",
       "\n",
       "                        })                };                });            </script>        </div>"
      ]
     },
     "metadata": {},
     "output_type": "display_data"
    }
   ],
   "source": [
    "fig = px.pie(col_jobs, names='Major_category', title='')\n",
    "fig.show()"
   ]
  },
  {
   "cell_type": "code",
   "execution_count": null,
   "metadata": {},
   "outputs": [],
   "source": []
  }
 ],
 "metadata": {
  "colab": {
   "name": "HACKATON_visualiazation.ipynb",
   "provenance": []
  },
  "kernelspec": {
   "display_name": "Python 3",
   "language": "python",
   "name": "python3"
  },
  "language_info": {
   "codemirror_mode": {
    "name": "ipython",
    "version": 3
   },
   "file_extension": ".py",
   "mimetype": "text/x-python",
   "name": "python",
   "nbconvert_exporter": "python",
   "pygments_lexer": "ipython3",
   "version": "3.8.10"
  }
 },
 "nbformat": 4,
 "nbformat_minor": 1
}
