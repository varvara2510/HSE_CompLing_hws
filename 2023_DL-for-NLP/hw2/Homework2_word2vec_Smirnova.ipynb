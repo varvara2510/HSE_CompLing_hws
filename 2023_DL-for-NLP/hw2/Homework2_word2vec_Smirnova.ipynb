{
  "cells": [
    {
      "cell_type": "code",
      "execution_count": 83,
      "metadata": {
        "id": "gVzQ48PdCp8P"
      },
      "outputs": [],
      "source": [
        "import json\n",
        "import random\n",
        "from tqdm import tqdm\n",
        "import numpy as np\n",
        "\n",
        "from matplotlib import pyplot as plt\n",
        "from sklearn.decomposition import TruncatedSVD\n",
        "from sklearn.manifold import TSNE\n",
        "\n",
        "import torch\n",
        "import torch.nn as nn\n",
        "import torch.nn.functional as F\n",
        "\n",
        "from pylab import rcParams\n",
        "rcParams['figure.figsize'] = 15, 15"
      ]
    },
    {
      "cell_type": "markdown",
      "metadata": {
        "id": "5E5M5RJpCp8R"
      },
      "source": [
        "# Что делать?\n",
        "Где есть пометка # CODE писать код\n",
        "\n",
        "[Полезный туториал](http://jalammar.github.io/illustrated-word2vec/)"
      ]
    },
    {
      "cell_type": "markdown",
      "metadata": {
        "id": "v3QWZz93Cp8T"
      },
      "source": [
        "# Загружаем данные\n",
        "Они уже обработанные и токенизированные. Процесс можно посмотреть в тетрадке 1.1 Processing corpus"
      ]
    },
    {
      "cell_type": "code",
      "execution_count": 6,
      "metadata": {
        "id": "etEWKvM0Cp8U"
      },
      "outputs": [],
      "source": [
        "with open('data/processed_corpus.json') as f:\n",
        "    corpus = json.load(f)"
      ]
    },
    {
      "cell_type": "code",
      "execution_count": 7,
      "metadata": {
        "colab": {
          "base_uri": "https://localhost:8080/"
        },
        "id": "v85fAb7eCp8U",
        "outputId": "2647c574-09ab-4f2a-ad12-a7e8dbcabca1"
      },
      "outputs": [
        {
          "output_type": "execute_result",
          "data": {
            "text/plain": [
              "100000"
            ]
          },
          "metadata": {},
          "execution_count": 7
        }
      ],
      "source": [
        "len(corpus)"
      ]
    },
    {
      "cell_type": "code",
      "execution_count": 9,
      "metadata": {
        "colab": {
          "base_uri": "https://localhost:8080/"
        },
        "id": "3o9RhBztCp8V",
        "outputId": "b196c6e1-08b2-40fd-d5e6-34119d4377dd"
      },
      "outputs": [
        {
          "output_type": "stream",
          "name": "stdout",
          "text": [
            "второй UNK год окончательно разочаровать решить податься альфабанк\n",
            "вернуть денежный средство лицевой счёт либо зачесть счёт погашение кредит\n",
            "притом ситуация решиться участие течение сутки заявить\n",
            "мой ##число летний жизнь это самый неповоротливый работник банк который видеть\n",
            "везде написать вклад принимать очередь это\n"
          ]
        }
      ],
      "source": [
        "for text in corpus[:5]:\n",
        "    print(' '.join(text))"
      ]
    },
    {
      "cell_type": "markdown",
      "metadata": {
        "id": "6hjzQejFCp8W"
      },
      "source": [
        "# CBOW"
      ]
    },
    {
      "cell_type": "code",
      "execution_count": 10,
      "metadata": {
        "id": "EFI5hW8gCp8W"
      },
      "outputs": [],
      "source": [
        "sample_text = corpus[1]"
      ]
    },
    {
      "cell_type": "code",
      "execution_count": 11,
      "metadata": {
        "colab": {
          "base_uri": "https://localhost:8080/",
          "height": 36
        },
        "id": "sszXxOZ1Cp8W",
        "outputId": "ca67d9e8-9845-4610-b022-1fcb7c4b0f33"
      },
      "outputs": [
        {
          "output_type": "execute_result",
          "data": {
            "text/plain": [
              "'вернуть денежный средство лицевой счёт либо зачесть счёт погашение кредит'"
            ],
            "application/vnd.google.colaboratory.intrinsic+json": {
              "type": "string"
            }
          },
          "metadata": {},
          "execution_count": 11
        }
      ],
      "source": [
        "' '.join(sample_text)"
      ]
    },
    {
      "cell_type": "markdown",
      "metadata": {
        "id": "eN4PrzXsCp8X"
      },
      "source": [
        "# Реализуйте разделение предложения на примеры методом CBOW"
      ]
    },
    {
      "cell_type": "code",
      "execution_count": 115,
      "metadata": {
        "id": "g8obIqCvCp8X"
      },
      "outputs": [],
      "source": [
        "def cbow_split(tokens, window, pad_token='PAD'):\n",
        "\n",
        "    splits = []\n",
        "\n",
        "    # CODE\n",
        "    tokens = [pad_token] * window + tokens + [pad_token] * window\n",
        "\n",
        "    for i in range(window, len(tokens) - window):\n",
        "        left_context = tokens[i - window:i]\n",
        "        central_word = tokens[i]\n",
        "        right_context = tokens[i + 1:i + window + 1]\n",
        "        cur = [left_context, central_word, right_context]\n",
        "        splits.append(cur)\n",
        "\n",
        "    return splits"
      ]
    },
    {
      "cell_type": "code",
      "execution_count": 17,
      "metadata": {
        "id": "WE9gpE0UCp8Y"
      },
      "outputs": [],
      "source": [
        "splits = cbow_split(sample_text, window=2)"
      ]
    },
    {
      "cell_type": "code",
      "execution_count": 19,
      "metadata": {
        "colab": {
          "base_uri": "https://localhost:8080/"
        },
        "id": "1QTQNJU-Cp8Y",
        "outputId": "704fde54-9644-44a5-9699-25adc4f96794"
      },
      "outputs": [
        {
          "output_type": "stream",
          "name": "stdout",
          "text": [
            "Левый контекст: ['PAD', 'PAD']\n",
            "Центральное слово: вернуть\n",
            "Правый контекст: ['денежный', 'средство']\n",
            "\n",
            "Левый контекст: ['PAD', 'вернуть']\n",
            "Центральное слово: денежный\n",
            "Правый контекст: ['средство', 'лицевой']\n",
            "\n",
            "Левый контекст: ['вернуть', 'денежный']\n",
            "Центральное слово: средство\n",
            "Правый контекст: ['лицевой', 'счёт']\n",
            "\n",
            "Левый контекст: ['денежный', 'средство']\n",
            "Центральное слово: лицевой\n",
            "Правый контекст: ['счёт', 'либо']\n",
            "\n",
            "Левый контекст: ['средство', 'лицевой']\n",
            "Центральное слово: счёт\n",
            "Правый контекст: ['либо', 'зачесть']\n",
            "\n",
            "Левый контекст: ['лицевой', 'счёт']\n",
            "Центральное слово: либо\n",
            "Правый контекст: ['зачесть', 'счёт']\n",
            "\n",
            "Левый контекст: ['счёт', 'либо']\n",
            "Центральное слово: зачесть\n",
            "Правый контекст: ['счёт', 'погашение']\n",
            "\n",
            "Левый контекст: ['либо', 'зачесть']\n",
            "Центральное слово: счёт\n",
            "Правый контекст: ['погашение', 'кредит']\n",
            "\n",
            "Левый контекст: ['зачесть', 'счёт']\n",
            "Центральное слово: погашение\n",
            "Правый контекст: ['кредит', 'PAD']\n",
            "\n",
            "Левый контекст: ['счёт', 'погашение']\n",
            "Центральное слово: кредит\n",
            "Правый контекст: ['PAD', 'PAD']\n",
            "\n"
          ]
        }
      ],
      "source": [
        "for sample in splits:\n",
        "    print('Левый контекст:', sample[0])\n",
        "    print('Центральное слово:', sample[1])\n",
        "    print('Правый контекст:', sample[2], end='\\n\\n')"
      ]
    },
    {
      "cell_type": "code",
      "execution_count": 20,
      "metadata": {
        "colab": {
          "base_uri": "https://localhost:8080/"
        },
        "id": "oE_7nVOwCp8Z",
        "outputId": "50489b09-922e-4ffb-b1f0-eed3991f5f41"
      },
      "outputs": [
        {
          "output_type": "execute_result",
          "data": {
            "text/plain": [
              "[[['PAD', 'PAD'], 'вернуть', ['денежный', 'средство']],\n",
              " [['PAD', 'вернуть'], 'денежный', ['средство', 'лицевой']],\n",
              " [['вернуть', 'денежный'], 'средство', ['лицевой', 'счёт']],\n",
              " [['денежный', 'средство'], 'лицевой', ['счёт', 'либо']],\n",
              " [['средство', 'лицевой'], 'счёт', ['либо', 'зачесть']],\n",
              " [['лицевой', 'счёт'], 'либо', ['зачесть', 'счёт']],\n",
              " [['счёт', 'либо'], 'зачесть', ['счёт', 'погашение']],\n",
              " [['либо', 'зачесть'], 'счёт', ['погашение', 'кредит']],\n",
              " [['зачесть', 'счёт'], 'погашение', ['кредит', 'PAD']],\n",
              " [['счёт', 'погашение'], 'кредит', ['PAD', 'PAD']]]"
            ]
          },
          "metadata": {},
          "execution_count": 20
        }
      ],
      "source": [
        "splits"
      ]
    },
    {
      "cell_type": "markdown",
      "metadata": {
        "id": "zXaNTIaUCp8Z"
      },
      "source": [
        "# Expected\n",
        "\n",
        "```python\n",
        "[(['PAD', 'PAD'], 'вопрос', ['почему', 'например']),\n",
        " (['PAD', 'вопрос'], 'почему', ['например', 'китайский']),\n",
        " (['вопрос', 'почему'], 'например', ['китайский', 'японский']),\n",
        " (['почему', 'например'], 'китайский', ['японский', 'UNK']),\n",
        " (['например', 'китайский'], 'японский', ['UNK', 'PAD']),\n",
        " (['китайский', 'японский'], 'UNK', ['PAD', 'PAD'])]\n",
        "```"
      ]
    },
    {
      "cell_type": "code",
      "execution_count": 21,
      "metadata": {
        "colab": {
          "base_uri": "https://localhost:8080/"
        },
        "id": "kASg0lDwCp8Z",
        "outputId": "495402e2-4154-4d81-d2e1-7beae22d32b4"
      },
      "outputs": [
        {
          "output_type": "execute_result",
          "data": {
            "text/plain": [
              "[[['PAD', 'PAD', 'PAD'], 'вернуть', ['денежный', 'средство', 'лицевой']],\n",
              " [['PAD', 'PAD', 'вернуть'], 'денежный', ['средство', 'лицевой', 'счёт']],\n",
              " [['PAD', 'вернуть', 'денежный'], 'средство', ['лицевой', 'счёт', 'либо']],\n",
              " [['вернуть', 'денежный', 'средство'], 'лицевой', ['счёт', 'либо', 'зачесть']],\n",
              " [['денежный', 'средство', 'лицевой'], 'счёт', ['либо', 'зачесть', 'счёт']],\n",
              " [['средство', 'лицевой', 'счёт'], 'либо', ['зачесть', 'счёт', 'погашение']],\n",
              " [['лицевой', 'счёт', 'либо'], 'зачесть', ['счёт', 'погашение', 'кредит']],\n",
              " [['счёт', 'либо', 'зачесть'], 'счёт', ['погашение', 'кредит', 'PAD']],\n",
              " [['либо', 'зачесть', 'счёт'], 'погашение', ['кредит', 'PAD', 'PAD']],\n",
              " [['зачесть', 'счёт', 'погашение'], 'кредит', ['PAD', 'PAD', 'PAD']]]"
            ]
          },
          "metadata": {},
          "execution_count": 21
        }
      ],
      "source": [
        "cbow_split(sample_text, window=3)"
      ]
    },
    {
      "cell_type": "markdown",
      "metadata": {
        "id": "7k-MFMl-Cp8Z"
      },
      "source": [
        "# Expected\n",
        "\n",
        "```python\n",
        "[(['PAD', 'PAD', 'PAD'], 'вопрос', ['почему', 'например', 'китайский']),\n",
        " (['PAD', 'PAD', 'вопрос'], 'почему', ['например', 'китайский', 'японский']),\n",
        " (['PAD', 'вопрос', 'почему'], 'например', ['китайский', 'японский', 'UNK']),\n",
        " (['вопрос', 'почему', 'например'], 'китайский', ['японский', 'UNK', 'PAD']),\n",
        " (['почему', 'например', 'китайский'], 'японский', ['UNK', 'PAD', 'PAD']),\n",
        " (['например', 'китайский', 'японский'], 'UNK', ['PAD', 'PAD', 'PAD'])]\n",
        "```"
      ]
    },
    {
      "cell_type": "markdown",
      "metadata": {
        "id": "Jd-u7FH4Cp8a"
      },
      "source": [
        "# Skipgram"
      ]
    },
    {
      "cell_type": "code",
      "execution_count": 22,
      "metadata": {
        "colab": {
          "base_uri": "https://localhost:8080/",
          "height": 36
        },
        "id": "M4SfPsA-Cp8a",
        "outputId": "84c9fc01-791f-417d-b7f5-3a595ac2b503"
      },
      "outputs": [
        {
          "output_type": "execute_result",
          "data": {
            "text/plain": [
              "'вернуть денежный средство лицевой счёт либо зачесть счёт погашение кредит'"
            ],
            "application/vnd.google.colaboratory.intrinsic+json": {
              "type": "string"
            }
          },
          "metadata": {},
          "execution_count": 22
        }
      ],
      "source": [
        "' '.join(sample_text)"
      ]
    },
    {
      "cell_type": "markdown",
      "metadata": {
        "id": "GKXmV3iHCp8a"
      },
      "source": [
        "# Реализуйте разделение предложения на примеры методом Skipgram"
      ]
    },
    {
      "cell_type": "code",
      "execution_count": 23,
      "metadata": {
        "id": "1GvsCv8ECp8a"
      },
      "outputs": [],
      "source": [
        "def skipgram_split(tokens, window):\n",
        "\n",
        "    splits = []\n",
        "\n",
        "    # CODE\n",
        "    for i, target_word in enumerate(tokens):\n",
        "        context_words = tokens[max(0, i - window):i] + tokens[i + 1: min(i + window + 1, len(tokens))]\n",
        "        for context_word in context_words:\n",
        "            splits.append((context_word, target_word))\n",
        "\n",
        "    return splits"
      ]
    },
    {
      "cell_type": "code",
      "execution_count": 24,
      "metadata": {
        "id": "Km5eGh0yCp8a"
      },
      "outputs": [],
      "source": [
        "splits = skipgram_split(sample_text, window=2)"
      ]
    },
    {
      "cell_type": "code",
      "execution_count": 25,
      "metadata": {
        "colab": {
          "base_uri": "https://localhost:8080/"
        },
        "id": "EdCYV_1hCp8b",
        "outputId": "4e0782f7-2517-469c-b28d-84e111d2bc85"
      },
      "outputs": [
        {
          "output_type": "stream",
          "name": "stdout",
          "text": [
            "Контекст: денежный\n",
            "Центральное слово: вернуть\n",
            "\n",
            "Контекст: средство\n",
            "Центральное слово: вернуть\n",
            "\n",
            "Контекст: вернуть\n",
            "Центральное слово: денежный\n",
            "\n",
            "Контекст: средство\n",
            "Центральное слово: денежный\n",
            "\n",
            "Контекст: лицевой\n",
            "Центральное слово: денежный\n",
            "\n",
            "Контекст: вернуть\n",
            "Центральное слово: средство\n",
            "\n",
            "Контекст: денежный\n",
            "Центральное слово: средство\n",
            "\n",
            "Контекст: лицевой\n",
            "Центральное слово: средство\n",
            "\n",
            "Контекст: счёт\n",
            "Центральное слово: средство\n",
            "\n",
            "Контекст: денежный\n",
            "Центральное слово: лицевой\n",
            "\n",
            "Контекст: средство\n",
            "Центральное слово: лицевой\n",
            "\n",
            "Контекст: счёт\n",
            "Центральное слово: лицевой\n",
            "\n",
            "Контекст: либо\n",
            "Центральное слово: лицевой\n",
            "\n",
            "Контекст: средство\n",
            "Центральное слово: счёт\n",
            "\n",
            "Контекст: лицевой\n",
            "Центральное слово: счёт\n",
            "\n",
            "Контекст: либо\n",
            "Центральное слово: счёт\n",
            "\n",
            "Контекст: зачесть\n",
            "Центральное слово: счёт\n",
            "\n",
            "Контекст: лицевой\n",
            "Центральное слово: либо\n",
            "\n",
            "Контекст: счёт\n",
            "Центральное слово: либо\n",
            "\n",
            "Контекст: зачесть\n",
            "Центральное слово: либо\n",
            "\n",
            "Контекст: счёт\n",
            "Центральное слово: либо\n",
            "\n",
            "Контекст: счёт\n",
            "Центральное слово: зачесть\n",
            "\n",
            "Контекст: либо\n",
            "Центральное слово: зачесть\n",
            "\n",
            "Контекст: счёт\n",
            "Центральное слово: зачесть\n",
            "\n",
            "Контекст: погашение\n",
            "Центральное слово: зачесть\n",
            "\n",
            "Контекст: либо\n",
            "Центральное слово: счёт\n",
            "\n",
            "Контекст: зачесть\n",
            "Центральное слово: счёт\n",
            "\n",
            "Контекст: погашение\n",
            "Центральное слово: счёт\n",
            "\n",
            "Контекст: кредит\n",
            "Центральное слово: счёт\n",
            "\n",
            "Контекст: зачесть\n",
            "Центральное слово: погашение\n",
            "\n",
            "Контекст: счёт\n",
            "Центральное слово: погашение\n",
            "\n",
            "Контекст: кредит\n",
            "Центральное слово: погашение\n",
            "\n",
            "Контекст: счёт\n",
            "Центральное слово: кредит\n",
            "\n",
            "Контекст: погашение\n",
            "Центральное слово: кредит\n",
            "\n"
          ]
        }
      ],
      "source": [
        "for sample in splits:\n",
        "    print('Контекст:', sample[0])\n",
        "    print('Центральное слово:', sample[1], end='\\n\\n')"
      ]
    },
    {
      "cell_type": "code",
      "execution_count": 26,
      "metadata": {
        "colab": {
          "base_uri": "https://localhost:8080/"
        },
        "id": "rrUBfZedCp8b",
        "outputId": "1cb4b717-04f8-46ac-a0b8-606feeb71ec3"
      },
      "outputs": [
        {
          "output_type": "execute_result",
          "data": {
            "text/plain": [
              "[('денежный', 'вернуть'),\n",
              " ('средство', 'вернуть'),\n",
              " ('вернуть', 'денежный'),\n",
              " ('средство', 'денежный'),\n",
              " ('лицевой', 'денежный'),\n",
              " ('вернуть', 'средство'),\n",
              " ('денежный', 'средство'),\n",
              " ('лицевой', 'средство'),\n",
              " ('счёт', 'средство'),\n",
              " ('денежный', 'лицевой'),\n",
              " ('средство', 'лицевой'),\n",
              " ('счёт', 'лицевой'),\n",
              " ('либо', 'лицевой'),\n",
              " ('средство', 'счёт'),\n",
              " ('лицевой', 'счёт'),\n",
              " ('либо', 'счёт'),\n",
              " ('зачесть', 'счёт'),\n",
              " ('лицевой', 'либо'),\n",
              " ('счёт', 'либо'),\n",
              " ('зачесть', 'либо'),\n",
              " ('счёт', 'либо'),\n",
              " ('счёт', 'зачесть'),\n",
              " ('либо', 'зачесть'),\n",
              " ('счёт', 'зачесть'),\n",
              " ('погашение', 'зачесть'),\n",
              " ('либо', 'счёт'),\n",
              " ('зачесть', 'счёт'),\n",
              " ('погашение', 'счёт'),\n",
              " ('кредит', 'счёт'),\n",
              " ('зачесть', 'погашение'),\n",
              " ('счёт', 'погашение'),\n",
              " ('кредит', 'погашение'),\n",
              " ('счёт', 'кредит'),\n",
              " ('погашение', 'кредит')]"
            ]
          },
          "metadata": {},
          "execution_count": 26
        }
      ],
      "source": [
        "skipgram_split(sample_text, window=2)"
      ]
    },
    {
      "cell_type": "markdown",
      "metadata": {
        "id": "i5hD4F48Cp8b"
      },
      "source": [
        "# Expected\n",
        "\n",
        "```python\n",
        "[('почему', 'вопрос'),\n",
        " ('например', 'вопрос'),\n",
        " ('вопрос', 'почему'),\n",
        " ('например', 'почему'),\n",
        " ('китайский', 'почему'),\n",
        " ('вопрос', 'например'),\n",
        " ('почему', 'например'),\n",
        " ('китайский', 'например'),\n",
        " ('японский', 'например'),\n",
        " ('почему', 'китайский'),\n",
        " ('например', 'китайский'),\n",
        " ('японский', 'китайский'),\n",
        " ('UNK', 'китайский'),\n",
        " ('например', 'японский'),\n",
        " ('китайский', 'японский'),\n",
        " ('UNK', 'японский'),\n",
        " ('китайский', 'UNK'),\n",
        " ('японский', 'UNK')]\n",
        "```"
      ]
    },
    {
      "cell_type": "code",
      "execution_count": 27,
      "metadata": {
        "colab": {
          "base_uri": "https://localhost:8080/"
        },
        "id": "AE4BGxH9Cp8b",
        "outputId": "b8c3b82e-45f5-482b-8098-fe7ce06773cd"
      },
      "outputs": [
        {
          "output_type": "execute_result",
          "data": {
            "text/plain": [
              "[('денежный', 'вернуть'),\n",
              " ('средство', 'вернуть'),\n",
              " ('лицевой', 'вернуть'),\n",
              " ('вернуть', 'денежный'),\n",
              " ('средство', 'денежный'),\n",
              " ('лицевой', 'денежный'),\n",
              " ('счёт', 'денежный'),\n",
              " ('вернуть', 'средство'),\n",
              " ('денежный', 'средство'),\n",
              " ('лицевой', 'средство'),\n",
              " ('счёт', 'средство'),\n",
              " ('либо', 'средство'),\n",
              " ('вернуть', 'лицевой'),\n",
              " ('денежный', 'лицевой'),\n",
              " ('средство', 'лицевой'),\n",
              " ('счёт', 'лицевой'),\n",
              " ('либо', 'лицевой'),\n",
              " ('зачесть', 'лицевой'),\n",
              " ('денежный', 'счёт'),\n",
              " ('средство', 'счёт'),\n",
              " ('лицевой', 'счёт'),\n",
              " ('либо', 'счёт'),\n",
              " ('зачесть', 'счёт'),\n",
              " ('счёт', 'счёт'),\n",
              " ('средство', 'либо'),\n",
              " ('лицевой', 'либо'),\n",
              " ('счёт', 'либо'),\n",
              " ('зачесть', 'либо'),\n",
              " ('счёт', 'либо'),\n",
              " ('погашение', 'либо'),\n",
              " ('лицевой', 'зачесть'),\n",
              " ('счёт', 'зачесть'),\n",
              " ('либо', 'зачесть'),\n",
              " ('счёт', 'зачесть'),\n",
              " ('погашение', 'зачесть'),\n",
              " ('кредит', 'зачесть'),\n",
              " ('счёт', 'счёт'),\n",
              " ('либо', 'счёт'),\n",
              " ('зачесть', 'счёт'),\n",
              " ('погашение', 'счёт'),\n",
              " ('кредит', 'счёт'),\n",
              " ('либо', 'погашение'),\n",
              " ('зачесть', 'погашение'),\n",
              " ('счёт', 'погашение'),\n",
              " ('кредит', 'погашение'),\n",
              " ('зачесть', 'кредит'),\n",
              " ('счёт', 'кредит'),\n",
              " ('погашение', 'кредит')]"
            ]
          },
          "metadata": {},
          "execution_count": 27
        }
      ],
      "source": [
        "skipgram_split(sample_text, window=3)"
      ]
    },
    {
      "cell_type": "markdown",
      "metadata": {
        "id": "4BADxwixCp8c"
      },
      "source": [
        "# Expected\n",
        "\n",
        "```python\n",
        "[('почему', 'вопрос'),\n",
        " ('например', 'вопрос'),\n",
        " ('китайский', 'вопрос'),\n",
        " ('вопрос', 'почему'),\n",
        " ('например', 'почему'),\n",
        " ('китайский', 'почему'),\n",
        " ('японский', 'почему'),\n",
        " ('вопрос', 'например'),\n",
        " ('почему', 'например'),\n",
        " ('китайский', 'например'),\n",
        " ('японский', 'например'),\n",
        " ('UNK', 'например'),\n",
        " ('вопрос', 'китайский'),\n",
        " ('почему', 'китайский'),\n",
        " ('например', 'китайский'),\n",
        " ('японский', 'китайский'),\n",
        " ('UNK', 'китайский'),\n",
        " ('почему', 'японский'),\n",
        " ('например', 'японский'),\n",
        " ('китайский', 'японский'),\n",
        " ('UNK', 'японский'),\n",
        " ('например', 'UNK'),\n",
        " ('китайский', 'UNK'),\n",
        " ('японский', 'UNK')]\n",
        "```"
      ]
    },
    {
      "cell_type": "code",
      "execution_count": 28,
      "metadata": {
        "id": "6BHkaGrfCp8c"
      },
      "outputs": [],
      "source": [
        "word2index = {}\n",
        "\n",
        "for text in corpus:\n",
        "    for token in text:\n",
        "        if token not in word2index:\n",
        "            word2index[token] = len(word2index)"
      ]
    },
    {
      "cell_type": "code",
      "execution_count": 29,
      "metadata": {
        "colab": {
          "base_uri": "https://localhost:8080/"
        },
        "id": "IijnTM7RCp8c",
        "outputId": "9133d24c-e725-4779-c7e7-9d88a1a3c1f3"
      },
      "outputs": [
        {
          "output_type": "execute_result",
          "data": {
            "text/plain": [
              "13076"
            ]
          },
          "metadata": {},
          "execution_count": 29
        }
      ],
      "source": [
        "len(word2index)"
      ]
    },
    {
      "cell_type": "code",
      "execution_count": 30,
      "metadata": {
        "colab": {
          "base_uri": "https://localhost:8080/"
        },
        "id": "Epq2ayiFCp8c",
        "outputId": "8a3fbf67-8a52-4400-f9a6-3d6fba306576"
      },
      "outputs": [
        {
          "output_type": "execute_result",
          "data": {
            "text/plain": [
              "1"
            ]
          },
          "metadata": {},
          "execution_count": 30
        }
      ],
      "source": [
        "word2index['UNK']"
      ]
    },
    {
      "cell_type": "code",
      "execution_count": 31,
      "metadata": {
        "colab": {
          "base_uri": "https://localhost:8080/"
        },
        "id": "ITfhB9GYCp8c",
        "outputId": "80aeba42-7ee0-4231-dd71-8bb3ea1c73a2"
      },
      "outputs": [
        {
          "output_type": "execute_result",
          "data": {
            "text/plain": [
              "[1282, 8436, 1]"
            ]
          },
          "metadata": {},
          "execution_count": 31
        }
      ],
      "source": [
        "[word2index[tok] if tok in word2index else word2index['UNK'] for tok in 'мама мыть рама'.split()]"
      ]
    },
    {
      "cell_type": "markdown",
      "metadata": {
        "id": "C3SBGP9DCp8d"
      },
      "source": [
        "# Torch Dataset\n",
        "В торче есть очень удобная читалка данных"
      ]
    },
    {
      "cell_type": "code",
      "execution_count": 32,
      "metadata": {
        "id": "fXyHxqjVCp8d"
      },
      "outputs": [],
      "source": [
        "from torch.utils.data import Dataset, DataLoader"
      ]
    },
    {
      "cell_type": "code",
      "execution_count": 33,
      "metadata": {
        "id": "XO1spjSzCp8d"
      },
      "outputs": [],
      "source": [
        "# игрушечный датасет\n",
        "# 121535 примера, 4 фичи, 3 класса\n",
        "some_data_x = np.random.rand(121535, 4)\n",
        "some_data_y = np.random.randint(3, size=(121535,))"
      ]
    },
    {
      "cell_type": "code",
      "execution_count": 34,
      "metadata": {
        "colab": {
          "base_uri": "https://localhost:8080/"
        },
        "id": "N5lUM24pCp8d",
        "outputId": "a0970778-3320-4650-e823-8e01eab9da8c"
      },
      "outputs": [
        {
          "output_type": "execute_result",
          "data": {
            "text/plain": [
              "array([[0.08402921, 0.85423576, 0.06295332, 0.69954761],\n",
              "       [0.20122933, 0.64624172, 0.4500262 , 0.03307344],\n",
              "       [0.69896333, 0.52842107, 0.19126841, 0.56189952],\n",
              "       [0.1337368 , 0.53025742, 0.76515776, 0.38165538],\n",
              "       [0.38838534, 0.94448924, 0.366376  , 0.46308268],\n",
              "       [0.78602239, 0.81124682, 0.43398259, 0.90122184],\n",
              "       [0.97562527, 0.76439392, 0.56975514, 0.62837889],\n",
              "       [0.56907811, 0.68926733, 0.71054   , 0.30730053],\n",
              "       [0.90942399, 0.52121089, 0.72193728, 0.27383391],\n",
              "       [0.89913965, 0.82787227, 0.65276163, 0.05732339]])"
            ]
          },
          "metadata": {},
          "execution_count": 34
        }
      ],
      "source": [
        "# соверешенно игрушечный, просто цифры\n",
        "some_data_x[:10]"
      ]
    },
    {
      "cell_type": "code",
      "execution_count": 35,
      "metadata": {
        "colab": {
          "base_uri": "https://localhost:8080/"
        },
        "id": "JdsNxZadCp8d",
        "outputId": "6993f088-2734-4717-c3d2-df297ad3d5f4"
      },
      "outputs": [
        {
          "output_type": "execute_result",
          "data": {
            "text/plain": [
              "array([1, 2, 2, ..., 0, 2, 2])"
            ]
          },
          "metadata": {},
          "execution_count": 35
        }
      ],
      "source": [
        "some_data_y"
      ]
    },
    {
      "cell_type": "code",
      "execution_count": 36,
      "metadata": {
        "id": "_cNKNai9Cp8e"
      },
      "outputs": [],
      "source": [
        "class ToyDataset(Dataset):\n",
        "\n",
        "    def __init__(self, data_x, data_y):\n",
        "        super().__init__()\n",
        "        self.data_x = torch.tensor(data_x, dtype=torch.float32)\n",
        "        self.data_y = torch.tensor(data_y, dtype=torch.long)\n",
        "\n",
        "    def __len__(self):\n",
        "        return len(self.data_x)\n",
        "\n",
        "    def __getitem__(self, idx):\n",
        "        return self.data_x[idx], self.data_y[idx]"
      ]
    },
    {
      "cell_type": "code",
      "source": [
        "some_data_x = np.random.rand(121535, 4)\n",
        "some_data_y = np.random.randint(3, size=(121535,))"
      ],
      "metadata": {
        "id": "VKeQVJ88Qdnx"
      },
      "execution_count": 41,
      "outputs": []
    },
    {
      "cell_type": "code",
      "execution_count": 42,
      "metadata": {
        "id": "j2bIajiJCp8e"
      },
      "outputs": [],
      "source": [
        "some_dataset = ToyDataset(some_data_x, some_data_y)"
      ]
    },
    {
      "cell_type": "code",
      "source": [
        "sample_1 = some_dataset[5]\n",
        "sample_2 = some_dataset[467]"
      ],
      "metadata": {
        "id": "sHj-mJ1AQhMs"
      },
      "execution_count": 43,
      "outputs": []
    },
    {
      "cell_type": "code",
      "source": [
        "print(\"Sample 1:\", sample_1)\n",
        "print(\"Sample 2:\", sample_2)"
      ],
      "metadata": {
        "colab": {
          "base_uri": "https://localhost:8080/"
        },
        "id": "6U6T3SkFQiuL",
        "outputId": "b7d4ffc0-1ee9-4675-d8fb-6bfdd173f2c3"
      },
      "execution_count": 44,
      "outputs": [
        {
          "output_type": "stream",
          "name": "stdout",
          "text": [
            "Sample 1: (tensor([0.2184, 0.0561, 0.9363, 0.2082]), tensor(2))\n",
            "Sample 2: (tensor([0.0989, 0.7861, 0.8279, 0.3901]), tensor(2))\n"
          ]
        }
      ]
    },
    {
      "cell_type": "code",
      "execution_count": 45,
      "metadata": {
        "colab": {
          "base_uri": "https://localhost:8080/"
        },
        "id": "N34ZJd4XCp8e",
        "outputId": "a56bacd1-f564-414a-e8fc-15520895e7ab"
      },
      "outputs": [
        {
          "output_type": "execute_result",
          "data": {
            "text/plain": [
              "((tensor([0.2184, 0.0561, 0.9363, 0.2082]), tensor(2)),\n",
              " (tensor([0.0989, 0.7861, 0.8279, 0.3901]), tensor(2)))"
            ]
          },
          "metadata": {},
          "execution_count": 45
        }
      ],
      "source": [
        "some_dataset[5], some_dataset[467]"
      ]
    },
    {
      "cell_type": "code",
      "execution_count": 46,
      "metadata": {
        "id": "dgAC-7smCp8m"
      },
      "outputs": [],
      "source": [
        "some_loader = DataLoader(some_dataset, batch_size=16, shuffle=True)"
      ]
    },
    {
      "cell_type": "code",
      "execution_count": 48,
      "metadata": {
        "colab": {
          "base_uri": "https://localhost:8080/"
        },
        "id": "G83chtHyCp8n",
        "outputId": "73be74a0-f3be-44e6-ddbc-f20585e3858f"
      },
      "outputs": [
        {
          "output_type": "stream",
          "name": "stdout",
          "text": [
            "Batch X shape: torch.Size([16, 4])\n",
            "Batch Y shape: torch.Size([16])\n"
          ]
        }
      ],
      "source": [
        "for batch in some_loader:\n",
        "    batch_x, batch_y = batch\n",
        "    print(\"Batch X shape:\", batch_x.shape)\n",
        "    print(\"Batch Y shape:\", batch_y.shape)\n",
        "    break"
      ]
    },
    {
      "cell_type": "code",
      "execution_count": 49,
      "metadata": {
        "colab": {
          "base_uri": "https://localhost:8080/"
        },
        "id": "oxacY85JCp8n",
        "outputId": "9f104515-3956-4b52-e0b0-e53df41dcf86"
      },
      "outputs": [
        {
          "output_type": "execute_result",
          "data": {
            "text/plain": [
              "15"
            ]
          },
          "metadata": {},
          "execution_count": 49
        }
      ],
      "source": [
        "for x, y in some_loader:\n",
        "    pass\n",
        "\n",
        "len(x)"
      ]
    },
    {
      "cell_type": "code",
      "execution_count": 51,
      "metadata": {
        "colab": {
          "base_uri": "https://localhost:8080/"
        },
        "id": "wNCmSNyqCp8n",
        "outputId": "3d15e569-4627-465c-b5b4-453743b9dfa7"
      },
      "outputs": [
        {
          "output_type": "execute_result",
          "data": {
            "text/plain": [
              "15"
            ]
          },
          "metadata": {},
          "execution_count": 51
        }
      ],
      "source": [
        "len(some_dataset) % 16"
      ]
    },
    {
      "cell_type": "markdown",
      "metadata": {
        "id": "xtejC-ypCp8o"
      },
      "source": [
        "# А зачем?"
      ]
    },
    {
      "cell_type": "code",
      "execution_count": 52,
      "metadata": {
        "id": "8jIDF9-kCp8o"
      },
      "outputs": [],
      "source": [
        "class ToyDataset(Dataset):\n",
        "\n",
        "    def __init__(self, data_x, data_y):\n",
        "\n",
        "        super().__init__()\n",
        "\n",
        "        self.data_x = data_x\n",
        "        self.data_y = data_y\n",
        "\n",
        "    def __len__(self):\n",
        "\n",
        "        # Нужно обязательно определить эту функцию\n",
        "        # Должна возвращать размер датасета\n",
        "\n",
        "        return len(self.data_x)\n",
        "\n",
        "    @staticmethod\n",
        "    def add_pow_features(x, n=2):\n",
        "\n",
        "        return np.concatenate([x, x ** n])\n",
        "\n",
        "    @staticmethod\n",
        "    def add_log_features(x):\n",
        "\n",
        "        return np.concatenate([x, np.log(x)])\n",
        "\n",
        "    def __getitem__(self, idx):\n",
        "\n",
        "        # Еще нужно определить этот метод\n",
        "        # То есть как мы будем доставать наши данные по индексу\n",
        "\n",
        "        x = self.data_x[idx]\n",
        "\n",
        "        # внутри датасета мы можем делать все что угодно с нашими данными\n",
        "        # например выше определим функции, которые добавляют степенные фичи\n",
        "        x = self.add_pow_features(x, n=2)\n",
        "        x = self.add_pow_features(x, n=3)\n",
        "        # и еще возьмем логарифмические фичи\n",
        "        x = self.add_log_features(x)\n",
        "\n",
        "        y = self.data_y[idx]\n",
        "\n",
        "        return x, y"
      ]
    },
    {
      "cell_type": "code",
      "execution_count": 53,
      "metadata": {
        "id": "TebcI0fTCp8o"
      },
      "outputs": [],
      "source": [
        "toy_dataset = ToyDataset(some_data_x, some_data_y)"
      ]
    },
    {
      "cell_type": "code",
      "execution_count": 54,
      "metadata": {
        "id": "zaXbB33hCp8o"
      },
      "outputs": [],
      "source": [
        "toy_loader = DataLoader(dataset=toy_dataset, batch_size=128)"
      ]
    },
    {
      "cell_type": "code",
      "execution_count": 55,
      "metadata": {
        "id": "eP7oPJ_bCp8o"
      },
      "outputs": [],
      "source": [
        "for x, y in toy_loader:\n",
        "    break"
      ]
    },
    {
      "cell_type": "code",
      "execution_count": 56,
      "metadata": {
        "colab": {
          "base_uri": "https://localhost:8080/"
        },
        "id": "WuPP16NdCp8o",
        "outputId": "46187ac8-6a2c-4c07-878f-1ecbaaa23e9f"
      },
      "outputs": [
        {
          "output_type": "execute_result",
          "data": {
            "text/plain": [
              "torch.Size([128, 32])"
            ]
          },
          "metadata": {},
          "execution_count": 56
        }
      ],
      "source": [
        "x.shape"
      ]
    },
    {
      "cell_type": "code",
      "execution_count": 57,
      "metadata": {
        "colab": {
          "base_uri": "https://localhost:8080/"
        },
        "id": "L7ROlbesCp8p",
        "outputId": "2635857e-7dda-488d-9d04-8d19d79247cc"
      },
      "outputs": [
        {
          "output_type": "execute_result",
          "data": {
            "text/plain": [
              "tensor([[ 6.9295e-01,  6.6638e-01,  9.3744e-01,  ..., -2.4354e+00,\n",
              "         -3.8758e-01, -8.6484e-02],\n",
              "        [ 1.0569e-01,  1.8199e-01,  1.8636e-02,  ..., -1.0223e+01,\n",
              "         -2.3896e+01, -1.5978e+01],\n",
              "        [ 9.4709e-01,  3.7027e-01,  3.2258e-01,  ..., -5.9612e+00,\n",
              "         -6.7884e+00, -4.3220e+00],\n",
              "        ...,\n",
              "        [ 3.6636e-01,  7.3554e-01,  6.3156e-01,  ..., -1.8429e+00,\n",
              "         -2.7574e+00, -6.2876e+00],\n",
              "        [ 9.6384e-01,  6.9977e-01,  2.4644e-01,  ..., -2.1421e+00,\n",
              "         -8.4037e+00, -6.1805e+00],\n",
              "        [ 1.9273e-01,  2.5469e-01,  4.5623e-01,  ..., -8.2062e+00,\n",
              "         -4.7085e+00, -2.0930e+01]], dtype=torch.float64)"
            ]
          },
          "metadata": {},
          "execution_count": 57
        }
      ],
      "source": [
        "# заметим, что мы сразу получаем торчовый формат данных\n",
        "x"
      ]
    },
    {
      "cell_type": "code",
      "execution_count": 58,
      "metadata": {
        "colab": {
          "base_uri": "https://localhost:8080/"
        },
        "id": "aPRjroeuCp8p",
        "outputId": "d1297907-a845-4220-cb9f-8233fb2b4618"
      },
      "outputs": [
        {
          "output_type": "execute_result",
          "data": {
            "text/plain": [
              "tensor([0, 1, 1, 0, 2, 2, 0, 1, 2, 1, 1, 0, 2, 0, 2, 0, 0, 2, 2, 0, 1, 2, 0, 0,\n",
              "        2, 0, 0, 1, 2, 0, 0, 1, 2, 0, 2, 2, 2, 2, 1, 0, 1, 0, 1, 0, 2, 1, 2, 1,\n",
              "        1, 2, 0, 0, 1, 1, 1, 1, 2, 1, 0, 2, 1, 2, 0, 0, 0, 0, 1, 1, 0, 2, 2, 0,\n",
              "        0, 0, 2, 2, 1, 1, 1, 0, 2, 1, 1, 2, 0, 1, 2, 1, 2, 1, 2, 1, 0, 1, 1, 1,\n",
              "        0, 0, 1, 0, 1, 1, 1, 2, 0, 0, 2, 2, 2, 0, 1, 1, 1, 0, 1, 2, 2, 2, 1, 0,\n",
              "        2, 2, 1, 1, 2, 2, 2, 1])"
            ]
          },
          "metadata": {},
          "execution_count": 58
        }
      ],
      "source": [
        "y"
      ]
    },
    {
      "cell_type": "markdown",
      "metadata": {
        "id": "wUyo8lugCp8p"
      },
      "source": [
        "# Если вы ничего здесь не понимаете, то вернитесь в конец первой домашки, там все объясняется"
      ]
    },
    {
      "cell_type": "code",
      "execution_count": 59,
      "metadata": {
        "id": "TvH3seEMCp8p"
      },
      "outputs": [],
      "source": [
        "model = torch.nn.Sequential(torch.nn.Linear(32, 16),\n",
        "                            torch.nn.ReLU(),\n",
        "                            torch.nn.Linear(16, 8),\n",
        "                            torch.nn.ReLU(),\n",
        "                            torch.nn.Linear(8, 3))\n",
        "\n",
        "criterion = torch.nn.CrossEntropyLoss()"
      ]
    },
    {
      "cell_type": "code",
      "execution_count": 60,
      "metadata": {
        "colab": {
          "base_uri": "https://localhost:8080/"
        },
        "id": "3HnSRdvzCp8p",
        "outputId": "0ae509d5-0957-402e-892f-1328613c0d92"
      },
      "outputs": [
        {
          "output_type": "execute_result",
          "data": {
            "text/plain": [
              "1.1147534847259521"
            ]
          },
          "metadata": {},
          "execution_count": 60
        }
      ],
      "source": [
        "with torch.no_grad():\n",
        "\n",
        "    prediction = model(x.float())\n",
        "\n",
        "    loss = criterion(prediction, y)\n",
        "\n",
        "loss.item()"
      ]
    },
    {
      "cell_type": "markdown",
      "metadata": {
        "id": "sM4RZ6CxCp8q"
      },
      "source": [
        "# Боевые датасеты"
      ]
    },
    {
      "cell_type": "code",
      "execution_count": 61,
      "metadata": {
        "id": "qz5hS7ozCp8q"
      },
      "outputs": [],
      "source": [
        "class CBOWDataset(Dataset):\n",
        "\n",
        "    def __init__(self,\n",
        "                 corpus,\n",
        "                 word2index,\n",
        "                 window=2,\n",
        "                 unk_token='UNK',\n",
        "                 pad_token='PAD',\n",
        "                 collect_verbose=True):\n",
        "\n",
        "        self.corpus = corpus\n",
        "        self.word2index = word2index\n",
        "        self.index2word = {value: key for key, value in self.word2index.items()}\n",
        "        self.window = window\n",
        "\n",
        "        self.unk_token = unk_token\n",
        "        self.unk_index = self.word2index[self.unk_token]\n",
        "\n",
        "        self.pad_token = pad_token\n",
        "        self.pad_index = len(self.word2index)\n",
        "\n",
        "        self.collect_verbose = collect_verbose\n",
        "\n",
        "        self.data = []\n",
        "\n",
        "        self.collect_data()\n",
        "\n",
        "    def __len__(self):\n",
        "\n",
        "        return len(self.data)\n",
        "\n",
        "    def _split_function(self, tokenized_text):\n",
        "\n",
        "        splits = []\n",
        "\n",
        "        for n in range(len(tokenized_text)):\n",
        "            left_context = tokenized_text[np.maximum(n - self.window, 0):n]\n",
        "            left_context = ([self.pad_index] * (self.window - len(left_context))) + left_context\n",
        "\n",
        "            central_word = tokenized_text[n]\n",
        "\n",
        "            right_context = tokenized_text[n + 1:n + self.window + 1]\n",
        "            right_context = right_context + ([self.pad_index] * (self.window - len(right_context)))\n",
        "\n",
        "            splits.append((left_context + right_context, central_word))\n",
        "\n",
        "        return splits\n",
        "\n",
        "    def indexing(self, tokenized_text):\n",
        "\n",
        "        return [self.word2index[token] if token in self.word2index else self.unk_index for token in tokenized_text]\n",
        "\n",
        "    def collect_data(self):\n",
        "\n",
        "        corpus = tqdm(self.corpus, disable=not self.collect_verbose)\n",
        "\n",
        "        for tokenized_text in corpus:\n",
        "            indexed_text = self.indexing(tokenized_text)\n",
        "            cbow_examples = self._split_function(indexed_text)\n",
        "\n",
        "            self.data.extend(cbow_examples)\n",
        "\n",
        "    def __getitem__(self, idx):\n",
        "\n",
        "        context, central_word = self.data[idx]\n",
        "\n",
        "        context = torch.Tensor(context).long()\n",
        "\n",
        "        return context, central_word"
      ]
    },
    {
      "cell_type": "markdown",
      "metadata": {
        "id": "Y18MH-1JCp8q"
      },
      "source": [
        "# Мы будем учить модель Skipgram\n",
        "Реализуйте читалку данных"
      ]
    },
    {
      "cell_type": "code",
      "execution_count": 125,
      "metadata": {
        "id": "196ElVnbCp8q"
      },
      "outputs": [],
      "source": [
        "class SkipgramDataset(Dataset):\n",
        "\n",
        "    def __init__(self,\n",
        "                 corpus,\n",
        "                 word2index,\n",
        "                 window=2,\n",
        "                 unk_token='UNK',\n",
        "                 collect_verbose=True):\n",
        "\n",
        "        self.corpus = corpus\n",
        "        self.word2index = word2index\n",
        "        self.index2word = {value: key for key, value in self.word2index.items()}\n",
        "        self.window = window\n",
        "\n",
        "        self.unk_token = unk_token\n",
        "        self.unk_index = self.word2index[self.unk_token]\n",
        "\n",
        "        self.collect_verbose = collect_verbose\n",
        "\n",
        "        self.data = []\n",
        "\n",
        "        self.collect_data()\n",
        "\n",
        "    def __len__(self):\n",
        "        return len(self.data)\n",
        "\n",
        "    def _split_function(self, tokenized_text):\n",
        "        splits = []\n",
        "\n",
        "        # Вставьте функцию, которую я предложил ранее для Skip-gram\n",
        "        def skipgram_split(tokens, window):\n",
        "            result = []\n",
        "            for i, target_word in enumerate(tokens):\n",
        "                context_words = tokens[max(0, i - window):i] + tokens[i + 1: min(i + window + 1, len(tokens))]\n",
        "                for context_word in context_words:\n",
        "                    result.append((context_word, target_word))\n",
        "            return result\n",
        "\n",
        "        # Используем функцию skipgram_split для формирования splits\n",
        "        for i in range(len(tokenized_text)):\n",
        "            cur_tok = tokenized_text[i]\n",
        "            skipgram_splits = skipgram_split(tokenized_text, self.window)\n",
        "            for skipgram_split_item in skipgram_splits:\n",
        "                splits.append((skipgram_split_item[0], cur_tok))\n",
        "\n",
        "        return splits\n",
        "\n",
        "    def indexing(self, tokenized_text):\n",
        "        return [self.word2index[token] if token in self.word2index else self.unk_index for token in tokenized_text]\n",
        "\n",
        "    def collect_data(self):\n",
        "        corpus = tqdm(self.corpus, disable=not self.collect_verbose)\n",
        "\n",
        "        for tokenized_text in corpus:\n",
        "            indexed_text = self.indexing(tokenized_text)\n",
        "            skipgram_examples = self._split_function(indexed_text)\n",
        "\n",
        "            self.data.extend(skipgram_examples)\n",
        "\n",
        "    def __getitem__(self, idx):\n",
        "        context, central_word = self.data[idx]\n",
        "        context = torch.tensor(context, dtype=torch.long)\n",
        "        central_word = torch.tensor(central_word, dtype=torch.long)\n",
        "\n",
        "        return context, central_word\n"
      ]
    },
    {
      "cell_type": "code",
      "execution_count": 126,
      "metadata": {
        "id": "zLARyiiXCp8q"
      },
      "outputs": [],
      "source": [
        "# можете положить SkipgramDataset в отдельный файлик, например word2vec_utils и относительным импортом достать его\n",
        "#from .word2vec_utils import SkipgramDataset"
      ]
    },
    {
      "cell_type": "code",
      "execution_count": 127,
      "metadata": {
        "scrolled": true,
        "colab": {
          "base_uri": "https://localhost:8080/"
        },
        "id": "S9xnPUxcCp8r",
        "outputId": "adb6db33-6a91-4bae-948f-9331f8db636d"
      },
      "outputs": [
        {
          "output_type": "stream",
          "name": "stderr",
          "text": [
            "\n",
            "  0%|          | 0/100000 [00:00<?, ?it/s]\u001b[A\n",
            "  6%|▌         | 6043/100000 [00:00<00:01, 60413.06it/s]\u001b[A\n",
            " 12%|█▏        | 12085/100000 [00:00<00:01, 54701.30it/s]\u001b[A\n",
            " 18%|█▊        | 18038/100000 [00:00<00:01, 56784.22it/s]\u001b[A\n",
            " 24%|██▍       | 23797/100000 [00:00<00:01, 57088.02it/s]\u001b[A\n",
            " 30%|██▉       | 29526/100000 [00:00<00:01, 56655.98it/s]\u001b[A\n",
            " 35%|███▌      | 35205/100000 [00:00<00:01, 56423.32it/s]\u001b[A\n",
            " 41%|████      | 40856/100000 [00:00<00:01, 56277.28it/s]\u001b[A\n",
            " 46%|████▋     | 46489/100000 [00:00<00:00, 54688.55it/s]\u001b[A\n",
            " 52%|█████▏    | 51969/100000 [00:00<00:00, 52863.20it/s]\u001b[A\n",
            " 58%|█████▊    | 57741/100000 [00:01<00:00, 54293.08it/s]\u001b[A\n",
            " 64%|██████▎   | 63598/100000 [00:01<00:00, 55557.96it/s]\u001b[A\n",
            " 69%|██████▉   | 69170/100000 [00:01<00:00, 55478.85it/s]\u001b[A\n",
            " 75%|███████▌  | 75027/100000 [00:01<00:00, 56396.50it/s]\u001b[A\n",
            " 81%|████████  | 80676/100000 [00:01<00:00, 54172.55it/s]\u001b[A\n",
            " 86%|████████▌ | 86217/100000 [00:01<00:00, 54530.45it/s]\u001b[A\n",
            " 92%|█████████▏| 91793/100000 [00:01<00:00, 54888.20it/s]\u001b[A\n",
            "100%|██████████| 100000/100000 [00:01<00:00, 55027.22it/s]\n"
          ]
        }
      ],
      "source": [
        "dataset = SkipgramDataset(corpus, word2index)"
      ]
    },
    {
      "cell_type": "code",
      "execution_count": 128,
      "metadata": {
        "id": "eo3YIrT6Cp8r"
      },
      "outputs": [],
      "source": [
        "BATCH_SIZE = 512"
      ]
    },
    {
      "cell_type": "code",
      "execution_count": 129,
      "metadata": {
        "id": "7NBkKtWqCp8r"
      },
      "outputs": [],
      "source": [
        "dataset_loader = DataLoader(dataset, shuffle=True, batch_size=BATCH_SIZE)"
      ]
    },
    {
      "cell_type": "code",
      "execution_count": 130,
      "metadata": {
        "id": "nGK7FOPtCp8r"
      },
      "outputs": [],
      "source": [
        "for x, y in dataset_loader:\n",
        "    break"
      ]
    },
    {
      "cell_type": "code",
      "execution_count": 131,
      "metadata": {
        "colab": {
          "base_uri": "https://localhost:8080/"
        },
        "id": "Soc36k3-Cp8r",
        "outputId": "59fd5995-c5f8-4d15-ab0b-c5a2ac1d4dfd"
      },
      "outputs": [
        {
          "output_type": "execute_result",
          "data": {
            "text/plain": [
              "tensor([[ 399],\n",
              "        [3565],\n",
              "        [ 406],\n",
              "        [ 365],\n",
              "        [4472]])"
            ]
          },
          "metadata": {},
          "execution_count": 131
        }
      ],
      "source": [
        "x[:5]"
      ]
    },
    {
      "cell_type": "code",
      "execution_count": 132,
      "metadata": {
        "colab": {
          "base_uri": "https://localhost:8080/"
        },
        "id": "9L-IRQlGCp8r",
        "outputId": "a29453f4-5216-4489-a905-22cc8f3aa1a7"
      },
      "outputs": [
        {
          "output_type": "execute_result",
          "data": {
            "text/plain": [
              "tensor([4401, 3923, 1097,  794,  171])"
            ]
          },
          "metadata": {},
          "execution_count": 132
        }
      ],
      "source": [
        "y[:5]"
      ]
    },
    {
      "cell_type": "code",
      "execution_count": 133,
      "metadata": {
        "colab": {
          "base_uri": "https://localhost:8080/"
        },
        "id": "B6LP4b8JCp8s",
        "outputId": "31e7efaa-b39d-463f-a7c5-37ba425d28e1"
      },
      "outputs": [
        {
          "output_type": "execute_result",
          "data": {
            "text/plain": [
              "(torch.Size([512, 1]), torch.Size([512]))"
            ]
          },
          "metadata": {},
          "execution_count": 133
        }
      ],
      "source": [
        "x.shape, y.shape"
      ]
    },
    {
      "cell_type": "code",
      "execution_count": 134,
      "metadata": {
        "id": "yYrLpQfTCp8s"
      },
      "outputs": [],
      "source": [
        "class CBOW(torch.nn.Module):\n",
        "\n",
        "    def __init__(self, vocab_size, embedding_dim, pad_index):\n",
        "\n",
        "        super().__init__()\n",
        "\n",
        "        if pad_index > 0:\n",
        "            vocab_size += 1\n",
        "\n",
        "        self.in_embedding = torch.nn.Embedding(num_embeddings=vocab_size,\n",
        "                                               embedding_dim=embedding_dim,\n",
        "                                               padding_idx=pad_index)\n",
        "\n",
        "        self.out_embedding = torch.nn.Linear(in_features=embedding_dim,\n",
        "                                             out_features=vocab_size, bias=False)\n",
        "\n",
        "    def forward(self, x):\n",
        "\n",
        "        x = self.in_embedding(x).sum(dim=-2)\n",
        "        x = self.out_embedding(x)\n",
        "\n",
        "        return x"
      ]
    },
    {
      "cell_type": "markdown",
      "metadata": {
        "id": "17V65o2KCp8s"
      },
      "source": [
        "# Мы будем учить модель Skipgram\n",
        "Реализуйте ее"
      ]
    },
    {
      "cell_type": "code",
      "execution_count": 135,
      "metadata": {
        "id": "fwHKir6dCp8s"
      },
      "outputs": [],
      "source": [
        "# CODE\n",
        "class SkipGram(torch.nn.Module):\n",
        "    def __init__(self, vocab_size, embedding_dim):\n",
        "\n",
        "        super().__init__()\n",
        "\n",
        "        self.in_embedding = nn.Embedding(num_embeddings=vocab_size, embedding_dim=embedding_dim)    # Входной эмбеддинг для центрального слова\n",
        "        self.out_embedding = nn.Linear(in_features=embedding_dim, out_features=vocab_size, bias=False)    # Выходной эмбеддинг для контекстного слова\n",
        "\n",
        "    def forward(self, x):\n",
        "\n",
        "        x = self.in_embedding(x).sum(dim=-2)\n",
        "        x = self.out_embedding(x)\n",
        "\n",
        "        return x"
      ]
    },
    {
      "cell_type": "code",
      "execution_count": null,
      "metadata": {
        "id": "GMrteB6GCp8s"
      },
      "outputs": [],
      "source": [
        "#from word2vec_utils import SkipGram"
      ]
    },
    {
      "cell_type": "code",
      "execution_count": 136,
      "metadata": {
        "id": "_FKQNJc7Cp8s"
      },
      "outputs": [],
      "source": [
        "# размерность эмбеддинга\n",
        "# маленькая, чтобы мы могли недолго поучить ворд2век и увидеть результаты\n",
        "EMBEDDING_DIM = 20"
      ]
    },
    {
      "cell_type": "code",
      "execution_count": 137,
      "metadata": {
        "id": "do6NfopkCp8s"
      },
      "outputs": [],
      "source": [
        "model = SkipGram(vocab_size=len(word2index), embedding_dim=EMBEDDING_DIM).to(device)"
      ]
    },
    {
      "cell_type": "code",
      "execution_count": 138,
      "metadata": {
        "colab": {
          "base_uri": "https://localhost:8080/"
        },
        "id": "bbhcfKxJCp8t",
        "outputId": "97964bc2-9a01-4fdd-e5e7-48b872c74a2d"
      },
      "outputs": [
        {
          "output_type": "execute_result",
          "data": {
            "text/plain": [
              "torch.Size([512, 13076])"
            ]
          },
          "metadata": {},
          "execution_count": 138
        }
      ],
      "source": [
        "with torch.no_grad():\n",
        "    pred = model(x.to(device))\n",
        "\n",
        "pred.shape"
      ]
    },
    {
      "cell_type": "code",
      "execution_count": 139,
      "metadata": {
        "id": "pQooxSNBCp8t"
      },
      "outputs": [],
      "source": [
        "optimizer = torch.optim.Adam(params=model.parameters(), lr=0.0001)\n",
        "\n",
        "# aka loss function\n",
        "criterion = torch.nn.CrossEntropyLoss()"
      ]
    },
    {
      "cell_type": "markdown",
      "metadata": {
        "id": "qxZJu-wsCp8t"
      },
      "source": [
        "# Допишите обучалку"
      ]
    },
    {
      "cell_type": "code",
      "source": [
        "device = torch.device(\"cuda\" if torch.cuda.is_available() else \"cpu\")\n",
        "model.to(device)"
      ],
      "metadata": {
        "colab": {
          "base_uri": "https://localhost:8080/"
        },
        "id": "xOTwkvQuXJed",
        "outputId": "70189eeb-6bec-4864-b74f-ec955689245b"
      },
      "execution_count": 140,
      "outputs": [
        {
          "output_type": "execute_result",
          "data": {
            "text/plain": [
              "SkipGram(\n",
              "  (in_embedding): Embedding(13076, 20)\n",
              "  (out_embedding): Linear(in_features=20, out_features=13076, bias=False)\n",
              ")"
            ]
          },
          "metadata": {},
          "execution_count": 140
        }
      ]
    },
    {
      "cell_type": "code",
      "execution_count": 142,
      "metadata": {
        "colab": {
          "base_uri": "https://localhost:8080/"
        },
        "id": "mhcS6aKMCp8t",
        "outputId": "46a1187d-5ee4-426d-cfac-027ae4c2cc55"
      },
      "outputs": [
        {
          "output_type": "stream",
          "name": "stderr",
          "text": [
            "Epoch 1:   0%|          | 0/2983124 [00:18<?, ?it/s]\n",
            "Epoch 1: 100%|██████████| 2983124/2983124 [09:03<00:00, 5491.14it/s, loss=9.2]\n",
            "Epoch 2: 100%|██████████| 2983124/2983124 [09:08<00:00, 5434.09it/s, loss=8.31]\n",
            "Epoch 3: 100%|██████████| 2983124/2983124 [09:03<00:00, 5487.48it/s, loss=7.71]\n",
            "Epoch 4: 100%|██████████| 2983124/2983124 [10:07<00:00, 4910.52it/s, loss=7.45]\n",
            "Epoch 5: 100%|██████████| 2983124/2983124 [09:43<00:00, 5110.89it/s, loss=7.3]\n",
            "Epoch 6: 100%|██████████| 2983124/2983124 [09:13<00:00, 5390.14it/s, loss=7.22]\n",
            "Epoch 7: 100%|██████████| 2983124/2983124 [07:54<00:00, 6282.35it/s, loss=7.15]\n"
          ]
        }
      ],
      "source": [
        "epochs = 7\n",
        "\n",
        "losses = []\n",
        "\n",
        "for n_epoch in range(epochs):\n",
        "\n",
        "    try:\n",
        "\n",
        "        progress_bar = tqdm(total=len(dataset_loader.dataset), desc='Epoch {}'.format(n_epoch + 1))\n",
        "\n",
        "        for x, y in dataset_loader:\n",
        "\n",
        "            # CODE\n",
        "            optimizer.zero_grad()\n",
        "            y_pred = model(x.to(device))\n",
        "            loss = criterion(y_pred, y.to(device))\n",
        "            loss.backward()\n",
        "            optimizer.step()\n",
        "\n",
        "            # CODE\n",
        "\n",
        "            losses.append(loss.item())\n",
        "\n",
        "            progress_bar.set_postfix(loss=np.mean(losses[-100:]))\n",
        "\n",
        "            progress_bar.update(x.shape[0])\n",
        "\n",
        "        progress_bar.close()\n",
        "\n",
        "    except KeyboardInterrupt:\n",
        "\n",
        "        progress_bar.close()\n",
        "        break"
      ]
    },
    {
      "cell_type": "code",
      "execution_count": 145,
      "metadata": {
        "colab": {
          "base_uri": "https://localhost:8080/",
          "height": 564
        },
        "id": "24Gx-Uu3Cp8t",
        "outputId": "63159993-a9df-4c47-d002-4c1ca938af95"
      },
      "outputs": [
        {
          "output_type": "display_data",
          "data": {
            "text/plain": [
              "<Figure size 800x600 with 1 Axes>"
            ],
            "image/png": "[encoded data removed]"
          },
          "metadata": {}
        }
      ],
      "source": [
        "plt.figure(figsize=(8, 6))\n",
        "plt.title('SkipGram Training Process')\n",
        "plt.xlabel('Itearations')\n",
        "plt.ylabel('Loss')\n",
        "plt.grid()\n",
        "plt.plot(losses)\n",
        "plt.plot(losses, color='pink')\n",
        "plt.show()"
      ]
    },
    {
      "cell_type": "code",
      "execution_count": 146,
      "metadata": {
        "id": "A8piai4hCp8u"
      },
      "outputs": [],
      "source": [
        "# проверка, что хоть что-то выучилось\n",
        "assert np.mean(losses[-1000:]) < 7.5"
      ]
    },
    {
      "cell_type": "code",
      "execution_count": 147,
      "metadata": {
        "id": "wH7007l3Cp8u"
      },
      "outputs": [],
      "source": [
        "embedding_matrix = model.in_embedding.weight.detach()"
      ]
    },
    {
      "cell_type": "code",
      "execution_count": 148,
      "metadata": {
        "id": "DagI70wwCp8u"
      },
      "outputs": [],
      "source": [
        "def cos_sim(embedding_matrix, token2id, word1, word2):\n",
        "\n",
        "    i1 = token2id[word1]\n",
        "    i2 = token2id[word2]\n",
        "\n",
        "    v1, v2 = embedding_matrix[i1], embedding_matrix[i2]\n",
        "\n",
        "    v1_n = v1.div(v1.norm(keepdim=True))\n",
        "    v2_n = v2.div(v2.norm(keepdim=True))\n",
        "\n",
        "    similarity = torch.dot(v1_n, v2_n).item()\n",
        "\n",
        "    return similarity"
      ]
    },
    {
      "cell_type": "markdown",
      "metadata": {
        "id": "ZoU--rTnCp8u"
      },
      "source": [
        "# Косинусная близость\n",
        "От 0 до 1, где 0 - вектора абсолютно разные, где 1 - идентичные."
      ]
    },
    {
      "cell_type": "code",
      "execution_count": 149,
      "metadata": {
        "colab": {
          "base_uri": "https://localhost:8080/"
        },
        "id": "7LTeFrtiCp8u",
        "outputId": "e0b8f68b-6b6c-4524-8d1b-9c0155226e48"
      },
      "outputs": [
        {
          "output_type": "execute_result",
          "data": {
            "text/plain": [
              "0.42285609245300293"
            ]
          },
          "metadata": {},
          "execution_count": 149
        }
      ],
      "source": [
        "cos_sim(embedding_matrix, word2index, 'день', 'месяц')"
      ]
    },
    {
      "cell_type": "code",
      "execution_count": 150,
      "metadata": {
        "colab": {
          "base_uri": "https://localhost:8080/"
        },
        "id": "pAkNX2laCp8u",
        "outputId": "2580af4c-2925-4c00-ea2a-d64596f08705"
      },
      "outputs": [
        {
          "output_type": "execute_result",
          "data": {
            "text/plain": [
              "0.15435351431369781"
            ]
          },
          "metadata": {},
          "execution_count": 150
        }
      ],
      "source": [
        "cos_sim(embedding_matrix, word2index, 'минута', 'месяц')"
      ]
    },
    {
      "cell_type": "code",
      "execution_count": 151,
      "metadata": {
        "colab": {
          "base_uri": "https://localhost:8080/"
        },
        "id": "NzfB5UKTCp8u",
        "outputId": "9afbb475-6415-459d-d98d-4a47cc22ab7d"
      },
      "outputs": [
        {
          "output_type": "execute_result",
          "data": {
            "text/plain": [
              "0.17444798350334167"
            ]
          },
          "metadata": {},
          "execution_count": 151
        }
      ],
      "source": [
        "cos_sim(embedding_matrix, word2index, 'сотрудник', 'сотрудница')"
      ]
    },
    {
      "cell_type": "code",
      "execution_count": 152,
      "metadata": {
        "colab": {
          "base_uri": "https://localhost:8080/"
        },
        "id": "BhiilhqVCp8v",
        "outputId": "c0a94489-c52d-49da-bfea-dbe4359575a0"
      },
      "outputs": [
        {
          "output_type": "execute_result",
          "data": {
            "text/plain": [
              "0.524789571762085"
            ]
          },
          "metadata": {},
          "execution_count": 152
        }
      ],
      "source": [
        "cos_sim(embedding_matrix, word2index, 'вклад', 'перевод')"
      ]
    },
    {
      "cell_type": "code",
      "execution_count": 153,
      "metadata": {
        "colab": {
          "base_uri": "https://localhost:8080/",
          "height": 53
        },
        "id": "D1eBdBglCp8v",
        "outputId": "fb910826-f364-4775-ca5d-0cccc17f932c"
      },
      "outputs": [
        {
          "output_type": "execute_result",
          "data": {
            "text/plain": [
              "'Косинусная близость слова \"день\" к случайному выбраному слову \"некомпетентность\" равна 0.144'"
            ],
            "application/vnd.google.colaboratory.intrinsic+json": {
              "type": "string"
            }
          },
          "metadata": {},
          "execution_count": 153
        }
      ],
      "source": [
        "random_word = random.choice(list(word2index.keys()))\n",
        "sim = cos_sim(embedding_matrix, word2index, 'день', random_word)\n",
        "'Косинусная близость слова \"день\" к случайному выбраному слову \"{}\" равна {:.3f}'.format(random_word, sim)"
      ]
    },
    {
      "cell_type": "code",
      "execution_count": 154,
      "metadata": {
        "id": "lDJLm9ROCp8v"
      },
      "outputs": [],
      "source": [
        "freq = {}\n",
        "\n",
        "for text in corpus:\n",
        "    for token in text:\n",
        "        if token in freq:\n",
        "            freq[token] += 1\n",
        "        else:\n",
        "            freq[token] = 1"
      ]
    },
    {
      "cell_type": "code",
      "execution_count": 155,
      "metadata": {
        "id": "agdnJHeFCp8v"
      },
      "outputs": [],
      "source": [
        "sorted_freq = [(k, freq[k]) for k in sorted(freq, key=freq.get, reverse=True)]\n",
        "top_sorted_freq = sorted_freq[0:200]"
      ]
    },
    {
      "cell_type": "code",
      "execution_count": 156,
      "metadata": {
        "colab": {
          "base_uri": "https://localhost:8080/"
        },
        "id": "NyBHBz-pCp8v",
        "outputId": "8bc41fa7-42c6-4de0-b46d-a3610db6a450"
      },
      "outputs": [
        {
          "output_type": "stream",
          "name": "stdout",
          "text": [
            "[t-SNE] Computing 91 nearest neighbors...\n",
            "[t-SNE] Indexed 13076 samples in 0.001s...\n",
            "[t-SNE] Computed neighbors for 13076 samples in 1.175s...\n",
            "[t-SNE] Computed conditional probabilities for sample 1000 / 13076\n",
            "[t-SNE] Computed conditional probabilities for sample 2000 / 13076\n",
            "[t-SNE] Computed conditional probabilities for sample 3000 / 13076\n",
            "[t-SNE] Computed conditional probabilities for sample 4000 / 13076\n",
            "[t-SNE] Computed conditional probabilities for sample 5000 / 13076\n",
            "[t-SNE] Computed conditional probabilities for sample 6000 / 13076\n",
            "[t-SNE] Computed conditional probabilities for sample 7000 / 13076\n",
            "[t-SNE] Computed conditional probabilities for sample 8000 / 13076\n",
            "[t-SNE] Computed conditional probabilities for sample 9000 / 13076\n",
            "[t-SNE] Computed conditional probabilities for sample 10000 / 13076\n",
            "[t-SNE] Computed conditional probabilities for sample 11000 / 13076\n",
            "[t-SNE] Computed conditional probabilities for sample 12000 / 13076\n",
            "[t-SNE] Computed conditional probabilities for sample 13000 / 13076\n",
            "[t-SNE] Computed conditional probabilities for sample 13076 / 13076\n",
            "[t-SNE] Mean sigma: 1.208540\n",
            "[t-SNE] Computed conditional probabilities in 0.418s\n",
            "[t-SNE] Iteration 50: error = 98.9044495, gradient norm = 0.0000000 (50 iterations in 9.438s)\n",
            "[t-SNE] Iteration 50: gradient norm 0.000000. Finished.\n",
            "[t-SNE] KL divergence after 50 iterations with early exaggeration: 98.904449\n",
            "[t-SNE] Iteration 100: error = 5.7264566, gradient norm = 0.0340395 (50 iterations in 8.621s)\n",
            "[t-SNE] Iteration 150: error = 4.8900309, gradient norm = 0.0043741 (50 iterations in 6.599s)\n",
            "[t-SNE] Iteration 200: error = 4.7961264, gradient norm = 0.0049151 (50 iterations in 7.314s)\n",
            "[t-SNE] Iteration 250: error = 4.7194443, gradient norm = 0.0050685 (50 iterations in 6.301s)\n",
            "[t-SNE] Iteration 300: error = 4.6603308, gradient norm = 0.0050625 (50 iterations in 7.021s)\n",
            "[t-SNE] Iteration 350: error = 4.6124921, gradient norm = 0.0051757 (50 iterations in 6.448s)\n",
            "[t-SNE] Iteration 400: error = 4.5733552, gradient norm = 0.0050577 (50 iterations in 7.719s)\n",
            "[t-SNE] Iteration 450: error = 4.5414095, gradient norm = 0.0049205 (50 iterations in 6.131s)\n",
            "[t-SNE] Iteration 500: error = 4.5149608, gradient norm = 0.0047141 (50 iterations in 7.041s)\n",
            "[t-SNE] Iteration 550: error = 4.4928946, gradient norm = 0.0045172 (50 iterations in 6.916s)\n",
            "[t-SNE] Iteration 600: error = 4.4743509, gradient norm = 0.0042908 (50 iterations in 11.197s)\n",
            "[t-SNE] Iteration 650: error = 4.4585934, gradient norm = 0.0040931 (50 iterations in 5.805s)\n",
            "[t-SNE] Iteration 700: error = 4.4452391, gradient norm = 0.0038787 (50 iterations in 7.770s)\n",
            "[t-SNE] Iteration 750: error = 4.4340940, gradient norm = 0.0035261 (50 iterations in 5.970s)\n",
            "[t-SNE] Iteration 800: error = 4.4243188, gradient norm = 0.0033929 (50 iterations in 7.788s)\n",
            "[t-SNE] Iteration 850: error = 4.4157248, gradient norm = 0.0032638 (50 iterations in 5.884s)\n",
            "[t-SNE] Iteration 900: error = 4.4083109, gradient norm = 0.0030400 (50 iterations in 7.796s)\n",
            "[t-SNE] Iteration 950: error = 4.4019699, gradient norm = 0.0027503 (50 iterations in 6.015s)\n",
            "[t-SNE] Iteration 1000: error = 4.3963175, gradient norm = 0.0026359 (50 iterations in 7.828s)\n",
            "[t-SNE] KL divergence after 1000 iterations: 4.396317\n"
          ]
        }
      ],
      "source": [
        "tsne = TSNE(n_components=2, init='pca', random_state=42, verbose=2)\n",
        "reduced = tsne.fit_transform(embedding_matrix)"
      ]
    },
    {
      "cell_type": "code",
      "execution_count": 157,
      "metadata": {
        "id": "wCN-fpGfCp8v"
      },
      "outputs": [],
      "source": [
        "top_words = [a for a,_ in top_sorted_freq]"
      ]
    },
    {
      "cell_type": "code",
      "execution_count": 158,
      "metadata": {
        "id": "3d6X3-PrCp8v"
      },
      "outputs": [],
      "source": [
        "inds = [word2index[word] for word in top_words]\n",
        "x_coords = [coords[0] for coords in reduced[inds]]\n",
        "y_coords = [coords[1] for coords in reduced[inds]]"
      ]
    },
    {
      "cell_type": "code",
      "execution_count": 159,
      "metadata": {
        "colab": {
          "base_uri": "https://localhost:8080/",
          "height": 710
        },
        "id": "dtW9eMSBCp8w",
        "outputId": "df1bba81-c8f7-45a4-9d22-897afcda264c"
      },
      "outputs": [
        {
          "output_type": "display_data",
          "data": {
            "text/plain": [
              "<Figure size 1500x1500 with 1 Axes>"
            ],
            "image/png": "[encoded data removed]"
          },
          "metadata": {}
        }
      ],
      "source": [
        "for (x, y, word) in zip(x_coords, y_coords, top_words):\n",
        "    plt.scatter(x, y, marker='.', color='blue')\n",
        "    plt.text(x+0.01, y+0.01, word, fontsize=9)\n",
        "plt.show()"
      ]
    },
    {
      "cell_type": "code",
      "execution_count": null,
      "metadata": {
        "id": "4wOpF_-mCp8w"
      },
      "outputs": [],
      "source": []
    },
    {
      "cell_type": "markdown",
      "source": [
        "# Оценка\n",
        "1. Вы добрались сюда и все работает, значит уже получили 7 баллов.\n",
        "2. 8 баллов - Взяли корпус для оценка качества эмбеддингов [здесь](https://rusvectores.org/static/testsets/ru_simlex965_tagged.tsv). Описание к нему [здесь](https://arxiv.org/pdf/1801.06407.pdf). Его английская версия для понимания, того что же это такое [тут](https://fh295.github.io/simlex.html). Если в кратце - он похож а гугл аналогии, просто иначе составлен. Определили качество своих эмбеддингов. Как качество измерить? Можете все значения отнормировать (привести к 1) и затем считать MSE между тем что у вас и что в оригинале.\n",
        "3. 9 баллов - Поставили эксперименты, поменяли любые параметры, хоть корпус увеличили или как то почистили. Показали метрики до и после. После должно быть лучше, иначе это все еще 8 баллов.\n",
        "4. 10 баллов - удивили своим подходом (или просто удивили) пока делили на 9 баллов"
      ],
      "metadata": {
        "collapsed": false,
        "id": "o6ZeZ_2_Cp8w"
      }
    },
    {
      "cell_type": "code",
      "execution_count": null,
      "outputs": [],
      "source": [],
      "metadata": {
        "pycharm": {
          "name": "#%%\n"
        },
        "id": "-9sJ-MUfCp8w"
      }
    }
  ],
  "metadata": {
    "kernelspec": {
      "display_name": "Python 3",
      "language": "python",
      "name": "python3"
    },
    "language_info": {
      "codemirror_mode": {
        "name": "ipython",
        "version": 3
      },
      "file_extension": ".py",
      "mimetype": "text/x-python",
      "name": "python",
      "nbconvert_exporter": "python",
      "pygments_lexer": "ipython3",
      "version": "3.6.8"
    },
    "colab": {
      "provenance": []
    }
  },
  "nbformat": 4,
  "nbformat_minor": 0
}